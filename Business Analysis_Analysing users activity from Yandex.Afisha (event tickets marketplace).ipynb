{
 "cells": [
  {
   "cell_type": "markdown",
   "id": "e302d980",
   "metadata": {},
   "source": [
    "## BA-analysis"
   ]
  },
  {
   "cell_type": "markdown",
   "id": "8f681edb",
   "metadata": {},
   "source": [
    "\n",
    "**Step 1**. Download the data and prepare it for analysis\n",
    "Store the data on visits, orders, and expenses in variables. Optimize the data for analysis. Make sure each column contains the correct data type.\n",
    "File paths:\n",
    "\n",
    "    /datasets/visits_log_us.csv. \n",
    "    /datasets/orders_log_us.csv. \n",
    "    /datasets/costs_us.csv. \n",
    "\n",
    "**Step 2**. Make reports and calculate metrics:\n",
    "\n",
    "**Product**\n",
    "        How many people use it every day, week, and month?\n",
    "        How many sessions are there per day? (One user might have more than one session.)\n",
    "        What is the length of each session?\n",
    "        How often do users come back?<br>        \n",
    "**Sales**\n",
    "        When do people start buying? (In KPI analysis, we're usually interested in knowing the time that elapses between registration and conversion — when the user becomes a customer. For example, if registration and the first purchase occur on the same day, the user might fall into category Conversion 0d. If the first purchase happens the next day, it will be Conversion 1d. You can use any approach that lets you compare the conversions of different cohorts, so that you can determine which cohort, or marketing channel, is most effective.)\n",
    "        How many orders do they make during a given period of time?\n",
    "        What is the average purchase size?\n",
    "        How much money do they bring? (LTV)\n",
    "        <br>\n",
    "**Marketing**\n",
    "        How much money was spent? Overall/per source/over time\n",
    "        How much did customer acquisition from each of the sources cost?\n",
    "        How worthwhile where the investments? (ROI)\n",
    "\n",
    "Plot graphs to display how these metrics differ for various devices and ad sources and how they change in time.\n",
    "<br>\n",
    "<br>\n",
    "**Step 3**. Write a conclusion: advise marketing experts how much money to invest and where.\n",
    "What sources/platforms would you recommend? Back up your choice: what metrics did you focus on? Why? What conclusions did you draw after finding the metric values?\n",
    "Format: Complete the task in Jupyter Notebook. Enter the code in code cells and text explanations in markdown cells. Apply formatting and headings.\n",
    "<br>\n",
    "<br>\n",
    "**Description of the data**\n",
    "The visits table (server logs with data on website visits):\n",
    "\n",
    "   **Uid**— user's unique identifier\n",
    "   <br>\n",
    "   **Device** — user's device\n",
    "   <br>\n",
    "   **Start Ts** — session start date and time\n",
    "   <br>\n",
    "   **End Ts** — session end date and time\n",
    "   <br>\n",
    "   **Source Id** — identifier of the ad source the user came from\n",
    "   <br>\n",
    "\n",
    "All dates in this table are in YYYY-MM-DD format.\n",
    "The orders table (data on orders):\n",
    "\n",
    "   **Uid** — unique identifier of the user making an order\n",
    "   <br>\n",
    "   **Buy Ts** — order date and time\n",
    "   <br>\n",
    "   **Revenue** — Yandex.Afisha's revenue from the order\n",
    "   <br>\n",
    "\n",
    "The costs table (data on marketing expenses):\n",
    "\n",
    "   **source_id** — ad source identifier\n",
    "   <br>\n",
    "   **dt** — date\n",
    "   <br>\n",
    "   **costs** — expenses on this ad source on this day\n",
    "   <br>\n",
    "\n",
    "How will my project be assessed?\n",
    "Your project will be assessed on these criteria. Read over them carefully before you start the project.\n",
    "Here’s what project reviewers look for when assessing your project:\n",
    "\n",
    "   How you prepare the data for analysis\n",
    "   <br>\n",
    "   What graphs you plot for metrics\n",
    "   <br>\n",
    "   How you interpret the resulting graphs\n",
    "   <br>\n",
    "   How you calculate and interpret each parameter\n",
    "   <br>\n",
    "   How you back up your recommendations for marketing experts and what metrics you use\n",
    "   <br>\n",
    "   Whether you follow the project structure and keep the code tidy\n",
    "   <br>\n",
    "   The conclusions you come to\n",
    "   <br>\n",
    "   Whether you leave comments at each step"
   ]
  },
  {
   "cell_type": "code",
   "execution_count": 1,
   "id": "de3ffe52",
   "metadata": {},
   "outputs": [
    {
     "name": "stdout",
     "output_type": "stream",
     "text": [
      "Requirement already satisfied: sidetable in c:\\users\\ididi\\anaconda3\\lib\\site-packages (0.9.0)\n",
      "Requirement already satisfied: pandas>=1.0 in c:\\users\\ididi\\anaconda3\\lib\\site-packages (from sidetable) (1.3.4)\n",
      "Requirement already satisfied: numpy>=1.17.3 in c:\\users\\ididi\\anaconda3\\lib\\site-packages (from pandas>=1.0->sidetable) (1.20.3)\n",
      "Requirement already satisfied: python-dateutil>=2.7.3 in c:\\users\\ididi\\anaconda3\\lib\\site-packages (from pandas>=1.0->sidetable) (2.8.2)\n",
      "Requirement already satisfied: pytz>=2017.3 in c:\\users\\ididi\\anaconda3\\lib\\site-packages (from pandas>=1.0->sidetable) (2021.3)\n",
      "Requirement already satisfied: six>=1.5 in c:\\users\\ididi\\anaconda3\\lib\\site-packages (from python-dateutil>=2.7.3->pandas>=1.0->sidetable) (1.16.0)\n"
     ]
    }
   ],
   "source": [
    "!pip install sidetable"
   ]
  },
  {
   "cell_type": "code",
   "execution_count": null,
   "id": "5c59e4f2",
   "metadata": {
    "scrolled": true
   },
   "outputs": [],
   "source": [
    "!pip install jupyter-dash"
   ]
  },
  {
   "cell_type": "markdown",
   "id": "eabdcb81",
   "metadata": {},
   "source": [
    "## Step 1.\n",
    "<br>\n",
    "Downloading the data and preparing it for analysis Store the data on visits, orders, and expenses in variables. Optimizing the data for analysis. "
   ]
  },
  {
   "cell_type": "code",
   "execution_count": null,
   "id": "f04ea579",
   "metadata": {},
   "outputs": [],
   "source": [
    "import pandas as pd\n",
    "import numpy as np\n",
    "from datetime import datetime\n",
    "import sidetable\n",
    "import seaborn as sns\n",
    "import matplotlib.pyplot as plt\n",
    "import plotly.express as px\n",
    "import plotly.graph_objects as go"
   ]
  },
  {
   "cell_type": "code",
   "execution_count": null,
   "id": "046fb0f3",
   "metadata": {},
   "outputs": [],
   "source": [
    "try:\n",
    "    visits = pd.read_csv('visits_log_us.csv')\n",
    "    orders = pd.read_csv('orders_log_us.csv')\n",
    "    costs = pd.read_csv('costs_us.csv')\n",
    "    \n",
    "except:\n",
    "    visits = pd.read_csv('/datasets/visits_log_us.csv')\n",
    "    orders = pd.read_csv('/datasets/orders_log_us.csv')\n",
    "    costs = pd.read_csv('/datasets/costs_us.csv')\n",
    "    \n"
   ]
  },
  {
   "cell_type": "code",
   "execution_count": null,
   "id": "4aed2ada",
   "metadata": {
    "scrolled": true
   },
   "outputs": [],
   "source": [
    "visits.head()"
   ]
  },
  {
   "cell_type": "code",
   "execution_count": null,
   "id": "6fb67a3d",
   "metadata": {},
   "outputs": [],
   "source": [
    "orders.head()"
   ]
  },
  {
   "cell_type": "code",
   "execution_count": null,
   "id": "2c4ea64f",
   "metadata": {},
   "outputs": [],
   "source": [
    "costs.head()"
   ]
  },
  {
   "cell_type": "code",
   "execution_count": null,
   "id": "0aa263f9",
   "metadata": {},
   "outputs": [],
   "source": [
    "visits = visits.rename(columns=str.lower)\n",
    "orders =  orders.rename(columns=str.lower)\n"
   ]
  },
  {
   "cell_type": "markdown",
   "id": "e2406aa3",
   "metadata": {},
   "source": [
    "Here we converting the column names from **hightcase** to **lowcase** "
   ]
  },
  {
   "cell_type": "code",
   "execution_count": null,
   "id": "216446bd",
   "metadata": {},
   "outputs": [],
   "source": [
    "visits.columns = visits.columns.str.replace(' ','_')\n",
    "orders.columns = orders.columns.str.replace(' ', '_')"
   ]
  },
  {
   "cell_type": "markdown",
   "id": "f74fb338",
   "metadata": {},
   "source": [
    " Here we replacing **spaces**  to  (**'_'**)"
   ]
  },
  {
   "cell_type": "code",
   "execution_count": null,
   "id": "e2ef3486",
   "metadata": {},
   "outputs": [],
   "source": [
    "visits.info()"
   ]
  },
  {
   "cell_type": "code",
   "execution_count": null,
   "id": "7dd7e177",
   "metadata": {},
   "outputs": [],
   "source": [
    "orders.info()"
   ]
  },
  {
   "cell_type": "code",
   "execution_count": null,
   "id": "f6bf78a8",
   "metadata": {},
   "outputs": [],
   "source": [
    "visits.stb.missing(style=True)"
   ]
  },
  {
   "cell_type": "code",
   "execution_count": null,
   "id": "438bb4de",
   "metadata": {},
   "outputs": [],
   "source": [
    "visits.head(10)"
   ]
  },
  {
   "cell_type": "code",
   "execution_count": null,
   "id": "19e580d7",
   "metadata": {
    "scrolled": true
   },
   "outputs": [],
   "source": [
    "visits.tail(10)"
   ]
  },
  {
   "cell_type": "code",
   "execution_count": null,
   "id": "e5a8d11a",
   "metadata": {},
   "outputs": [],
   "source": [
    "visits.info()"
   ]
  },
  {
   "cell_type": "code",
   "execution_count": null,
   "id": "81f89c5d",
   "metadata": {},
   "outputs": [],
   "source": [
    "costs"
   ]
  },
  {
   "cell_type": "code",
   "execution_count": null,
   "id": "07a1e599",
   "metadata": {},
   "outputs": [],
   "source": [
    "costs.info()"
   ]
  },
  {
   "cell_type": "code",
   "execution_count": null,
   "id": "b9219ecf",
   "metadata": {},
   "outputs": [],
   "source": []
  },
  {
   "cell_type": "code",
   "execution_count": null,
   "id": "c9531fe9",
   "metadata": {
    "scrolled": true
   },
   "outputs": [],
   "source": [
    "costs.info()"
   ]
  },
  {
   "cell_type": "code",
   "execution_count": null,
   "id": "1f44fd29",
   "metadata": {},
   "outputs": [],
   "source": [
    "orders.head()"
   ]
  },
  {
   "cell_type": "markdown",
   "id": "47edc0bf",
   "metadata": {},
   "source": [
    "#### Creating additional date parameters that will help us in cohort analysis"
   ]
  },
  {
   "cell_type": "code",
   "execution_count": null,
   "id": "985082a5",
   "metadata": {},
   "outputs": [],
   "source": [
    "visits['start_ts'] = pd.to_datetime(visits['start_ts'])\n",
    "visits['end_ts'] = pd.to_datetime(visits['end_ts']) \n",
    "orders['buy_ts'] = pd.to_datetime(orders['buy_ts'])\n",
    "costs['dt'] = pd.to_datetime(costs['dt'])"
   ]
  },
  {
   "cell_type": "code",
   "execution_count": null,
   "id": "b7707271",
   "metadata": {},
   "outputs": [],
   "source": [
    "  visits.info()  "
   ]
  },
  {
   "cell_type": "code",
   "execution_count": null,
   "id": "ab9edfc1",
   "metadata": {},
   "outputs": [],
   "source": [
    "visits['session_year']  = visits['start_ts'].astype('datetime64[Y]')\n",
    "visits['session_month'] = visits['start_ts'].astype('datetime64[M]')\n",
    "visits['session_week']  = visits['start_ts'].astype('datetime64[W]')\n",
    "visits['session_date'] = visits['start_ts'].astype('datetime64[D]')\n",
    "orders['buy_date'] = orders['buy_ts'].astype('datetime64[D]')"
   ]
  },
  {
   "cell_type": "code",
   "execution_count": null,
   "id": "67299b9c",
   "metadata": {},
   "outputs": [],
   "source": [
    "orders.head()"
   ]
  },
  {
   "cell_type": "code",
   "execution_count": null,
   "id": "4378b54a",
   "metadata": {
    "scrolled": true
   },
   "outputs": [],
   "source": [
    "visits.head()"
   ]
  },
  {
   "cell_type": "markdown",
   "id": "8a50ed8a",
   "metadata": {},
   "source": [
    "## Step 2.\n",
    "<br>\n",
    "Making reports and calculating metrics:"
   ]
  },
  {
   "cell_type": "markdown",
   "id": "2b8c3f3a",
   "metadata": {},
   "source": [
    "### 1.Product\n",
    "- **How many people use it every day, week, and month?**"
   ]
  },
  {
   "cell_type": "markdown",
   "id": "3862726e",
   "metadata": {},
   "source": [
    "**DAU** — the number of daily active (unique) users\n",
    "<br>\n",
    "**WAU** — the number of weekly active users\n",
    "<br>\n",
    "**MAU** — the number of monthly active users"
   ]
  },
  {
   "cell_type": "markdown",
   "id": "37a90d5d",
   "metadata": {},
   "source": [
    "#### Calculating unique users per day:"
   ]
  },
  {
   "cell_type": "code",
   "execution_count": null,
   "id": "7a75e1f8",
   "metadata": {
    "scrolled": true
   },
   "outputs": [],
   "source": [
    "dau=visits.groupby(visits['session_date'])['uid'].nunique().reset_index()\n",
    "dau.head()"
   ]
  },
  {
   "cell_type": "markdown",
   "id": "53afc08e",
   "metadata": {},
   "source": [
    "#### Adding reference line with average DAU over time"
   ]
  },
  {
   "cell_type": "code",
   "execution_count": null,
   "id": "6f4db0c3",
   "metadata": {
    "scrolled": true
   },
   "outputs": [],
   "source": [
    "\n",
    "\n",
    "fig = px.line(dau,x=\"session_date\", y=\"uid\",title='DAU')\n",
    "#adding reference line with average DAU over time\n",
    "fig.add_hline(y=dau['uid'].mean(),line_dash=\"dash\", line_color=\"purple\", annotation_text=\"average DAU\",\n",
    "             annotation_position=\"top left\")\n",
    "fig.show()"
   ]
  },
  {
   "cell_type": "markdown",
   "id": "3247f14f",
   "metadata": {},
   "source": [
    "#### Averege number of users per day:"
   ]
  },
  {
   "cell_type": "code",
   "execution_count": null,
   "id": "d94f5473",
   "metadata": {},
   "outputs": [],
   "source": [
    "dau_total = visits.groupby('session_date').agg({'uid': 'nunique'}).mean()\n",
    "print(int(dau_total))"
   ]
  },
  {
   "cell_type": "markdown",
   "id": "8983cccd",
   "metadata": {},
   "source": [
    "#### Calculating unique users per week:"
   ]
  },
  {
   "cell_type": "code",
   "execution_count": null,
   "id": "b6aedf0e",
   "metadata": {},
   "outputs": [],
   "source": [
    "wau = visits.groupby(visits['session_week'])['uid'].nunique().reset_index()\n",
    "wau.head()"
   ]
  },
  {
   "cell_type": "code",
   "execution_count": null,
   "id": "00248429",
   "metadata": {
    "scrolled": false
   },
   "outputs": [],
   "source": [
    "import plotly.graph_objects as go\n",
    "fig = go.Figure(layout=go.Layout(\n",
    "        title=go.layout.Title(text=\"WAU\")))\n",
    "fig.add_trace(go.Scatter(x=wau['session_week'], \n",
    "                        y=wau['uid'],\n",
    "                    mode='lines+markers',\n",
    "                    name='lines+markers',line = dict(color='purple', width=5)))\n",
    "#adding reference line with average DAU over time\n",
    "fig.add_hline(y=wau['uid'].mean(),line_dash=\"dash\", line_color=\"red\", annotation_text=\"average WAU\",\n",
    "             annotation_position=\"top left\")\n",
    "fig.show()"
   ]
  },
  {
   "cell_type": "markdown",
   "id": "13efdb03",
   "metadata": {},
   "source": [
    "#### Averege number of users per week:"
   ]
  },
  {
   "cell_type": "code",
   "execution_count": null,
   "id": "bb25a323",
   "metadata": {},
   "outputs": [],
   "source": [
    "wau_total = visits.groupby(['session_year', 'session_week']).agg({'uid': 'nunique'}).mean()\n",
    "print(int(wau_total))"
   ]
  },
  {
   "cell_type": "markdown",
   "id": "daad5193",
   "metadata": {},
   "source": [
    "#### Calculating unique users per month:"
   ]
  },
  {
   "cell_type": "code",
   "execution_count": null,
   "id": "5518a456",
   "metadata": {},
   "outputs": [],
   "source": [
    "mau = visits.groupby(visits['session_month'])['uid'].nunique().reset_index()\n",
    "wau.head()"
   ]
  },
  {
   "cell_type": "code",
   "execution_count": null,
   "id": "108c9246",
   "metadata": {
    "scrolled": true
   },
   "outputs": [],
   "source": [
    "import plotly.graph_objects as go\n",
    "fig = go.Figure(layout=go.Layout(\n",
    "        title=go.layout.Title(text=\"MAU\")))\n",
    "fig.add_trace(go.Scatter(x=mau['session_month'], \n",
    "                        y=mau['uid'],\n",
    "                    mode='lines+markers',\n",
    "                    name='lines+markers',line = dict(color='purple', width=5)))\n",
    "#adding reference line with average DAU over time\n",
    "fig.add_hline(y=mau['uid'].mean(),line_dash=\"dash\", line_color=\"red\", annotation_text=\"average MAU\",\n",
    "             annotation_position=\"top left\")\n",
    "fig.show()"
   ]
  },
  {
   "cell_type": "markdown",
   "id": "bfa4c099",
   "metadata": {},
   "source": [
    "#### Averege number of users per month:"
   ]
  },
  {
   "cell_type": "code",
   "execution_count": null,
   "id": "fdfef46b",
   "metadata": {
    "scrolled": true
   },
   "outputs": [],
   "source": [
    "mau_total = (visits.groupby(['session_year', 'session_month']).agg({'uid': 'nunique'}).mean())\n",
    "print(int(mau_total))"
   ]
  },
  {
   "cell_type": "markdown",
   "id": "56c888f5",
   "metadata": {},
   "source": [
    "As we cee from our graphs there are peak 0n **24 0f november**, so we can estimate that was because of **Thanksgiving** activities."
   ]
  },
  {
   "cell_type": "markdown",
   "id": "fae10ea3",
   "metadata": {},
   "source": [
    "- **How many sessions are there per day? (One user might have more than one session.)**"
   ]
  },
  {
   "cell_type": "markdown",
   "id": "d5842930",
   "metadata": {},
   "source": [
    "#### Unique users per day"
   ]
  },
  {
   "cell_type": "code",
   "execution_count": null,
   "id": "d2cc4e55",
   "metadata": {
    "scrolled": true
   },
   "outputs": [],
   "source": [
    "dau_new=visits.groupby(['session_date']).agg({'start_ts': 'count','uid':'nunique'}).reset_index()\n",
    "dau_new['sessions_per_user']=dau_new['start_ts']/dau_new['uid']\n",
    "dau_new.head()"
   ]
  },
  {
   "cell_type": "code",
   "execution_count": null,
   "id": "925aa7f4",
   "metadata": {
    "scrolled": true
   },
   "outputs": [],
   "source": [
    "#let's plot sessions per user\n",
    "fig = px.line(dau_new,\n",
    "              x=\"session_date\", y=\"sessions_per_user\",title='Sessions per user',\n",
    "               )\n",
    "fig.show()"
   ]
  },
  {
   "cell_type": "code",
   "execution_count": null,
   "id": "170e51a5",
   "metadata": {},
   "outputs": [],
   "source": [
    "import plotly.graph_objects as go\n",
    "fig = go.Figure()\n",
    "fig.add_trace(go.Scatter(x=dau_new['session_date'], \n",
    "                        y=dau_new['uid'],\n",
    "                    mode='lines',\n",
    "                    name='DAU',line = dict(color='yellow', width=2 )))\n",
    "\n",
    "fig.add_trace(go.Scatter(x=dau_new['session_date'], \n",
    "                        y=dau_new['start_ts'], \n",
    "                       \n",
    "                    mode='lines',\n",
    "                    name='sessions',line = dict(color='black', width=2 )))\n",
    "\n",
    "\n",
    "fig.update_layout(\n",
    "    showlegend=True,\n",
    "    plot_bgcolor=\"grey\",\n",
    "    margin=dict(t=10,l=10,b=10,r=10)\n",
    ")\n",
    "\n",
    "\n",
    "fig.show()"
   ]
  },
  {
   "cell_type": "markdown",
   "id": "3a661746",
   "metadata": {},
   "source": [
    "#### As we ce there are ~1.22 session per user on 24 of November and 4042 users "
   ]
  },
  {
   "cell_type": "markdown",
   "id": "a50e1bb2",
   "metadata": {},
   "source": [
    "### Average session length, or ASL"
   ]
  },
  {
   "cell_type": "code",
   "execution_count": null,
   "id": "f2d2eac7",
   "metadata": {
    "scrolled": true
   },
   "outputs": [],
   "source": [
    "visits['session_duration_sec'] = (\n",
    "    visits['end_ts'] - visits['start_ts']\n",
    ").dt.seconds\n",
    "visits['session_duration_sec'].hist(bins=100,range=(0,15000) )\n"
   ]
  },
  {
   "cell_type": "code",
   "execution_count": null,
   "id": "b80a36c5",
   "metadata": {
    "scrolled": true
   },
   "outputs": [],
   "source": [
    "asl = visits['session_duration_sec'].mode()\n",
    "print('Averege session length:',asl)"
   ]
  },
  {
   "cell_type": "markdown",
   "id": "cde9a363",
   "metadata": {},
   "source": [
    "- **How often do users come back?**"
   ]
  },
  {
   "cell_type": "markdown",
   "id": "34bca667",
   "metadata": {},
   "source": [
    "### Calculating Retention Rates"
   ]
  },
  {
   "cell_type": "code",
   "execution_count": null,
   "id": "726ab97a",
   "metadata": {},
   "outputs": [],
   "source": [
    "min_visit=visits.groupby(['uid'])['session_date'].min().reset_index()"
   ]
  },
  {
   "cell_type": "code",
   "execution_count": null,
   "id": "3916caa3",
   "metadata": {},
   "outputs": [],
   "source": [
    "min_visit.columns = ['uid', 'first_session']"
   ]
  },
  {
   "cell_type": "code",
   "execution_count": null,
   "id": "bcaac89f",
   "metadata": {},
   "outputs": [],
   "source": [
    "min_visit.head()"
   ]
  },
  {
   "cell_type": "code",
   "execution_count": null,
   "id": "5b89a44f",
   "metadata": {
    "scrolled": true
   },
   "outputs": [],
   "source": [
    "visits=visits.merge(min_visit, how='inner',on=['uid'])\n",
    "visits.head()"
   ]
  },
  {
   "cell_type": "markdown",
   "id": "318ff812",
   "metadata": {},
   "source": [
    "- **cohort**: monthly cohort when the user registered/had first session, basically turning his date of registration into month to understand what month he registered in, thus which cohort he belongs to.\n",
    "- **age**: it's the difference between any current session and first_session, we will also calculate it in 'month' to keep all of the units on one scale) Basically age answers the question : \"How long did it pass after registration till the user made this action?\" "
   ]
  },
  {
   "cell_type": "code",
   "execution_count": null,
   "id": "123a4e8e",
   "metadata": {},
   "outputs": [],
   "source": [
    "visits['cohort'] = visits['first_session'].astype('datetime64[M]')\n",
    "visits['age'] = ((pd.to_datetime(visits['session_date']) - pd.to_datetime(visits['first_session'])) / np.timedelta64(1,'M'))\\\n",
    "                                                                        .round().astype('int')\n",
    "visits.head()"
   ]
  },
  {
   "cell_type": "code",
   "execution_count": null,
   "id": "3aae62a4",
   "metadata": {},
   "outputs": [],
   "source": [
    "visits[visits.age==3].sample()"
   ]
  },
  {
   "cell_type": "code",
   "execution_count": null,
   "id": "2b3bb812",
   "metadata": {},
   "outputs": [],
   "source": [
    " cohorts = visits.pivot_table(index='cohort',\n",
    "                  columns='age',\n",
    "                  values='uid',\n",
    "                  aggfunc='nunique').fillna(0)\n",
    "\n",
    "cohorts"
   ]
  },
  {
   "cell_type": "code",
   "execution_count": null,
   "id": "5ab6a18d",
   "metadata": {},
   "outputs": [],
   "source": [
    "retention=cohorts.iloc[:,0:].div(cohorts[0], axis=0)\n",
    "retention"
   ]
  },
  {
   "cell_type": "code",
   "execution_count": null,
   "id": "bebb7d47",
   "metadata": {
    "scrolled": true
   },
   "outputs": [],
   "source": [
    "retention.index=retention.index.astype(str)\n",
    "plt.figure(figsize=(13, 9))\n",
    "sns.heatmap(retention, annot=True, fmt='.1%', linewidths=1, linecolor='grey',  vmax=0.1, cbar_kws= {'orientation': 'horizontal'} \n",
    "            ).set(title = 'Retention Rate')\n",
    "plt.show()"
   ]
  },
  {
   "cell_type": "markdown",
   "id": "09da891b",
   "metadata": {},
   "source": [
    "## Sales "
   ]
  },
  {
   "cell_type": "code",
   "execution_count": null,
   "id": "a279c391",
   "metadata": {},
   "outputs": [],
   "source": [
    "visits.head(1)"
   ]
  },
  {
   "cell_type": "code",
   "execution_count": null,
   "id": "85df2ba0",
   "metadata": {},
   "outputs": [],
   "source": [
    "orders.head(1)"
   ]
  },
  {
   "cell_type": "markdown",
   "id": "e57f32e5",
   "metadata": {},
   "source": [
    "- **When do people start buying? (In KPI analysis, we're usually interested in knowing the time that elapses between registration and conversion — when the user becomes a customer.**"
   ]
  },
  {
   "cell_type": "code",
   "execution_count": null,
   "id": "bbb6374a",
   "metadata": {},
   "outputs": [],
   "source": [
    "first_order=orders.groupby(['uid'])['buy_ts'].min().reset_index()\n",
    "first_order.columns = ['uid', 'first_order']\n",
    "first_order.head()"
   ]
  },
  {
   "cell_type": "code",
   "execution_count": null,
   "id": "e8b51ce5",
   "metadata": {},
   "outputs": [],
   "source": [
    "first_visit=visits.groupby(['uid'])['start_ts'].min().reset_index()"
   ]
  },
  {
   "cell_type": "code",
   "execution_count": null,
   "id": "e67e3917",
   "metadata": {
    "scrolled": false
   },
   "outputs": [],
   "source": [
    "purchase = first_visit.merge(first_order, how='inner',on=['uid'])\n",
    "purchase.head()"
   ]
  },
  {
   "cell_type": "code",
   "execution_count": null,
   "id": "66f60055",
   "metadata": {},
   "outputs": [],
   "source": [
    "purchase['conversion']=((pd.to_datetime(purchase['first_order'])-pd.to_datetime(purchase['start_ts']))/np.timedelta64(1,'D')).astype('int')"
   ]
  },
  {
   "cell_type": "code",
   "execution_count": null,
   "id": "2705ec1a",
   "metadata": {},
   "outputs": [],
   "source": [
    "purchase.head()"
   ]
  },
  {
   "cell_type": "code",
   "execution_count": null,
   "id": "56781372",
   "metadata": {},
   "outputs": [],
   "source": [
    "print(' The overall conversion is {:.1%}'.format(purchase['uid'].nunique()/visits['uid'].nunique()))"
   ]
  },
  {
   "cell_type": "code",
   "execution_count": null,
   "id": "301d1052",
   "metadata": {},
   "outputs": [],
   "source": [
    "fig = px.histogram(purchase, x='conversion', nbins=50)\n",
    "fig.show()"
   ]
  },
  {
   "cell_type": "markdown",
   "id": "726e3d5c",
   "metadata": {},
   "source": [
    "#### 29772 users made the first purchase  between 1 and 8 days"
   ]
  },
  {
   "cell_type": "markdown",
   "id": "3f9ee7c9",
   "metadata": {},
   "source": [
    "- **How many orders do they make during a given period of time?**"
   ]
  },
  {
   "cell_type": "code",
   "execution_count": null,
   "id": "46d31651",
   "metadata": {
    "scrolled": true
   },
   "outputs": [],
   "source": [
    "orders.head()"
   ]
  },
  {
   "cell_type": "code",
   "execution_count": null,
   "id": "3ab09034",
   "metadata": {
    "scrolled": true
   },
   "outputs": [],
   "source": [
    "#adding order month, first order  month and age_month\n",
    "orders['order_month']=orders['buy_ts'].astype('datetime64[M]')\n",
    "orders.head()"
   ]
  },
  {
   "cell_type": "code",
   "execution_count": null,
   "id": "26a78c14",
   "metadata": {},
   "outputs": [],
   "source": [
    "first_order_month=orders.groupby(['uid']).agg({'order_month':'min'}).reset_index()"
   ]
  },
  {
   "cell_type": "code",
   "execution_count": null,
   "id": "6fbc89db",
   "metadata": {},
   "outputs": [],
   "source": [
    "first_order_month.columns=['uid', 'first_order_month']\n",
    "orders=orders.merge(first_order_month, on='uid')"
   ]
  },
  {
   "cell_type": "code",
   "execution_count": null,
   "id": "ebd0a8ea",
   "metadata": {},
   "outputs": [],
   "source": [
    "orders.head()"
   ]
  },
  {
   "cell_type": "code",
   "execution_count": null,
   "id": "aa4d0240",
   "metadata": {},
   "outputs": [],
   "source": [
    "orders['age_month']=round((orders['order_month']-orders['first_order_month'])/np.timedelta64(1, 'M'))"
   ]
  },
  {
   "cell_type": "code",
   "execution_count": null,
   "id": "fcfddb65",
   "metadata": {},
   "outputs": [],
   "source": [
    "orders.head()"
   ]
  },
  {
   "cell_type": "code",
   "execution_count": null,
   "id": "f46e333d",
   "metadata": {
    "scrolled": true
   },
   "outputs": [],
   "source": [
    "cohort=orders.groupby(['first_order_month', 'age_month']).agg({'uid':['nunique','count']}).reset_index()\n",
    "cohort.columns=['first_order_month', 'age_month', 'users', 'orders']\n",
    "cohort['orders_per_user']=cohort['orders']/cohort['users']\n",
    "cohort_piv = cohort.pivot_table(index='first_order_month', columns='age_month', values='orders_per_user', aggfunc='mean')"
   ]
  },
  {
   "cell_type": "code",
   "execution_count": null,
   "id": "dee0746e",
   "metadata": {
    "scrolled": true
   },
   "outputs": [],
   "source": [
    "cohort_piv.round(2).fillna('')"
   ]
  },
  {
   "cell_type": "code",
   "execution_count": null,
   "id": "1f626688",
   "metadata": {},
   "outputs": [],
   "source": [
    "plt.figure(figsize=(13, 9))\n",
    "cohort_piv.index=cohort_piv.index.astype(str)\n",
    "\n",
    "sns.heatmap(cohort_piv, annot=True, fmt='.2f', linewidths=1, linecolor='grey', cbar_kws= {'orientation': 'horizontal'} \n",
    "            ).set(title ='Orders/Period')\n",
    "plt.show()"
   ]
  },
  {
   "cell_type": "markdown",
   "id": "1f181e1c",
   "metadata": {},
   "source": [
    "- **What is the average purchase size?**"
   ]
  },
  {
   "cell_type": "code",
   "execution_count": null,
   "id": "1cf104bf",
   "metadata": {
    "scrolled": false
   },
   "outputs": [],
   "source": [
    "orders.head()"
   ]
  },
  {
   "cell_type": "code",
   "execution_count": null,
   "id": "7809feae",
   "metadata": {},
   "outputs": [],
   "source": [
    "avg_cohort=orders.groupby(['first_order_month','order_month'])['revenue'].mean().reset_index()\n",
    "avg_cohort.head()"
   ]
  },
  {
   "cell_type": "code",
   "execution_count": null,
   "id": "9a215cf3",
   "metadata": {},
   "outputs": [],
   "source": [
    "avg_cohort['age_month']=round((avg_cohort['order_month']-avg_cohort['first_order_month'])/np.timedelta64(1, 'M'))"
   ]
  },
  {
   "cell_type": "code",
   "execution_count": null,
   "id": "5588f6e8",
   "metadata": {},
   "outputs": [],
   "source": [
    "avg_cohort.head()"
   ]
  },
  {
   "cell_type": "code",
   "execution_count": null,
   "id": "ed24862c",
   "metadata": {
    "scrolled": true
   },
   "outputs": [],
   "source": [
    "avg_cohort_piv=avg_cohort.pivot_table(\n",
    "    index='first_order_month', \n",
    "    columns='age_month', \n",
    "    values='revenue', \n",
    "    aggfunc='mean'\n",
    ")\n",
    "\n",
    "avg_cohort_piv.round(2).fillna('')"
   ]
  },
  {
   "cell_type": "code",
   "execution_count": null,
   "id": "ac5cb3d5",
   "metadata": {},
   "outputs": [],
   "source": [
    "plt.figure(figsize=(13, 9))\n",
    "avg_cohort_piv.index=avg_cohort_piv.index.astype(str)\n",
    "\n",
    "sns.heatmap(avg_cohort_piv, annot=True, fmt='.2f', linewidths=1, linecolor='grey', cbar_kws= {'orientation': 'horizontal'} \n",
    "            ).set(title ='Average Purchase')\n",
    "plt.show()"
   ]
  },
  {
   "cell_type": "markdown",
   "id": "f3b32160",
   "metadata": {},
   "source": [
    "#### LTV (lifetime value) is the customer's «lifetime» value. It's the total amount of money a customer brings to the company on average by making purchases. When calculating LTV, analysts usually consider the gross profit from a customer per period. "
   ]
  },
  {
   "cell_type": "code",
   "execution_count": null,
   "id": "e823ea4f",
   "metadata": {
    "scrolled": false
   },
   "outputs": [],
   "source": [
    "orders.head()"
   ]
  },
  {
   "cell_type": "code",
   "execution_count": null,
   "id": "c3279ff0",
   "metadata": {},
   "outputs": [],
   "source": [
    "cohort_sizes = orders.groupby('first_order_month').agg({'uid': 'nunique'}).reset_index()\n",
    "cohort_sizes.columns=['first_order_month','cohort_size']\n",
    "cohort_sizes.head()"
   ]
  },
  {
   "cell_type": "code",
   "execution_count": null,
   "id": "8cac49cd",
   "metadata": {},
   "outputs": [],
   "source": [
    "#get the revenue per cohort in each month\n",
    "ltv_cohort = orders.groupby(['first_order_month','order_month'])['revenue'].sum().reset_index()\n",
    "ltv_cohort.columns = ['first_order_month','month','revenue']"
   ]
  },
  {
   "cell_type": "code",
   "execution_count": null,
   "id": "f208f312",
   "metadata": {
    "scrolled": true
   },
   "outputs": [],
   "source": [
    "ltv_cohort.head()"
   ]
  },
  {
   "cell_type": "code",
   "execution_count": null,
   "id": "194d8b08",
   "metadata": {},
   "outputs": [],
   "source": [
    "ltv_cohort = ltv_cohort.merge(cohort_sizes,on=['first_order_month'])"
   ]
  },
  {
   "cell_type": "code",
   "execution_count": null,
   "id": "5088941c",
   "metadata": {},
   "outputs": [],
   "source": [
    "\n",
    "\n",
    "#ltv_cohort = ltv_cohort[ltv_cohort['month'] > ltv_cohort['first_order_month']] \n",
    "ltv_cohort['age'] = round((ltv_cohort['month']-ltv_cohort['first_order_month'])/np.timedelta64(1, 'M'))\n",
    "ltv_cohort['ltv'] = ltv_cohort['revenue']/ltv_cohort['cohort_size']\n",
    "ltv_cohort"
   ]
  },
  {
   "cell_type": "code",
   "execution_count": null,
   "id": "69d82d97",
   "metadata": {},
   "outputs": [],
   "source": [
    "ltv_cohort_piv=ltv_cohort.pivot_table(\n",
    "    index='first_order_month', \n",
    "    columns='age', \n",
    "    values='ltv', \n",
    "    aggfunc='sum'\n",
    ").cumsum(axis=1)\n"
   ]
  },
  {
   "cell_type": "code",
   "execution_count": null,
   "id": "690ab0f8",
   "metadata": {
    "scrolled": false
   },
   "outputs": [],
   "source": [
    "plt.figure(figsize=(13, 9))\n",
    "ltv_cohort_piv.index=ltv_cohort_piv.index.astype(str)\n",
    "\n",
    "sns.heatmap(ltv_cohort_piv, annot=True, fmt='.2f', linewidths=1, linecolor='grey', cbar_kws= {'orientation': 'horizontal'} \n",
    "            ).set(title ='LTV')\n",
    "plt.show()"
   ]
  },
  {
   "cell_type": "markdown",
   "id": "6950d0f2",
   "metadata": {},
   "source": [
    "#### We can cee that the June cohort started pretty low but 4 months later it has 7.62 LTV and continiosly growing \n",
    "<br>\n"
   ]
  },
  {
   "cell_type": "markdown",
   "id": "c58b983f",
   "metadata": {},
   "source": [
    "### 3.Marketing\n",
    "\n",
    "- **How much money was spent? Overall/per source/over time**"
   ]
  },
  {
   "cell_type": "code",
   "execution_count": null,
   "id": "c712bcbb",
   "metadata": {},
   "outputs": [],
   "source": [
    "costs"
   ]
  },
  {
   "cell_type": "code",
   "execution_count": null,
   "id": "d398b504",
   "metadata": {},
   "outputs": [],
   "source": [
    "costs['costs_month'] = costs['dt'].astype('datetime64[M]')"
   ]
  },
  {
   "cell_type": "code",
   "execution_count": null,
   "id": "9c34cdd4",
   "metadata": {},
   "outputs": [],
   "source": [
    "costs"
   ]
  },
  {
   "cell_type": "code",
   "execution_count": null,
   "id": "9f0602ed",
   "metadata": {},
   "outputs": [],
   "source": [
    "#sorting cost for futher visualization\n",
    "costs=costs.sort_values(by=['dt','source_id'])\n",
    "costs.head()"
   ]
  },
  {
   "cell_type": "code",
   "execution_count": null,
   "id": "54e9abcc",
   "metadata": {},
   "outputs": [],
   "source": [
    "print('Total marketing cost is {}'.format(costs['costs'].sum()))"
   ]
  },
  {
   "cell_type": "code",
   "execution_count": null,
   "id": "e152c496",
   "metadata": {},
   "outputs": [],
   "source": [
    "marketing_per_source=costs.groupby(['source_id','costs_month'])['costs'].sum().reset_index()"
   ]
  },
  {
   "cell_type": "code",
   "execution_count": null,
   "id": "af5e843a",
   "metadata": {},
   "outputs": [],
   "source": [
    "marketing_per_source"
   ]
  },
  {
   "cell_type": "code",
   "execution_count": null,
   "id": "f011402a",
   "metadata": {},
   "outputs": [],
   "source": [
    "plt.figure(figsize=(20, 9))\n",
    "fig = px.bar(marketing_per_source, x='source_id', y='costs')\n",
    "fig.update_xaxes(type='category')\n",
    "fig.show()"
   ]
  },
  {
   "cell_type": "code",
   "execution_count": null,
   "id": "ae26e132",
   "metadata": {
    "scrolled": false
   },
   "outputs": [],
   "source": [
    "#plotting costs over time\n",
    "plt.figure(figsize=(15, 10))\n",
    "fig = px.line(marketing_per_source, x=\"costs_month\", y=\"costs\", color='source_id')\n",
    "fig.show()"
   ]
  },
  {
   "cell_type": "markdown",
   "id": "97588492",
   "metadata": {},
   "source": [
    "We can cee that we spant the moste of the budget on sourse 3"
   ]
  },
  {
   "cell_type": "code",
   "execution_count": null,
   "id": "151e37da",
   "metadata": {},
   "outputs": [],
   "source": [
    "plt.figure(figsize=(15, 10))\n",
    "fig = px.bar(marketing_per_source, x=\"costs_month\", y=\"costs\")\n",
    "fig.show()"
   ]
  },
  {
   "cell_type": "code",
   "execution_count": null,
   "id": "9f149e65",
   "metadata": {},
   "outputs": [],
   "source": [
    "#plotting costs over time\n",
    "plt.figure(figsize=(15, 10))\n",
    "fig = px.bar(marketing_per_source, x=\"costs_month\", y=\"costs\")\n",
    "fig.show()"
   ]
  },
  {
   "cell_type": "markdown",
   "id": "97ecf5c2",
   "metadata": {},
   "source": [
    " -  **How much did customer acquisition from each of the sources cost?**"
   ]
  },
  {
   "cell_type": "markdown",
   "id": "23f9174c",
   "metadata": {},
   "source": [
    "#### CAC (customer acquisition cost) is the cost of attracting a customer—the money a new customer costs a company. "
   ]
  },
  {
   "cell_type": "code",
   "execution_count": null,
   "id": "2da604f9",
   "metadata": {},
   "outputs": [],
   "source": [
    "marketing_by_month=costs.groupby(['costs_month'])['costs'].sum().reset_index()\n",
    "marketing_by_month"
   ]
  },
  {
   "cell_type": "code",
   "execution_count": null,
   "id": "5017142f",
   "metadata": {},
   "outputs": [],
   "source": [
    "buyers_per_moth=orders.groupby(['first_order_month'])['uid'].nunique().reset_index()\n",
    "buyers_per_moth.columns=['costs_month','buyers']\n",
    "buyers_per_moth"
   ]
  },
  {
   "cell_type": "code",
   "execution_count": null,
   "id": "8d942bd7",
   "metadata": {},
   "outputs": [],
   "source": [
    "CAC_per_month=marketing_by_month.merge(buyers_per_moth,how='left',on=['costs_month'])\n",
    "CAC_per_month['CAC']=CAC_per_month['costs']/CAC_per_month['buyers']\n",
    "CAC_per_month"
   ]
  },
  {
   "cell_type": "code",
   "execution_count": null,
   "id": "567383b2",
   "metadata": {
    "scrolled": true
   },
   "outputs": [],
   "source": [
    "fig = px.line(CAC_per_month, x=\"costs_month\", y=\"CAC\", title='CAC')\n",
    "fig.show()"
   ]
  },
  {
   "cell_type": "markdown",
   "id": "795a3f50",
   "metadata": {},
   "source": [
    "#### We can cee that higthest CAC 10.79 wee have in August "
   ]
  },
  {
   "cell_type": "markdown",
   "id": "2fd81142",
   "metadata": {},
   "source": [
    "#### CAC per source"
   ]
  },
  {
   "cell_type": "markdown",
   "id": "9fdb3f12",
   "metadata": {},
   "source": [
    "In order to calculate CAC per source we need to know the original source of the user. If we check our original dataset we will see that users can come from different sources ( same problem may occur in your project)"
   ]
  },
  {
   "cell_type": "markdown",
   "id": "eb378e7f",
   "metadata": {},
   "source": [
    "We look at orders table because even if the user didn't buy smth, he still came from the  first source "
   ]
  },
  {
   "cell_type": "code",
   "execution_count": null,
   "id": "e6ffb7a6",
   "metadata": {},
   "outputs": [],
   "source": [
    "visits.groupby(['uid'])['source_id'].nunique().head(10)"
   ]
  },
  {
   "cell_type": "code",
   "execution_count": null,
   "id": "e62c8dc8",
   "metadata": {},
   "outputs": [],
   "source": [
    "first_source=visits.sort_values('session_date').groupby('uid').first()['source_id'].reset_index()\n",
    "first_source.columns=['uid','first_source']\n",
    "first_source.head()"
   ]
  },
  {
   "cell_type": "markdown",
   "id": "b6fb25f9",
   "metadata": {},
   "source": [
    "Merging this data back to purchase becaue CAC calculations are based on buyers"
   ]
  },
  {
   "cell_type": "code",
   "execution_count": null,
   "id": "21adba34",
   "metadata": {},
   "outputs": [],
   "source": [
    "purchase=orders.merge(first_source,on='uid',how='left')\n",
    "purchase.head()"
   ]
  },
  {
   "cell_type": "markdown",
   "id": "8b22667d",
   "metadata": {},
   "source": [
    "Let's see how CAC was changing for each source across time. "
   ]
  },
  {
   "cell_type": "code",
   "execution_count": null,
   "id": "4ca010e0",
   "metadata": {},
   "outputs": [],
   "source": [
    "marketing_by_month_source=costs.groupby(['costs_month','source_id'])['costs'].sum().reset_index()\n",
    "marketing_by_month_source.head()"
   ]
  },
  {
   "cell_type": "code",
   "execution_count": null,
   "id": "8a1d436b",
   "metadata": {},
   "outputs": [],
   "source": [
    "buyers_per_moth_source=purchase.groupby(['first_order_month','first_source'])['uid'].nunique().reset_index()\n",
    "buyers_per_moth_source.columns=['costs_month','source_id','buyers']\n",
    "buyers_per_moth_source.head()"
   ]
  },
  {
   "cell_type": "code",
   "execution_count": null,
   "id": "eeeccfea",
   "metadata": {},
   "outputs": [],
   "source": [
    "#actual cac calculations\n",
    "CAC_per_month_source=marketing_by_month_source.merge(buyers_per_moth_source,how='inner',on=['source_id','costs_month'])\n",
    "CAC_per_month_source['CAC']=CAC_per_month_source['costs']/CAC_per_month_source['buyers']\n",
    "CAC_per_month_source.head()"
   ]
  },
  {
   "cell_type": "code",
   "execution_count": null,
   "id": "8358ad29",
   "metadata": {
    "scrolled": false
   },
   "outputs": [],
   "source": [
    "#plotting cac dynamics\n",
    "fig = px.line(CAC_per_month_source, x=\"costs_month\", y=\"CAC\",color='source_id',title='CAC Sources')\n",
    "fig.show()"
   ]
  },
  {
   "cell_type": "markdown",
   "id": "9e28f07a",
   "metadata": {},
   "source": [
    "#### We can cee that higthest CAC per Source   wee have on source 3 and source 2 "
   ]
  },
  {
   "cell_type": "markdown",
   "id": "58f5686f",
   "metadata": {},
   "source": [
    "- **How worthwhile where the investments? (ROI)**"
   ]
  },
  {
   "cell_type": "markdown",
   "id": "c2c4379b",
   "metadata": {},
   "source": [
    "Let's do two version together: ROI per cohort and per source"
   ]
  },
  {
   "cell_type": "markdown",
   "id": "7c5a8ef2",
   "metadata": {},
   "source": [
    "We will start with ROI per cohort.  <div>\n",
    "**In genereal, ROI=LTV/CAC**\n",
    "    <div>\n",
    "We already have calculations on CAC per month and we have info on ltv in ltv_cohort. "
   ]
  },
  {
   "cell_type": "code",
   "execution_count": null,
   "id": "c7938744",
   "metadata": {},
   "outputs": [],
   "source": [
    "CAC_per_month_ROI=CAC_per_month[['costs_month','CAC']]\n",
    "CAC_per_month_ROI.columns=['first_order_month','CAC']\n",
    "ROI=ltv_cohort.merge(CAC_per_month_ROI,on=['first_order_month'],how='left')\n",
    "ROI.head()"
   ]
  },
  {
   "cell_type": "code",
   "execution_count": null,
   "id": "3c60ff84",
   "metadata": {},
   "outputs": [],
   "source": [
    "ROI['ROI']=ROI['ltv']/ROI['CAC']\n",
    "roi_piv = ROI.pivot_table(\n",
    "    index='first_order_month', columns='age', values='ROI', aggfunc='mean'\n",
    ").cumsum(axis=1).round(2) "
   ]
  },
  {
   "cell_type": "code",
   "execution_count": null,
   "id": "2a36c69c",
   "metadata": {},
   "outputs": [],
   "source": [
    "roi_piv"
   ]
  },
  {
   "cell_type": "code",
   "execution_count": null,
   "id": "62af6847",
   "metadata": {
    "scrolled": false
   },
   "outputs": [],
   "source": [
    "plt.figure(figsize=(13, 9))\n",
    "roi_piv.index=roi_piv.index.astype(str)\n",
    "sns.heatmap(roi_piv, annot=True, fmt='.2f', linewidths=1, linecolor='grey', cbar_kws= {'orientation': 'horizontal'} \n",
    "            ).set(title ='ROI per cohort')\n",
    "plt.show()"
   ]
  },
  {
   "cell_type": "markdown",
   "id": "47b62730",
   "metadata": {},
   "source": [
    "#### As same as LTV we can cee that there are increase of ROI on 4 month of September and Desember cohorts"
   ]
  },
  {
   "cell_type": "code",
   "execution_count": null,
   "id": "adfc0cd1",
   "metadata": {
    "scrolled": true
   },
   "outputs": [],
   "source": [
    "ltv_per_source=purchase.groupby(['first_source'])['uid','revenue'].agg({'uid':'nunique','revenue':'sum'}).reset_index()\n",
    "ltv_per_source.columns=['source_id','buyers','revenue']\n",
    "ltv_per_source['ltv']=ltv_per_source['revenue']/ltv_per_source['buyers']\n",
    "ltv_per_source\n"
   ]
  },
  {
   "cell_type": "markdown",
   "id": "b4f69229",
   "metadata": {},
   "source": [
    "### ROMI (return on marketing investment)"
   ]
  },
  {
   "cell_type": "markdown",
   "id": "9010cfdb",
   "metadata": {},
   "source": [
    "Let's see if ROI per source will have a different picture"
   ]
  },
  {
   "cell_type": "code",
   "execution_count": null,
   "id": "2f1467b1",
   "metadata": {},
   "outputs": [],
   "source": [
    "roi_per_source=marketing_per_source.merge(ltv_per_source,on=['source_id'])\n",
    "roi_per_source['cac']=roi_per_source['costs']/roi_per_source['buyers']\n",
    "roi_per_source['romi']=roi_per_source['ltv']/roi_per_source['cac']\n",
    "roi_per_source"
   ]
  },
  {
   "cell_type": "code",
   "execution_count": null,
   "id": "be8904ab",
   "metadata": {
    "scrolled": false
   },
   "outputs": [],
   "source": [
    "plt.figure(figsize=(20, 9))\n",
    "fig = px.bar(roi_per_source, x='source_id', y='romi')\n",
    "fig.update_xaxes(type='category')\n",
    "fig.show()"
   ]
  },
  {
   "cell_type": "markdown",
   "id": "3fd8b245",
   "metadata": {},
   "source": [
    "## Step 3. Overall  Conclusion"
   ]
  },
  {
   "cell_type": "markdown",
   "id": "fc35ba7f",
   "metadata": {},
   "source": [
    "#### 1.\n",
    "<br>\n",
    "Downloading the data and preparing it for analysis Store the data on visits, orders, and expenses in variables. Optimizing the data for analysis.\n",
    "<br> \n",
    "Here we converting the column names from **hightcase** to **lowcase** \n",
    "<br>\n",
    " Here we replacing **spaces**  to  (**'_'**)\n",
    "<br>\n",
    "Creating additional date parameters that will help us in cohort analysis"
   ]
  },
  {
   "cell_type": "markdown",
   "id": "5d19301d",
   "metadata": {},
   "source": [
    "####  2."
   ]
  },
  {
   "cell_type": "markdown",
   "id": "64e2a50e",
   "metadata": {},
   "source": [
    "\n",
    "\n",
    "Making reports and calculating metrics:\n",
    "<br>\n",
    "**DAU** — the number of daily active (unique) users\n",
    "<br>\n",
    "**WAU** — the number of weekly active users\n",
    "<br>\n",
    "**MAU** — the number of monthly active users\n",
    "<br>\n",
    "**Calculating unique users per day:** 907\n",
    "<br>\n",
    "**Calculating unique users per week:** 5621\n",
    "<br>\n",
    "**Calculating unique users per month:** 23228\n",
    "<br>\n",
    "As we cee from our graphs there are peak on 24 of november, so we can estimate that was because of **Thanksgiving** activities.\n",
    "<br>\n",
    "**Unique sessions/users per day:** As we ce there are ~1.22 session per user on 24 of November and 4042 users \n",
    "<br>\n",
    "**Average session length, or ASL:** **60 sec**\n",
    "<br>\n",
    "**Calculating Retention Rates:**"
   ]
  },
  {
   "cell_type": "markdown",
   "id": "5b0f0724",
   "metadata": {},
   "source": [
    "####  3."
   ]
  },
  {
   "cell_type": "markdown",
   "id": "f14ec4ff",
   "metadata": {},
   "source": [
    "**Sales**\n",
    "<br>\n",
    "**When do people start buying?**  **29772** users made the first purchase  between **1 and 8 days**\n",
    "<br>\n",
    "**How many orders do they make during a given period of time?** In **June** cohotrt we can cee that in month **4** there is **4.19** orders per user  and in **10** month it is **4.45** orders per user\n",
    "<br>\n",
    "**What is the average purchase size?** In **September** cohort on **4** mont we have largest amount of averege purchases **62.57**\n",
    "<br>\n",
    "**LTV (lifetime value) is the customer's «lifetime» value.**\n",
    "<br>\n",
    "We can cee that the **June** cohort started pretty low but **4** months later it has **7.62** LTV and continiosly growing.Also we should check out the **September** cohort that from the **4** month has **11.26** LTV and constantly groving to **13.44** \n",
    "<br>\n"
   ]
  },
  {
   "cell_type": "markdown",
   "id": "fee26baa",
   "metadata": {},
   "source": [
    "####  4."
   ]
  },
  {
   "cell_type": "markdown",
   "id": "8caf221b",
   "metadata": {},
   "source": [
    "**Marketing**\n",
    "<br>\n",
    "**CAC (customer acquisition cost) is the cost of attracting a customer—the money a new customer costs a company.** We can cee that **higthest CAC 10.79 wee have in August**\n",
    "<br>\n",
    "**CAC per source**\n",
    "<br>\n",
    "We can cee that higthest CAC per Source  wee have on **source 3** and **source 2**\n",
    "<br>\n",
    "**How worthwhile where the investments? (ROI)** As same as LTV we can cee that there are increase of ROI on 4 month of September and June cohorts\n",
    "<br>\n",
    "**ROMI (return on marketing investment)** BIGGEST RETURNS WE HAVE FROM SOURSES  **1**,**2**,**5** and **9**"
   ]
  },
  {
   "cell_type": "markdown",
   "id": "8cfb5261",
   "metadata": {},
   "source": [
    "**Recomendations:**\n",
    "<br> \n",
    "**To check out what ivents  causes activity in cohorts of June and September**\n",
    "<br> \n",
    "**We recommend to drop Sourse 3 and to focus on sourse 1,2,5.and 9**"
   ]
  }
 ],
 "metadata": {
  "ExecuteTimeLog": [
   {
    "duration": 9572,
    "start_time": "2022-03-29T20:37:31.022Z"
   },
   {
    "duration": 599,
    "start_time": "2022-03-29T20:37:40.597Z"
   },
   {
    "duration": 0,
    "start_time": "2022-03-29T20:37:41.201Z"
   },
   {
    "duration": 0,
    "start_time": "2022-03-29T20:37:41.204Z"
   },
   {
    "duration": 0,
    "start_time": "2022-03-29T20:37:41.206Z"
   },
   {
    "duration": 0,
    "start_time": "2022-03-29T20:37:41.208Z"
   },
   {
    "duration": 0,
    "start_time": "2022-03-29T20:37:41.210Z"
   },
   {
    "duration": 0,
    "start_time": "2022-03-29T20:37:41.212Z"
   },
   {
    "duration": 0,
    "start_time": "2022-03-29T20:37:41.214Z"
   },
   {
    "duration": 0,
    "start_time": "2022-03-29T20:37:41.217Z"
   },
   {
    "duration": 0,
    "start_time": "2022-03-29T20:37:41.220Z"
   },
   {
    "duration": 0,
    "start_time": "2022-03-29T20:37:41.222Z"
   },
   {
    "duration": 0,
    "start_time": "2022-03-29T20:37:41.224Z"
   },
   {
    "duration": 1,
    "start_time": "2022-03-29T20:37:41.226Z"
   },
   {
    "duration": 0,
    "start_time": "2022-03-29T20:37:41.228Z"
   },
   {
    "duration": 0,
    "start_time": "2022-03-29T20:37:41.231Z"
   },
   {
    "duration": 0,
    "start_time": "2022-03-29T20:37:41.233Z"
   },
   {
    "duration": 0,
    "start_time": "2022-03-29T20:37:41.284Z"
   },
   {
    "duration": 0,
    "start_time": "2022-03-29T20:37:41.286Z"
   },
   {
    "duration": 1,
    "start_time": "2022-03-29T20:37:41.287Z"
   },
   {
    "duration": 0,
    "start_time": "2022-03-29T20:37:41.289Z"
   },
   {
    "duration": 0,
    "start_time": "2022-03-29T20:37:41.290Z"
   },
   {
    "duration": 0,
    "start_time": "2022-03-29T20:37:41.292Z"
   },
   {
    "duration": 0,
    "start_time": "2022-03-29T20:37:41.293Z"
   },
   {
    "duration": 0,
    "start_time": "2022-03-29T20:37:41.295Z"
   },
   {
    "duration": 0,
    "start_time": "2022-03-29T20:37:41.296Z"
   },
   {
    "duration": 0,
    "start_time": "2022-03-29T20:37:41.297Z"
   },
   {
    "duration": 0,
    "start_time": "2022-03-29T20:37:41.299Z"
   },
   {
    "duration": 0,
    "start_time": "2022-03-29T20:37:41.300Z"
   },
   {
    "duration": 0,
    "start_time": "2022-03-29T20:37:41.302Z"
   },
   {
    "duration": 0,
    "start_time": "2022-03-29T20:37:41.303Z"
   },
   {
    "duration": 0,
    "start_time": "2022-03-29T20:37:41.305Z"
   },
   {
    "duration": 0,
    "start_time": "2022-03-29T20:37:41.307Z"
   },
   {
    "duration": 0,
    "start_time": "2022-03-29T20:37:41.308Z"
   },
   {
    "duration": 0,
    "start_time": "2022-03-29T20:37:41.309Z"
   },
   {
    "duration": 0,
    "start_time": "2022-03-29T20:37:41.311Z"
   },
   {
    "duration": 0,
    "start_time": "2022-03-29T20:37:41.313Z"
   },
   {
    "duration": 0,
    "start_time": "2022-03-29T20:37:41.314Z"
   },
   {
    "duration": 0,
    "start_time": "2022-03-29T20:37:41.316Z"
   },
   {
    "duration": 0,
    "start_time": "2022-03-29T20:37:41.317Z"
   },
   {
    "duration": 0,
    "start_time": "2022-03-29T20:37:41.319Z"
   },
   {
    "duration": 0,
    "start_time": "2022-03-29T20:37:41.384Z"
   },
   {
    "duration": 0,
    "start_time": "2022-03-29T20:37:41.386Z"
   },
   {
    "duration": 0,
    "start_time": "2022-03-29T20:37:41.387Z"
   },
   {
    "duration": 0,
    "start_time": "2022-03-29T20:37:41.388Z"
   },
   {
    "duration": 0,
    "start_time": "2022-03-29T20:37:41.390Z"
   },
   {
    "duration": 0,
    "start_time": "2022-03-29T20:37:41.393Z"
   },
   {
    "duration": 0,
    "start_time": "2022-03-29T20:37:41.394Z"
   },
   {
    "duration": 0,
    "start_time": "2022-03-29T20:37:41.396Z"
   },
   {
    "duration": 0,
    "start_time": "2022-03-29T20:37:41.397Z"
   },
   {
    "duration": 0,
    "start_time": "2022-03-29T20:37:41.399Z"
   },
   {
    "duration": 0,
    "start_time": "2022-03-29T20:37:41.400Z"
   },
   {
    "duration": 0,
    "start_time": "2022-03-29T20:37:41.402Z"
   },
   {
    "duration": 0,
    "start_time": "2022-03-29T20:37:41.403Z"
   },
   {
    "duration": 0,
    "start_time": "2022-03-29T20:37:41.405Z"
   },
   {
    "duration": 0,
    "start_time": "2022-03-29T20:37:41.406Z"
   },
   {
    "duration": 0,
    "start_time": "2022-03-29T20:37:41.407Z"
   },
   {
    "duration": 0,
    "start_time": "2022-03-29T20:37:41.409Z"
   },
   {
    "duration": 0,
    "start_time": "2022-03-29T20:37:41.411Z"
   },
   {
    "duration": 0,
    "start_time": "2022-03-29T20:37:41.412Z"
   },
   {
    "duration": 0,
    "start_time": "2022-03-29T20:37:41.413Z"
   },
   {
    "duration": 0,
    "start_time": "2022-03-29T20:37:41.415Z"
   },
   {
    "duration": 0,
    "start_time": "2022-03-29T20:37:41.417Z"
   },
   {
    "duration": 0,
    "start_time": "2022-03-29T20:37:41.418Z"
   },
   {
    "duration": 0,
    "start_time": "2022-03-29T20:37:41.419Z"
   },
   {
    "duration": 0,
    "start_time": "2022-03-29T20:37:41.421Z"
   },
   {
    "duration": 0,
    "start_time": "2022-03-29T20:37:41.484Z"
   },
   {
    "duration": 0,
    "start_time": "2022-03-29T20:37:41.486Z"
   },
   {
    "duration": 0,
    "start_time": "2022-03-29T20:37:41.487Z"
   },
   {
    "duration": 0,
    "start_time": "2022-03-29T20:37:41.488Z"
   },
   {
    "duration": 0,
    "start_time": "2022-03-29T20:37:41.490Z"
   },
   {
    "duration": 0,
    "start_time": "2022-03-29T20:37:41.492Z"
   },
   {
    "duration": 0,
    "start_time": "2022-03-29T20:37:41.493Z"
   },
   {
    "duration": 0,
    "start_time": "2022-03-29T20:37:41.495Z"
   },
   {
    "duration": 1,
    "start_time": "2022-03-29T20:37:41.496Z"
   },
   {
    "duration": 0,
    "start_time": "2022-03-29T20:37:41.498Z"
   },
   {
    "duration": 0,
    "start_time": "2022-03-29T20:37:41.500Z"
   },
   {
    "duration": 0,
    "start_time": "2022-03-29T20:37:41.501Z"
   },
   {
    "duration": 0,
    "start_time": "2022-03-29T20:37:41.503Z"
   },
   {
    "duration": 0,
    "start_time": "2022-03-29T20:37:41.504Z"
   },
   {
    "duration": 0,
    "start_time": "2022-03-29T20:37:41.505Z"
   },
   {
    "duration": 0,
    "start_time": "2022-03-29T20:37:41.507Z"
   },
   {
    "duration": 0,
    "start_time": "2022-03-29T20:37:41.508Z"
   },
   {
    "duration": 0,
    "start_time": "2022-03-29T20:37:41.510Z"
   },
   {
    "duration": 0,
    "start_time": "2022-03-29T20:37:41.511Z"
   },
   {
    "duration": 0,
    "start_time": "2022-03-29T20:37:41.512Z"
   },
   {
    "duration": 0,
    "start_time": "2022-03-29T20:37:41.513Z"
   },
   {
    "duration": 0,
    "start_time": "2022-03-29T20:37:41.515Z"
   },
   {
    "duration": 0,
    "start_time": "2022-03-29T20:37:41.516Z"
   },
   {
    "duration": 0,
    "start_time": "2022-03-29T20:37:41.518Z"
   },
   {
    "duration": 0,
    "start_time": "2022-03-29T20:37:41.520Z"
   },
   {
    "duration": 3955,
    "start_time": "2022-03-29T20:37:54.281Z"
   },
   {
    "duration": 1983,
    "start_time": "2022-03-29T20:37:58.239Z"
   },
   {
    "duration": 839,
    "start_time": "2022-03-29T20:38:00.224Z"
   },
   {
    "duration": 145,
    "start_time": "2022-03-29T20:38:01.067Z"
   },
   {
    "duration": 0,
    "start_time": "2022-03-29T20:38:01.218Z"
   },
   {
    "duration": 0,
    "start_time": "2022-03-29T20:38:01.219Z"
   },
   {
    "duration": 0,
    "start_time": "2022-03-29T20:38:01.221Z"
   },
   {
    "duration": 0,
    "start_time": "2022-03-29T20:38:01.222Z"
   },
   {
    "duration": 0,
    "start_time": "2022-03-29T20:38:01.223Z"
   },
   {
    "duration": 0,
    "start_time": "2022-03-29T20:38:01.225Z"
   },
   {
    "duration": 0,
    "start_time": "2022-03-29T20:38:01.226Z"
   },
   {
    "duration": 0,
    "start_time": "2022-03-29T20:38:01.228Z"
   },
   {
    "duration": 0,
    "start_time": "2022-03-29T20:38:01.229Z"
   },
   {
    "duration": 0,
    "start_time": "2022-03-29T20:38:01.231Z"
   },
   {
    "duration": 0,
    "start_time": "2022-03-29T20:38:01.232Z"
   },
   {
    "duration": 0,
    "start_time": "2022-03-29T20:38:01.233Z"
   },
   {
    "duration": 0,
    "start_time": "2022-03-29T20:38:01.235Z"
   },
   {
    "duration": 0,
    "start_time": "2022-03-29T20:38:01.236Z"
   },
   {
    "duration": 0,
    "start_time": "2022-03-29T20:38:01.237Z"
   },
   {
    "duration": 0,
    "start_time": "2022-03-29T20:38:01.239Z"
   },
   {
    "duration": 0,
    "start_time": "2022-03-29T20:38:01.240Z"
   },
   {
    "duration": 0,
    "start_time": "2022-03-29T20:38:01.242Z"
   },
   {
    "duration": 0,
    "start_time": "2022-03-29T20:38:01.243Z"
   },
   {
    "duration": 0,
    "start_time": "2022-03-29T20:38:01.285Z"
   },
   {
    "duration": 0,
    "start_time": "2022-03-29T20:38:01.286Z"
   },
   {
    "duration": 0,
    "start_time": "2022-03-29T20:38:01.287Z"
   },
   {
    "duration": 0,
    "start_time": "2022-03-29T20:38:01.288Z"
   },
   {
    "duration": 0,
    "start_time": "2022-03-29T20:38:01.289Z"
   },
   {
    "duration": 0,
    "start_time": "2022-03-29T20:38:01.291Z"
   },
   {
    "duration": 0,
    "start_time": "2022-03-29T20:38:01.292Z"
   },
   {
    "duration": 0,
    "start_time": "2022-03-29T20:38:01.293Z"
   },
   {
    "duration": 0,
    "start_time": "2022-03-29T20:38:01.295Z"
   },
   {
    "duration": 0,
    "start_time": "2022-03-29T20:38:01.296Z"
   },
   {
    "duration": 0,
    "start_time": "2022-03-29T20:38:01.298Z"
   },
   {
    "duration": 0,
    "start_time": "2022-03-29T20:38:01.299Z"
   },
   {
    "duration": 0,
    "start_time": "2022-03-29T20:38:01.300Z"
   },
   {
    "duration": 0,
    "start_time": "2022-03-29T20:38:01.302Z"
   },
   {
    "duration": 0,
    "start_time": "2022-03-29T20:38:01.303Z"
   },
   {
    "duration": 0,
    "start_time": "2022-03-29T20:38:01.304Z"
   },
   {
    "duration": 0,
    "start_time": "2022-03-29T20:38:01.306Z"
   },
   {
    "duration": 0,
    "start_time": "2022-03-29T20:38:01.307Z"
   },
   {
    "duration": 0,
    "start_time": "2022-03-29T20:38:01.308Z"
   },
   {
    "duration": 0,
    "start_time": "2022-03-29T20:38:01.309Z"
   },
   {
    "duration": 0,
    "start_time": "2022-03-29T20:38:01.310Z"
   },
   {
    "duration": 0,
    "start_time": "2022-03-29T20:38:01.312Z"
   },
   {
    "duration": 0,
    "start_time": "2022-03-29T20:38:01.313Z"
   },
   {
    "duration": 0,
    "start_time": "2022-03-29T20:38:01.314Z"
   },
   {
    "duration": 0,
    "start_time": "2022-03-29T20:38:01.315Z"
   },
   {
    "duration": 0,
    "start_time": "2022-03-29T20:38:01.316Z"
   },
   {
    "duration": 0,
    "start_time": "2022-03-29T20:38:01.317Z"
   },
   {
    "duration": 0,
    "start_time": "2022-03-29T20:38:01.319Z"
   },
   {
    "duration": 0,
    "start_time": "2022-03-29T20:38:01.384Z"
   },
   {
    "duration": 0,
    "start_time": "2022-03-29T20:38:01.385Z"
   },
   {
    "duration": 0,
    "start_time": "2022-03-29T20:38:01.386Z"
   },
   {
    "duration": 0,
    "start_time": "2022-03-29T20:38:01.388Z"
   },
   {
    "duration": 0,
    "start_time": "2022-03-29T20:38:01.389Z"
   },
   {
    "duration": 0,
    "start_time": "2022-03-29T20:38:01.390Z"
   },
   {
    "duration": 0,
    "start_time": "2022-03-29T20:38:01.391Z"
   },
   {
    "duration": 0,
    "start_time": "2022-03-29T20:38:01.393Z"
   },
   {
    "duration": 0,
    "start_time": "2022-03-29T20:38:01.394Z"
   },
   {
    "duration": 0,
    "start_time": "2022-03-29T20:38:01.396Z"
   },
   {
    "duration": 0,
    "start_time": "2022-03-29T20:38:01.397Z"
   },
   {
    "duration": 0,
    "start_time": "2022-03-29T20:38:01.399Z"
   },
   {
    "duration": 0,
    "start_time": "2022-03-29T20:38:01.400Z"
   },
   {
    "duration": 0,
    "start_time": "2022-03-29T20:38:01.401Z"
   },
   {
    "duration": 0,
    "start_time": "2022-03-29T20:38:01.403Z"
   },
   {
    "duration": 0,
    "start_time": "2022-03-29T20:38:01.404Z"
   },
   {
    "duration": 0,
    "start_time": "2022-03-29T20:38:01.405Z"
   },
   {
    "duration": 0,
    "start_time": "2022-03-29T20:38:01.408Z"
   },
   {
    "duration": 0,
    "start_time": "2022-03-29T20:38:01.409Z"
   },
   {
    "duration": 0,
    "start_time": "2022-03-29T20:38:01.410Z"
   },
   {
    "duration": 0,
    "start_time": "2022-03-29T20:38:01.412Z"
   },
   {
    "duration": 0,
    "start_time": "2022-03-29T20:38:01.413Z"
   },
   {
    "duration": 0,
    "start_time": "2022-03-29T20:38:01.414Z"
   },
   {
    "duration": 0,
    "start_time": "2022-03-29T20:38:01.415Z"
   },
   {
    "duration": 0,
    "start_time": "2022-03-29T20:38:01.417Z"
   },
   {
    "duration": 0,
    "start_time": "2022-03-29T20:38:01.418Z"
   },
   {
    "duration": 0,
    "start_time": "2022-03-29T20:38:01.419Z"
   },
   {
    "duration": 0,
    "start_time": "2022-03-29T20:38:01.421Z"
   },
   {
    "duration": 0,
    "start_time": "2022-03-29T20:38:01.422Z"
   },
   {
    "duration": 0,
    "start_time": "2022-03-29T20:38:01.484Z"
   },
   {
    "duration": 0,
    "start_time": "2022-03-29T20:38:01.485Z"
   },
   {
    "duration": 0,
    "start_time": "2022-03-29T20:38:01.487Z"
   },
   {
    "duration": 0,
    "start_time": "2022-03-29T20:38:01.488Z"
   },
   {
    "duration": 0,
    "start_time": "2022-03-29T20:38:01.490Z"
   },
   {
    "duration": 1,
    "start_time": "2022-03-29T20:38:01.491Z"
   },
   {
    "duration": 0,
    "start_time": "2022-03-29T20:38:01.493Z"
   },
   {
    "duration": 0,
    "start_time": "2022-03-29T20:38:01.495Z"
   },
   {
    "duration": 0,
    "start_time": "2022-03-29T20:38:01.496Z"
   },
   {
    "duration": 0,
    "start_time": "2022-03-29T20:38:01.498Z"
   },
   {
    "duration": 0,
    "start_time": "2022-03-29T20:38:01.499Z"
   },
   {
    "duration": 3892,
    "start_time": "2022-03-29T21:24:58.707Z"
   },
   {
    "duration": 1672,
    "start_time": "2022-03-29T21:25:02.602Z"
   },
   {
    "duration": 883,
    "start_time": "2022-03-29T21:25:04.277Z"
   },
   {
    "duration": 146,
    "start_time": "2022-03-29T21:25:05.163Z"
   },
   {
    "duration": 0,
    "start_time": "2022-03-29T21:25:05.315Z"
   },
   {
    "duration": 0,
    "start_time": "2022-03-29T21:25:05.317Z"
   },
   {
    "duration": 0,
    "start_time": "2022-03-29T21:25:05.318Z"
   },
   {
    "duration": 0,
    "start_time": "2022-03-29T21:25:05.320Z"
   },
   {
    "duration": 0,
    "start_time": "2022-03-29T21:25:05.321Z"
   },
   {
    "duration": 0,
    "start_time": "2022-03-29T21:25:05.323Z"
   },
   {
    "duration": 0,
    "start_time": "2022-03-29T21:25:05.324Z"
   },
   {
    "duration": 0,
    "start_time": "2022-03-29T21:25:05.326Z"
   },
   {
    "duration": 0,
    "start_time": "2022-03-29T21:25:05.328Z"
   },
   {
    "duration": 0,
    "start_time": "2022-03-29T21:25:05.329Z"
   },
   {
    "duration": 0,
    "start_time": "2022-03-29T21:25:05.331Z"
   },
   {
    "duration": 0,
    "start_time": "2022-03-29T21:25:05.332Z"
   },
   {
    "duration": 0,
    "start_time": "2022-03-29T21:25:05.334Z"
   },
   {
    "duration": 0,
    "start_time": "2022-03-29T21:25:05.336Z"
   },
   {
    "duration": 0,
    "start_time": "2022-03-29T21:25:05.337Z"
   },
   {
    "duration": 0,
    "start_time": "2022-03-29T21:25:05.339Z"
   },
   {
    "duration": 0,
    "start_time": "2022-03-29T21:25:05.341Z"
   },
   {
    "duration": 0,
    "start_time": "2022-03-29T21:25:05.342Z"
   },
   {
    "duration": 0,
    "start_time": "2022-03-29T21:25:05.385Z"
   },
   {
    "duration": 0,
    "start_time": "2022-03-29T21:25:05.386Z"
   },
   {
    "duration": 0,
    "start_time": "2022-03-29T21:25:05.388Z"
   },
   {
    "duration": 0,
    "start_time": "2022-03-29T21:25:05.389Z"
   },
   {
    "duration": 0,
    "start_time": "2022-03-29T21:25:05.391Z"
   },
   {
    "duration": 0,
    "start_time": "2022-03-29T21:25:05.393Z"
   },
   {
    "duration": 0,
    "start_time": "2022-03-29T21:25:05.395Z"
   },
   {
    "duration": 0,
    "start_time": "2022-03-29T21:25:05.396Z"
   },
   {
    "duration": 0,
    "start_time": "2022-03-29T21:25:05.398Z"
   },
   {
    "duration": 0,
    "start_time": "2022-03-29T21:25:05.399Z"
   },
   {
    "duration": 0,
    "start_time": "2022-03-29T21:25:05.401Z"
   },
   {
    "duration": 0,
    "start_time": "2022-03-29T21:25:05.402Z"
   },
   {
    "duration": 0,
    "start_time": "2022-03-29T21:25:05.404Z"
   },
   {
    "duration": 0,
    "start_time": "2022-03-29T21:25:05.405Z"
   },
   {
    "duration": 0,
    "start_time": "2022-03-29T21:25:05.407Z"
   },
   {
    "duration": 0,
    "start_time": "2022-03-29T21:25:05.408Z"
   },
   {
    "duration": 0,
    "start_time": "2022-03-29T21:25:05.410Z"
   },
   {
    "duration": 0,
    "start_time": "2022-03-29T21:25:05.412Z"
   },
   {
    "duration": 0,
    "start_time": "2022-03-29T21:25:05.413Z"
   },
   {
    "duration": 0,
    "start_time": "2022-03-29T21:25:05.415Z"
   },
   {
    "duration": 0,
    "start_time": "2022-03-29T21:25:05.416Z"
   },
   {
    "duration": 0,
    "start_time": "2022-03-29T21:25:05.418Z"
   },
   {
    "duration": 0,
    "start_time": "2022-03-29T21:25:05.420Z"
   },
   {
    "duration": 0,
    "start_time": "2022-03-29T21:25:05.421Z"
   },
   {
    "duration": 0,
    "start_time": "2022-03-29T21:25:05.483Z"
   },
   {
    "duration": 0,
    "start_time": "2022-03-29T21:25:05.485Z"
   },
   {
    "duration": 0,
    "start_time": "2022-03-29T21:25:05.487Z"
   },
   {
    "duration": 0,
    "start_time": "2022-03-29T21:25:05.489Z"
   },
   {
    "duration": 0,
    "start_time": "2022-03-29T21:25:05.490Z"
   },
   {
    "duration": 0,
    "start_time": "2022-03-29T21:25:05.491Z"
   },
   {
    "duration": 0,
    "start_time": "2022-03-29T21:25:05.493Z"
   },
   {
    "duration": 0,
    "start_time": "2022-03-29T21:25:05.495Z"
   },
   {
    "duration": 0,
    "start_time": "2022-03-29T21:25:05.496Z"
   },
   {
    "duration": 0,
    "start_time": "2022-03-29T21:25:05.498Z"
   },
   {
    "duration": 0,
    "start_time": "2022-03-29T21:25:05.500Z"
   },
   {
    "duration": 0,
    "start_time": "2022-03-29T21:25:05.501Z"
   },
   {
    "duration": 0,
    "start_time": "2022-03-29T21:25:05.503Z"
   },
   {
    "duration": 0,
    "start_time": "2022-03-29T21:25:05.505Z"
   },
   {
    "duration": 0,
    "start_time": "2022-03-29T21:25:05.506Z"
   },
   {
    "duration": 0,
    "start_time": "2022-03-29T21:25:05.508Z"
   },
   {
    "duration": 0,
    "start_time": "2022-03-29T21:25:05.510Z"
   },
   {
    "duration": 0,
    "start_time": "2022-03-29T21:25:05.511Z"
   },
   {
    "duration": 0,
    "start_time": "2022-03-29T21:25:05.512Z"
   },
   {
    "duration": 0,
    "start_time": "2022-03-29T21:25:05.513Z"
   },
   {
    "duration": 0,
    "start_time": "2022-03-29T21:25:05.515Z"
   },
   {
    "duration": 0,
    "start_time": "2022-03-29T21:25:05.516Z"
   },
   {
    "duration": 0,
    "start_time": "2022-03-29T21:25:05.517Z"
   },
   {
    "duration": 0,
    "start_time": "2022-03-29T21:25:05.519Z"
   },
   {
    "duration": 0,
    "start_time": "2022-03-29T21:25:05.584Z"
   },
   {
    "duration": 0,
    "start_time": "2022-03-29T21:25:05.586Z"
   },
   {
    "duration": 0,
    "start_time": "2022-03-29T21:25:05.587Z"
   },
   {
    "duration": 0,
    "start_time": "2022-03-29T21:25:05.589Z"
   },
   {
    "duration": 0,
    "start_time": "2022-03-29T21:25:05.590Z"
   },
   {
    "duration": 0,
    "start_time": "2022-03-29T21:25:05.591Z"
   },
   {
    "duration": 0,
    "start_time": "2022-03-29T21:25:05.593Z"
   },
   {
    "duration": 0,
    "start_time": "2022-03-29T21:25:05.594Z"
   },
   {
    "duration": 0,
    "start_time": "2022-03-29T21:25:05.596Z"
   },
   {
    "duration": 0,
    "start_time": "2022-03-29T21:25:05.597Z"
   },
   {
    "duration": 0,
    "start_time": "2022-03-29T21:25:05.598Z"
   },
   {
    "duration": 0,
    "start_time": "2022-03-29T21:25:05.600Z"
   },
   {
    "duration": 0,
    "start_time": "2022-03-29T21:25:05.601Z"
   },
   {
    "duration": 0,
    "start_time": "2022-03-29T21:25:05.603Z"
   },
   {
    "duration": 0,
    "start_time": "2022-03-29T21:25:05.604Z"
   },
   {
    "duration": 0,
    "start_time": "2022-03-29T21:25:05.605Z"
   },
   {
    "duration": 0,
    "start_time": "2022-03-29T21:25:05.607Z"
   },
   {
    "duration": 0,
    "start_time": "2022-03-29T21:25:05.608Z"
   },
   {
    "duration": 1,
    "start_time": "2022-03-29T21:25:05.609Z"
   },
   {
    "duration": 0,
    "start_time": "2022-03-29T21:25:05.611Z"
   },
   {
    "duration": 0,
    "start_time": "2022-03-29T21:25:05.612Z"
   },
   {
    "duration": 15,
    "start_time": "2022-03-29T21:26:22.573Z"
   },
   {
    "duration": 909,
    "start_time": "2022-03-29T21:26:22.862Z"
   },
   {
    "duration": 3952,
    "start_time": "2022-03-30T15:14:47.984Z"
   },
   {
    "duration": 4528,
    "start_time": "2022-03-30T15:15:03.745Z"
   },
   {
    "duration": 11049,
    "start_time": "2022-03-30T15:15:08.277Z"
   },
   {
    "duration": 1895,
    "start_time": "2022-03-30T15:15:19.328Z"
   },
   {
    "duration": 892,
    "start_time": "2022-03-30T15:15:21.227Z"
   },
   {
    "duration": 149,
    "start_time": "2022-03-30T15:15:22.121Z"
   },
   {
    "duration": 0,
    "start_time": "2022-03-30T15:15:22.276Z"
   },
   {
    "duration": 0,
    "start_time": "2022-03-30T15:15:22.278Z"
   },
   {
    "duration": 0,
    "start_time": "2022-03-30T15:15:22.279Z"
   },
   {
    "duration": 0,
    "start_time": "2022-03-30T15:15:22.281Z"
   },
   {
    "duration": 0,
    "start_time": "2022-03-30T15:15:22.282Z"
   },
   {
    "duration": 1,
    "start_time": "2022-03-30T15:15:22.285Z"
   },
   {
    "duration": 0,
    "start_time": "2022-03-30T15:15:22.288Z"
   },
   {
    "duration": 0,
    "start_time": "2022-03-30T15:15:22.290Z"
   },
   {
    "duration": 0,
    "start_time": "2022-03-30T15:15:22.292Z"
   },
   {
    "duration": 0,
    "start_time": "2022-03-30T15:15:22.294Z"
   },
   {
    "duration": 0,
    "start_time": "2022-03-30T15:15:22.296Z"
   },
   {
    "duration": 0,
    "start_time": "2022-03-30T15:15:22.298Z"
   },
   {
    "duration": 0,
    "start_time": "2022-03-30T15:15:22.299Z"
   },
   {
    "duration": 0,
    "start_time": "2022-03-30T15:15:22.301Z"
   },
   {
    "duration": 0,
    "start_time": "2022-03-30T15:15:22.302Z"
   },
   {
    "duration": 0,
    "start_time": "2022-03-30T15:15:22.304Z"
   },
   {
    "duration": 0,
    "start_time": "2022-03-30T15:15:22.306Z"
   },
   {
    "duration": 0,
    "start_time": "2022-03-30T15:15:22.307Z"
   },
   {
    "duration": 1,
    "start_time": "2022-03-30T15:15:22.309Z"
   },
   {
    "duration": 0,
    "start_time": "2022-03-30T15:15:22.311Z"
   },
   {
    "duration": 0,
    "start_time": "2022-03-30T15:15:22.312Z"
   },
   {
    "duration": 0,
    "start_time": "2022-03-30T15:15:22.313Z"
   },
   {
    "duration": 1,
    "start_time": "2022-03-30T15:15:22.313Z"
   },
   {
    "duration": 0,
    "start_time": "2022-03-30T15:15:22.367Z"
   },
   {
    "duration": 0,
    "start_time": "2022-03-30T15:15:22.369Z"
   },
   {
    "duration": 0,
    "start_time": "2022-03-30T15:15:22.371Z"
   },
   {
    "duration": 0,
    "start_time": "2022-03-30T15:15:22.372Z"
   },
   {
    "duration": 0,
    "start_time": "2022-03-30T15:15:22.374Z"
   },
   {
    "duration": 0,
    "start_time": "2022-03-30T15:15:22.375Z"
   },
   {
    "duration": 0,
    "start_time": "2022-03-30T15:15:22.377Z"
   },
   {
    "duration": 1,
    "start_time": "2022-03-30T15:15:22.378Z"
   },
   {
    "duration": 0,
    "start_time": "2022-03-30T15:15:22.380Z"
   },
   {
    "duration": 0,
    "start_time": "2022-03-30T15:15:22.382Z"
   },
   {
    "duration": 0,
    "start_time": "2022-03-30T15:15:22.384Z"
   },
   {
    "duration": 0,
    "start_time": "2022-03-30T15:15:22.385Z"
   },
   {
    "duration": 0,
    "start_time": "2022-03-30T15:15:22.387Z"
   },
   {
    "duration": 0,
    "start_time": "2022-03-30T15:15:22.388Z"
   },
   {
    "duration": 0,
    "start_time": "2022-03-30T15:15:22.390Z"
   },
   {
    "duration": 0,
    "start_time": "2022-03-30T15:15:22.391Z"
   },
   {
    "duration": 0,
    "start_time": "2022-03-30T15:15:22.393Z"
   },
   {
    "duration": 0,
    "start_time": "2022-03-30T15:15:22.394Z"
   },
   {
    "duration": 0,
    "start_time": "2022-03-30T15:15:22.396Z"
   },
   {
    "duration": 0,
    "start_time": "2022-03-30T15:15:22.399Z"
   },
   {
    "duration": 0,
    "start_time": "2022-03-30T15:15:22.401Z"
   },
   {
    "duration": 0,
    "start_time": "2022-03-30T15:15:22.403Z"
   },
   {
    "duration": 0,
    "start_time": "2022-03-30T15:15:22.468Z"
   },
   {
    "duration": 0,
    "start_time": "2022-03-30T15:15:22.469Z"
   },
   {
    "duration": 0,
    "start_time": "2022-03-30T15:15:22.471Z"
   },
   {
    "duration": 0,
    "start_time": "2022-03-30T15:15:22.473Z"
   },
   {
    "duration": 0,
    "start_time": "2022-03-30T15:15:22.475Z"
   },
   {
    "duration": 0,
    "start_time": "2022-03-30T15:15:22.476Z"
   },
   {
    "duration": 0,
    "start_time": "2022-03-30T15:15:22.478Z"
   },
   {
    "duration": 0,
    "start_time": "2022-03-30T15:15:22.483Z"
   },
   {
    "duration": 0,
    "start_time": "2022-03-30T15:15:22.484Z"
   },
   {
    "duration": 0,
    "start_time": "2022-03-30T15:15:22.486Z"
   },
   {
    "duration": 0,
    "start_time": "2022-03-30T15:15:22.488Z"
   },
   {
    "duration": 0,
    "start_time": "2022-03-30T15:15:22.489Z"
   },
   {
    "duration": 0,
    "start_time": "2022-03-30T15:15:22.491Z"
   },
   {
    "duration": 0,
    "start_time": "2022-03-30T15:15:22.493Z"
   },
   {
    "duration": 0,
    "start_time": "2022-03-30T15:15:22.495Z"
   },
   {
    "duration": 0,
    "start_time": "2022-03-30T15:15:22.497Z"
   },
   {
    "duration": 0,
    "start_time": "2022-03-30T15:15:22.499Z"
   },
   {
    "duration": 0,
    "start_time": "2022-03-30T15:15:22.500Z"
   },
   {
    "duration": 0,
    "start_time": "2022-03-30T15:15:22.502Z"
   },
   {
    "duration": 0,
    "start_time": "2022-03-30T15:15:22.504Z"
   },
   {
    "duration": 0,
    "start_time": "2022-03-30T15:15:22.505Z"
   },
   {
    "duration": 0,
    "start_time": "2022-03-30T15:15:22.568Z"
   },
   {
    "duration": 1,
    "start_time": "2022-03-30T15:15:22.570Z"
   },
   {
    "duration": 0,
    "start_time": "2022-03-30T15:15:22.572Z"
   },
   {
    "duration": 0,
    "start_time": "2022-03-30T15:15:22.574Z"
   },
   {
    "duration": 0,
    "start_time": "2022-03-30T15:15:22.576Z"
   },
   {
    "duration": 1,
    "start_time": "2022-03-30T15:15:22.577Z"
   },
   {
    "duration": 0,
    "start_time": "2022-03-30T15:15:22.579Z"
   },
   {
    "duration": 0,
    "start_time": "2022-03-30T15:15:22.581Z"
   },
   {
    "duration": 0,
    "start_time": "2022-03-30T15:15:22.583Z"
   },
   {
    "duration": 0,
    "start_time": "2022-03-30T15:15:22.585Z"
   },
   {
    "duration": 0,
    "start_time": "2022-03-30T15:15:22.587Z"
   },
   {
    "duration": 0,
    "start_time": "2022-03-30T15:15:22.589Z"
   },
   {
    "duration": 0,
    "start_time": "2022-03-30T15:15:22.590Z"
   },
   {
    "duration": 0,
    "start_time": "2022-03-30T15:15:22.592Z"
   },
   {
    "duration": 0,
    "start_time": "2022-03-30T15:15:22.594Z"
   },
   {
    "duration": 0,
    "start_time": "2022-03-30T15:15:22.596Z"
   },
   {
    "duration": 0,
    "start_time": "2022-03-30T15:15:22.597Z"
   },
   {
    "duration": 0,
    "start_time": "2022-03-30T15:15:22.599Z"
   },
   {
    "duration": 0,
    "start_time": "2022-03-30T15:15:22.601Z"
   },
   {
    "duration": 0,
    "start_time": "2022-03-30T15:15:22.603Z"
   },
   {
    "duration": 0,
    "start_time": "2022-03-30T15:15:22.668Z"
   },
   {
    "duration": 994,
    "start_time": "2022-03-30T15:15:53.383Z"
   },
   {
    "duration": 11,
    "start_time": "2022-03-30T15:15:55.810Z"
   },
   {
    "duration": 3729,
    "start_time": "2022-03-30T15:16:23.445Z"
   },
   {
    "duration": 4,
    "start_time": "2022-03-30T15:16:34.875Z"
   },
   {
    "duration": 774,
    "start_time": "2022-03-30T15:17:13.707Z"
   },
   {
    "duration": 19,
    "start_time": "2022-03-30T15:17:15.674Z"
   },
   {
    "duration": 3881,
    "start_time": "2022-03-30T15:17:24.331Z"
   },
   {
    "duration": 4274,
    "start_time": "2022-03-30T15:17:28.215Z"
   },
   {
    "duration": 1629,
    "start_time": "2022-03-30T15:17:32.491Z"
   },
   {
    "duration": 878,
    "start_time": "2022-03-30T15:17:34.122Z"
   },
   {
    "duration": 26,
    "start_time": "2022-03-30T15:17:35.005Z"
   },
   {
    "duration": 11,
    "start_time": "2022-03-30T15:17:35.033Z"
   },
   {
    "duration": 32,
    "start_time": "2022-03-30T15:17:35.047Z"
   },
   {
    "duration": 32,
    "start_time": "2022-03-30T15:17:35.083Z"
   },
   {
    "duration": 5,
    "start_time": "2022-03-30T15:17:35.118Z"
   },
   {
    "duration": 108,
    "start_time": "2022-03-30T15:17:35.125Z"
   },
   {
    "duration": 18,
    "start_time": "2022-03-30T15:17:35.236Z"
   },
   {
    "duration": 365,
    "start_time": "2022-03-30T15:17:35.269Z"
   },
   {
    "duration": 428,
    "start_time": "2022-03-30T15:17:35.636Z"
   },
   {
    "duration": 17,
    "start_time": "2022-03-30T15:17:36.072Z"
   },
   {
    "duration": 29,
    "start_time": "2022-03-30T15:17:36.092Z"
   },
   {
    "duration": 346,
    "start_time": "2022-03-30T15:17:36.124Z"
   },
   {
    "duration": 15,
    "start_time": "2022-03-30T15:17:36.472Z"
   },
   {
    "duration": 17,
    "start_time": "2022-03-30T15:17:36.490Z"
   },
   {
    "duration": 11,
    "start_time": "2022-03-30T15:17:36.509Z"
   },
   {
    "duration": 54,
    "start_time": "2022-03-30T15:17:36.523Z"
   },
   {
    "duration": 754,
    "start_time": "2022-03-30T15:17:36.579Z"
   },
   {
    "duration": 64,
    "start_time": "2022-03-30T15:17:37.335Z"
   },
   {
    "duration": 309,
    "start_time": "2022-03-30T15:17:37.401Z"
   },
   {
    "duration": 21,
    "start_time": "2022-03-30T15:17:37.713Z"
   },
   {
    "duration": 116,
    "start_time": "2022-03-30T15:17:37.736Z"
   },
   {
    "duration": 753,
    "start_time": "2022-03-30T15:17:37.854Z"
   },
   {
    "duration": 159,
    "start_time": "2022-03-30T15:17:38.609Z"
   },
   {
    "duration": 100,
    "start_time": "2022-03-30T15:17:38.771Z"
   },
   {
    "duration": 34,
    "start_time": "2022-03-30T15:17:38.874Z"
   },
   {
    "duration": 130,
    "start_time": "2022-03-30T15:17:38.911Z"
   },
   {
    "duration": 89,
    "start_time": "2022-03-30T15:17:39.044Z"
   },
   {
    "duration": 38,
    "start_time": "2022-03-30T15:17:39.136Z"
   },
   {
    "duration": 105,
    "start_time": "2022-03-30T15:17:39.177Z"
   },
   {
    "duration": 639,
    "start_time": "2022-03-30T15:17:39.284Z"
   },
   {
    "duration": 403,
    "start_time": "2022-03-30T15:17:39.925Z"
   },
   {
    "duration": 439,
    "start_time": "2022-03-30T15:17:40.331Z"
   },
   {
    "duration": 17,
    "start_time": "2022-03-30T15:17:40.773Z"
   },
   {
    "duration": 42,
    "start_time": "2022-03-30T15:17:40.793Z"
   },
   {
    "duration": 33,
    "start_time": "2022-03-30T15:17:40.837Z"
   },
   {
    "duration": 14,
    "start_time": "2022-03-30T15:17:40.872Z"
   },
   {
    "duration": 224,
    "start_time": "2022-03-30T15:17:40.894Z"
   },
   {
    "duration": 180,
    "start_time": "2022-03-30T15:17:41.121Z"
   },
   {
    "duration": 113,
    "start_time": "2022-03-30T15:17:41.303Z"
   },
   {
    "duration": 160,
    "start_time": "2022-03-30T15:17:41.419Z"
   },
   {
    "duration": 25,
    "start_time": "2022-03-30T15:17:41.582Z"
   },
   {
    "duration": 1675,
    "start_time": "2022-03-30T15:17:41.610Z"
   },
   {
    "duration": 45,
    "start_time": "2022-03-30T15:17:43.287Z"
   },
   {
    "duration": 441,
    "start_time": "2022-03-30T15:17:43.335Z"
   },
   {
    "duration": 189,
    "start_time": "2022-03-30T15:17:43.778Z"
   },
   {
    "duration": 4834,
    "start_time": "2022-03-30T15:17:43.970Z"
   },
   {
    "duration": 19,
    "start_time": "2022-03-30T15:17:48.807Z"
   },
   {
    "duration": 341,
    "start_time": "2022-03-30T15:17:48.829Z"
   },
   {
    "duration": 136,
    "start_time": "2022-03-30T15:17:49.173Z"
   },
   {
    "duration": 175,
    "start_time": "2022-03-30T15:17:49.311Z"
   },
   {
    "duration": 5,
    "start_time": "2022-03-30T15:17:49.489Z"
   },
   {
    "duration": 12,
    "start_time": "2022-03-30T15:17:49.496Z"
   },
   {
    "duration": 58,
    "start_time": "2022-03-30T15:17:49.510Z"
   },
   {
    "duration": 13,
    "start_time": "2022-03-30T15:17:49.570Z"
   },
   {
    "duration": 7,
    "start_time": "2022-03-30T15:17:49.585Z"
   },
   {
    "duration": 14,
    "start_time": "2022-03-30T15:17:49.594Z"
   },
   {
    "duration": 159,
    "start_time": "2022-03-30T15:17:49.610Z"
   },
   {
    "duration": 1135,
    "start_time": "2022-03-30T15:17:49.772Z"
   },
   {
    "duration": 75,
    "start_time": "2022-03-30T15:17:50.909Z"
   },
   {
    "duration": 50,
    "start_time": "2022-03-30T15:17:50.987Z"
   },
   {
    "duration": 1198,
    "start_time": "2022-03-30T15:17:51.039Z"
   },
   {
    "duration": 85,
    "start_time": "2022-03-30T15:17:52.240Z"
   },
   {
    "duration": 42,
    "start_time": "2022-03-30T15:17:52.329Z"
   },
   {
    "duration": 1380,
    "start_time": "2022-03-30T15:17:52.373Z"
   },
   {
    "duration": 25,
    "start_time": "2022-03-30T15:17:53.755Z"
   },
   {
    "duration": 9,
    "start_time": "2022-03-30T15:17:53.782Z"
   },
   {
    "duration": 31,
    "start_time": "2022-03-30T15:17:53.794Z"
   },
   {
    "duration": 83,
    "start_time": "2022-03-30T15:17:53.827Z"
   },
   {
    "duration": 5,
    "start_time": "2022-03-30T15:17:53.913Z"
   },
   {
    "duration": 32,
    "start_time": "2022-03-30T15:17:53.920Z"
   },
   {
    "duration": 243,
    "start_time": "2022-03-30T15:17:53.954Z"
   },
   {
    "duration": 16,
    "start_time": "2022-03-30T15:17:54.199Z"
   },
   {
    "duration": 82,
    "start_time": "2022-03-30T15:17:54.217Z"
   },
   {
    "duration": 19,
    "start_time": "2022-03-30T15:17:54.302Z"
   },
   {
    "duration": 92,
    "start_time": "2022-03-30T15:17:54.323Z"
   },
   {
    "duration": 96,
    "start_time": "2022-03-30T15:17:54.417Z"
   },
   {
    "duration": 604,
    "start_time": "2022-03-30T15:17:54.515Z"
   },
   {
    "duration": 598,
    "start_time": "2022-03-30T15:17:55.122Z"
   },
   {
    "duration": 17,
    "start_time": "2022-03-30T15:17:55.722Z"
   },
   {
    "duration": 111,
    "start_time": "2022-03-30T15:17:55.741Z"
   },
   {
    "duration": 29,
    "start_time": "2022-03-30T15:17:55.855Z"
   },
   {
    "duration": 133,
    "start_time": "2022-03-30T15:17:55.887Z"
   },
   {
    "duration": 24,
    "start_time": "2022-03-30T15:17:56.022Z"
   },
   {
    "duration": 39,
    "start_time": "2022-03-30T15:17:56.067Z"
   },
   {
    "duration": 1086,
    "start_time": "2022-03-30T15:17:56.109Z"
   },
   {
    "duration": 172,
    "start_time": "2022-03-30T15:17:57.197Z"
   },
   {
    "duration": 25,
    "start_time": "2022-03-30T15:17:57.371Z"
   },
   {
    "duration": 105,
    "start_time": "2022-03-30T15:17:57.399Z"
   },
   {
    "duration": 19,
    "start_time": "2022-03-31T12:34:47.857Z"
   },
   {
    "duration": 6,
    "start_time": "2022-03-31T12:35:29.348Z"
   },
   {
    "duration": 4835,
    "start_time": "2022-03-31T12:38:52.492Z"
   },
   {
    "duration": 9373,
    "start_time": "2022-03-31T12:38:57.330Z"
   },
   {
    "duration": 1591,
    "start_time": "2022-03-31T12:39:06.706Z"
   },
   {
    "duration": 930,
    "start_time": "2022-03-31T12:39:08.301Z"
   },
   {
    "duration": 17,
    "start_time": "2022-03-31T12:39:09.233Z"
   },
   {
    "duration": 17,
    "start_time": "2022-03-31T12:39:09.252Z"
   },
   {
    "duration": 46,
    "start_time": "2022-03-31T12:39:09.271Z"
   },
   {
    "duration": 50,
    "start_time": "2022-03-31T12:39:09.319Z"
   },
   {
    "duration": 6,
    "start_time": "2022-03-31T12:39:09.371Z"
   },
   {
    "duration": 98,
    "start_time": "2022-03-31T12:39:09.383Z"
   },
   {
    "duration": 17,
    "start_time": "2022-03-31T12:39:09.484Z"
   },
   {
    "duration": 464,
    "start_time": "2022-03-31T12:39:09.504Z"
   },
   {
    "duration": 697,
    "start_time": "2022-03-31T12:39:09.970Z"
   },
   {
    "duration": 32,
    "start_time": "2022-03-31T12:39:10.670Z"
   },
   {
    "duration": 23,
    "start_time": "2022-03-31T12:39:10.706Z"
   },
   {
    "duration": 222,
    "start_time": "2022-03-31T12:39:10.732Z"
   },
   {
    "duration": 15,
    "start_time": "2022-03-31T12:39:10.956Z"
   },
   {
    "duration": 24,
    "start_time": "2022-03-31T12:39:10.984Z"
   },
   {
    "duration": 12,
    "start_time": "2022-03-31T12:39:11.010Z"
   },
   {
    "duration": 19,
    "start_time": "2022-03-31T12:39:11.025Z"
   },
   {
    "duration": 811,
    "start_time": "2022-03-31T12:39:11.047Z"
   },
   {
    "duration": 77,
    "start_time": "2022-03-31T12:39:11.860Z"
   },
   {
    "duration": 315,
    "start_time": "2022-03-31T12:39:11.940Z"
   },
   {
    "duration": 33,
    "start_time": "2022-03-31T12:39:12.257Z"
   },
   {
    "duration": 103,
    "start_time": "2022-03-31T12:39:12.293Z"
   },
   {
    "duration": 621,
    "start_time": "2022-03-31T12:39:12.398Z"
   },
   {
    "duration": 177,
    "start_time": "2022-03-31T12:39:13.021Z"
   },
   {
    "duration": 119,
    "start_time": "2022-03-31T12:39:13.209Z"
   },
   {
    "duration": 57,
    "start_time": "2022-03-31T12:39:13.331Z"
   },
   {
    "duration": 111,
    "start_time": "2022-03-31T12:39:13.390Z"
   },
   {
    "duration": 97,
    "start_time": "2022-03-31T12:39:13.503Z"
   },
   {
    "duration": 28,
    "start_time": "2022-03-31T12:39:13.602Z"
   },
   {
    "duration": 115,
    "start_time": "2022-03-31T12:39:13.633Z"
   },
   {
    "duration": 734,
    "start_time": "2022-03-31T12:39:13.751Z"
   },
   {
    "duration": 427,
    "start_time": "2022-03-31T12:39:14.488Z"
   },
   {
    "duration": 438,
    "start_time": "2022-03-31T12:39:14.917Z"
   },
   {
    "duration": 27,
    "start_time": "2022-03-31T12:39:15.358Z"
   },
   {
    "duration": 42,
    "start_time": "2022-03-31T12:39:15.388Z"
   },
   {
    "duration": 5,
    "start_time": "2022-03-31T12:39:15.432Z"
   },
   {
    "duration": 42,
    "start_time": "2022-03-31T12:39:15.440Z"
   },
   {
    "duration": 221,
    "start_time": "2022-03-31T12:39:15.484Z"
   },
   {
    "duration": 176,
    "start_time": "2022-03-31T12:39:15.707Z"
   },
   {
    "duration": 122,
    "start_time": "2022-03-31T12:39:15.886Z"
   },
   {
    "duration": 175,
    "start_time": "2022-03-31T12:39:16.011Z"
   },
   {
    "duration": 27,
    "start_time": "2022-03-31T12:39:16.188Z"
   },
   {
    "duration": 1769,
    "start_time": "2022-03-31T12:39:16.217Z"
   },
   {
    "duration": 46,
    "start_time": "2022-03-31T12:39:17.989Z"
   },
   {
    "duration": 438,
    "start_time": "2022-03-31T12:39:18.038Z"
   },
   {
    "duration": 193,
    "start_time": "2022-03-31T12:39:18.483Z"
   },
   {
    "duration": 4763,
    "start_time": "2022-03-31T12:39:18.681Z"
   },
   {
    "duration": 43,
    "start_time": "2022-03-31T12:39:23.447Z"
   },
   {
    "duration": 295,
    "start_time": "2022-03-31T12:39:23.492Z"
   },
   {
    "duration": 136,
    "start_time": "2022-03-31T12:39:23.790Z"
   },
   {
    "duration": 112,
    "start_time": "2022-03-31T12:39:23.982Z"
   },
   {
    "duration": 5,
    "start_time": "2022-03-31T12:39:24.096Z"
   },
   {
    "duration": 11,
    "start_time": "2022-03-31T12:39:24.104Z"
   },
   {
    "duration": 7,
    "start_time": "2022-03-31T12:39:24.117Z"
   },
   {
    "duration": 8,
    "start_time": "2022-03-31T12:39:24.182Z"
   },
   {
    "duration": 7,
    "start_time": "2022-03-31T12:39:24.193Z"
   },
   {
    "duration": 18,
    "start_time": "2022-03-31T12:39:24.203Z"
   },
   {
    "duration": 181,
    "start_time": "2022-03-31T12:39:24.223Z"
   },
   {
    "duration": 1116,
    "start_time": "2022-03-31T12:39:24.407Z"
   },
   {
    "duration": 69,
    "start_time": "2022-03-31T12:39:25.525Z"
   },
   {
    "duration": 45,
    "start_time": "2022-03-31T12:39:25.596Z"
   },
   {
    "duration": 1043,
    "start_time": "2022-03-31T12:39:25.644Z"
   },
   {
    "duration": 71,
    "start_time": "2022-03-31T12:39:26.689Z"
   },
   {
    "duration": 23,
    "start_time": "2022-03-31T12:39:26.783Z"
   },
   {
    "duration": 1095,
    "start_time": "2022-03-31T12:39:26.808Z"
   },
   {
    "duration": 16,
    "start_time": "2022-03-31T12:39:27.905Z"
   },
   {
    "duration": 15,
    "start_time": "2022-03-31T12:39:27.924Z"
   },
   {
    "duration": 42,
    "start_time": "2022-03-31T12:39:27.942Z"
   },
   {
    "duration": 26,
    "start_time": "2022-03-31T12:39:27.987Z"
   },
   {
    "duration": 7,
    "start_time": "2022-03-31T12:39:28.016Z"
   },
   {
    "duration": 19,
    "start_time": "2022-03-31T12:39:28.026Z"
   },
   {
    "duration": 469,
    "start_time": "2022-03-31T12:39:28.048Z"
   },
   {
    "duration": 21,
    "start_time": "2022-03-31T12:39:28.520Z"
   },
   {
    "duration": 90,
    "start_time": "2022-03-31T12:39:28.543Z"
   },
   {
    "duration": 21,
    "start_time": "2022-03-31T12:39:28.635Z"
   },
   {
    "duration": 89,
    "start_time": "2022-03-31T12:39:28.659Z"
   },
   {
    "duration": 106,
    "start_time": "2022-03-31T12:39:28.750Z"
   },
   {
    "duration": 538,
    "start_time": "2022-03-31T12:39:28.858Z"
   },
   {
    "duration": 616,
    "start_time": "2022-03-31T12:39:29.404Z"
   },
   {
    "duration": 18,
    "start_time": "2022-03-31T12:39:30.023Z"
   },
   {
    "duration": 113,
    "start_time": "2022-03-31T12:39:30.043Z"
   },
   {
    "duration": 30,
    "start_time": "2022-03-31T12:39:30.159Z"
   },
   {
    "duration": 126,
    "start_time": "2022-03-31T12:39:30.192Z"
   },
   {
    "duration": 24,
    "start_time": "2022-03-31T12:39:30.321Z"
   },
   {
    "duration": 49,
    "start_time": "2022-03-31T12:39:30.348Z"
   },
   {
    "duration": 1086,
    "start_time": "2022-03-31T12:39:30.401Z"
   },
   {
    "duration": 172,
    "start_time": "2022-03-31T12:39:31.490Z"
   },
   {
    "duration": 37,
    "start_time": "2022-03-31T12:39:31.665Z"
   },
   {
    "duration": 97,
    "start_time": "2022-03-31T12:39:31.704Z"
   },
   {
    "duration": 70,
    "start_time": "2022-03-31T14:10:25.295Z"
   },
   {
    "duration": 63,
    "start_time": "2022-03-31T14:10:36.720Z"
   },
   {
    "duration": 64,
    "start_time": "2022-03-31T14:23:17.799Z"
   },
   {
    "duration": 65,
    "start_time": "2022-03-31T14:23:22.552Z"
   },
   {
    "duration": 40,
    "start_time": "2022-03-31T14:23:30.569Z"
   },
   {
    "duration": 8771,
    "start_time": "2022-03-31T15:20:17.208Z"
   },
   {
    "duration": 15196,
    "start_time": "2022-03-31T15:20:25.982Z"
   },
   {
    "duration": 1817,
    "start_time": "2022-03-31T15:20:41.180Z"
   },
   {
    "duration": 849,
    "start_time": "2022-03-31T15:20:43.000Z"
   },
   {
    "duration": 17,
    "start_time": "2022-03-31T15:20:43.852Z"
   },
   {
    "duration": 13,
    "start_time": "2022-03-31T15:20:43.871Z"
   },
   {
    "duration": 12,
    "start_time": "2022-03-31T15:20:43.886Z"
   },
   {
    "duration": 64,
    "start_time": "2022-03-31T15:20:43.900Z"
   },
   {
    "duration": 5,
    "start_time": "2022-03-31T15:20:43.967Z"
   },
   {
    "duration": 90,
    "start_time": "2022-03-31T15:20:43.976Z"
   },
   {
    "duration": 17,
    "start_time": "2022-03-31T15:20:44.068Z"
   },
   {
    "duration": 351,
    "start_time": "2022-03-31T15:20:44.088Z"
   },
   {
    "duration": 402,
    "start_time": "2022-03-31T15:20:44.443Z"
   },
   {
    "duration": 16,
    "start_time": "2022-03-31T15:20:44.847Z"
   },
   {
    "duration": 15,
    "start_time": "2022-03-31T15:20:44.865Z"
   },
   {
    "duration": 208,
    "start_time": "2022-03-31T15:20:44.882Z"
   },
   {
    "duration": 15,
    "start_time": "2022-03-31T15:20:45.092Z"
   },
   {
    "duration": 35,
    "start_time": "2022-03-31T15:20:45.110Z"
   },
   {
    "duration": 8,
    "start_time": "2022-03-31T15:20:45.147Z"
   },
   {
    "duration": 16,
    "start_time": "2022-03-31T15:20:45.157Z"
   },
   {
    "duration": 700,
    "start_time": "2022-03-31T15:20:45.175Z"
   },
   {
    "duration": 69,
    "start_time": "2022-03-31T15:20:45.877Z"
   },
   {
    "duration": 276,
    "start_time": "2022-03-31T15:20:45.948Z"
   },
   {
    "duration": 24,
    "start_time": "2022-03-31T15:20:46.226Z"
   },
   {
    "duration": 94,
    "start_time": "2022-03-31T15:20:46.252Z"
   },
   {
    "duration": 540,
    "start_time": "2022-03-31T15:20:46.349Z"
   },
   {
    "duration": 95,
    "start_time": "2022-03-31T15:20:46.891Z"
   },
   {
    "duration": 69,
    "start_time": "2022-03-31T15:20:47.045Z"
   },
   {
    "duration": 52,
    "start_time": "2022-03-31T15:20:47.116Z"
   },
   {
    "duration": 109,
    "start_time": "2022-03-31T15:20:47.170Z"
   },
   {
    "duration": 91,
    "start_time": "2022-03-31T15:20:47.282Z"
   },
   {
    "duration": 25,
    "start_time": "2022-03-31T15:20:47.375Z"
   },
   {
    "duration": 105,
    "start_time": "2022-03-31T15:20:47.402Z"
   },
   {
    "duration": 634,
    "start_time": "2022-03-31T15:20:47.509Z"
   },
   {
    "duration": 408,
    "start_time": "2022-03-31T15:20:48.145Z"
   },
   {
    "duration": 442,
    "start_time": "2022-03-31T15:20:48.555Z"
   },
   {
    "duration": 15,
    "start_time": "2022-03-31T15:20:49.000Z"
   },
   {
    "duration": 60,
    "start_time": "2022-03-31T15:20:49.017Z"
   },
   {
    "duration": 4,
    "start_time": "2022-03-31T15:20:49.080Z"
   },
   {
    "duration": 20,
    "start_time": "2022-03-31T15:20:49.086Z"
   },
   {
    "duration": 210,
    "start_time": "2022-03-31T15:20:49.108Z"
   },
   {
    "duration": 182,
    "start_time": "2022-03-31T15:20:49.320Z"
   },
   {
    "duration": 120,
    "start_time": "2022-03-31T15:20:49.504Z"
   },
   {
    "duration": 151,
    "start_time": "2022-03-31T15:20:49.626Z"
   },
   {
    "duration": 25,
    "start_time": "2022-03-31T15:20:49.779Z"
   },
   {
    "duration": 1667,
    "start_time": "2022-03-31T15:20:49.806Z"
   },
   {
    "duration": 43,
    "start_time": "2022-03-31T15:20:51.475Z"
   },
   {
    "duration": 525,
    "start_time": "2022-03-31T15:20:51.520Z"
   },
   {
    "duration": 174,
    "start_time": "2022-03-31T15:20:52.047Z"
   },
   {
    "duration": 5020,
    "start_time": "2022-03-31T15:20:52.223Z"
   },
   {
    "duration": 19,
    "start_time": "2022-03-31T15:20:57.247Z"
   },
   {
    "duration": 197,
    "start_time": "2022-03-31T15:20:57.270Z"
   },
   {
    "duration": 104,
    "start_time": "2022-03-31T15:20:57.469Z"
   },
   {
    "duration": 93,
    "start_time": "2022-03-31T15:20:57.575Z"
   },
   {
    "duration": 4,
    "start_time": "2022-03-31T15:20:57.670Z"
   },
   {
    "duration": 8,
    "start_time": "2022-03-31T15:20:57.676Z"
   },
   {
    "duration": 60,
    "start_time": "2022-03-31T15:20:57.686Z"
   },
   {
    "duration": 9,
    "start_time": "2022-03-31T15:20:57.748Z"
   },
   {
    "duration": 6,
    "start_time": "2022-03-31T15:20:57.759Z"
   },
   {
    "duration": 16,
    "start_time": "2022-03-31T15:20:57.767Z"
   },
   {
    "duration": 98,
    "start_time": "2022-03-31T15:20:57.785Z"
   },
   {
    "duration": 1063,
    "start_time": "2022-03-31T15:20:57.886Z"
   },
   {
    "duration": 56,
    "start_time": "2022-03-31T15:20:58.951Z"
   },
   {
    "duration": 67,
    "start_time": "2022-03-31T15:20:59.009Z"
   },
   {
    "duration": 1034,
    "start_time": "2022-03-31T15:20:59.078Z"
   },
   {
    "duration": 80,
    "start_time": "2022-03-31T15:21:00.114Z"
   },
   {
    "duration": 22,
    "start_time": "2022-03-31T15:21:00.196Z"
   },
   {
    "duration": 1026,
    "start_time": "2022-03-31T15:21:00.220Z"
   },
   {
    "duration": 17,
    "start_time": "2022-03-31T15:21:01.248Z"
   },
   {
    "duration": 18,
    "start_time": "2022-03-31T15:21:01.267Z"
   },
   {
    "duration": 25,
    "start_time": "2022-03-31T15:21:01.287Z"
   },
   {
    "duration": 35,
    "start_time": "2022-03-31T15:21:01.315Z"
   },
   {
    "duration": 5,
    "start_time": "2022-03-31T15:21:01.352Z"
   },
   {
    "duration": 24,
    "start_time": "2022-03-31T15:21:01.359Z"
   },
   {
    "duration": 256,
    "start_time": "2022-03-31T15:21:01.386Z"
   },
   {
    "duration": 17,
    "start_time": "2022-03-31T15:21:01.644Z"
   },
   {
    "duration": 81,
    "start_time": "2022-03-31T15:21:01.663Z"
   },
   {
    "duration": 20,
    "start_time": "2022-03-31T15:21:01.746Z"
   },
   {
    "duration": 89,
    "start_time": "2022-03-31T15:21:01.768Z"
   },
   {
    "duration": 97,
    "start_time": "2022-03-31T15:21:01.859Z"
   },
   {
    "duration": 498,
    "start_time": "2022-03-31T15:21:01.958Z"
   },
   {
    "duration": 574,
    "start_time": "2022-03-31T15:21:02.464Z"
   },
   {
    "duration": 16,
    "start_time": "2022-03-31T15:21:03.042Z"
   },
   {
    "duration": 106,
    "start_time": "2022-03-31T15:21:03.060Z"
   },
   {
    "duration": 21,
    "start_time": "2022-03-31T15:21:03.168Z"
   },
   {
    "duration": 138,
    "start_time": "2022-03-31T15:21:03.191Z"
   },
   {
    "duration": 24,
    "start_time": "2022-03-31T15:21:03.343Z"
   },
   {
    "duration": 25,
    "start_time": "2022-03-31T15:21:03.369Z"
   },
   {
    "duration": 1043,
    "start_time": "2022-03-31T15:21:03.396Z"
   },
   {
    "duration": 167,
    "start_time": "2022-03-31T15:21:04.441Z"
   },
   {
    "duration": 42,
    "start_time": "2022-03-31T15:21:04.610Z"
   },
   {
    "duration": 76,
    "start_time": "2022-03-31T15:21:04.654Z"
   },
   {
    "duration": 4,
    "start_time": "2022-03-31T15:24:36.927Z"
   },
   {
    "duration": 127,
    "start_time": "2022-03-31T15:24:38.011Z"
   },
   {
    "duration": 26,
    "start_time": "2022-03-31T15:24:43.730Z"
   },
   {
    "duration": 4,
    "start_time": "2022-03-31T15:25:09.867Z"
   },
   {
    "duration": 935,
    "start_time": "2022-03-31T15:25:10.592Z"
   },
   {
    "duration": 13,
    "start_time": "2022-03-31T15:25:11.957Z"
   },
   {
    "duration": 12,
    "start_time": "2022-03-31T15:25:15.137Z"
   },
   {
    "duration": 11,
    "start_time": "2022-03-31T15:25:17.136Z"
   },
   {
    "duration": 20,
    "start_time": "2022-03-31T15:25:22.821Z"
   },
   {
    "duration": 6,
    "start_time": "2022-03-31T15:25:24.271Z"
   },
   {
    "duration": 77,
    "start_time": "2022-03-31T15:25:26.020Z"
   },
   {
    "duration": 19,
    "start_time": "2022-03-31T15:25:30.064Z"
   },
   {
    "duration": 3,
    "start_time": "2022-03-31T15:25:35.270Z"
   },
   {
    "duration": 136,
    "start_time": "2022-03-31T15:25:35.827Z"
   },
   {
    "duration": 13,
    "start_time": "2022-03-31T15:25:42.132Z"
   },
   {
    "duration": 13,
    "start_time": "2022-03-31T15:25:47.108Z"
   },
   {
    "duration": 72,
    "start_time": "2022-03-31T15:25:52.182Z"
   },
   {
    "duration": 16,
    "start_time": "2022-03-31T15:25:55.026Z"
   },
   {
    "duration": 16,
    "start_time": "2022-03-31T15:25:57.631Z"
   },
   {
    "duration": 7,
    "start_time": "2022-03-31T15:25:59.659Z"
   },
   {
    "duration": 15,
    "start_time": "2022-03-31T15:26:01.833Z"
   },
   {
    "duration": 3931,
    "start_time": "2022-03-31T15:26:08.848Z"
   },
   {
    "duration": 0,
    "start_time": "2022-03-31T15:26:12.782Z"
   },
   {
    "duration": 12,
    "start_time": "2022-03-31T15:27:18.146Z"
   },
   {
    "duration": 3680,
    "start_time": "2022-03-31T15:27:33.887Z"
   },
   {
    "duration": 39,
    "start_time": "2022-03-31T15:27:51.989Z"
   },
   {
    "duration": 34,
    "start_time": "2022-03-31T15:27:55.022Z"
   },
   {
    "duration": 135,
    "start_time": "2022-03-31T15:28:27.568Z"
   },
   {
    "duration": 17,
    "start_time": "2022-03-31T15:28:30.818Z"
   },
   {
    "duration": 13,
    "start_time": "2022-03-31T15:28:48.384Z"
   },
   {
    "duration": 17,
    "start_time": "2022-03-31T15:29:08.260Z"
   },
   {
    "duration": 115,
    "start_time": "2022-03-31T15:29:14.886Z"
   },
   {
    "duration": 92,
    "start_time": "2022-03-31T15:29:18.452Z"
   },
   {
    "duration": 105,
    "start_time": "2022-03-31T15:29:24.709Z"
   },
   {
    "duration": 109,
    "start_time": "2022-03-31T15:29:28.814Z"
   },
   {
    "duration": 28,
    "start_time": "2022-03-31T15:29:36.491Z"
   },
   {
    "duration": 113,
    "start_time": "2022-03-31T15:29:43.530Z"
   },
   {
    "duration": 102,
    "start_time": "2022-03-31T15:29:50.373Z"
   },
   {
    "duration": 26,
    "start_time": "2022-03-31T15:29:53.324Z"
   },
   {
    "duration": 101,
    "start_time": "2022-03-31T15:29:58.716Z"
   },
   {
    "duration": 440,
    "start_time": "2022-03-31T15:30:04.285Z"
   },
   {
    "duration": 378,
    "start_time": "2022-03-31T15:30:10.223Z"
   },
   {
    "duration": 374,
    "start_time": "2022-03-31T15:30:14.604Z"
   },
   {
    "duration": 9,
    "start_time": "2022-03-31T15:30:26.971Z"
   },
   {
    "duration": 382,
    "start_time": "2022-03-31T15:31:07.982Z"
   },
   {
    "duration": 384,
    "start_time": "2022-03-31T15:31:10.997Z"
   },
   {
    "duration": 10,
    "start_time": "2022-03-31T15:31:14.642Z"
   },
   {
    "duration": 112,
    "start_time": "2022-03-31T15:31:19.077Z"
   },
   {
    "duration": 5,
    "start_time": "2022-03-31T15:31:20.816Z"
   },
   {
    "duration": 15,
    "start_time": "2022-03-31T15:31:21.916Z"
   },
   {
    "duration": 198,
    "start_time": "2022-03-31T15:31:30.546Z"
   },
   {
    "duration": 162,
    "start_time": "2022-03-31T15:31:47.375Z"
   },
   {
    "duration": 50,
    "start_time": "2022-03-31T15:31:51.825Z"
   },
   {
    "duration": 135,
    "start_time": "2022-03-31T15:31:52.309Z"
   },
   {
    "duration": 25,
    "start_time": "2022-03-31T15:31:55.086Z"
   },
   {
    "duration": 1675,
    "start_time": "2022-03-31T15:31:57.348Z"
   },
   {
    "duration": 13,
    "start_time": "2022-03-31T15:32:44.571Z"
   },
   {
    "duration": 24,
    "start_time": "2022-03-31T15:33:54.740Z"
   },
   {
    "duration": 31,
    "start_time": "2022-03-31T15:34:31.350Z"
   },
   {
    "duration": 6583,
    "start_time": "2022-03-31T15:35:26.113Z"
   },
   {
    "duration": 0,
    "start_time": "2022-03-31T15:35:32.698Z"
   },
   {
    "duration": 31,
    "start_time": "2022-03-31T15:36:09.677Z"
   },
   {
    "duration": 429,
    "start_time": "2022-03-31T15:36:16.234Z"
   },
   {
    "duration": 6,
    "start_time": "2022-03-31T15:38:04.671Z"
   },
   {
    "duration": 97,
    "start_time": "2022-03-31T15:40:13.585Z"
   },
   {
    "duration": 331,
    "start_time": "2022-03-31T17:34:44.681Z"
   },
   {
    "duration": 34,
    "start_time": "2022-03-31T17:36:11.170Z"
   },
   {
    "duration": 4424,
    "start_time": "2022-03-31T17:36:13.479Z"
   },
   {
    "duration": 0,
    "start_time": "2022-03-31T17:36:17.905Z"
   },
   {
    "duration": 3467,
    "start_time": "2022-03-31T17:36:41.026Z"
   },
   {
    "duration": 3720,
    "start_time": "2022-03-31T17:36:44.496Z"
   },
   {
    "duration": 1630,
    "start_time": "2022-03-31T17:36:48.219Z"
   },
   {
    "duration": 897,
    "start_time": "2022-03-31T17:36:49.852Z"
   },
   {
    "duration": 17,
    "start_time": "2022-03-31T17:36:50.751Z"
   },
   {
    "duration": 15,
    "start_time": "2022-03-31T17:36:50.770Z"
   },
   {
    "duration": 11,
    "start_time": "2022-03-31T17:36:50.787Z"
   },
   {
    "duration": 59,
    "start_time": "2022-03-31T17:36:50.800Z"
   },
   {
    "duration": 5,
    "start_time": "2022-03-31T17:36:50.862Z"
   },
   {
    "duration": 94,
    "start_time": "2022-03-31T17:36:50.873Z"
   },
   {
    "duration": 18,
    "start_time": "2022-03-31T17:36:50.970Z"
   },
   {
    "duration": 3,
    "start_time": "2022-03-31T17:36:50.991Z"
   },
   {
    "duration": 223,
    "start_time": "2022-03-31T17:36:50.997Z"
   },
   {
    "duration": 14,
    "start_time": "2022-03-31T17:36:51.223Z"
   },
   {
    "duration": 18,
    "start_time": "2022-03-31T17:36:51.243Z"
   },
   {
    "duration": 119,
    "start_time": "2022-03-31T17:36:51.264Z"
   },
   {
    "duration": 14,
    "start_time": "2022-03-31T17:36:51.385Z"
   },
   {
    "duration": 25,
    "start_time": "2022-03-31T17:36:51.401Z"
   },
   {
    "duration": 15,
    "start_time": "2022-03-31T17:36:51.428Z"
   },
   {
    "duration": 26,
    "start_time": "2022-03-31T17:36:51.445Z"
   },
   {
    "duration": 20,
    "start_time": "2022-03-31T17:36:51.473Z"
   },
   {
    "duration": 256,
    "start_time": "2022-03-31T17:36:51.495Z"
   },
   {
    "duration": 35,
    "start_time": "2022-03-31T17:36:51.754Z"
   },
   {
    "duration": 161,
    "start_time": "2022-03-31T17:36:51.791Z"
   },
   {
    "duration": 12,
    "start_time": "2022-03-31T17:36:51.954Z"
   },
   {
    "duration": 22,
    "start_time": "2022-03-31T17:36:51.968Z"
   },
   {
    "duration": 145,
    "start_time": "2022-03-31T17:36:51.993Z"
   },
   {
    "duration": 712,
    "start_time": "2022-03-31T17:36:52.147Z"
   },
   {
    "duration": 232,
    "start_time": "2022-03-31T17:36:52.861Z"
   },
   {
    "duration": 126,
    "start_time": "2022-03-31T17:36:53.095Z"
   },
   {
    "duration": 33,
    "start_time": "2022-03-31T17:36:53.223Z"
   },
   {
    "duration": 135,
    "start_time": "2022-03-31T17:36:53.259Z"
   },
   {
    "duration": 129,
    "start_time": "2022-03-31T17:36:53.397Z"
   },
   {
    "duration": 29,
    "start_time": "2022-03-31T17:36:53.528Z"
   },
   {
    "duration": 132,
    "start_time": "2022-03-31T17:36:53.559Z"
   },
   {
    "duration": 664,
    "start_time": "2022-03-31T17:36:53.693Z"
   },
   {
    "duration": 389,
    "start_time": "2022-03-31T17:36:54.359Z"
   },
   {
    "duration": 424,
    "start_time": "2022-03-31T17:36:54.750Z"
   },
   {
    "duration": 12,
    "start_time": "2022-03-31T17:36:55.176Z"
   },
   {
    "duration": 129,
    "start_time": "2022-03-31T17:36:55.190Z"
   },
   {
    "duration": 4,
    "start_time": "2022-03-31T17:36:55.322Z"
   },
   {
    "duration": 21,
    "start_time": "2022-03-31T17:36:55.328Z"
   },
   {
    "duration": 236,
    "start_time": "2022-03-31T17:36:55.351Z"
   },
   {
    "duration": 124,
    "start_time": "2022-03-31T17:36:55.590Z"
   },
   {
    "duration": 62,
    "start_time": "2022-03-31T17:36:55.717Z"
   },
   {
    "duration": 144,
    "start_time": "2022-03-31T17:36:55.782Z"
   },
   {
    "duration": 34,
    "start_time": "2022-03-31T17:36:55.928Z"
   },
   {
    "duration": 1642,
    "start_time": "2022-03-31T17:36:55.964Z"
   },
   {
    "duration": 13,
    "start_time": "2022-03-31T17:36:57.609Z"
   },
   {
    "duration": 26,
    "start_time": "2022-03-31T17:36:57.642Z"
   },
   {
    "duration": 32,
    "start_time": "2022-03-31T17:36:57.671Z"
   },
   {
    "duration": 311,
    "start_time": "2022-03-31T17:36:57.705Z"
   },
   {
    "duration": 0,
    "start_time": "2022-03-31T17:36:58.019Z"
   },
   {
    "duration": 0,
    "start_time": "2022-03-31T17:36:58.020Z"
   },
   {
    "duration": 0,
    "start_time": "2022-03-31T17:36:58.022Z"
   },
   {
    "duration": 0,
    "start_time": "2022-03-31T17:36:58.043Z"
   },
   {
    "duration": 0,
    "start_time": "2022-03-31T17:36:58.045Z"
   },
   {
    "duration": 0,
    "start_time": "2022-03-31T17:36:58.047Z"
   },
   {
    "duration": 0,
    "start_time": "2022-03-31T17:36:58.048Z"
   },
   {
    "duration": 0,
    "start_time": "2022-03-31T17:36:58.050Z"
   },
   {
    "duration": 0,
    "start_time": "2022-03-31T17:36:58.052Z"
   },
   {
    "duration": 0,
    "start_time": "2022-03-31T17:36:58.054Z"
   },
   {
    "duration": 0,
    "start_time": "2022-03-31T17:36:58.055Z"
   },
   {
    "duration": 0,
    "start_time": "2022-03-31T17:36:58.057Z"
   },
   {
    "duration": 0,
    "start_time": "2022-03-31T17:36:58.058Z"
   },
   {
    "duration": 0,
    "start_time": "2022-03-31T17:36:58.060Z"
   },
   {
    "duration": 0,
    "start_time": "2022-03-31T17:36:58.061Z"
   },
   {
    "duration": 0,
    "start_time": "2022-03-31T17:36:58.063Z"
   },
   {
    "duration": 0,
    "start_time": "2022-03-31T17:36:58.064Z"
   },
   {
    "duration": 0,
    "start_time": "2022-03-31T17:36:58.066Z"
   },
   {
    "duration": 0,
    "start_time": "2022-03-31T17:36:58.067Z"
   },
   {
    "duration": 0,
    "start_time": "2022-03-31T17:36:58.070Z"
   },
   {
    "duration": 0,
    "start_time": "2022-03-31T17:36:58.071Z"
   },
   {
    "duration": 0,
    "start_time": "2022-03-31T17:36:58.073Z"
   },
   {
    "duration": 0,
    "start_time": "2022-03-31T17:36:58.075Z"
   },
   {
    "duration": 0,
    "start_time": "2022-03-31T17:36:58.076Z"
   },
   {
    "duration": 0,
    "start_time": "2022-03-31T17:36:58.078Z"
   },
   {
    "duration": 0,
    "start_time": "2022-03-31T17:36:58.142Z"
   },
   {
    "duration": 0,
    "start_time": "2022-03-31T17:36:58.144Z"
   },
   {
    "duration": 0,
    "start_time": "2022-03-31T17:36:58.146Z"
   },
   {
    "duration": 0,
    "start_time": "2022-03-31T17:36:58.147Z"
   },
   {
    "duration": 0,
    "start_time": "2022-03-31T17:36:58.149Z"
   },
   {
    "duration": 0,
    "start_time": "2022-03-31T17:36:58.150Z"
   },
   {
    "duration": 0,
    "start_time": "2022-03-31T17:36:58.152Z"
   },
   {
    "duration": 0,
    "start_time": "2022-03-31T17:36:58.154Z"
   },
   {
    "duration": 0,
    "start_time": "2022-03-31T17:36:58.155Z"
   },
   {
    "duration": 0,
    "start_time": "2022-03-31T17:36:58.157Z"
   },
   {
    "duration": 0,
    "start_time": "2022-03-31T17:36:58.158Z"
   },
   {
    "duration": 0,
    "start_time": "2022-03-31T17:36:58.160Z"
   },
   {
    "duration": 0,
    "start_time": "2022-03-31T17:36:58.162Z"
   },
   {
    "duration": 0,
    "start_time": "2022-03-31T17:36:58.164Z"
   },
   {
    "duration": 0,
    "start_time": "2022-03-31T17:36:58.165Z"
   },
   {
    "duration": 0,
    "start_time": "2022-03-31T17:36:58.166Z"
   },
   {
    "duration": 0,
    "start_time": "2022-03-31T17:36:58.169Z"
   },
   {
    "duration": 0,
    "start_time": "2022-03-31T17:36:58.170Z"
   },
   {
    "duration": 6,
    "start_time": "2022-03-31T17:39:50.174Z"
   },
   {
    "duration": 5,
    "start_time": "2022-03-31T17:39:59.400Z"
   },
   {
    "duration": 23,
    "start_time": "2022-03-31T17:40:16.459Z"
   },
   {
    "duration": 4249,
    "start_time": "2022-03-31T17:40:55.861Z"
   },
   {
    "duration": 13,
    "start_time": "2022-03-31T17:41:35.402Z"
   },
   {
    "duration": 1673,
    "start_time": "2022-03-31T17:41:43.818Z"
   },
   {
    "duration": 14,
    "start_time": "2022-03-31T17:41:45.495Z"
   },
   {
    "duration": 3398,
    "start_time": "2022-03-31T17:42:03.925Z"
   },
   {
    "duration": 3492,
    "start_time": "2022-03-31T17:42:07.326Z"
   },
   {
    "duration": 1613,
    "start_time": "2022-03-31T17:42:10.820Z"
   },
   {
    "duration": 848,
    "start_time": "2022-03-31T17:42:12.436Z"
   },
   {
    "duration": 16,
    "start_time": "2022-03-31T17:42:13.288Z"
   },
   {
    "duration": 11,
    "start_time": "2022-03-31T17:42:13.306Z"
   },
   {
    "duration": 20,
    "start_time": "2022-03-31T17:42:13.318Z"
   },
   {
    "duration": 36,
    "start_time": "2022-03-31T17:42:13.340Z"
   },
   {
    "duration": 5,
    "start_time": "2022-03-31T17:42:13.378Z"
   },
   {
    "duration": 88,
    "start_time": "2022-03-31T17:42:13.386Z"
   },
   {
    "duration": 16,
    "start_time": "2022-03-31T17:42:13.476Z"
   },
   {
    "duration": 5,
    "start_time": "2022-03-31T17:42:13.494Z"
   },
   {
    "duration": 215,
    "start_time": "2022-03-31T17:42:13.501Z"
   },
   {
    "duration": 12,
    "start_time": "2022-03-31T17:42:13.721Z"
   },
   {
    "duration": 17,
    "start_time": "2022-03-31T17:42:13.735Z"
   },
   {
    "duration": 89,
    "start_time": "2022-03-31T17:42:13.755Z"
   },
   {
    "duration": 14,
    "start_time": "2022-03-31T17:42:13.846Z"
   },
   {
    "duration": 17,
    "start_time": "2022-03-31T17:42:13.863Z"
   },
   {
    "duration": 7,
    "start_time": "2022-03-31T17:42:13.883Z"
   },
   {
    "duration": 53,
    "start_time": "2022-03-31T17:42:13.892Z"
   },
   {
    "duration": 11,
    "start_time": "2022-03-31T17:42:13.948Z"
   },
   {
    "duration": 252,
    "start_time": "2022-03-31T17:42:13.962Z"
   },
   {
    "duration": 44,
    "start_time": "2022-03-31T17:42:14.216Z"
   },
   {
    "duration": 165,
    "start_time": "2022-03-31T17:42:14.263Z"
   },
   {
    "duration": 17,
    "start_time": "2022-03-31T17:42:14.430Z"
   },
   {
    "duration": 18,
    "start_time": "2022-03-31T17:42:14.450Z"
   },
   {
    "duration": 157,
    "start_time": "2022-03-31T17:42:14.470Z"
   },
   {
    "duration": 551,
    "start_time": "2022-03-31T17:42:14.630Z"
   },
   {
    "duration": 272,
    "start_time": "2022-03-31T17:42:15.183Z"
   },
   {
    "duration": 120,
    "start_time": "2022-03-31T17:42:15.457Z"
   },
   {
    "duration": 28,
    "start_time": "2022-03-31T17:42:15.579Z"
   },
   {
    "duration": 145,
    "start_time": "2022-03-31T17:42:15.609Z"
   },
   {
    "duration": 120,
    "start_time": "2022-03-31T17:42:15.756Z"
   },
   {
    "duration": 27,
    "start_time": "2022-03-31T17:42:15.879Z"
   },
   {
    "duration": 140,
    "start_time": "2022-03-31T17:42:15.909Z"
   },
   {
    "duration": 676,
    "start_time": "2022-03-31T17:42:16.051Z"
   },
   {
    "duration": 370,
    "start_time": "2022-03-31T17:42:16.729Z"
   },
   {
    "duration": 379,
    "start_time": "2022-03-31T17:42:17.101Z"
   },
   {
    "duration": 11,
    "start_time": "2022-03-31T17:42:17.483Z"
   },
   {
    "duration": 118,
    "start_time": "2022-03-31T17:42:17.496Z"
   },
   {
    "duration": 4,
    "start_time": "2022-03-31T17:42:17.623Z"
   },
   {
    "duration": 9,
    "start_time": "2022-03-31T17:42:17.642Z"
   },
   {
    "duration": 203,
    "start_time": "2022-03-31T17:42:17.654Z"
   },
   {
    "duration": 112,
    "start_time": "2022-03-31T17:42:17.859Z"
   },
   {
    "duration": 50,
    "start_time": "2022-03-31T17:42:17.973Z"
   },
   {
    "duration": 143,
    "start_time": "2022-03-31T17:42:18.025Z"
   },
   {
    "duration": 24,
    "start_time": "2022-03-31T17:42:18.170Z"
   },
   {
    "duration": 1615,
    "start_time": "2022-03-31T17:42:18.197Z"
   },
   {
    "duration": 12,
    "start_time": "2022-03-31T17:42:19.815Z"
   },
   {
    "duration": 34,
    "start_time": "2022-03-31T17:42:19.830Z"
   },
   {
    "duration": 29,
    "start_time": "2022-03-31T17:42:19.867Z"
   },
   {
    "duration": 5602,
    "start_time": "2022-03-31T17:42:19.899Z"
   },
   {
    "duration": 0,
    "start_time": "2022-03-31T17:42:25.504Z"
   },
   {
    "duration": 0,
    "start_time": "2022-03-31T17:42:25.506Z"
   },
   {
    "duration": 0,
    "start_time": "2022-03-31T17:42:25.507Z"
   },
   {
    "duration": 0,
    "start_time": "2022-03-31T17:42:25.510Z"
   },
   {
    "duration": 0,
    "start_time": "2022-03-31T17:42:25.512Z"
   },
   {
    "duration": 0,
    "start_time": "2022-03-31T17:42:25.514Z"
   },
   {
    "duration": 0,
    "start_time": "2022-03-31T17:42:25.516Z"
   },
   {
    "duration": 1,
    "start_time": "2022-03-31T17:42:25.518Z"
   },
   {
    "duration": 0,
    "start_time": "2022-03-31T17:42:25.521Z"
   },
   {
    "duration": 0,
    "start_time": "2022-03-31T17:42:25.523Z"
   },
   {
    "duration": 0,
    "start_time": "2022-03-31T17:42:25.525Z"
   },
   {
    "duration": 0,
    "start_time": "2022-03-31T17:42:25.527Z"
   },
   {
    "duration": 0,
    "start_time": "2022-03-31T17:42:25.530Z"
   },
   {
    "duration": 0,
    "start_time": "2022-03-31T17:42:25.532Z"
   },
   {
    "duration": 0,
    "start_time": "2022-03-31T17:42:25.534Z"
   },
   {
    "duration": 0,
    "start_time": "2022-03-31T17:42:25.536Z"
   },
   {
    "duration": 0,
    "start_time": "2022-03-31T17:42:25.538Z"
   },
   {
    "duration": 0,
    "start_time": "2022-03-31T17:42:25.541Z"
   },
   {
    "duration": 0,
    "start_time": "2022-03-31T17:42:25.543Z"
   },
   {
    "duration": 0,
    "start_time": "2022-03-31T17:42:25.545Z"
   },
   {
    "duration": 0,
    "start_time": "2022-03-31T17:42:25.548Z"
   },
   {
    "duration": 0,
    "start_time": "2022-03-31T17:42:25.550Z"
   },
   {
    "duration": 0,
    "start_time": "2022-03-31T17:42:25.552Z"
   },
   {
    "duration": 0,
    "start_time": "2022-03-31T17:42:25.554Z"
   },
   {
    "duration": 0,
    "start_time": "2022-03-31T17:42:25.556Z"
   },
   {
    "duration": 0,
    "start_time": "2022-03-31T17:42:25.558Z"
   },
   {
    "duration": 0,
    "start_time": "2022-03-31T17:42:25.560Z"
   },
   {
    "duration": 0,
    "start_time": "2022-03-31T17:42:25.563Z"
   },
   {
    "duration": 0,
    "start_time": "2022-03-31T17:42:25.565Z"
   },
   {
    "duration": 0,
    "start_time": "2022-03-31T17:42:25.567Z"
   },
   {
    "duration": 0,
    "start_time": "2022-03-31T17:42:25.570Z"
   },
   {
    "duration": 0,
    "start_time": "2022-03-31T17:42:25.572Z"
   },
   {
    "duration": 0,
    "start_time": "2022-03-31T17:42:25.574Z"
   },
   {
    "duration": 0,
    "start_time": "2022-03-31T17:42:25.577Z"
   },
   {
    "duration": 0,
    "start_time": "2022-03-31T17:42:25.579Z"
   },
   {
    "duration": 0,
    "start_time": "2022-03-31T17:42:25.581Z"
   },
   {
    "duration": 0,
    "start_time": "2022-03-31T17:42:25.582Z"
   },
   {
    "duration": 0,
    "start_time": "2022-03-31T17:42:25.644Z"
   },
   {
    "duration": 0,
    "start_time": "2022-03-31T17:42:25.646Z"
   },
   {
    "duration": 0,
    "start_time": "2022-03-31T17:42:25.648Z"
   },
   {
    "duration": 0,
    "start_time": "2022-03-31T17:42:25.650Z"
   },
   {
    "duration": 0,
    "start_time": "2022-03-31T17:42:25.652Z"
   },
   {
    "duration": 0,
    "start_time": "2022-03-31T17:42:25.655Z"
   },
   {
    "duration": 3,
    "start_time": "2022-03-31T17:46:31.448Z"
   },
   {
    "duration": 4,
    "start_time": "2022-03-31T17:46:45.919Z"
   },
   {
    "duration": 14,
    "start_time": "2022-03-31T17:48:34.263Z"
   },
   {
    "duration": 6,
    "start_time": "2022-03-31T17:49:05.631Z"
   },
   {
    "duration": 5414,
    "start_time": "2022-03-31T17:49:18.910Z"
   },
   {
    "duration": 0,
    "start_time": "2022-03-31T17:49:24.327Z"
   },
   {
    "duration": 23,
    "start_time": "2022-03-31T17:49:39.798Z"
   },
   {
    "duration": 6,
    "start_time": "2022-03-31T17:50:43.038Z"
   },
   {
    "duration": 6,
    "start_time": "2022-03-31T17:51:14.698Z"
   },
   {
    "duration": 3630,
    "start_time": "2022-03-31T17:51:30.249Z"
   },
   {
    "duration": 20,
    "start_time": "2022-03-31T17:51:52.532Z"
   },
   {
    "duration": 20,
    "start_time": "2022-03-31T17:52:24.722Z"
   },
   {
    "duration": 145,
    "start_time": "2022-03-31T18:23:04.974Z"
   },
   {
    "duration": 13,
    "start_time": "2022-03-31T18:23:05.658Z"
   },
   {
    "duration": 3509,
    "start_time": "2022-03-31T18:23:29.847Z"
   },
   {
    "duration": 3439,
    "start_time": "2022-03-31T18:23:33.359Z"
   },
   {
    "duration": 1577,
    "start_time": "2022-03-31T18:23:36.800Z"
   },
   {
    "duration": 836,
    "start_time": "2022-03-31T18:23:38.380Z"
   },
   {
    "duration": 17,
    "start_time": "2022-03-31T18:23:39.218Z"
   },
   {
    "duration": 11,
    "start_time": "2022-03-31T18:23:39.237Z"
   },
   {
    "duration": 11,
    "start_time": "2022-03-31T18:23:39.250Z"
   },
   {
    "duration": 34,
    "start_time": "2022-03-31T18:23:39.263Z"
   },
   {
    "duration": 5,
    "start_time": "2022-03-31T18:23:39.299Z"
   },
   {
    "duration": 106,
    "start_time": "2022-03-31T18:23:39.310Z"
   },
   {
    "duration": 30,
    "start_time": "2022-03-31T18:23:39.418Z"
   },
   {
    "duration": 3,
    "start_time": "2022-03-31T18:23:39.450Z"
   },
   {
    "duration": 202,
    "start_time": "2022-03-31T18:23:39.456Z"
   },
   {
    "duration": 14,
    "start_time": "2022-03-31T18:23:39.660Z"
   },
   {
    "duration": 12,
    "start_time": "2022-03-31T18:23:39.676Z"
   },
   {
    "duration": 106,
    "start_time": "2022-03-31T18:23:39.691Z"
   },
   {
    "duration": 16,
    "start_time": "2022-03-31T18:23:39.799Z"
   },
   {
    "duration": 35,
    "start_time": "2022-03-31T18:23:39.817Z"
   },
   {
    "duration": 6,
    "start_time": "2022-03-31T18:23:39.854Z"
   },
   {
    "duration": 14,
    "start_time": "2022-03-31T18:23:39.863Z"
   },
   {
    "duration": 12,
    "start_time": "2022-03-31T18:23:39.879Z"
   },
   {
    "duration": 264,
    "start_time": "2022-03-31T18:23:39.893Z"
   },
   {
    "duration": 33,
    "start_time": "2022-03-31T18:23:40.160Z"
   },
   {
    "duration": 167,
    "start_time": "2022-03-31T18:23:40.195Z"
   },
   {
    "duration": 17,
    "start_time": "2022-03-31T18:23:40.364Z"
   },
   {
    "duration": 25,
    "start_time": "2022-03-31T18:23:40.383Z"
   },
   {
    "duration": 139,
    "start_time": "2022-03-31T18:23:40.411Z"
   },
   {
    "duration": 611,
    "start_time": "2022-03-31T18:23:40.557Z"
   },
   {
    "duration": 271,
    "start_time": "2022-03-31T18:23:41.171Z"
   },
   {
    "duration": 112,
    "start_time": "2022-03-31T18:23:41.445Z"
   },
   {
    "duration": 26,
    "start_time": "2022-03-31T18:23:41.559Z"
   },
   {
    "duration": 141,
    "start_time": "2022-03-31T18:23:41.587Z"
   },
   {
    "duration": 104,
    "start_time": "2022-03-31T18:23:41.730Z"
   },
   {
    "duration": 24,
    "start_time": "2022-03-31T18:23:41.843Z"
   },
   {
    "duration": 147,
    "start_time": "2022-03-31T18:23:41.870Z"
   },
   {
    "duration": 657,
    "start_time": "2022-03-31T18:23:42.019Z"
   },
   {
    "duration": 374,
    "start_time": "2022-03-31T18:23:42.678Z"
   },
   {
    "duration": 396,
    "start_time": "2022-03-31T18:23:43.054Z"
   },
   {
    "duration": 13,
    "start_time": "2022-03-31T18:23:43.453Z"
   },
   {
    "duration": 139,
    "start_time": "2022-03-31T18:23:43.468Z"
   },
   {
    "duration": 3,
    "start_time": "2022-03-31T18:23:43.610Z"
   },
   {
    "duration": 13,
    "start_time": "2022-03-31T18:23:43.616Z"
   },
   {
    "duration": 203,
    "start_time": "2022-03-31T18:23:43.643Z"
   },
   {
    "duration": 114,
    "start_time": "2022-03-31T18:23:43.849Z"
   },
   {
    "duration": 50,
    "start_time": "2022-03-31T18:23:43.965Z"
   },
   {
    "duration": 142,
    "start_time": "2022-03-31T18:23:44.017Z"
   },
   {
    "duration": 24,
    "start_time": "2022-03-31T18:23:44.161Z"
   },
   {
    "duration": 1681,
    "start_time": "2022-03-31T18:23:44.187Z"
   },
   {
    "duration": 12,
    "start_time": "2022-03-31T18:23:45.870Z"
   },
   {
    "duration": 6,
    "start_time": "2022-03-31T18:23:45.884Z"
   },
   {
    "duration": 11,
    "start_time": "2022-03-31T18:23:45.892Z"
   },
   {
    "duration": 254,
    "start_time": "2022-03-31T18:23:45.905Z"
   },
   {
    "duration": 0,
    "start_time": "2022-03-31T18:23:46.162Z"
   },
   {
    "duration": 0,
    "start_time": "2022-03-31T18:23:46.164Z"
   },
   {
    "duration": 0,
    "start_time": "2022-03-31T18:23:46.165Z"
   },
   {
    "duration": 0,
    "start_time": "2022-03-31T18:23:46.167Z"
   },
   {
    "duration": 0,
    "start_time": "2022-03-31T18:23:46.169Z"
   },
   {
    "duration": 0,
    "start_time": "2022-03-31T18:23:46.171Z"
   },
   {
    "duration": 0,
    "start_time": "2022-03-31T18:23:46.173Z"
   },
   {
    "duration": 0,
    "start_time": "2022-03-31T18:23:46.176Z"
   },
   {
    "duration": 0,
    "start_time": "2022-03-31T18:23:46.178Z"
   },
   {
    "duration": 0,
    "start_time": "2022-03-31T18:23:46.180Z"
   },
   {
    "duration": 0,
    "start_time": "2022-03-31T18:23:46.182Z"
   },
   {
    "duration": 0,
    "start_time": "2022-03-31T18:23:46.184Z"
   },
   {
    "duration": 0,
    "start_time": "2022-03-31T18:23:46.187Z"
   },
   {
    "duration": 0,
    "start_time": "2022-03-31T18:23:46.189Z"
   },
   {
    "duration": 0,
    "start_time": "2022-03-31T18:23:46.243Z"
   },
   {
    "duration": 0,
    "start_time": "2022-03-31T18:23:46.245Z"
   },
   {
    "duration": 0,
    "start_time": "2022-03-31T18:23:46.247Z"
   },
   {
    "duration": 0,
    "start_time": "2022-03-31T18:23:46.249Z"
   },
   {
    "duration": 0,
    "start_time": "2022-03-31T18:23:46.251Z"
   },
   {
    "duration": 0,
    "start_time": "2022-03-31T18:23:46.253Z"
   },
   {
    "duration": 0,
    "start_time": "2022-03-31T18:23:46.256Z"
   },
   {
    "duration": 0,
    "start_time": "2022-03-31T18:23:46.258Z"
   },
   {
    "duration": 0,
    "start_time": "2022-03-31T18:23:46.260Z"
   },
   {
    "duration": 0,
    "start_time": "2022-03-31T18:23:46.262Z"
   },
   {
    "duration": 0,
    "start_time": "2022-03-31T18:23:46.265Z"
   },
   {
    "duration": 0,
    "start_time": "2022-03-31T18:23:46.267Z"
   },
   {
    "duration": 0,
    "start_time": "2022-03-31T18:23:46.269Z"
   },
   {
    "duration": 0,
    "start_time": "2022-03-31T18:23:46.271Z"
   },
   {
    "duration": 0,
    "start_time": "2022-03-31T18:23:46.273Z"
   },
   {
    "duration": 0,
    "start_time": "2022-03-31T18:23:46.275Z"
   },
   {
    "duration": 0,
    "start_time": "2022-03-31T18:23:46.277Z"
   },
   {
    "duration": 0,
    "start_time": "2022-03-31T18:23:46.343Z"
   },
   {
    "duration": 0,
    "start_time": "2022-03-31T18:23:46.345Z"
   },
   {
    "duration": 0,
    "start_time": "2022-03-31T18:23:46.348Z"
   },
   {
    "duration": 0,
    "start_time": "2022-03-31T18:23:46.350Z"
   },
   {
    "duration": 0,
    "start_time": "2022-03-31T18:23:46.352Z"
   },
   {
    "duration": 0,
    "start_time": "2022-03-31T18:23:46.354Z"
   },
   {
    "duration": 0,
    "start_time": "2022-03-31T18:23:46.356Z"
   },
   {
    "duration": 0,
    "start_time": "2022-03-31T18:23:46.358Z"
   },
   {
    "duration": 0,
    "start_time": "2022-03-31T18:23:46.360Z"
   },
   {
    "duration": 0,
    "start_time": "2022-03-31T18:23:46.363Z"
   },
   {
    "duration": 0,
    "start_time": "2022-03-31T18:23:46.365Z"
   },
   {
    "duration": 0,
    "start_time": "2022-03-31T18:23:46.367Z"
   },
   {
    "duration": 81,
    "start_time": "2022-03-31T18:24:36.100Z"
   },
   {
    "duration": 579,
    "start_time": "2022-03-31T18:24:40.983Z"
   },
   {
    "duration": 7,
    "start_time": "2022-03-31T18:24:42.368Z"
   },
   {
    "duration": 3343,
    "start_time": "2022-03-31T18:26:57.279Z"
   },
   {
    "duration": 0,
    "start_time": "2022-03-31T18:27:00.625Z"
   },
   {
    "duration": 44,
    "start_time": "2022-03-31T18:27:14.525Z"
   },
   {
    "duration": 571,
    "start_time": "2022-03-31T18:27:19.830Z"
   },
   {
    "duration": 7,
    "start_time": "2022-03-31T18:27:27.005Z"
   },
   {
    "duration": 14,
    "start_time": "2022-03-31T18:30:49.616Z"
   },
   {
    "duration": 14,
    "start_time": "2022-03-31T18:34:52.362Z"
   },
   {
    "duration": 544,
    "start_time": "2022-03-31T18:34:55.619Z"
   },
   {
    "duration": 8,
    "start_time": "2022-03-31T18:35:07.732Z"
   },
   {
    "duration": 33,
    "start_time": "2022-03-31T18:39:08.171Z"
   },
   {
    "duration": 43,
    "start_time": "2022-03-31T18:39:23.491Z"
   },
   {
    "duration": 13,
    "start_time": "2022-03-31T18:39:27.720Z"
   },
   {
    "duration": 40,
    "start_time": "2022-03-31T18:40:03.839Z"
   },
   {
    "duration": 13,
    "start_time": "2022-03-31T18:40:06.397Z"
   },
   {
    "duration": 705,
    "start_time": "2022-03-31T18:40:13.452Z"
   },
   {
    "duration": 7,
    "start_time": "2022-03-31T18:40:20.147Z"
   },
   {
    "duration": 14,
    "start_time": "2022-03-31T18:41:53.077Z"
   },
   {
    "duration": 26,
    "start_time": "2022-03-31T18:41:59.081Z"
   },
   {
    "duration": 137,
    "start_time": "2022-03-31T18:42:01.643Z"
   },
   {
    "duration": 15,
    "start_time": "2022-03-31T18:42:25.620Z"
   },
   {
    "duration": 13,
    "start_time": "2022-03-31T18:42:27.559Z"
   },
   {
    "duration": 33,
    "start_time": "2022-03-31T18:43:45.350Z"
   },
   {
    "duration": 52,
    "start_time": "2022-03-31T18:43:49.987Z"
   },
   {
    "duration": 31,
    "start_time": "2022-03-31T18:44:06.979Z"
   },
   {
    "duration": 153,
    "start_time": "2022-03-31T18:44:35.029Z"
   },
   {
    "duration": 28,
    "start_time": "2022-03-31T18:45:21.822Z"
   },
   {
    "duration": 47,
    "start_time": "2022-03-31T18:46:51.743Z"
   },
   {
    "duration": 14,
    "start_time": "2022-03-31T18:46:52.459Z"
   },
   {
    "duration": 22,
    "start_time": "2022-03-31T18:46:53.744Z"
   },
   {
    "duration": 43,
    "start_time": "2022-03-31T18:47:05.568Z"
   },
   {
    "duration": 14,
    "start_time": "2022-03-31T18:47:18.247Z"
   },
   {
    "duration": 3674,
    "start_time": "2022-03-31T18:47:37.698Z"
   },
   {
    "duration": 3650,
    "start_time": "2022-03-31T18:47:41.375Z"
   },
   {
    "duration": 1618,
    "start_time": "2022-03-31T18:47:45.027Z"
   },
   {
    "duration": 867,
    "start_time": "2022-03-31T18:47:46.649Z"
   },
   {
    "duration": 17,
    "start_time": "2022-03-31T18:47:47.518Z"
   },
   {
    "duration": 14,
    "start_time": "2022-03-31T18:47:47.537Z"
   },
   {
    "duration": 10,
    "start_time": "2022-03-31T18:47:47.553Z"
   },
   {
    "duration": 35,
    "start_time": "2022-03-31T18:47:47.565Z"
   },
   {
    "duration": 5,
    "start_time": "2022-03-31T18:47:47.602Z"
   },
   {
    "duration": 103,
    "start_time": "2022-03-31T18:47:47.611Z"
   },
   {
    "duration": 29,
    "start_time": "2022-03-31T18:47:47.716Z"
   },
   {
    "duration": 3,
    "start_time": "2022-03-31T18:47:47.748Z"
   },
   {
    "duration": 203,
    "start_time": "2022-03-31T18:47:47.753Z"
   },
   {
    "duration": 13,
    "start_time": "2022-03-31T18:47:47.958Z"
   },
   {
    "duration": 16,
    "start_time": "2022-03-31T18:47:47.974Z"
   },
   {
    "duration": 94,
    "start_time": "2022-03-31T18:47:47.993Z"
   },
   {
    "duration": 15,
    "start_time": "2022-03-31T18:47:48.090Z"
   },
   {
    "duration": 39,
    "start_time": "2022-03-31T18:47:48.107Z"
   },
   {
    "duration": 5,
    "start_time": "2022-03-31T18:47:48.148Z"
   },
   {
    "duration": 18,
    "start_time": "2022-03-31T18:47:48.155Z"
   },
   {
    "duration": 11,
    "start_time": "2022-03-31T18:47:48.175Z"
   },
   {
    "duration": 266,
    "start_time": "2022-03-31T18:47:48.188Z"
   },
   {
    "duration": 34,
    "start_time": "2022-03-31T18:47:48.456Z"
   },
   {
    "duration": 161,
    "start_time": "2022-03-31T18:47:48.493Z"
   },
   {
    "duration": 10,
    "start_time": "2022-03-31T18:47:48.657Z"
   },
   {
    "duration": 34,
    "start_time": "2022-03-31T18:47:48.670Z"
   },
   {
    "duration": 127,
    "start_time": "2022-03-31T18:47:48.706Z"
   },
   {
    "duration": 546,
    "start_time": "2022-03-31T18:47:48.844Z"
   },
   {
    "duration": 196,
    "start_time": "2022-03-31T18:47:49.392Z"
   },
   {
    "duration": 168,
    "start_time": "2022-03-31T18:47:49.591Z"
   },
   {
    "duration": 39,
    "start_time": "2022-03-31T18:47:49.762Z"
   },
   {
    "duration": 155,
    "start_time": "2022-03-31T18:47:49.803Z"
   },
   {
    "duration": 120,
    "start_time": "2022-03-31T18:47:49.960Z"
   },
   {
    "duration": 25,
    "start_time": "2022-03-31T18:47:50.082Z"
   },
   {
    "duration": 135,
    "start_time": "2022-03-31T18:47:50.109Z"
   },
   {
    "duration": 687,
    "start_time": "2022-03-31T18:47:50.246Z"
   },
   {
    "duration": 389,
    "start_time": "2022-03-31T18:47:50.942Z"
   },
   {
    "duration": 402,
    "start_time": "2022-03-31T18:47:51.334Z"
   },
   {
    "duration": 11,
    "start_time": "2022-03-31T18:47:51.739Z"
   },
   {
    "duration": 129,
    "start_time": "2022-03-31T18:47:51.753Z"
   },
   {
    "duration": 4,
    "start_time": "2022-03-31T18:47:51.884Z"
   },
   {
    "duration": 11,
    "start_time": "2022-03-31T18:47:51.891Z"
   },
   {
    "duration": 222,
    "start_time": "2022-03-31T18:47:51.905Z"
   },
   {
    "duration": 119,
    "start_time": "2022-03-31T18:47:52.129Z"
   },
   {
    "duration": 52,
    "start_time": "2022-03-31T18:47:52.251Z"
   },
   {
    "duration": 146,
    "start_time": "2022-03-31T18:47:52.305Z"
   },
   {
    "duration": 26,
    "start_time": "2022-03-31T18:47:52.453Z"
   },
   {
    "duration": 1627,
    "start_time": "2022-03-31T18:47:52.481Z"
   },
   {
    "duration": 12,
    "start_time": "2022-03-31T18:47:54.110Z"
   },
   {
    "duration": 246,
    "start_time": "2022-03-31T18:47:54.124Z"
   },
   {
    "duration": 0,
    "start_time": "2022-03-31T18:47:54.373Z"
   },
   {
    "duration": 0,
    "start_time": "2022-03-31T18:47:54.374Z"
   },
   {
    "duration": 0,
    "start_time": "2022-03-31T18:47:54.376Z"
   },
   {
    "duration": 0,
    "start_time": "2022-03-31T18:47:54.377Z"
   },
   {
    "duration": 0,
    "start_time": "2022-03-31T18:47:54.379Z"
   },
   {
    "duration": 0,
    "start_time": "2022-03-31T18:47:54.380Z"
   },
   {
    "duration": 0,
    "start_time": "2022-03-31T18:47:54.382Z"
   },
   {
    "duration": 0,
    "start_time": "2022-03-31T18:47:54.383Z"
   },
   {
    "duration": 0,
    "start_time": "2022-03-31T18:47:54.385Z"
   },
   {
    "duration": 0,
    "start_time": "2022-03-31T18:47:54.386Z"
   },
   {
    "duration": 0,
    "start_time": "2022-03-31T18:47:54.387Z"
   },
   {
    "duration": 0,
    "start_time": "2022-03-31T18:47:54.389Z"
   },
   {
    "duration": 0,
    "start_time": "2022-03-31T18:47:54.391Z"
   },
   {
    "duration": 0,
    "start_time": "2022-03-31T18:47:54.392Z"
   },
   {
    "duration": 0,
    "start_time": "2022-03-31T18:47:54.394Z"
   },
   {
    "duration": 0,
    "start_time": "2022-03-31T18:47:54.395Z"
   },
   {
    "duration": 0,
    "start_time": "2022-03-31T18:47:54.397Z"
   },
   {
    "duration": 0,
    "start_time": "2022-03-31T18:47:54.398Z"
   },
   {
    "duration": 0,
    "start_time": "2022-03-31T18:47:54.444Z"
   },
   {
    "duration": 0,
    "start_time": "2022-03-31T18:47:54.445Z"
   },
   {
    "duration": 0,
    "start_time": "2022-03-31T18:47:54.447Z"
   },
   {
    "duration": 0,
    "start_time": "2022-03-31T18:47:54.448Z"
   },
   {
    "duration": 0,
    "start_time": "2022-03-31T18:47:54.449Z"
   },
   {
    "duration": 0,
    "start_time": "2022-03-31T18:47:54.451Z"
   },
   {
    "duration": 0,
    "start_time": "2022-03-31T18:47:54.453Z"
   },
   {
    "duration": 0,
    "start_time": "2022-03-31T18:47:54.454Z"
   },
   {
    "duration": 0,
    "start_time": "2022-03-31T18:47:54.456Z"
   },
   {
    "duration": 0,
    "start_time": "2022-03-31T18:47:54.457Z"
   },
   {
    "duration": 0,
    "start_time": "2022-03-31T18:47:54.459Z"
   },
   {
    "duration": 0,
    "start_time": "2022-03-31T18:47:54.461Z"
   },
   {
    "duration": 0,
    "start_time": "2022-03-31T18:47:54.462Z"
   },
   {
    "duration": 0,
    "start_time": "2022-03-31T18:47:54.464Z"
   },
   {
    "duration": 0,
    "start_time": "2022-03-31T18:47:54.465Z"
   },
   {
    "duration": 0,
    "start_time": "2022-03-31T18:47:54.467Z"
   },
   {
    "duration": 0,
    "start_time": "2022-03-31T18:47:54.468Z"
   },
   {
    "duration": 0,
    "start_time": "2022-03-31T18:47:54.469Z"
   },
   {
    "duration": 0,
    "start_time": "2022-03-31T18:47:54.471Z"
   },
   {
    "duration": 0,
    "start_time": "2022-03-31T18:47:54.472Z"
   },
   {
    "duration": 0,
    "start_time": "2022-03-31T18:47:54.473Z"
   },
   {
    "duration": 0,
    "start_time": "2022-03-31T18:47:54.474Z"
   },
   {
    "duration": 0,
    "start_time": "2022-03-31T18:47:54.475Z"
   },
   {
    "duration": 0,
    "start_time": "2022-03-31T18:47:54.477Z"
   },
   {
    "duration": 0,
    "start_time": "2022-03-31T18:47:54.478Z"
   },
   {
    "duration": 0,
    "start_time": "2022-03-31T18:47:54.480Z"
   },
   {
    "duration": 1,
    "start_time": "2022-03-31T18:47:54.481Z"
   },
   {
    "duration": 0,
    "start_time": "2022-03-31T18:47:54.543Z"
   },
   {
    "duration": 25,
    "start_time": "2022-03-31T18:48:59.935Z"
   },
   {
    "duration": 122,
    "start_time": "2022-03-31T18:49:07.724Z"
   },
   {
    "duration": 3835,
    "start_time": "2022-03-31T18:51:37.011Z"
   },
   {
    "duration": 4645,
    "start_time": "2022-03-31T18:51:40.849Z"
   },
   {
    "duration": 1865,
    "start_time": "2022-03-31T18:51:45.497Z"
   },
   {
    "duration": 874,
    "start_time": "2022-03-31T18:51:47.365Z"
   },
   {
    "duration": 17,
    "start_time": "2022-03-31T18:51:48.241Z"
   },
   {
    "duration": 11,
    "start_time": "2022-03-31T18:51:48.261Z"
   },
   {
    "duration": 13,
    "start_time": "2022-03-31T18:51:48.274Z"
   },
   {
    "duration": 68,
    "start_time": "2022-03-31T18:51:48.290Z"
   },
   {
    "duration": 6,
    "start_time": "2022-03-31T18:51:48.360Z"
   },
   {
    "duration": 97,
    "start_time": "2022-03-31T18:51:48.370Z"
   },
   {
    "duration": 17,
    "start_time": "2022-03-31T18:51:48.469Z"
   },
   {
    "duration": 11,
    "start_time": "2022-03-31T18:51:48.489Z"
   },
   {
    "duration": 212,
    "start_time": "2022-03-31T18:51:48.502Z"
   },
   {
    "duration": 13,
    "start_time": "2022-03-31T18:51:48.716Z"
   },
   {
    "duration": 14,
    "start_time": "2022-03-31T18:51:48.744Z"
   },
   {
    "duration": 100,
    "start_time": "2022-03-31T18:51:48.761Z"
   },
   {
    "duration": 16,
    "start_time": "2022-03-31T18:51:48.863Z"
   },
   {
    "duration": 15,
    "start_time": "2022-03-31T18:51:48.881Z"
   },
   {
    "duration": 6,
    "start_time": "2022-03-31T18:51:48.898Z"
   },
   {
    "duration": 43,
    "start_time": "2022-03-31T18:51:48.906Z"
   },
   {
    "duration": 10,
    "start_time": "2022-03-31T18:51:48.952Z"
   },
   {
    "duration": 258,
    "start_time": "2022-03-31T18:51:48.964Z"
   },
   {
    "duration": 38,
    "start_time": "2022-03-31T18:51:49.224Z"
   },
   {
    "duration": 164,
    "start_time": "2022-03-31T18:51:49.264Z"
   },
   {
    "duration": 17,
    "start_time": "2022-03-31T18:51:49.430Z"
   },
   {
    "duration": 20,
    "start_time": "2022-03-31T18:51:49.450Z"
   },
   {
    "duration": 155,
    "start_time": "2022-03-31T18:51:49.472Z"
   },
   {
    "duration": 574,
    "start_time": "2022-03-31T18:51:49.634Z"
   },
   {
    "duration": 274,
    "start_time": "2022-03-31T18:51:50.211Z"
   },
   {
    "duration": 135,
    "start_time": "2022-03-31T18:51:50.488Z"
   },
   {
    "duration": 39,
    "start_time": "2022-03-31T18:51:50.626Z"
   },
   {
    "duration": 150,
    "start_time": "2022-03-31T18:51:50.668Z"
   },
   {
    "duration": 118,
    "start_time": "2022-03-31T18:51:50.820Z"
   },
   {
    "duration": 37,
    "start_time": "2022-03-31T18:51:50.944Z"
   },
   {
    "duration": 199,
    "start_time": "2022-03-31T18:51:50.984Z"
   },
   {
    "duration": 957,
    "start_time": "2022-03-31T18:51:51.186Z"
   },
   {
    "duration": 534,
    "start_time": "2022-03-31T18:51:52.146Z"
   },
   {
    "duration": 568,
    "start_time": "2022-03-31T18:51:52.682Z"
   },
   {
    "duration": 15,
    "start_time": "2022-03-31T18:51:53.253Z"
   },
   {
    "duration": 155,
    "start_time": "2022-03-31T18:51:53.270Z"
   },
   {
    "duration": 5,
    "start_time": "2022-03-31T18:51:53.427Z"
   },
   {
    "duration": 18,
    "start_time": "2022-03-31T18:51:53.435Z"
   },
   {
    "duration": 288,
    "start_time": "2022-03-31T18:51:53.456Z"
   },
   {
    "duration": 169,
    "start_time": "2022-03-31T18:51:53.747Z"
   },
   {
    "duration": 76,
    "start_time": "2022-03-31T18:51:53.918Z"
   },
   {
    "duration": 164,
    "start_time": "2022-03-31T18:51:53.996Z"
   },
   {
    "duration": 34,
    "start_time": "2022-03-31T18:51:54.163Z"
   },
   {
    "duration": 1832,
    "start_time": "2022-03-31T18:51:54.199Z"
   },
   {
    "duration": 20,
    "start_time": "2022-03-31T18:51:56.034Z"
   },
   {
    "duration": 27,
    "start_time": "2022-03-31T18:51:56.057Z"
   },
   {
    "duration": 154,
    "start_time": "2022-03-31T18:51:56.086Z"
   },
   {
    "duration": 236,
    "start_time": "2022-03-31T18:51:56.243Z"
   },
   {
    "duration": 1,
    "start_time": "2022-03-31T18:51:56.482Z"
   },
   {
    "duration": 0,
    "start_time": "2022-03-31T18:51:56.484Z"
   },
   {
    "duration": 0,
    "start_time": "2022-03-31T18:51:56.485Z"
   },
   {
    "duration": 0,
    "start_time": "2022-03-31T18:51:56.488Z"
   },
   {
    "duration": 0,
    "start_time": "2022-03-31T18:51:56.489Z"
   },
   {
    "duration": 0,
    "start_time": "2022-03-31T18:51:56.490Z"
   },
   {
    "duration": 0,
    "start_time": "2022-03-31T18:51:56.492Z"
   },
   {
    "duration": 0,
    "start_time": "2022-03-31T18:51:56.493Z"
   },
   {
    "duration": 0,
    "start_time": "2022-03-31T18:51:56.495Z"
   },
   {
    "duration": 0,
    "start_time": "2022-03-31T18:51:56.496Z"
   },
   {
    "duration": 0,
    "start_time": "2022-03-31T18:51:56.497Z"
   },
   {
    "duration": 0,
    "start_time": "2022-03-31T18:51:56.499Z"
   },
   {
    "duration": 0,
    "start_time": "2022-03-31T18:51:56.500Z"
   },
   {
    "duration": 0,
    "start_time": "2022-03-31T18:51:56.502Z"
   },
   {
    "duration": 0,
    "start_time": "2022-03-31T18:51:56.503Z"
   },
   {
    "duration": 0,
    "start_time": "2022-03-31T18:51:56.543Z"
   },
   {
    "duration": 0,
    "start_time": "2022-03-31T18:51:56.544Z"
   },
   {
    "duration": 0,
    "start_time": "2022-03-31T18:51:56.546Z"
   },
   {
    "duration": 0,
    "start_time": "2022-03-31T18:51:56.547Z"
   },
   {
    "duration": 0,
    "start_time": "2022-03-31T18:51:56.549Z"
   },
   {
    "duration": 0,
    "start_time": "2022-03-31T18:51:56.550Z"
   },
   {
    "duration": 0,
    "start_time": "2022-03-31T18:51:56.551Z"
   },
   {
    "duration": 0,
    "start_time": "2022-03-31T18:51:56.553Z"
   },
   {
    "duration": 0,
    "start_time": "2022-03-31T18:51:56.554Z"
   },
   {
    "duration": 0,
    "start_time": "2022-03-31T18:51:56.555Z"
   },
   {
    "duration": 0,
    "start_time": "2022-03-31T18:51:56.556Z"
   },
   {
    "duration": 0,
    "start_time": "2022-03-31T18:51:56.558Z"
   },
   {
    "duration": 1,
    "start_time": "2022-03-31T18:51:56.559Z"
   },
   {
    "duration": 0,
    "start_time": "2022-03-31T18:51:56.561Z"
   },
   {
    "duration": 0,
    "start_time": "2022-03-31T18:51:56.562Z"
   },
   {
    "duration": 0,
    "start_time": "2022-03-31T18:51:56.564Z"
   },
   {
    "duration": 0,
    "start_time": "2022-03-31T18:51:56.566Z"
   },
   {
    "duration": 0,
    "start_time": "2022-03-31T18:51:56.567Z"
   },
   {
    "duration": 0,
    "start_time": "2022-03-31T18:51:56.568Z"
   },
   {
    "duration": 0,
    "start_time": "2022-03-31T18:51:56.570Z"
   },
   {
    "duration": 0,
    "start_time": "2022-03-31T18:51:56.572Z"
   },
   {
    "duration": 0,
    "start_time": "2022-03-31T18:51:56.573Z"
   },
   {
    "duration": 0,
    "start_time": "2022-03-31T18:51:56.574Z"
   },
   {
    "duration": 0,
    "start_time": "2022-03-31T18:51:56.577Z"
   },
   {
    "duration": 0,
    "start_time": "2022-03-31T18:51:56.578Z"
   },
   {
    "duration": 0,
    "start_time": "2022-03-31T18:51:56.579Z"
   },
   {
    "duration": 0,
    "start_time": "2022-03-31T18:51:56.581Z"
   },
   {
    "duration": 0,
    "start_time": "2022-03-31T18:51:56.642Z"
   },
   {
    "duration": 0,
    "start_time": "2022-03-31T18:51:56.644Z"
   },
   {
    "duration": 25,
    "start_time": "2022-03-31T18:53:37.538Z"
   },
   {
    "duration": 52,
    "start_time": "2022-03-31T18:53:41.004Z"
   },
   {
    "duration": 3681,
    "start_time": "2022-03-31T18:54:19.833Z"
   },
   {
    "duration": 4484,
    "start_time": "2022-03-31T18:54:23.517Z"
   },
   {
    "duration": 1653,
    "start_time": "2022-03-31T18:54:28.004Z"
   },
   {
    "duration": 885,
    "start_time": "2022-03-31T18:54:29.660Z"
   },
   {
    "duration": 18,
    "start_time": "2022-03-31T18:54:30.548Z"
   },
   {
    "duration": 26,
    "start_time": "2022-03-31T18:54:30.568Z"
   },
   {
    "duration": 23,
    "start_time": "2022-03-31T18:54:30.596Z"
   },
   {
    "duration": 51,
    "start_time": "2022-03-31T18:54:30.621Z"
   },
   {
    "duration": 5,
    "start_time": "2022-03-31T18:54:30.674Z"
   },
   {
    "duration": 118,
    "start_time": "2022-03-31T18:54:30.681Z"
   },
   {
    "duration": 17,
    "start_time": "2022-03-31T18:54:30.801Z"
   },
   {
    "duration": 24,
    "start_time": "2022-03-31T18:54:30.820Z"
   },
   {
    "duration": 206,
    "start_time": "2022-03-31T18:54:30.846Z"
   },
   {
    "duration": 14,
    "start_time": "2022-03-31T18:54:31.057Z"
   },
   {
    "duration": 49,
    "start_time": "2022-03-31T18:54:31.074Z"
   },
   {
    "duration": 105,
    "start_time": "2022-03-31T18:54:31.126Z"
   },
   {
    "duration": 33,
    "start_time": "2022-03-31T18:54:31.233Z"
   },
   {
    "duration": 49,
    "start_time": "2022-03-31T18:54:31.269Z"
   },
   {
    "duration": 21,
    "start_time": "2022-03-31T18:54:31.321Z"
   },
   {
    "duration": 20,
    "start_time": "2022-03-31T18:54:31.344Z"
   },
   {
    "duration": 12,
    "start_time": "2022-03-31T18:54:31.367Z"
   },
   {
    "duration": 253,
    "start_time": "2022-03-31T18:54:31.381Z"
   },
   {
    "duration": 36,
    "start_time": "2022-03-31T18:54:31.637Z"
   },
   {
    "duration": 168,
    "start_time": "2022-03-31T18:54:31.675Z"
   },
   {
    "duration": 12,
    "start_time": "2022-03-31T18:54:31.845Z"
   },
   {
    "duration": 21,
    "start_time": "2022-03-31T18:54:31.860Z"
   },
   {
    "duration": 156,
    "start_time": "2022-03-31T18:54:31.884Z"
   },
   {
    "duration": 585,
    "start_time": "2022-03-31T18:54:32.043Z"
   },
   {
    "duration": 217,
    "start_time": "2022-03-31T18:54:32.631Z"
   },
   {
    "duration": 158,
    "start_time": "2022-03-31T18:54:32.851Z"
   },
   {
    "duration": 50,
    "start_time": "2022-03-31T18:54:33.012Z"
   },
   {
    "duration": 178,
    "start_time": "2022-03-31T18:54:33.065Z"
   },
   {
    "duration": 152,
    "start_time": "2022-03-31T18:54:33.245Z"
   },
   {
    "duration": 49,
    "start_time": "2022-03-31T18:54:33.400Z"
   },
   {
    "duration": 170,
    "start_time": "2022-03-31T18:54:33.452Z"
   },
   {
    "duration": 926,
    "start_time": "2022-03-31T18:54:33.625Z"
   },
   {
    "duration": 523,
    "start_time": "2022-03-31T18:54:34.554Z"
   },
   {
    "duration": 446,
    "start_time": "2022-03-31T18:54:35.080Z"
   },
   {
    "duration": 16,
    "start_time": "2022-03-31T18:54:35.528Z"
   },
   {
    "duration": 132,
    "start_time": "2022-03-31T18:54:35.548Z"
   },
   {
    "duration": 5,
    "start_time": "2022-03-31T18:54:35.687Z"
   },
   {
    "duration": 19,
    "start_time": "2022-03-31T18:54:35.694Z"
   },
   {
    "duration": 221,
    "start_time": "2022-03-31T18:54:35.715Z"
   },
   {
    "duration": 116,
    "start_time": "2022-03-31T18:54:35.938Z"
   },
   {
    "duration": 54,
    "start_time": "2022-03-31T18:54:36.056Z"
   },
   {
    "duration": 153,
    "start_time": "2022-03-31T18:54:36.113Z"
   },
   {
    "duration": 27,
    "start_time": "2022-03-31T18:54:36.269Z"
   },
   {
    "duration": 1680,
    "start_time": "2022-03-31T18:54:36.299Z"
   },
   {
    "duration": 14,
    "start_time": "2022-03-31T18:54:37.982Z"
   },
   {
    "duration": 54,
    "start_time": "2022-03-31T18:54:37.999Z"
   },
   {
    "duration": 140,
    "start_time": "2022-03-31T18:54:38.056Z"
   },
   {
    "duration": 153,
    "start_time": "2022-03-31T18:54:38.199Z"
   },
   {
    "duration": 24,
    "start_time": "2022-03-31T18:54:38.354Z"
   },
   {
    "duration": 251,
    "start_time": "2022-03-31T18:54:38.381Z"
   },
   {
    "duration": 0,
    "start_time": "2022-03-31T18:54:38.642Z"
   },
   {
    "duration": 0,
    "start_time": "2022-03-31T18:54:38.644Z"
   },
   {
    "duration": 0,
    "start_time": "2022-03-31T18:54:38.646Z"
   },
   {
    "duration": 0,
    "start_time": "2022-03-31T18:54:38.648Z"
   },
   {
    "duration": 0,
    "start_time": "2022-03-31T18:54:38.650Z"
   },
   {
    "duration": 0,
    "start_time": "2022-03-31T18:54:38.653Z"
   },
   {
    "duration": 0,
    "start_time": "2022-03-31T18:54:38.655Z"
   },
   {
    "duration": 0,
    "start_time": "2022-03-31T18:54:38.657Z"
   },
   {
    "duration": 0,
    "start_time": "2022-03-31T18:54:38.659Z"
   },
   {
    "duration": 0,
    "start_time": "2022-03-31T18:54:38.662Z"
   },
   {
    "duration": 0,
    "start_time": "2022-03-31T18:54:38.664Z"
   },
   {
    "duration": 0,
    "start_time": "2022-03-31T18:54:38.666Z"
   },
   {
    "duration": 0,
    "start_time": "2022-03-31T18:54:38.668Z"
   },
   {
    "duration": 0,
    "start_time": "2022-03-31T18:54:38.671Z"
   },
   {
    "duration": 0,
    "start_time": "2022-03-31T18:54:38.673Z"
   },
   {
    "duration": 0,
    "start_time": "2022-03-31T18:54:38.674Z"
   },
   {
    "duration": 0,
    "start_time": "2022-03-31T18:54:38.676Z"
   },
   {
    "duration": 0,
    "start_time": "2022-03-31T18:54:38.679Z"
   },
   {
    "duration": 0,
    "start_time": "2022-03-31T18:54:38.681Z"
   },
   {
    "duration": 0,
    "start_time": "2022-03-31T18:54:38.682Z"
   },
   {
    "duration": 0,
    "start_time": "2022-03-31T18:54:38.744Z"
   },
   {
    "duration": 0,
    "start_time": "2022-03-31T18:54:38.746Z"
   },
   {
    "duration": 0,
    "start_time": "2022-03-31T18:54:38.747Z"
   },
   {
    "duration": 0,
    "start_time": "2022-03-31T18:54:38.749Z"
   },
   {
    "duration": 0,
    "start_time": "2022-03-31T18:54:38.752Z"
   },
   {
    "duration": 0,
    "start_time": "2022-03-31T18:54:38.754Z"
   },
   {
    "duration": 0,
    "start_time": "2022-03-31T18:54:38.756Z"
   },
   {
    "duration": 0,
    "start_time": "2022-03-31T18:54:38.758Z"
   },
   {
    "duration": 0,
    "start_time": "2022-03-31T18:54:38.760Z"
   },
   {
    "duration": 0,
    "start_time": "2022-03-31T18:54:38.762Z"
   },
   {
    "duration": 0,
    "start_time": "2022-03-31T18:54:38.764Z"
   },
   {
    "duration": 0,
    "start_time": "2022-03-31T18:54:38.767Z"
   },
   {
    "duration": 0,
    "start_time": "2022-03-31T18:54:38.768Z"
   },
   {
    "duration": 0,
    "start_time": "2022-03-31T18:54:38.770Z"
   },
   {
    "duration": 0,
    "start_time": "2022-03-31T18:54:38.773Z"
   },
   {
    "duration": 0,
    "start_time": "2022-03-31T18:54:38.775Z"
   },
   {
    "duration": 0,
    "start_time": "2022-03-31T18:54:38.778Z"
   },
   {
    "duration": 0,
    "start_time": "2022-03-31T18:54:38.779Z"
   },
   {
    "duration": 0,
    "start_time": "2022-03-31T18:54:38.843Z"
   },
   {
    "duration": 0,
    "start_time": "2022-03-31T18:54:38.845Z"
   },
   {
    "duration": 0,
    "start_time": "2022-03-31T18:54:38.847Z"
   },
   {
    "duration": 0,
    "start_time": "2022-03-31T18:54:38.849Z"
   },
   {
    "duration": 667,
    "start_time": "2022-03-31T18:55:38.554Z"
   },
   {
    "duration": 3394,
    "start_time": "2022-03-31T18:55:46.988Z"
   },
   {
    "duration": 10,
    "start_time": "2022-03-31T18:56:04.468Z"
   },
   {
    "duration": 31,
    "start_time": "2022-03-31T18:56:32.643Z"
   },
   {
    "duration": 713,
    "start_time": "2022-03-31T19:00:37.256Z"
   },
   {
    "duration": 10,
    "start_time": "2022-03-31T19:00:48.812Z"
   },
   {
    "duration": 6,
    "start_time": "2022-03-31T19:00:58.477Z"
   },
   {
    "duration": 38,
    "start_time": "2022-03-31T19:02:26.951Z"
   },
   {
    "duration": 971,
    "start_time": "2022-03-31T19:03:56.554Z"
   },
   {
    "duration": 23,
    "start_time": "2022-03-31T19:05:11.411Z"
   },
   {
    "duration": 7,
    "start_time": "2022-03-31T19:05:29.304Z"
   },
   {
    "duration": 17,
    "start_time": "2022-03-31T19:06:03.007Z"
   },
   {
    "duration": 9,
    "start_time": "2022-03-31T19:06:12.570Z"
   },
   {
    "duration": 10,
    "start_time": "2022-03-31T19:06:38.640Z"
   },
   {
    "duration": 7,
    "start_time": "2022-03-31T19:06:58.359Z"
   },
   {
    "duration": 3763,
    "start_time": "2022-03-31T19:08:13.993Z"
   },
   {
    "duration": 4340,
    "start_time": "2022-03-31T19:08:17.760Z"
   },
   {
    "duration": 1641,
    "start_time": "2022-03-31T19:08:22.104Z"
   },
   {
    "duration": 889,
    "start_time": "2022-03-31T19:08:23.747Z"
   },
   {
    "duration": 19,
    "start_time": "2022-03-31T19:08:24.639Z"
   },
   {
    "duration": 11,
    "start_time": "2022-03-31T19:08:24.660Z"
   },
   {
    "duration": 11,
    "start_time": "2022-03-31T19:08:24.674Z"
   },
   {
    "duration": 64,
    "start_time": "2022-03-31T19:08:24.687Z"
   },
   {
    "duration": 5,
    "start_time": "2022-03-31T19:08:24.754Z"
   },
   {
    "duration": 95,
    "start_time": "2022-03-31T19:08:24.761Z"
   },
   {
    "duration": 17,
    "start_time": "2022-03-31T19:08:24.858Z"
   },
   {
    "duration": 4,
    "start_time": "2022-03-31T19:08:24.877Z"
   },
   {
    "duration": 229,
    "start_time": "2022-03-31T19:08:24.883Z"
   },
   {
    "duration": 13,
    "start_time": "2022-03-31T19:08:25.117Z"
   },
   {
    "duration": 16,
    "start_time": "2022-03-31T19:08:25.142Z"
   },
   {
    "duration": 100,
    "start_time": "2022-03-31T19:08:25.161Z"
   },
   {
    "duration": 20,
    "start_time": "2022-03-31T19:08:25.264Z"
   },
   {
    "duration": 16,
    "start_time": "2022-03-31T19:08:25.286Z"
   },
   {
    "duration": 37,
    "start_time": "2022-03-31T19:08:25.305Z"
   },
   {
    "duration": 29,
    "start_time": "2022-03-31T19:08:25.345Z"
   },
   {
    "duration": 13,
    "start_time": "2022-03-31T19:08:25.376Z"
   },
   {
    "duration": 374,
    "start_time": "2022-03-31T19:08:25.391Z"
   },
   {
    "duration": 36,
    "start_time": "2022-03-31T19:08:25.767Z"
   },
   {
    "duration": 251,
    "start_time": "2022-03-31T19:08:25.806Z"
   },
   {
    "duration": 13,
    "start_time": "2022-03-31T19:08:26.060Z"
   },
   {
    "duration": 20,
    "start_time": "2022-03-31T19:08:26.075Z"
   },
   {
    "duration": 157,
    "start_time": "2022-03-31T19:08:26.097Z"
   },
   {
    "duration": 578,
    "start_time": "2022-03-31T19:08:26.256Z"
   },
   {
    "duration": 234,
    "start_time": "2022-03-31T19:08:26.847Z"
   },
   {
    "duration": 125,
    "start_time": "2022-03-31T19:08:27.083Z"
   },
   {
    "duration": 38,
    "start_time": "2022-03-31T19:08:27.210Z"
   },
   {
    "duration": 151,
    "start_time": "2022-03-31T19:08:27.251Z"
   },
   {
    "duration": 126,
    "start_time": "2022-03-31T19:08:27.405Z"
   },
   {
    "duration": 40,
    "start_time": "2022-03-31T19:08:27.534Z"
   },
   {
    "duration": 143,
    "start_time": "2022-03-31T19:08:27.576Z"
   },
   {
    "duration": 739,
    "start_time": "2022-03-31T19:08:27.722Z"
   },
   {
    "duration": 415,
    "start_time": "2022-03-31T19:08:28.463Z"
   },
   {
    "duration": 436,
    "start_time": "2022-03-31T19:08:28.880Z"
   },
   {
    "duration": 28,
    "start_time": "2022-03-31T19:08:29.319Z"
   },
   {
    "duration": 125,
    "start_time": "2022-03-31T19:08:29.352Z"
   },
   {
    "duration": 3,
    "start_time": "2022-03-31T19:08:29.487Z"
   },
   {
    "duration": 12,
    "start_time": "2022-03-31T19:08:29.492Z"
   },
   {
    "duration": 275,
    "start_time": "2022-03-31T19:08:29.506Z"
   },
   {
    "duration": 176,
    "start_time": "2022-03-31T19:08:29.783Z"
   },
   {
    "duration": 59,
    "start_time": "2022-03-31T19:08:29.962Z"
   },
   {
    "duration": 193,
    "start_time": "2022-03-31T19:08:30.024Z"
   },
   {
    "duration": 38,
    "start_time": "2022-03-31T19:08:30.220Z"
   },
   {
    "duration": 2327,
    "start_time": "2022-03-31T19:08:30.263Z"
   },
   {
    "duration": 13,
    "start_time": "2022-03-31T19:08:32.592Z"
   },
   {
    "duration": 46,
    "start_time": "2022-03-31T19:08:32.607Z"
   },
   {
    "duration": 138,
    "start_time": "2022-03-31T19:08:32.656Z"
   },
   {
    "duration": 142,
    "start_time": "2022-03-31T19:08:32.796Z"
   },
   {
    "duration": 25,
    "start_time": "2022-03-31T19:08:32.943Z"
   },
   {
    "duration": 732,
    "start_time": "2022-03-31T19:08:32.970Z"
   },
   {
    "duration": 7,
    "start_time": "2022-03-31T19:08:33.704Z"
   },
   {
    "duration": 32,
    "start_time": "2022-03-31T19:08:33.713Z"
   },
   {
    "duration": 3759,
    "start_time": "2022-03-31T19:08:33.753Z"
   },
   {
    "duration": 0,
    "start_time": "2022-03-31T19:08:37.515Z"
   },
   {
    "duration": 0,
    "start_time": "2022-03-31T19:08:37.516Z"
   },
   {
    "duration": 0,
    "start_time": "2022-03-31T19:08:37.518Z"
   },
   {
    "duration": 0,
    "start_time": "2022-03-31T19:08:37.520Z"
   },
   {
    "duration": 0,
    "start_time": "2022-03-31T19:08:37.521Z"
   },
   {
    "duration": 0,
    "start_time": "2022-03-31T19:08:37.523Z"
   },
   {
    "duration": 0,
    "start_time": "2022-03-31T19:08:37.524Z"
   },
   {
    "duration": 0,
    "start_time": "2022-03-31T19:08:37.526Z"
   },
   {
    "duration": 0,
    "start_time": "2022-03-31T19:08:37.527Z"
   },
   {
    "duration": 0,
    "start_time": "2022-03-31T19:08:37.529Z"
   },
   {
    "duration": 0,
    "start_time": "2022-03-31T19:08:37.530Z"
   },
   {
    "duration": 0,
    "start_time": "2022-03-31T19:08:37.531Z"
   },
   {
    "duration": 0,
    "start_time": "2022-03-31T19:08:37.532Z"
   },
   {
    "duration": 0,
    "start_time": "2022-03-31T19:08:37.533Z"
   },
   {
    "duration": 0,
    "start_time": "2022-03-31T19:08:37.535Z"
   },
   {
    "duration": 0,
    "start_time": "2022-03-31T19:08:37.537Z"
   },
   {
    "duration": 0,
    "start_time": "2022-03-31T19:08:37.538Z"
   },
   {
    "duration": 0,
    "start_time": "2022-03-31T19:08:37.539Z"
   },
   {
    "duration": 0,
    "start_time": "2022-03-31T19:08:37.541Z"
   },
   {
    "duration": 0,
    "start_time": "2022-03-31T19:08:37.542Z"
   },
   {
    "duration": 0,
    "start_time": "2022-03-31T19:08:37.547Z"
   },
   {
    "duration": 0,
    "start_time": "2022-03-31T19:08:37.554Z"
   },
   {
    "duration": 0,
    "start_time": "2022-03-31T19:08:37.556Z"
   },
   {
    "duration": 0,
    "start_time": "2022-03-31T19:08:37.558Z"
   },
   {
    "duration": 0,
    "start_time": "2022-03-31T19:08:37.560Z"
   },
   {
    "duration": 0,
    "start_time": "2022-03-31T19:08:37.562Z"
   },
   {
    "duration": 0,
    "start_time": "2022-03-31T19:08:37.564Z"
   },
   {
    "duration": 0,
    "start_time": "2022-03-31T19:08:37.566Z"
   },
   {
    "duration": 0,
    "start_time": "2022-03-31T19:08:37.569Z"
   },
   {
    "duration": 0,
    "start_time": "2022-03-31T19:08:37.571Z"
   },
   {
    "duration": 0,
    "start_time": "2022-03-31T19:08:37.573Z"
   },
   {
    "duration": 0,
    "start_time": "2022-03-31T19:08:37.576Z"
   },
   {
    "duration": 0,
    "start_time": "2022-03-31T19:08:37.578Z"
   },
   {
    "duration": 0,
    "start_time": "2022-03-31T19:08:37.580Z"
   },
   {
    "duration": 1,
    "start_time": "2022-03-31T19:08:37.582Z"
   },
   {
    "duration": 0,
    "start_time": "2022-03-31T19:08:37.585Z"
   },
   {
    "duration": 0,
    "start_time": "2022-03-31T19:08:37.587Z"
   },
   {
    "duration": 0,
    "start_time": "2022-03-31T19:08:37.647Z"
   },
   {
    "duration": 0,
    "start_time": "2022-03-31T19:08:37.648Z"
   },
   {
    "duration": 0,
    "start_time": "2022-03-31T19:08:37.652Z"
   },
   {
    "duration": 6,
    "start_time": "2022-03-31T19:09:09.085Z"
   },
   {
    "duration": 19,
    "start_time": "2022-03-31T19:12:06.956Z"
   },
   {
    "duration": 24,
    "start_time": "2022-03-31T19:12:20.091Z"
   },
   {
    "duration": 11,
    "start_time": "2022-03-31T19:14:11.768Z"
   },
   {
    "duration": 4,
    "start_time": "2022-03-31T19:14:15.396Z"
   },
   {
    "duration": 9,
    "start_time": "2022-03-31T19:14:22.928Z"
   },
   {
    "duration": 7,
    "start_time": "2022-03-31T19:14:28.515Z"
   },
   {
    "duration": 7,
    "start_time": "2022-03-31T19:14:30.621Z"
   },
   {
    "duration": 5,
    "start_time": "2022-03-31T19:14:32.763Z"
   },
   {
    "duration": 15,
    "start_time": "2022-03-31T19:14:34.456Z"
   },
   {
    "duration": 32,
    "start_time": "2022-03-31T19:14:40.957Z"
   },
   {
    "duration": 775,
    "start_time": "2022-03-31T19:14:52.583Z"
   },
   {
    "duration": 19,
    "start_time": "2022-03-31T19:16:59.000Z"
   },
   {
    "duration": 25,
    "start_time": "2022-03-31T19:17:27.336Z"
   },
   {
    "duration": 23,
    "start_time": "2022-03-31T19:17:46.609Z"
   },
   {
    "duration": 5,
    "start_time": "2022-03-31T19:18:23.120Z"
   },
   {
    "duration": 7,
    "start_time": "2022-03-31T19:18:41.371Z"
   },
   {
    "duration": 974,
    "start_time": "2022-03-31T19:18:45.303Z"
   },
   {
    "duration": 5,
    "start_time": "2022-03-31T19:19:36.656Z"
   },
   {
    "duration": 9,
    "start_time": "2022-03-31T19:19:38.720Z"
   },
   {
    "duration": 5,
    "start_time": "2022-03-31T19:19:39.820Z"
   },
   {
    "duration": 9,
    "start_time": "2022-03-31T19:19:43.522Z"
   },
   {
    "duration": 3434,
    "start_time": "2022-03-31T19:19:53.493Z"
   },
   {
    "duration": 0,
    "start_time": "2022-03-31T19:19:56.930Z"
   },
   {
    "duration": 0,
    "start_time": "2022-03-31T19:19:56.931Z"
   },
   {
    "duration": 11,
    "start_time": "2022-03-31T19:19:57.298Z"
   },
   {
    "duration": 6283,
    "start_time": "2022-03-31T19:20:14.696Z"
   },
   {
    "duration": 18,
    "start_time": "2022-03-31T19:21:15.897Z"
   },
   {
    "duration": 27,
    "start_time": "2022-03-31T19:21:37.733Z"
   },
   {
    "duration": 18,
    "start_time": "2022-03-31T19:23:02.064Z"
   },
   {
    "duration": 22,
    "start_time": "2022-03-31T19:23:33.767Z"
   },
   {
    "duration": 21,
    "start_time": "2022-03-31T19:24:25.448Z"
   },
   {
    "duration": 11,
    "start_time": "2022-03-31T19:24:46.373Z"
   },
   {
    "duration": 4,
    "start_time": "2022-03-31T19:24:49.915Z"
   },
   {
    "duration": 8,
    "start_time": "2022-03-31T19:24:53.153Z"
   },
   {
    "duration": 7,
    "start_time": "2022-03-31T19:24:59.744Z"
   },
   {
    "duration": 7,
    "start_time": "2022-03-31T19:25:02.496Z"
   },
   {
    "duration": 6,
    "start_time": "2022-03-31T19:25:07.636Z"
   },
   {
    "duration": 15,
    "start_time": "2022-03-31T19:25:10.296Z"
   },
   {
    "duration": 32,
    "start_time": "2022-03-31T19:25:45.398Z"
   },
   {
    "duration": 3,
    "start_time": "2022-03-31T19:26:02.883Z"
   },
   {
    "duration": 6,
    "start_time": "2022-03-31T19:26:04.800Z"
   },
   {
    "duration": 5,
    "start_time": "2022-03-31T19:26:05.654Z"
   },
   {
    "duration": 16,
    "start_time": "2022-03-31T19:26:06.448Z"
   },
   {
    "duration": 31,
    "start_time": "2022-03-31T19:26:10.537Z"
   },
   {
    "duration": 23,
    "start_time": "2022-03-31T19:35:15.284Z"
   },
   {
    "duration": 33,
    "start_time": "2022-03-31T19:35:40.234Z"
   },
   {
    "duration": 24,
    "start_time": "2022-03-31T19:36:24.236Z"
   },
   {
    "duration": 3684,
    "start_time": "2022-03-31T19:36:48.280Z"
   },
   {
    "duration": 2,
    "start_time": "2022-03-31T19:42:12.937Z"
   },
   {
    "duration": 40,
    "start_time": "2022-03-31T19:42:14.584Z"
   },
   {
    "duration": 773,
    "start_time": "2022-03-31T19:42:17.770Z"
   },
   {
    "duration": 27,
    "start_time": "2022-03-31T19:42:33.721Z"
   },
   {
    "duration": 3,
    "start_time": "2022-03-31T19:42:35.506Z"
   },
   {
    "duration": 34,
    "start_time": "2022-03-31T19:42:37.479Z"
   },
   {
    "duration": 657,
    "start_time": "2022-03-31T19:42:39.256Z"
   },
   {
    "duration": 437,
    "start_time": "2022-03-31T19:42:51.888Z"
   },
   {
    "duration": 7,
    "start_time": "2022-03-31T19:43:10.604Z"
   },
   {
    "duration": 3416,
    "start_time": "2022-03-31T19:43:39.557Z"
   },
   {
    "duration": 36,
    "start_time": "2022-03-31T19:44:46.807Z"
   },
   {
    "duration": 17,
    "start_time": "2022-03-31T19:45:22.105Z"
   },
   {
    "duration": 26,
    "start_time": "2022-03-31T19:45:24.184Z"
   },
   {
    "duration": 55,
    "start_time": "2022-03-31T19:45:27.553Z"
   },
   {
    "duration": 4094,
    "start_time": "2022-03-31T19:45:37.415Z"
   },
   {
    "duration": 4009,
    "start_time": "2022-03-31T19:45:41.513Z"
   },
   {
    "duration": 1733,
    "start_time": "2022-03-31T19:45:45.524Z"
   },
   {
    "duration": 1007,
    "start_time": "2022-03-31T19:45:47.263Z"
   },
   {
    "duration": 22,
    "start_time": "2022-03-31T19:45:48.273Z"
   },
   {
    "duration": 14,
    "start_time": "2022-03-31T19:45:48.298Z"
   },
   {
    "duration": 15,
    "start_time": "2022-03-31T19:45:48.315Z"
   },
   {
    "duration": 34,
    "start_time": "2022-03-31T19:45:48.348Z"
   },
   {
    "duration": 6,
    "start_time": "2022-03-31T19:45:48.385Z"
   },
   {
    "duration": 107,
    "start_time": "2022-03-31T19:45:48.397Z"
   },
   {
    "duration": 18,
    "start_time": "2022-03-31T19:45:48.506Z"
   },
   {
    "duration": 21,
    "start_time": "2022-03-31T19:45:48.526Z"
   },
   {
    "duration": 283,
    "start_time": "2022-03-31T19:45:48.550Z"
   },
   {
    "duration": 17,
    "start_time": "2022-03-31T19:45:48.835Z"
   },
   {
    "duration": 32,
    "start_time": "2022-03-31T19:45:48.855Z"
   },
   {
    "duration": 94,
    "start_time": "2022-03-31T19:45:48.889Z"
   },
   {
    "duration": 19,
    "start_time": "2022-03-31T19:45:48.986Z"
   },
   {
    "duration": 44,
    "start_time": "2022-03-31T19:45:49.008Z"
   },
   {
    "duration": 18,
    "start_time": "2022-03-31T19:45:49.054Z"
   },
   {
    "duration": 17,
    "start_time": "2022-03-31T19:45:49.074Z"
   },
   {
    "duration": 12,
    "start_time": "2022-03-31T19:45:49.094Z"
   },
   {
    "duration": 374,
    "start_time": "2022-03-31T19:45:49.108Z"
   },
   {
    "duration": 38,
    "start_time": "2022-03-31T19:45:49.485Z"
   },
   {
    "duration": 207,
    "start_time": "2022-03-31T19:45:49.526Z"
   },
   {
    "duration": 15,
    "start_time": "2022-03-31T19:45:49.736Z"
   },
   {
    "duration": 29,
    "start_time": "2022-03-31T19:45:49.753Z"
   },
   {
    "duration": 158,
    "start_time": "2022-03-31T19:45:49.785Z"
   },
   {
    "duration": 925,
    "start_time": "2022-03-31T19:45:49.962Z"
   },
   {
    "duration": 274,
    "start_time": "2022-03-31T19:45:50.891Z"
   },
   {
    "duration": 141,
    "start_time": "2022-03-31T19:45:51.167Z"
   },
   {
    "duration": 48,
    "start_time": "2022-03-31T19:45:51.312Z"
   },
   {
    "duration": 146,
    "start_time": "2022-03-31T19:45:51.363Z"
   },
   {
    "duration": 147,
    "start_time": "2022-03-31T19:45:51.512Z"
   },
   {
    "duration": 41,
    "start_time": "2022-03-31T19:45:51.662Z"
   },
   {
    "duration": 161,
    "start_time": "2022-03-31T19:45:51.705Z"
   },
   {
    "duration": 823,
    "start_time": "2022-03-31T19:45:51.868Z"
   },
   {
    "duration": 461,
    "start_time": "2022-03-31T19:45:52.694Z"
   },
   {
    "duration": 436,
    "start_time": "2022-03-31T19:45:53.158Z"
   },
   {
    "duration": 13,
    "start_time": "2022-03-31T19:45:53.596Z"
   },
   {
    "duration": 138,
    "start_time": "2022-03-31T19:45:53.611Z"
   },
   {
    "duration": 4,
    "start_time": "2022-03-31T19:45:53.755Z"
   },
   {
    "duration": 19,
    "start_time": "2022-03-31T19:45:53.762Z"
   },
   {
    "duration": 239,
    "start_time": "2022-03-31T19:45:53.784Z"
   },
   {
    "duration": 143,
    "start_time": "2022-03-31T19:45:54.026Z"
   },
   {
    "duration": 53,
    "start_time": "2022-03-31T19:45:54.171Z"
   },
   {
    "duration": 163,
    "start_time": "2022-03-31T19:45:54.227Z"
   },
   {
    "duration": 26,
    "start_time": "2022-03-31T19:45:54.392Z"
   },
   {
    "duration": 1822,
    "start_time": "2022-03-31T19:45:54.421Z"
   },
   {
    "duration": 14,
    "start_time": "2022-03-31T19:45:56.245Z"
   },
   {
    "duration": 39,
    "start_time": "2022-03-31T19:45:56.263Z"
   },
   {
    "duration": 52,
    "start_time": "2022-03-31T19:45:56.304Z"
   },
   {
    "duration": 6379,
    "start_time": "2022-03-31T19:45:56.359Z"
   },
   {
    "duration": 0,
    "start_time": "2022-03-31T19:46:02.741Z"
   },
   {
    "duration": 0,
    "start_time": "2022-03-31T19:46:02.743Z"
   },
   {
    "duration": 0,
    "start_time": "2022-03-31T19:46:02.745Z"
   },
   {
    "duration": 0,
    "start_time": "2022-03-31T19:46:02.746Z"
   },
   {
    "duration": 0,
    "start_time": "2022-03-31T19:46:02.747Z"
   },
   {
    "duration": 0,
    "start_time": "2022-03-31T19:46:02.749Z"
   },
   {
    "duration": 0,
    "start_time": "2022-03-31T19:46:02.751Z"
   },
   {
    "duration": 0,
    "start_time": "2022-03-31T19:46:02.753Z"
   },
   {
    "duration": 0,
    "start_time": "2022-03-31T19:46:02.754Z"
   },
   {
    "duration": 0,
    "start_time": "2022-03-31T19:46:02.756Z"
   },
   {
    "duration": 0,
    "start_time": "2022-03-31T19:46:02.758Z"
   },
   {
    "duration": 0,
    "start_time": "2022-03-31T19:46:02.759Z"
   },
   {
    "duration": 0,
    "start_time": "2022-03-31T19:46:02.761Z"
   },
   {
    "duration": 0,
    "start_time": "2022-03-31T19:46:02.763Z"
   },
   {
    "duration": 0,
    "start_time": "2022-03-31T19:46:02.765Z"
   },
   {
    "duration": 0,
    "start_time": "2022-03-31T19:46:02.767Z"
   },
   {
    "duration": 0,
    "start_time": "2022-03-31T19:46:02.768Z"
   },
   {
    "duration": 0,
    "start_time": "2022-03-31T19:46:02.770Z"
   },
   {
    "duration": 0,
    "start_time": "2022-03-31T19:46:02.772Z"
   },
   {
    "duration": 0,
    "start_time": "2022-03-31T19:46:02.774Z"
   },
   {
    "duration": 0,
    "start_time": "2022-03-31T19:46:02.776Z"
   },
   {
    "duration": 1,
    "start_time": "2022-03-31T19:46:02.778Z"
   },
   {
    "duration": 0,
    "start_time": "2022-03-31T19:46:02.781Z"
   },
   {
    "duration": 0,
    "start_time": "2022-03-31T19:46:02.783Z"
   },
   {
    "duration": 0,
    "start_time": "2022-03-31T19:46:02.785Z"
   },
   {
    "duration": 0,
    "start_time": "2022-03-31T19:46:02.787Z"
   },
   {
    "duration": 0,
    "start_time": "2022-03-31T19:46:02.789Z"
   },
   {
    "duration": 0,
    "start_time": "2022-03-31T19:46:02.792Z"
   },
   {
    "duration": 0,
    "start_time": "2022-03-31T19:46:02.794Z"
   },
   {
    "duration": 0,
    "start_time": "2022-03-31T19:46:02.795Z"
   },
   {
    "duration": 0,
    "start_time": "2022-03-31T19:46:02.796Z"
   },
   {
    "duration": 0,
    "start_time": "2022-03-31T19:46:02.797Z"
   },
   {
    "duration": 1,
    "start_time": "2022-03-31T19:46:02.852Z"
   },
   {
    "duration": 0,
    "start_time": "2022-03-31T19:46:02.857Z"
   },
   {
    "duration": 0,
    "start_time": "2022-03-31T19:46:02.859Z"
   },
   {
    "duration": 0,
    "start_time": "2022-03-31T19:46:02.861Z"
   },
   {
    "duration": 0,
    "start_time": "2022-03-31T19:46:02.863Z"
   },
   {
    "duration": 0,
    "start_time": "2022-03-31T19:46:02.866Z"
   },
   {
    "duration": 0,
    "start_time": "2022-03-31T19:46:02.869Z"
   },
   {
    "duration": 0,
    "start_time": "2022-03-31T19:46:02.871Z"
   },
   {
    "duration": 0,
    "start_time": "2022-03-31T19:46:02.873Z"
   },
   {
    "duration": 0,
    "start_time": "2022-03-31T19:46:02.886Z"
   },
   {
    "duration": 0,
    "start_time": "2022-03-31T19:46:02.888Z"
   },
   {
    "duration": 239,
    "start_time": "2022-03-31T19:47:19.575Z"
   },
   {
    "duration": 61,
    "start_time": "2022-03-31T19:47:50.676Z"
   },
   {
    "duration": 24,
    "start_time": "2022-03-31T19:50:00.486Z"
   },
   {
    "duration": 4,
    "start_time": "2022-03-31T19:50:22.060Z"
   },
   {
    "duration": 65,
    "start_time": "2022-03-31T19:50:43.416Z"
   },
   {
    "duration": 92,
    "start_time": "2022-03-31T19:52:05.430Z"
   },
   {
    "duration": 210,
    "start_time": "2022-03-31T19:52:22.653Z"
   },
   {
    "duration": 24,
    "start_time": "2022-03-31T19:52:55.875Z"
   },
   {
    "duration": 24,
    "start_time": "2022-03-31T20:04:35.320Z"
   },
   {
    "duration": 42,
    "start_time": "2022-03-31T20:04:39.206Z"
   },
   {
    "duration": 4856,
    "start_time": "2022-03-31T20:04:48.180Z"
   },
   {
    "duration": 5248,
    "start_time": "2022-03-31T20:04:53.039Z"
   },
   {
    "duration": 2197,
    "start_time": "2022-03-31T20:04:58.291Z"
   },
   {
    "duration": 1235,
    "start_time": "2022-03-31T20:05:00.492Z"
   },
   {
    "duration": 27,
    "start_time": "2022-03-31T20:05:01.730Z"
   },
   {
    "duration": 32,
    "start_time": "2022-03-31T20:05:01.760Z"
   },
   {
    "duration": 22,
    "start_time": "2022-03-31T20:05:01.795Z"
   },
   {
    "duration": 50,
    "start_time": "2022-03-31T20:05:01.820Z"
   },
   {
    "duration": 6,
    "start_time": "2022-03-31T20:05:01.880Z"
   },
   {
    "duration": 129,
    "start_time": "2022-03-31T20:05:01.892Z"
   },
   {
    "duration": 39,
    "start_time": "2022-03-31T20:05:02.024Z"
   },
   {
    "duration": 36,
    "start_time": "2022-03-31T20:05:02.066Z"
   },
   {
    "duration": 282,
    "start_time": "2022-03-31T20:05:02.105Z"
   },
   {
    "duration": 13,
    "start_time": "2022-03-31T20:05:02.390Z"
   },
   {
    "duration": 46,
    "start_time": "2022-03-31T20:05:02.406Z"
   },
   {
    "duration": 124,
    "start_time": "2022-03-31T20:05:02.458Z"
   },
   {
    "duration": 19,
    "start_time": "2022-03-31T20:05:02.585Z"
   },
   {
    "duration": 44,
    "start_time": "2022-03-31T20:05:02.606Z"
   },
   {
    "duration": 33,
    "start_time": "2022-03-31T20:05:02.653Z"
   },
   {
    "duration": 18,
    "start_time": "2022-03-31T20:05:02.688Z"
   },
   {
    "duration": 13,
    "start_time": "2022-03-31T20:05:02.708Z"
   },
   {
    "duration": 295,
    "start_time": "2022-03-31T20:05:02.723Z"
   },
   {
    "duration": 58,
    "start_time": "2022-03-31T20:05:03.020Z"
   },
   {
    "duration": 231,
    "start_time": "2022-03-31T20:05:03.081Z"
   },
   {
    "duration": 16,
    "start_time": "2022-03-31T20:05:03.315Z"
   },
   {
    "duration": 34,
    "start_time": "2022-03-31T20:05:03.347Z"
   },
   {
    "duration": 180,
    "start_time": "2022-03-31T20:05:03.386Z"
   },
   {
    "duration": 709,
    "start_time": "2022-03-31T20:05:03.583Z"
   },
   {
    "duration": 294,
    "start_time": "2022-03-31T20:05:04.295Z"
   },
   {
    "duration": 138,
    "start_time": "2022-03-31T20:05:04.592Z"
   },
   {
    "duration": 40,
    "start_time": "2022-03-31T20:05:04.733Z"
   },
   {
    "duration": 154,
    "start_time": "2022-03-31T20:05:04.780Z"
   },
   {
    "duration": 144,
    "start_time": "2022-03-31T20:05:04.936Z"
   },
   {
    "duration": 25,
    "start_time": "2022-03-31T20:05:05.084Z"
   },
   {
    "duration": 181,
    "start_time": "2022-03-31T20:05:05.111Z"
   },
   {
    "duration": 785,
    "start_time": "2022-03-31T20:05:05.294Z"
   },
   {
    "duration": 471,
    "start_time": "2022-03-31T20:05:06.082Z"
   },
   {
    "duration": 502,
    "start_time": "2022-03-31T20:05:06.556Z"
   },
   {
    "duration": 15,
    "start_time": "2022-03-31T20:05:07.061Z"
   },
   {
    "duration": 160,
    "start_time": "2022-03-31T20:05:07.080Z"
   },
   {
    "duration": 7,
    "start_time": "2022-03-31T20:05:07.247Z"
   },
   {
    "duration": 30,
    "start_time": "2022-03-31T20:05:07.257Z"
   },
   {
    "duration": 249,
    "start_time": "2022-03-31T20:05:07.290Z"
   },
   {
    "duration": 135,
    "start_time": "2022-03-31T20:05:07.554Z"
   },
   {
    "duration": 70,
    "start_time": "2022-03-31T20:05:07.691Z"
   },
   {
    "duration": 158,
    "start_time": "2022-03-31T20:05:07.764Z"
   },
   {
    "duration": 54,
    "start_time": "2022-03-31T20:05:07.925Z"
   },
   {
    "duration": 1933,
    "start_time": "2022-03-31T20:05:07.982Z"
   },
   {
    "duration": 13,
    "start_time": "2022-03-31T20:05:09.918Z"
   },
   {
    "duration": 31,
    "start_time": "2022-03-31T20:05:09.948Z"
   },
   {
    "duration": 35,
    "start_time": "2022-03-31T20:05:09.982Z"
   },
   {
    "duration": 4635,
    "start_time": "2022-03-31T20:05:10.019Z"
   },
   {
    "duration": 0,
    "start_time": "2022-03-31T20:05:14.659Z"
   },
   {
    "duration": 0,
    "start_time": "2022-03-31T20:05:14.661Z"
   },
   {
    "duration": 0,
    "start_time": "2022-03-31T20:05:14.663Z"
   },
   {
    "duration": 0,
    "start_time": "2022-03-31T20:05:14.665Z"
   },
   {
    "duration": 0,
    "start_time": "2022-03-31T20:05:14.670Z"
   },
   {
    "duration": 0,
    "start_time": "2022-03-31T20:05:14.672Z"
   },
   {
    "duration": 0,
    "start_time": "2022-03-31T20:05:14.675Z"
   },
   {
    "duration": 0,
    "start_time": "2022-03-31T20:05:14.676Z"
   },
   {
    "duration": 0,
    "start_time": "2022-03-31T20:05:14.678Z"
   },
   {
    "duration": 0,
    "start_time": "2022-03-31T20:05:14.682Z"
   },
   {
    "duration": 0,
    "start_time": "2022-03-31T20:05:14.684Z"
   },
   {
    "duration": 0,
    "start_time": "2022-03-31T20:05:14.686Z"
   },
   {
    "duration": 0,
    "start_time": "2022-03-31T20:05:14.689Z"
   },
   {
    "duration": 0,
    "start_time": "2022-03-31T20:05:14.692Z"
   },
   {
    "duration": 0,
    "start_time": "2022-03-31T20:05:14.694Z"
   },
   {
    "duration": 0,
    "start_time": "2022-03-31T20:05:14.696Z"
   },
   {
    "duration": 0,
    "start_time": "2022-03-31T20:05:14.698Z"
   },
   {
    "duration": 0,
    "start_time": "2022-03-31T20:05:14.702Z"
   },
   {
    "duration": 0,
    "start_time": "2022-03-31T20:05:14.747Z"
   },
   {
    "duration": 0,
    "start_time": "2022-03-31T20:05:14.749Z"
   },
   {
    "duration": 0,
    "start_time": "2022-03-31T20:05:14.751Z"
   },
   {
    "duration": 0,
    "start_time": "2022-03-31T20:05:14.753Z"
   },
   {
    "duration": 0,
    "start_time": "2022-03-31T20:05:14.754Z"
   },
   {
    "duration": 0,
    "start_time": "2022-03-31T20:05:14.755Z"
   },
   {
    "duration": 0,
    "start_time": "2022-03-31T20:05:14.756Z"
   },
   {
    "duration": 0,
    "start_time": "2022-03-31T20:05:14.757Z"
   },
   {
    "duration": 0,
    "start_time": "2022-03-31T20:05:14.766Z"
   },
   {
    "duration": 0,
    "start_time": "2022-03-31T20:05:14.768Z"
   },
   {
    "duration": 1,
    "start_time": "2022-03-31T20:05:14.770Z"
   },
   {
    "duration": 0,
    "start_time": "2022-03-31T20:05:14.773Z"
   },
   {
    "duration": 0,
    "start_time": "2022-03-31T20:05:14.775Z"
   },
   {
    "duration": 0,
    "start_time": "2022-03-31T20:05:14.777Z"
   },
   {
    "duration": 0,
    "start_time": "2022-03-31T20:05:14.779Z"
   },
   {
    "duration": 0,
    "start_time": "2022-03-31T20:05:14.782Z"
   },
   {
    "duration": 0,
    "start_time": "2022-03-31T20:05:14.784Z"
   },
   {
    "duration": 1,
    "start_time": "2022-03-31T20:05:14.785Z"
   },
   {
    "duration": 0,
    "start_time": "2022-03-31T20:05:14.787Z"
   },
   {
    "duration": 0,
    "start_time": "2022-03-31T20:05:14.789Z"
   },
   {
    "duration": 0,
    "start_time": "2022-03-31T20:05:14.793Z"
   },
   {
    "duration": 0,
    "start_time": "2022-03-31T20:05:14.795Z"
   },
   {
    "duration": 0,
    "start_time": "2022-03-31T20:05:14.796Z"
   },
   {
    "duration": 0,
    "start_time": "2022-03-31T20:05:14.797Z"
   },
   {
    "duration": 0,
    "start_time": "2022-03-31T20:05:14.799Z"
   },
   {
    "duration": 249,
    "start_time": "2022-03-31T20:08:42.296Z"
   },
   {
    "duration": 107,
    "start_time": "2022-03-31T20:10:31.274Z"
   },
   {
    "duration": 117,
    "start_time": "2022-03-31T20:10:52.212Z"
   },
   {
    "duration": 20,
    "start_time": "2022-03-31T20:11:47.237Z"
   },
   {
    "duration": 4491,
    "start_time": "2022-03-31T20:11:57.069Z"
   },
   {
    "duration": 3792,
    "start_time": "2022-03-31T20:12:01.563Z"
   },
   {
    "duration": 1996,
    "start_time": "2022-03-31T20:12:05.357Z"
   },
   {
    "duration": 919,
    "start_time": "2022-03-31T20:12:07.356Z"
   },
   {
    "duration": 17,
    "start_time": "2022-03-31T20:12:08.277Z"
   },
   {
    "duration": 16,
    "start_time": "2022-03-31T20:12:08.297Z"
   },
   {
    "duration": 15,
    "start_time": "2022-03-31T20:12:08.315Z"
   },
   {
    "duration": 45,
    "start_time": "2022-03-31T20:12:08.332Z"
   },
   {
    "duration": 5,
    "start_time": "2022-03-31T20:12:08.379Z"
   },
   {
    "duration": 114,
    "start_time": "2022-03-31T20:12:08.388Z"
   },
   {
    "duration": 20,
    "start_time": "2022-03-31T20:12:08.504Z"
   },
   {
    "duration": 21,
    "start_time": "2022-03-31T20:12:08.526Z"
   },
   {
    "duration": 223,
    "start_time": "2022-03-31T20:12:08.549Z"
   },
   {
    "duration": 13,
    "start_time": "2022-03-31T20:12:08.775Z"
   },
   {
    "duration": 18,
    "start_time": "2022-03-31T20:12:08.791Z"
   },
   {
    "duration": 121,
    "start_time": "2022-03-31T20:12:08.811Z"
   },
   {
    "duration": 23,
    "start_time": "2022-03-31T20:12:08.934Z"
   },
   {
    "duration": 27,
    "start_time": "2022-03-31T20:12:08.960Z"
   },
   {
    "duration": 9,
    "start_time": "2022-03-31T20:12:08.989Z"
   },
   {
    "duration": 55,
    "start_time": "2022-03-31T20:12:09.000Z"
   },
   {
    "duration": 14,
    "start_time": "2022-03-31T20:12:09.057Z"
   },
   {
    "duration": 317,
    "start_time": "2022-03-31T20:12:09.074Z"
   },
   {
    "duration": 34,
    "start_time": "2022-03-31T20:12:09.394Z"
   },
   {
    "duration": 186,
    "start_time": "2022-03-31T20:12:09.431Z"
   },
   {
    "duration": 15,
    "start_time": "2022-03-31T20:12:09.619Z"
   },
   {
    "duration": 23,
    "start_time": "2022-03-31T20:12:09.644Z"
   },
   {
    "duration": 152,
    "start_time": "2022-03-31T20:12:09.669Z"
   },
   {
    "duration": 694,
    "start_time": "2022-03-31T20:12:09.828Z"
   },
   {
    "duration": 227,
    "start_time": "2022-03-31T20:12:10.524Z"
   },
   {
    "duration": 125,
    "start_time": "2022-03-31T20:12:10.754Z"
   },
   {
    "duration": 28,
    "start_time": "2022-03-31T20:12:10.882Z"
   },
   {
    "duration": 166,
    "start_time": "2022-03-31T20:12:10.912Z"
   },
   {
    "duration": 121,
    "start_time": "2022-03-31T20:12:11.081Z"
   },
   {
    "duration": 40,
    "start_time": "2022-03-31T20:12:11.205Z"
   },
   {
    "duration": 198,
    "start_time": "2022-03-31T20:12:11.248Z"
   },
   {
    "duration": 762,
    "start_time": "2022-03-31T20:12:11.449Z"
   },
   {
    "duration": 411,
    "start_time": "2022-03-31T20:12:12.213Z"
   },
   {
    "duration": 445,
    "start_time": "2022-03-31T20:12:12.626Z"
   },
   {
    "duration": 11,
    "start_time": "2022-03-31T20:12:13.074Z"
   },
   {
    "duration": 135,
    "start_time": "2022-03-31T20:12:13.087Z"
   },
   {
    "duration": 4,
    "start_time": "2022-03-31T20:12:13.224Z"
   },
   {
    "duration": 22,
    "start_time": "2022-03-31T20:12:13.230Z"
   },
   {
    "duration": 226,
    "start_time": "2022-03-31T20:12:13.254Z"
   },
   {
    "duration": 130,
    "start_time": "2022-03-31T20:12:13.482Z"
   },
   {
    "duration": 67,
    "start_time": "2022-03-31T20:12:13.614Z"
   },
   {
    "duration": 200,
    "start_time": "2022-03-31T20:12:13.683Z"
   },
   {
    "duration": 29,
    "start_time": "2022-03-31T20:12:13.886Z"
   },
   {
    "duration": 1697,
    "start_time": "2022-03-31T20:12:13.918Z"
   },
   {
    "duration": 30,
    "start_time": "2022-03-31T20:12:15.618Z"
   },
   {
    "duration": 116,
    "start_time": "2022-03-31T20:12:15.651Z"
   },
   {
    "duration": 102,
    "start_time": "2022-03-31T20:12:15.769Z"
   },
   {
    "duration": 3709,
    "start_time": "2022-03-31T20:12:15.874Z"
   },
   {
    "duration": 0,
    "start_time": "2022-03-31T20:12:19.586Z"
   },
   {
    "duration": 0,
    "start_time": "2022-03-31T20:12:19.588Z"
   },
   {
    "duration": 0,
    "start_time": "2022-03-31T20:12:19.589Z"
   },
   {
    "duration": 0,
    "start_time": "2022-03-31T20:12:19.591Z"
   },
   {
    "duration": 0,
    "start_time": "2022-03-31T20:12:19.593Z"
   },
   {
    "duration": 0,
    "start_time": "2022-03-31T20:12:19.595Z"
   },
   {
    "duration": 0,
    "start_time": "2022-03-31T20:12:19.597Z"
   },
   {
    "duration": 0,
    "start_time": "2022-03-31T20:12:19.598Z"
   },
   {
    "duration": 0,
    "start_time": "2022-03-31T20:12:19.600Z"
   },
   {
    "duration": 0,
    "start_time": "2022-03-31T20:12:19.601Z"
   },
   {
    "duration": 0,
    "start_time": "2022-03-31T20:12:19.603Z"
   },
   {
    "duration": 1,
    "start_time": "2022-03-31T20:12:19.604Z"
   },
   {
    "duration": 0,
    "start_time": "2022-03-31T20:12:19.606Z"
   },
   {
    "duration": 0,
    "start_time": "2022-03-31T20:12:19.607Z"
   },
   {
    "duration": 0,
    "start_time": "2022-03-31T20:12:19.609Z"
   },
   {
    "duration": 0,
    "start_time": "2022-03-31T20:12:19.611Z"
   },
   {
    "duration": 0,
    "start_time": "2022-03-31T20:12:19.612Z"
   },
   {
    "duration": 0,
    "start_time": "2022-03-31T20:12:19.614Z"
   },
   {
    "duration": 0,
    "start_time": "2022-03-31T20:12:19.616Z"
   },
   {
    "duration": 0,
    "start_time": "2022-03-31T20:12:19.617Z"
   },
   {
    "duration": 0,
    "start_time": "2022-03-31T20:12:19.618Z"
   },
   {
    "duration": 0,
    "start_time": "2022-03-31T20:12:19.620Z"
   },
   {
    "duration": 0,
    "start_time": "2022-03-31T20:12:19.621Z"
   },
   {
    "duration": 0,
    "start_time": "2022-03-31T20:12:19.622Z"
   },
   {
    "duration": 0,
    "start_time": "2022-03-31T20:12:19.652Z"
   },
   {
    "duration": 0,
    "start_time": "2022-03-31T20:12:19.655Z"
   },
   {
    "duration": 0,
    "start_time": "2022-03-31T20:12:19.661Z"
   },
   {
    "duration": 0,
    "start_time": "2022-03-31T20:12:19.663Z"
   },
   {
    "duration": 0,
    "start_time": "2022-03-31T20:12:19.664Z"
   },
   {
    "duration": 0,
    "start_time": "2022-03-31T20:12:19.666Z"
   },
   {
    "duration": 0,
    "start_time": "2022-03-31T20:12:19.668Z"
   },
   {
    "duration": 0,
    "start_time": "2022-03-31T20:12:19.669Z"
   },
   {
    "duration": 0,
    "start_time": "2022-03-31T20:12:19.671Z"
   },
   {
    "duration": 0,
    "start_time": "2022-03-31T20:12:19.673Z"
   },
   {
    "duration": 0,
    "start_time": "2022-03-31T20:12:19.674Z"
   },
   {
    "duration": 0,
    "start_time": "2022-03-31T20:12:19.676Z"
   },
   {
    "duration": 0,
    "start_time": "2022-03-31T20:12:19.678Z"
   },
   {
    "duration": 0,
    "start_time": "2022-03-31T20:12:19.680Z"
   },
   {
    "duration": 0,
    "start_time": "2022-03-31T20:12:19.681Z"
   },
   {
    "duration": 0,
    "start_time": "2022-03-31T20:12:19.683Z"
   },
   {
    "duration": 1,
    "start_time": "2022-03-31T20:12:19.684Z"
   },
   {
    "duration": 0,
    "start_time": "2022-03-31T20:12:19.686Z"
   },
   {
    "duration": 0,
    "start_time": "2022-03-31T20:12:19.743Z"
   },
   {
    "duration": 140,
    "start_time": "2022-03-31T20:14:16.307Z"
   },
   {
    "duration": 33,
    "start_time": "2022-03-31T20:14:23.399Z"
   },
   {
    "duration": 454,
    "start_time": "2022-03-31T20:14:28.655Z"
   },
   {
    "duration": 3550,
    "start_time": "2022-03-31T20:14:48.690Z"
   },
   {
    "duration": 12,
    "start_time": "2022-03-31T20:15:06.149Z"
   },
   {
    "duration": 20,
    "start_time": "2022-03-31T20:15:50.204Z"
   },
   {
    "duration": 130,
    "start_time": "2022-03-31T20:17:58.322Z"
   },
   {
    "duration": 99,
    "start_time": "2022-03-31T20:18:00.332Z"
   },
   {
    "duration": 3648,
    "start_time": "2022-03-31T20:18:13.065Z"
   },
   {
    "duration": 3753,
    "start_time": "2022-03-31T20:18:16.717Z"
   },
   {
    "duration": 1759,
    "start_time": "2022-03-31T20:18:20.472Z"
   },
   {
    "duration": 905,
    "start_time": "2022-03-31T20:18:22.233Z"
   },
   {
    "duration": 23,
    "start_time": "2022-03-31T20:18:23.141Z"
   },
   {
    "duration": 15,
    "start_time": "2022-03-31T20:18:23.166Z"
   },
   {
    "duration": 13,
    "start_time": "2022-03-31T20:18:23.183Z"
   },
   {
    "duration": 80,
    "start_time": "2022-03-31T20:18:23.199Z"
   },
   {
    "duration": 6,
    "start_time": "2022-03-31T20:18:23.282Z"
   },
   {
    "duration": 95,
    "start_time": "2022-03-31T20:18:23.290Z"
   },
   {
    "duration": 18,
    "start_time": "2022-03-31T20:18:23.388Z"
   },
   {
    "duration": 4,
    "start_time": "2022-03-31T20:18:23.408Z"
   },
   {
    "duration": 242,
    "start_time": "2022-03-31T20:18:23.414Z"
   },
   {
    "duration": 13,
    "start_time": "2022-03-31T20:18:23.661Z"
   },
   {
    "duration": 32,
    "start_time": "2022-03-31T20:18:23.677Z"
   },
   {
    "duration": 104,
    "start_time": "2022-03-31T20:18:23.712Z"
   },
   {
    "duration": 26,
    "start_time": "2022-03-31T20:18:23.819Z"
   },
   {
    "duration": 34,
    "start_time": "2022-03-31T20:18:23.847Z"
   },
   {
    "duration": 7,
    "start_time": "2022-03-31T20:18:23.883Z"
   },
   {
    "duration": 19,
    "start_time": "2022-03-31T20:18:23.892Z"
   },
   {
    "duration": 20,
    "start_time": "2022-03-31T20:18:23.914Z"
   },
   {
    "duration": 277,
    "start_time": "2022-03-31T20:18:23.936Z"
   },
   {
    "duration": 49,
    "start_time": "2022-03-31T20:18:24.215Z"
   },
   {
    "duration": 161,
    "start_time": "2022-03-31T20:18:24.266Z"
   },
   {
    "duration": 17,
    "start_time": "2022-03-31T20:18:24.430Z"
   },
   {
    "duration": 26,
    "start_time": "2022-03-31T20:18:24.449Z"
   },
   {
    "duration": 133,
    "start_time": "2022-03-31T20:18:24.478Z"
   },
   {
    "duration": 587,
    "start_time": "2022-03-31T20:18:24.613Z"
   },
   {
    "duration": 186,
    "start_time": "2022-03-31T20:18:25.202Z"
   },
   {
    "duration": 201,
    "start_time": "2022-03-31T20:18:25.390Z"
   },
   {
    "duration": 28,
    "start_time": "2022-03-31T20:18:25.593Z"
   },
   {
    "duration": 143,
    "start_time": "2022-03-31T20:18:25.643Z"
   },
   {
    "duration": 157,
    "start_time": "2022-03-31T20:18:25.788Z"
   },
   {
    "duration": 36,
    "start_time": "2022-03-31T20:18:25.947Z"
   },
   {
    "duration": 147,
    "start_time": "2022-03-31T20:18:25.985Z"
   },
   {
    "duration": 735,
    "start_time": "2022-03-31T20:18:26.142Z"
   },
   {
    "duration": 416,
    "start_time": "2022-03-31T20:18:26.879Z"
   },
   {
    "duration": 420,
    "start_time": "2022-03-31T20:18:27.297Z"
   },
   {
    "duration": 27,
    "start_time": "2022-03-31T20:18:27.719Z"
   },
   {
    "duration": 115,
    "start_time": "2022-03-31T20:18:27.750Z"
   },
   {
    "duration": 5,
    "start_time": "2022-03-31T20:18:27.872Z"
   },
   {
    "duration": 14,
    "start_time": "2022-03-31T20:18:27.879Z"
   },
   {
    "duration": 226,
    "start_time": "2022-03-31T20:18:27.895Z"
   },
   {
    "duration": 131,
    "start_time": "2022-03-31T20:18:28.123Z"
   },
   {
    "duration": 55,
    "start_time": "2022-03-31T20:18:28.256Z"
   },
   {
    "duration": 163,
    "start_time": "2022-03-31T20:18:28.313Z"
   },
   {
    "duration": 25,
    "start_time": "2022-03-31T20:18:28.479Z"
   },
   {
    "duration": 1702,
    "start_time": "2022-03-31T20:18:28.506Z"
   },
   {
    "duration": 11,
    "start_time": "2022-03-31T20:18:30.211Z"
   },
   {
    "duration": 134,
    "start_time": "2022-03-31T20:18:30.224Z"
   },
   {
    "duration": 108,
    "start_time": "2022-03-31T20:18:30.360Z"
   },
   {
    "duration": 163,
    "start_time": "2022-03-31T20:18:30.471Z"
   },
   {
    "duration": 23,
    "start_time": "2022-03-31T20:18:30.636Z"
   },
   {
    "duration": 474,
    "start_time": "2022-03-31T20:18:30.662Z"
   },
   {
    "duration": 21,
    "start_time": "2022-03-31T20:18:31.138Z"
   },
   {
    "duration": 3902,
    "start_time": "2022-03-31T20:18:31.162Z"
   },
   {
    "duration": 0,
    "start_time": "2022-03-31T20:18:35.067Z"
   },
   {
    "duration": 0,
    "start_time": "2022-03-31T20:18:35.070Z"
   },
   {
    "duration": 0,
    "start_time": "2022-03-31T20:18:35.073Z"
   },
   {
    "duration": 0,
    "start_time": "2022-03-31T20:18:35.075Z"
   },
   {
    "duration": 0,
    "start_time": "2022-03-31T20:18:35.078Z"
   },
   {
    "duration": 0,
    "start_time": "2022-03-31T20:18:35.080Z"
   },
   {
    "duration": 0,
    "start_time": "2022-03-31T20:18:35.082Z"
   },
   {
    "duration": 0,
    "start_time": "2022-03-31T20:18:35.084Z"
   },
   {
    "duration": 0,
    "start_time": "2022-03-31T20:18:35.087Z"
   },
   {
    "duration": 0,
    "start_time": "2022-03-31T20:18:35.089Z"
   },
   {
    "duration": 0,
    "start_time": "2022-03-31T20:18:35.092Z"
   },
   {
    "duration": 0,
    "start_time": "2022-03-31T20:18:35.093Z"
   },
   {
    "duration": 0,
    "start_time": "2022-03-31T20:18:35.096Z"
   },
   {
    "duration": 0,
    "start_time": "2022-03-31T20:18:35.098Z"
   },
   {
    "duration": 0,
    "start_time": "2022-03-31T20:18:35.101Z"
   },
   {
    "duration": 0,
    "start_time": "2022-03-31T20:18:35.103Z"
   },
   {
    "duration": 0,
    "start_time": "2022-03-31T20:18:35.105Z"
   },
   {
    "duration": 0,
    "start_time": "2022-03-31T20:18:35.144Z"
   },
   {
    "duration": 0,
    "start_time": "2022-03-31T20:18:35.145Z"
   },
   {
    "duration": 0,
    "start_time": "2022-03-31T20:18:35.147Z"
   },
   {
    "duration": 0,
    "start_time": "2022-03-31T20:18:35.148Z"
   },
   {
    "duration": 0,
    "start_time": "2022-03-31T20:18:35.150Z"
   },
   {
    "duration": 0,
    "start_time": "2022-03-31T20:18:35.151Z"
   },
   {
    "duration": 0,
    "start_time": "2022-03-31T20:18:35.154Z"
   },
   {
    "duration": 0,
    "start_time": "2022-03-31T20:18:35.156Z"
   },
   {
    "duration": 0,
    "start_time": "2022-03-31T20:18:35.158Z"
   },
   {
    "duration": 0,
    "start_time": "2022-03-31T20:18:35.160Z"
   },
   {
    "duration": 0,
    "start_time": "2022-03-31T20:18:35.162Z"
   },
   {
    "duration": 0,
    "start_time": "2022-03-31T20:18:35.163Z"
   },
   {
    "duration": 0,
    "start_time": "2022-03-31T20:18:35.165Z"
   },
   {
    "duration": 0,
    "start_time": "2022-03-31T20:18:35.167Z"
   },
   {
    "duration": 0,
    "start_time": "2022-03-31T20:18:35.168Z"
   },
   {
    "duration": 0,
    "start_time": "2022-03-31T20:18:35.169Z"
   },
   {
    "duration": 0,
    "start_time": "2022-03-31T20:18:35.171Z"
   },
   {
    "duration": 0,
    "start_time": "2022-03-31T20:18:35.173Z"
   },
   {
    "duration": 0,
    "start_time": "2022-03-31T20:18:35.176Z"
   },
   {
    "duration": 0,
    "start_time": "2022-03-31T20:18:35.178Z"
   },
   {
    "duration": 0,
    "start_time": "2022-03-31T20:18:35.180Z"
   },
   {
    "duration": 0,
    "start_time": "2022-03-31T20:18:35.182Z"
   },
   {
    "duration": 0,
    "start_time": "2022-03-31T20:18:35.249Z"
   },
   {
    "duration": 22,
    "start_time": "2022-03-31T20:20:55.770Z"
   },
   {
    "duration": 24,
    "start_time": "2022-03-31T20:21:14.345Z"
   },
   {
    "duration": 23,
    "start_time": "2022-03-31T20:21:28.802Z"
   },
   {
    "duration": 11,
    "start_time": "2022-03-31T20:22:06.795Z"
   },
   {
    "duration": 9,
    "start_time": "2022-03-31T20:22:25.044Z"
   },
   {
    "duration": 9,
    "start_time": "2022-03-31T20:22:29.496Z"
   },
   {
    "duration": 8,
    "start_time": "2022-03-31T20:22:35.144Z"
   },
   {
    "duration": 7,
    "start_time": "2022-03-31T20:22:36.882Z"
   },
   {
    "duration": 7,
    "start_time": "2022-03-31T20:22:38.341Z"
   },
   {
    "duration": 15,
    "start_time": "2022-03-31T20:22:40.275Z"
   },
   {
    "duration": 33,
    "start_time": "2022-03-31T20:22:44.176Z"
   },
   {
    "duration": 12,
    "start_time": "2022-03-31T20:23:50.950Z"
   },
   {
    "duration": 4,
    "start_time": "2022-03-31T20:23:52.933Z"
   },
   {
    "duration": 9,
    "start_time": "2022-03-31T20:23:54.006Z"
   },
   {
    "duration": 3,
    "start_time": "2022-03-31T20:23:55.806Z"
   },
   {
    "duration": 8,
    "start_time": "2022-03-31T20:23:56.504Z"
   },
   {
    "duration": 6,
    "start_time": "2022-03-31T20:23:58.204Z"
   },
   {
    "duration": 15,
    "start_time": "2022-03-31T20:24:01.003Z"
   },
   {
    "duration": 56,
    "start_time": "2022-03-31T20:24:04.811Z"
   },
   {
    "duration": 10,
    "start_time": "2022-03-31T20:24:19.024Z"
   },
   {
    "duration": 6,
    "start_time": "2022-03-31T20:24:19.877Z"
   },
   {
    "duration": 5,
    "start_time": "2022-03-31T20:24:20.971Z"
   },
   {
    "duration": 3512,
    "start_time": "2022-03-31T20:24:21.831Z"
   },
   {
    "duration": 0,
    "start_time": "2022-03-31T20:24:25.346Z"
   },
   {
    "duration": 39,
    "start_time": "2022-03-31T20:24:26.365Z"
   },
   {
    "duration": 12,
    "start_time": "2022-03-31T20:25:01.876Z"
   },
   {
    "duration": 4,
    "start_time": "2022-03-31T20:25:02.598Z"
   },
   {
    "duration": 10,
    "start_time": "2022-03-31T20:25:03.269Z"
   },
   {
    "duration": 8,
    "start_time": "2022-03-31T20:25:03.903Z"
   },
   {
    "duration": 7,
    "start_time": "2022-03-31T20:25:07.442Z"
   },
   {
    "duration": 7,
    "start_time": "2022-03-31T20:25:10.696Z"
   },
   {
    "duration": 13,
    "start_time": "2022-03-31T20:25:52.234Z"
   },
   {
    "duration": 8,
    "start_time": "2022-03-31T20:25:52.701Z"
   },
   {
    "duration": 6,
    "start_time": "2022-03-31T20:25:55.931Z"
   },
   {
    "duration": 5551,
    "start_time": "2022-03-31T20:25:57.675Z"
   },
   {
    "duration": 0,
    "start_time": "2022-03-31T20:26:03.229Z"
   },
   {
    "duration": 20,
    "start_time": "2022-03-31T20:26:21.103Z"
   },
   {
    "duration": 13,
    "start_time": "2022-03-31T20:26:24.327Z"
   },
   {
    "duration": 8,
    "start_time": "2022-03-31T20:26:36.244Z"
   },
   {
    "duration": 10,
    "start_time": "2022-03-31T20:26:44.328Z"
   },
   {
    "duration": 15,
    "start_time": "2022-03-31T20:27:07.525Z"
   },
   {
    "duration": 7,
    "start_time": "2022-03-31T20:27:20.007Z"
   },
   {
    "duration": 7,
    "start_time": "2022-03-31T20:27:23.728Z"
   },
   {
    "duration": 5,
    "start_time": "2022-03-31T20:27:45.794Z"
   },
   {
    "duration": 14,
    "start_time": "2022-03-31T20:27:49.359Z"
   },
   {
    "duration": 32,
    "start_time": "2022-03-31T20:27:55.576Z"
   },
   {
    "duration": 3634,
    "start_time": "2022-03-31T20:29:11.082Z"
   },
   {
    "duration": 3794,
    "start_time": "2022-03-31T20:29:14.720Z"
   },
   {
    "duration": 1864,
    "start_time": "2022-03-31T20:29:18.516Z"
   },
   {
    "duration": 1123,
    "start_time": "2022-03-31T20:29:20.384Z"
   },
   {
    "duration": 23,
    "start_time": "2022-03-31T20:29:21.510Z"
   },
   {
    "duration": 11,
    "start_time": "2022-03-31T20:29:21.536Z"
   },
   {
    "duration": 27,
    "start_time": "2022-03-31T20:29:21.551Z"
   },
   {
    "duration": 35,
    "start_time": "2022-03-31T20:29:21.580Z"
   },
   {
    "duration": 5,
    "start_time": "2022-03-31T20:29:21.618Z"
   },
   {
    "duration": 150,
    "start_time": "2022-03-31T20:29:21.628Z"
   },
   {
    "duration": 24,
    "start_time": "2022-03-31T20:29:21.781Z"
   },
   {
    "duration": 5,
    "start_time": "2022-03-31T20:29:21.807Z"
   },
   {
    "duration": 267,
    "start_time": "2022-03-31T20:29:21.814Z"
   },
   {
    "duration": 13,
    "start_time": "2022-03-31T20:29:22.083Z"
   },
   {
    "duration": 12,
    "start_time": "2022-03-31T20:29:22.099Z"
   },
   {
    "duration": 156,
    "start_time": "2022-03-31T20:29:22.113Z"
   },
   {
    "duration": 15,
    "start_time": "2022-03-31T20:29:22.272Z"
   },
   {
    "duration": 21,
    "start_time": "2022-03-31T20:29:22.290Z"
   },
   {
    "duration": 39,
    "start_time": "2022-03-31T20:29:22.314Z"
   },
   {
    "duration": 25,
    "start_time": "2022-03-31T20:29:22.357Z"
   },
   {
    "duration": 11,
    "start_time": "2022-03-31T20:29:22.384Z"
   },
   {
    "duration": 279,
    "start_time": "2022-03-31T20:29:22.398Z"
   },
   {
    "duration": 34,
    "start_time": "2022-03-31T20:29:22.679Z"
   },
   {
    "duration": 196,
    "start_time": "2022-03-31T20:29:22.716Z"
   },
   {
    "duration": 13,
    "start_time": "2022-03-31T20:29:22.914Z"
   },
   {
    "duration": 25,
    "start_time": "2022-03-31T20:29:22.947Z"
   },
   {
    "duration": 158,
    "start_time": "2022-03-31T20:29:22.975Z"
   },
   {
    "duration": 803,
    "start_time": "2022-03-31T20:29:23.141Z"
   },
   {
    "duration": 243,
    "start_time": "2022-03-31T20:29:23.946Z"
   },
   {
    "duration": 161,
    "start_time": "2022-03-31T20:29:24.192Z"
   },
   {
    "duration": 29,
    "start_time": "2022-03-31T20:29:24.356Z"
   },
   {
    "duration": 163,
    "start_time": "2022-03-31T20:29:24.387Z"
   },
   {
    "duration": 132,
    "start_time": "2022-03-31T20:29:24.553Z"
   },
   {
    "duration": 32,
    "start_time": "2022-03-31T20:29:24.688Z"
   },
   {
    "duration": 180,
    "start_time": "2022-03-31T20:29:24.723Z"
   },
   {
    "duration": 951,
    "start_time": "2022-03-31T20:29:24.906Z"
   },
   {
    "duration": 558,
    "start_time": "2022-03-31T20:29:25.864Z"
   },
   {
    "duration": 523,
    "start_time": "2022-03-31T20:29:26.424Z"
   },
   {
    "duration": 14,
    "start_time": "2022-03-31T20:29:26.950Z"
   },
   {
    "duration": 130,
    "start_time": "2022-03-31T20:29:26.967Z"
   },
   {
    "duration": 4,
    "start_time": "2022-03-31T20:29:27.100Z"
   },
   {
    "duration": 15,
    "start_time": "2022-03-31T20:29:27.107Z"
   },
   {
    "duration": 309,
    "start_time": "2022-03-31T20:29:27.125Z"
   },
   {
    "duration": 182,
    "start_time": "2022-03-31T20:29:27.437Z"
   },
   {
    "duration": 76,
    "start_time": "2022-03-31T20:29:27.622Z"
   },
   {
    "duration": 201,
    "start_time": "2022-03-31T20:29:27.700Z"
   },
   {
    "duration": 50,
    "start_time": "2022-03-31T20:29:27.904Z"
   },
   {
    "duration": 1846,
    "start_time": "2022-03-31T20:29:27.956Z"
   },
   {
    "duration": 13,
    "start_time": "2022-03-31T20:29:29.804Z"
   },
   {
    "duration": 134,
    "start_time": "2022-03-31T20:29:29.819Z"
   },
   {
    "duration": 112,
    "start_time": "2022-03-31T20:29:29.955Z"
   },
   {
    "duration": 152,
    "start_time": "2022-03-31T20:29:30.070Z"
   },
   {
    "duration": 19,
    "start_time": "2022-03-31T20:29:30.225Z"
   },
   {
    "duration": 622,
    "start_time": "2022-03-31T20:29:30.246Z"
   },
   {
    "duration": 8,
    "start_time": "2022-03-31T20:29:30.871Z"
   },
   {
    "duration": 82,
    "start_time": "2022-03-31T20:29:30.882Z"
   },
   {
    "duration": 29,
    "start_time": "2022-03-31T20:29:30.967Z"
   },
   {
    "duration": 15,
    "start_time": "2022-03-31T20:29:30.999Z"
   },
   {
    "duration": 32,
    "start_time": "2022-03-31T20:29:31.017Z"
   },
   {
    "duration": 32,
    "start_time": "2022-03-31T20:29:31.052Z"
   },
   {
    "duration": 37,
    "start_time": "2022-03-31T20:29:31.086Z"
   },
   {
    "duration": 42,
    "start_time": "2022-03-31T20:29:31.126Z"
   },
   {
    "duration": 17,
    "start_time": "2022-03-31T20:29:31.170Z"
   },
   {
    "duration": 21,
    "start_time": "2022-03-31T20:29:31.189Z"
   },
   {
    "duration": 41,
    "start_time": "2022-03-31T20:29:31.212Z"
   },
   {
    "duration": 53,
    "start_time": "2022-03-31T20:29:31.256Z"
   },
   {
    "duration": 621,
    "start_time": "2022-03-31T20:29:31.311Z"
   },
   {
    "duration": 266,
    "start_time": "2022-03-31T20:29:31.934Z"
   },
   {
    "duration": 0,
    "start_time": "2022-03-31T20:29:32.203Z"
   },
   {
    "duration": 0,
    "start_time": "2022-03-31T20:29:32.205Z"
   },
   {
    "duration": 0,
    "start_time": "2022-03-31T20:29:32.207Z"
   },
   {
    "duration": 0,
    "start_time": "2022-03-31T20:29:32.209Z"
   },
   {
    "duration": 0,
    "start_time": "2022-03-31T20:29:32.211Z"
   },
   {
    "duration": 0,
    "start_time": "2022-03-31T20:29:32.212Z"
   },
   {
    "duration": 0,
    "start_time": "2022-03-31T20:29:32.214Z"
   },
   {
    "duration": 0,
    "start_time": "2022-03-31T20:29:32.216Z"
   },
   {
    "duration": 0,
    "start_time": "2022-03-31T20:29:32.243Z"
   },
   {
    "duration": 0,
    "start_time": "2022-03-31T20:29:32.244Z"
   },
   {
    "duration": 0,
    "start_time": "2022-03-31T20:29:32.247Z"
   },
   {
    "duration": 0,
    "start_time": "2022-03-31T20:29:32.252Z"
   },
   {
    "duration": 0,
    "start_time": "2022-03-31T20:29:32.253Z"
   },
   {
    "duration": 0,
    "start_time": "2022-03-31T20:29:32.254Z"
   },
   {
    "duration": 0,
    "start_time": "2022-03-31T20:29:32.256Z"
   },
   {
    "duration": 0,
    "start_time": "2022-03-31T20:29:32.257Z"
   },
   {
    "duration": 0,
    "start_time": "2022-03-31T20:29:32.258Z"
   },
   {
    "duration": 0,
    "start_time": "2022-03-31T20:29:32.259Z"
   },
   {
    "duration": 0,
    "start_time": "2022-03-31T20:29:32.260Z"
   },
   {
    "duration": 0,
    "start_time": "2022-03-31T20:29:32.261Z"
   },
   {
    "duration": 1,
    "start_time": "2022-03-31T20:29:32.262Z"
   },
   {
    "duration": 0,
    "start_time": "2022-03-31T20:29:32.264Z"
   },
   {
    "duration": 0,
    "start_time": "2022-03-31T20:29:32.265Z"
   },
   {
    "duration": 0,
    "start_time": "2022-03-31T20:29:32.266Z"
   },
   {
    "duration": 0,
    "start_time": "2022-03-31T20:29:32.267Z"
   },
   {
    "duration": 0,
    "start_time": "2022-03-31T20:29:32.268Z"
   },
   {
    "duration": 0,
    "start_time": "2022-03-31T20:29:32.269Z"
   },
   {
    "duration": 0,
    "start_time": "2022-03-31T20:29:32.274Z"
   },
   {
    "duration": 0,
    "start_time": "2022-03-31T20:29:32.275Z"
   },
   {
    "duration": 8,
    "start_time": "2022-03-31T20:30:05.658Z"
   },
   {
    "duration": 13,
    "start_time": "2022-03-31T20:30:13.347Z"
   },
   {
    "duration": 25,
    "start_time": "2022-03-31T20:30:20.855Z"
   },
   {
    "duration": 20,
    "start_time": "2022-03-31T20:30:44.394Z"
   },
   {
    "duration": 16,
    "start_time": "2022-03-31T20:30:47.944Z"
   },
   {
    "duration": 5,
    "start_time": "2022-03-31T20:30:49.950Z"
   },
   {
    "duration": 10,
    "start_time": "2022-03-31T20:30:51.712Z"
   },
   {
    "duration": 18,
    "start_time": "2022-03-31T20:30:55.038Z"
   },
   {
    "duration": 7,
    "start_time": "2022-03-31T20:31:32.798Z"
   },
   {
    "duration": 9,
    "start_time": "2022-03-31T20:31:33.525Z"
   },
   {
    "duration": 8,
    "start_time": "2022-03-31T20:31:34.596Z"
   },
   {
    "duration": 20,
    "start_time": "2022-03-31T20:31:35.810Z"
   },
   {
    "duration": 53,
    "start_time": "2022-03-31T20:31:39.447Z"
   },
   {
    "duration": 6,
    "start_time": "2022-03-31T20:31:54.477Z"
   },
   {
    "duration": 6,
    "start_time": "2022-03-31T20:31:55.401Z"
   },
   {
    "duration": 5,
    "start_time": "2022-03-31T20:31:56.451Z"
   },
   {
    "duration": 19,
    "start_time": "2022-03-31T20:31:57.524Z"
   },
   {
    "duration": 32,
    "start_time": "2022-03-31T20:32:01.267Z"
   },
   {
    "duration": 10,
    "start_time": "2022-03-31T20:35:06.049Z"
   },
   {
    "duration": 6,
    "start_time": "2022-03-31T20:35:22.330Z"
   },
   {
    "duration": 136,
    "start_time": "2022-03-31T20:38:00.276Z"
   },
   {
    "duration": 107,
    "start_time": "2022-03-31T20:38:06.364Z"
   },
   {
    "duration": 3677,
    "start_time": "2022-03-31T20:38:26.179Z"
   },
   {
    "duration": 4186,
    "start_time": "2022-03-31T20:38:29.859Z"
   },
   {
    "duration": 1789,
    "start_time": "2022-03-31T20:38:34.048Z"
   },
   {
    "duration": 986,
    "start_time": "2022-03-31T20:38:35.842Z"
   },
   {
    "duration": 17,
    "start_time": "2022-03-31T20:38:36.831Z"
   },
   {
    "duration": 16,
    "start_time": "2022-03-31T20:38:36.851Z"
   },
   {
    "duration": 12,
    "start_time": "2022-03-31T20:38:36.869Z"
   },
   {
    "duration": 68,
    "start_time": "2022-03-31T20:38:36.884Z"
   },
   {
    "duration": 6,
    "start_time": "2022-03-31T20:38:36.954Z"
   },
   {
    "duration": 96,
    "start_time": "2022-03-31T20:38:36.964Z"
   },
   {
    "duration": 18,
    "start_time": "2022-03-31T20:38:37.063Z"
   },
   {
    "duration": 4,
    "start_time": "2022-03-31T20:38:37.084Z"
   },
   {
    "duration": 325,
    "start_time": "2022-03-31T20:38:37.090Z"
   },
   {
    "duration": 13,
    "start_time": "2022-03-31T20:38:37.417Z"
   },
   {
    "duration": 17,
    "start_time": "2022-03-31T20:38:37.442Z"
   },
   {
    "duration": 92,
    "start_time": "2022-03-31T20:38:37.461Z"
   },
   {
    "duration": 17,
    "start_time": "2022-03-31T20:38:37.556Z"
   },
   {
    "duration": 17,
    "start_time": "2022-03-31T20:38:37.575Z"
   },
   {
    "duration": 6,
    "start_time": "2022-03-31T20:38:37.594Z"
   },
   {
    "duration": 55,
    "start_time": "2022-03-31T20:38:37.605Z"
   },
   {
    "duration": 14,
    "start_time": "2022-03-31T20:38:37.662Z"
   },
   {
    "duration": 268,
    "start_time": "2022-03-31T20:38:37.679Z"
   },
   {
    "duration": 43,
    "start_time": "2022-03-31T20:38:37.950Z"
   },
   {
    "duration": 239,
    "start_time": "2022-03-31T20:38:37.996Z"
   },
   {
    "duration": 22,
    "start_time": "2022-03-31T20:38:38.238Z"
   },
   {
    "duration": 20,
    "start_time": "2022-03-31T20:38:38.262Z"
   },
   {
    "duration": 153,
    "start_time": "2022-03-31T20:38:38.285Z"
   },
   {
    "duration": 623,
    "start_time": "2022-03-31T20:38:38.448Z"
   },
   {
    "duration": 223,
    "start_time": "2022-03-31T20:38:39.074Z"
   },
   {
    "duration": 131,
    "start_time": "2022-03-31T20:38:39.300Z"
   },
   {
    "duration": 38,
    "start_time": "2022-03-31T20:38:39.434Z"
   },
   {
    "duration": 159,
    "start_time": "2022-03-31T20:38:39.474Z"
   },
   {
    "duration": 133,
    "start_time": "2022-03-31T20:38:39.635Z"
   },
   {
    "duration": 30,
    "start_time": "2022-03-31T20:38:39.771Z"
   },
   {
    "duration": 160,
    "start_time": "2022-03-31T20:38:39.804Z"
   },
   {
    "duration": 759,
    "start_time": "2022-03-31T20:38:39.968Z"
   },
   {
    "duration": 419,
    "start_time": "2022-03-31T20:38:40.729Z"
   },
   {
    "duration": 451,
    "start_time": "2022-03-31T20:38:41.151Z"
   },
   {
    "duration": 11,
    "start_time": "2022-03-31T20:38:41.604Z"
   },
   {
    "duration": 129,
    "start_time": "2022-03-31T20:38:41.618Z"
   },
   {
    "duration": 9,
    "start_time": "2022-03-31T20:38:41.754Z"
   },
   {
    "duration": 12,
    "start_time": "2022-03-31T20:38:41.766Z"
   },
   {
    "duration": 246,
    "start_time": "2022-03-31T20:38:41.780Z"
   },
   {
    "duration": 131,
    "start_time": "2022-03-31T20:38:42.028Z"
   },
   {
    "duration": 56,
    "start_time": "2022-03-31T20:38:42.162Z"
   },
   {
    "duration": 167,
    "start_time": "2022-03-31T20:38:42.220Z"
   },
   {
    "duration": 25,
    "start_time": "2022-03-31T20:38:42.389Z"
   },
   {
    "duration": 1707,
    "start_time": "2022-03-31T20:38:42.417Z"
   },
   {
    "duration": 30,
    "start_time": "2022-03-31T20:38:44.126Z"
   },
   {
    "duration": 111,
    "start_time": "2022-03-31T20:38:44.158Z"
   },
   {
    "duration": 108,
    "start_time": "2022-03-31T20:38:44.271Z"
   },
   {
    "duration": 3794,
    "start_time": "2022-03-31T20:38:44.381Z"
   },
   {
    "duration": 0,
    "start_time": "2022-03-31T20:38:48.178Z"
   },
   {
    "duration": 0,
    "start_time": "2022-03-31T20:38:48.180Z"
   },
   {
    "duration": 0,
    "start_time": "2022-03-31T20:38:48.181Z"
   },
   {
    "duration": 0,
    "start_time": "2022-03-31T20:38:48.183Z"
   },
   {
    "duration": 0,
    "start_time": "2022-03-31T20:38:48.184Z"
   },
   {
    "duration": 0,
    "start_time": "2022-03-31T20:38:48.186Z"
   },
   {
    "duration": 0,
    "start_time": "2022-03-31T20:38:48.188Z"
   },
   {
    "duration": 0,
    "start_time": "2022-03-31T20:38:48.189Z"
   },
   {
    "duration": 0,
    "start_time": "2022-03-31T20:38:48.191Z"
   },
   {
    "duration": 0,
    "start_time": "2022-03-31T20:38:48.192Z"
   },
   {
    "duration": 0,
    "start_time": "2022-03-31T20:38:48.194Z"
   },
   {
    "duration": 0,
    "start_time": "2022-03-31T20:38:48.196Z"
   },
   {
    "duration": 0,
    "start_time": "2022-03-31T20:38:48.197Z"
   },
   {
    "duration": 0,
    "start_time": "2022-03-31T20:38:48.198Z"
   },
   {
    "duration": 0,
    "start_time": "2022-03-31T20:38:48.199Z"
   },
   {
    "duration": 0,
    "start_time": "2022-03-31T20:38:48.201Z"
   },
   {
    "duration": 0,
    "start_time": "2022-03-31T20:38:48.203Z"
   },
   {
    "duration": 0,
    "start_time": "2022-03-31T20:38:48.205Z"
   },
   {
    "duration": 0,
    "start_time": "2022-03-31T20:38:48.206Z"
   },
   {
    "duration": 0,
    "start_time": "2022-03-31T20:38:48.207Z"
   },
   {
    "duration": 0,
    "start_time": "2022-03-31T20:38:48.209Z"
   },
   {
    "duration": 0,
    "start_time": "2022-03-31T20:38:48.210Z"
   },
   {
    "duration": 0,
    "start_time": "2022-03-31T20:38:48.212Z"
   },
   {
    "duration": 0,
    "start_time": "2022-03-31T20:38:48.213Z"
   },
   {
    "duration": 0,
    "start_time": "2022-03-31T20:38:48.214Z"
   },
   {
    "duration": 0,
    "start_time": "2022-03-31T20:38:48.247Z"
   },
   {
    "duration": 0,
    "start_time": "2022-03-31T20:38:48.250Z"
   },
   {
    "duration": 0,
    "start_time": "2022-03-31T20:38:48.253Z"
   },
   {
    "duration": 0,
    "start_time": "2022-03-31T20:38:48.259Z"
   },
   {
    "duration": 0,
    "start_time": "2022-03-31T20:38:48.260Z"
   },
   {
    "duration": 1,
    "start_time": "2022-03-31T20:38:48.262Z"
   },
   {
    "duration": 0,
    "start_time": "2022-03-31T20:38:48.265Z"
   },
   {
    "duration": 0,
    "start_time": "2022-03-31T20:38:48.266Z"
   },
   {
    "duration": 0,
    "start_time": "2022-03-31T20:38:48.268Z"
   },
   {
    "duration": 0,
    "start_time": "2022-03-31T20:38:48.271Z"
   },
   {
    "duration": 0,
    "start_time": "2022-03-31T20:38:48.272Z"
   },
   {
    "duration": 0,
    "start_time": "2022-03-31T20:38:48.274Z"
   },
   {
    "duration": 0,
    "start_time": "2022-03-31T20:38:48.277Z"
   },
   {
    "duration": 0,
    "start_time": "2022-03-31T20:38:48.279Z"
   },
   {
    "duration": 0,
    "start_time": "2022-03-31T20:38:48.280Z"
   },
   {
    "duration": 0,
    "start_time": "2022-03-31T20:38:48.282Z"
   },
   {
    "duration": 0,
    "start_time": "2022-03-31T20:38:48.284Z"
   },
   {
    "duration": 0,
    "start_time": "2022-03-31T20:38:48.286Z"
   },
   {
    "duration": 0,
    "start_time": "2022-03-31T20:38:48.344Z"
   },
   {
    "duration": 0,
    "start_time": "2022-03-31T20:38:48.346Z"
   },
   {
    "duration": 0,
    "start_time": "2022-03-31T20:38:48.348Z"
   },
   {
    "duration": 148,
    "start_time": "2022-03-31T20:39:38.404Z"
   },
   {
    "duration": 13,
    "start_time": "2022-03-31T20:39:40.665Z"
   },
   {
    "duration": 456,
    "start_time": "2022-03-31T20:39:53.710Z"
   },
   {
    "duration": 7,
    "start_time": "2022-03-31T20:40:01.911Z"
   },
   {
    "duration": 27,
    "start_time": "2022-03-31T20:40:17.651Z"
   },
   {
    "duration": 21,
    "start_time": "2022-03-31T20:40:22.302Z"
   },
   {
    "duration": 24,
    "start_time": "2022-03-31T20:40:24.895Z"
   },
   {
    "duration": 12,
    "start_time": "2022-03-31T20:40:53.523Z"
   },
   {
    "duration": 4,
    "start_time": "2022-03-31T20:40:57.319Z"
   },
   {
    "duration": 8,
    "start_time": "2022-03-31T20:40:59.068Z"
   },
   {
    "duration": 12,
    "start_time": "2022-03-31T20:41:00.417Z"
   },
   {
    "duration": 7,
    "start_time": "2022-03-31T20:41:08.141Z"
   },
   {
    "duration": 6,
    "start_time": "2022-03-31T20:41:10.180Z"
   },
   {
    "duration": 6,
    "start_time": "2022-03-31T20:41:12.357Z"
   },
   {
    "duration": 12,
    "start_time": "2022-03-31T20:41:13.941Z"
   },
   {
    "duration": 7,
    "start_time": "2022-03-31T20:41:37.334Z"
   },
   {
    "duration": 4,
    "start_time": "2022-03-31T20:41:38.317Z"
   },
   {
    "duration": 9,
    "start_time": "2022-03-31T20:41:38.906Z"
   },
   {
    "duration": 13,
    "start_time": "2022-03-31T20:42:00.060Z"
   },
   {
    "duration": 7,
    "start_time": "2022-03-31T20:42:04.179Z"
   },
   {
    "duration": 9,
    "start_time": "2022-03-31T20:42:23.580Z"
   },
   {
    "duration": 11,
    "start_time": "2022-03-31T20:42:24.396Z"
   },
   {
    "duration": 12,
    "start_time": "2022-03-31T20:42:37.329Z"
   },
   {
    "duration": 5,
    "start_time": "2022-03-31T20:42:46.943Z"
   },
   {
    "duration": 8,
    "start_time": "2022-03-31T20:42:47.274Z"
   },
   {
    "duration": 13,
    "start_time": "2022-03-31T20:42:48.404Z"
   },
   {
    "duration": 5,
    "start_time": "2022-03-31T20:42:54.507Z"
   },
   {
    "duration": 6,
    "start_time": "2022-03-31T20:42:55.624Z"
   },
   {
    "duration": 6,
    "start_time": "2022-03-31T20:43:06.469Z"
   },
   {
    "duration": 10,
    "start_time": "2022-03-31T20:43:08.033Z"
   },
   {
    "duration": 9,
    "start_time": "2022-03-31T20:43:10.703Z"
   },
   {
    "duration": 6,
    "start_time": "2022-03-31T20:43:18.900Z"
   },
   {
    "duration": 6,
    "start_time": "2022-03-31T20:43:19.719Z"
   },
   {
    "duration": 5,
    "start_time": "2022-03-31T20:43:20.399Z"
   },
   {
    "duration": 9,
    "start_time": "2022-03-31T20:43:21.124Z"
   },
   {
    "duration": 12,
    "start_time": "2022-03-31T20:44:02.697Z"
   },
   {
    "duration": 21,
    "start_time": "2022-03-31T20:44:09.603Z"
   },
   {
    "duration": 10,
    "start_time": "2022-03-31T20:44:11.875Z"
   },
   {
    "duration": 4,
    "start_time": "2022-03-31T20:44:14.449Z"
   },
   {
    "duration": 8,
    "start_time": "2022-03-31T20:44:16.160Z"
   },
   {
    "duration": 13,
    "start_time": "2022-03-31T20:44:16.956Z"
   },
   {
    "duration": 3,
    "start_time": "2022-03-31T20:44:19.455Z"
   },
   {
    "duration": 9,
    "start_time": "2022-03-31T20:44:20.446Z"
   },
   {
    "duration": 5,
    "start_time": "2022-03-31T20:44:21.659Z"
   },
   {
    "duration": 13,
    "start_time": "2022-03-31T20:44:22.365Z"
   },
   {
    "duration": 6,
    "start_time": "2022-03-31T20:44:29.636Z"
   },
   {
    "duration": 7,
    "start_time": "2022-03-31T20:44:30.437Z"
   },
   {
    "duration": 5,
    "start_time": "2022-03-31T20:44:31.158Z"
   },
   {
    "duration": 10,
    "start_time": "2022-03-31T20:44:31.840Z"
   },
   {
    "duration": 4791,
    "start_time": "2022-03-31T20:44:41.424Z"
   },
   {
    "duration": 3791,
    "start_time": "2022-03-31T20:44:46.218Z"
   },
   {
    "duration": 1701,
    "start_time": "2022-03-31T20:44:50.011Z"
   },
   {
    "duration": 950,
    "start_time": "2022-03-31T20:44:51.715Z"
   },
   {
    "duration": 20,
    "start_time": "2022-03-31T20:44:52.668Z"
   },
   {
    "duration": 11,
    "start_time": "2022-03-31T20:44:52.690Z"
   },
   {
    "duration": 12,
    "start_time": "2022-03-31T20:44:52.704Z"
   },
   {
    "duration": 57,
    "start_time": "2022-03-31T20:44:52.718Z"
   },
   {
    "duration": 5,
    "start_time": "2022-03-31T20:44:52.777Z"
   },
   {
    "duration": 109,
    "start_time": "2022-03-31T20:44:52.787Z"
   },
   {
    "duration": 17,
    "start_time": "2022-03-31T20:44:52.898Z"
   },
   {
    "duration": 4,
    "start_time": "2022-03-31T20:44:52.917Z"
   },
   {
    "duration": 303,
    "start_time": "2022-03-31T20:44:52.949Z"
   },
   {
    "duration": 14,
    "start_time": "2022-03-31T20:44:53.255Z"
   },
   {
    "duration": 23,
    "start_time": "2022-03-31T20:44:53.271Z"
   },
   {
    "duration": 99,
    "start_time": "2022-03-31T20:44:53.296Z"
   },
   {
    "duration": 15,
    "start_time": "2022-03-31T20:44:53.397Z"
   },
   {
    "duration": 38,
    "start_time": "2022-03-31T20:44:53.415Z"
   },
   {
    "duration": 18,
    "start_time": "2022-03-31T20:44:53.455Z"
   },
   {
    "duration": 33,
    "start_time": "2022-03-31T20:44:53.475Z"
   },
   {
    "duration": 11,
    "start_time": "2022-03-31T20:44:53.511Z"
   },
   {
    "duration": 270,
    "start_time": "2022-03-31T20:44:53.525Z"
   },
   {
    "duration": 48,
    "start_time": "2022-03-31T20:44:53.797Z"
   },
   {
    "duration": 172,
    "start_time": "2022-03-31T20:44:53.848Z"
   },
   {
    "duration": 20,
    "start_time": "2022-03-31T20:44:54.023Z"
   },
   {
    "duration": 26,
    "start_time": "2022-03-31T20:44:54.045Z"
   },
   {
    "duration": 141,
    "start_time": "2022-03-31T20:44:54.073Z"
   },
   {
    "duration": 600,
    "start_time": "2022-03-31T20:44:54.220Z"
   },
   {
    "duration": 223,
    "start_time": "2022-03-31T20:44:54.823Z"
   },
   {
    "duration": 136,
    "start_time": "2022-03-31T20:44:55.051Z"
   },
   {
    "duration": 30,
    "start_time": "2022-03-31T20:44:55.190Z"
   },
   {
    "duration": 173,
    "start_time": "2022-03-31T20:44:55.222Z"
   },
   {
    "duration": 140,
    "start_time": "2022-03-31T20:44:55.397Z"
   },
   {
    "duration": 30,
    "start_time": "2022-03-31T20:44:55.540Z"
   },
   {
    "duration": 148,
    "start_time": "2022-03-31T20:44:55.573Z"
   },
   {
    "duration": 729,
    "start_time": "2022-03-31T20:44:55.723Z"
   },
   {
    "duration": 408,
    "start_time": "2022-03-31T20:44:56.455Z"
   },
   {
    "duration": 417,
    "start_time": "2022-03-31T20:44:56.866Z"
   },
   {
    "duration": 11,
    "start_time": "2022-03-31T20:44:57.285Z"
   },
   {
    "duration": 132,
    "start_time": "2022-03-31T20:44:57.298Z"
   },
   {
    "duration": 4,
    "start_time": "2022-03-31T20:44:57.432Z"
   },
   {
    "duration": 18,
    "start_time": "2022-03-31T20:44:57.439Z"
   },
   {
    "duration": 222,
    "start_time": "2022-03-31T20:44:57.460Z"
   },
   {
    "duration": 129,
    "start_time": "2022-03-31T20:44:57.684Z"
   },
   {
    "duration": 65,
    "start_time": "2022-03-31T20:44:57.816Z"
   },
   {
    "duration": 166,
    "start_time": "2022-03-31T20:44:57.884Z"
   },
   {
    "duration": 29,
    "start_time": "2022-03-31T20:44:58.053Z"
   },
   {
    "duration": 1691,
    "start_time": "2022-03-31T20:44:58.084Z"
   },
   {
    "duration": 14,
    "start_time": "2022-03-31T20:44:59.778Z"
   },
   {
    "duration": 156,
    "start_time": "2022-03-31T20:44:59.794Z"
   },
   {
    "duration": 123,
    "start_time": "2022-03-31T20:44:59.953Z"
   },
   {
    "duration": 188,
    "start_time": "2022-03-31T20:45:00.079Z"
   },
   {
    "duration": 18,
    "start_time": "2022-03-31T20:45:00.270Z"
   },
   {
    "duration": 657,
    "start_time": "2022-03-31T20:45:00.290Z"
   },
   {
    "duration": 14,
    "start_time": "2022-03-31T20:45:00.949Z"
   },
   {
    "duration": 33,
    "start_time": "2022-03-31T20:45:00.966Z"
   },
   {
    "duration": 66,
    "start_time": "2022-03-31T20:45:01.001Z"
   },
   {
    "duration": 11,
    "start_time": "2022-03-31T20:45:01.070Z"
   },
   {
    "duration": 12,
    "start_time": "2022-03-31T20:45:01.083Z"
   },
   {
    "duration": 15,
    "start_time": "2022-03-31T20:45:01.097Z"
   },
   {
    "duration": 33,
    "start_time": "2022-03-31T20:45:01.114Z"
   },
   {
    "duration": 21,
    "start_time": "2022-03-31T20:45:01.150Z"
   },
   {
    "duration": 9,
    "start_time": "2022-03-31T20:45:01.173Z"
   },
   {
    "duration": 22,
    "start_time": "2022-03-31T20:45:01.184Z"
   },
   {
    "duration": 32,
    "start_time": "2022-03-31T20:45:01.209Z"
   },
   {
    "duration": 29,
    "start_time": "2022-03-31T20:45:01.252Z"
   },
   {
    "duration": 36,
    "start_time": "2022-03-31T20:45:01.283Z"
   },
   {
    "duration": 512,
    "start_time": "2022-03-31T20:45:01.321Z"
   },
   {
    "duration": 0,
    "start_time": "2022-03-31T20:45:01.836Z"
   },
   {
    "duration": 0,
    "start_time": "2022-03-31T20:45:01.839Z"
   },
   {
    "duration": 0,
    "start_time": "2022-03-31T20:45:01.840Z"
   },
   {
    "duration": 0,
    "start_time": "2022-03-31T20:45:01.842Z"
   },
   {
    "duration": 0,
    "start_time": "2022-03-31T20:45:01.850Z"
   },
   {
    "duration": 0,
    "start_time": "2022-03-31T20:45:01.852Z"
   },
   {
    "duration": 0,
    "start_time": "2022-03-31T20:45:01.854Z"
   },
   {
    "duration": 0,
    "start_time": "2022-03-31T20:45:01.855Z"
   },
   {
    "duration": 0,
    "start_time": "2022-03-31T20:45:01.857Z"
   },
   {
    "duration": 0,
    "start_time": "2022-03-31T20:45:01.859Z"
   },
   {
    "duration": 0,
    "start_time": "2022-03-31T20:45:01.861Z"
   },
   {
    "duration": 0,
    "start_time": "2022-03-31T20:45:01.863Z"
   },
   {
    "duration": 0,
    "start_time": "2022-03-31T20:45:01.865Z"
   },
   {
    "duration": 0,
    "start_time": "2022-03-31T20:45:01.867Z"
   },
   {
    "duration": 0,
    "start_time": "2022-03-31T20:45:01.869Z"
   },
   {
    "duration": 0,
    "start_time": "2022-03-31T20:45:01.870Z"
   },
   {
    "duration": 0,
    "start_time": "2022-03-31T20:45:01.874Z"
   },
   {
    "duration": 0,
    "start_time": "2022-03-31T20:45:01.877Z"
   },
   {
    "duration": 0,
    "start_time": "2022-03-31T20:45:01.879Z"
   },
   {
    "duration": 0,
    "start_time": "2022-03-31T20:45:01.881Z"
   },
   {
    "duration": 0,
    "start_time": "2022-03-31T20:45:01.883Z"
   },
   {
    "duration": 0,
    "start_time": "2022-03-31T20:45:01.884Z"
   },
   {
    "duration": 0,
    "start_time": "2022-03-31T20:45:01.886Z"
   },
   {
    "duration": 0,
    "start_time": "2022-03-31T20:45:01.887Z"
   },
   {
    "duration": 0,
    "start_time": "2022-03-31T20:45:01.889Z"
   },
   {
    "duration": 0,
    "start_time": "2022-03-31T20:45:01.891Z"
   },
   {
    "duration": 0,
    "start_time": "2022-03-31T20:45:01.943Z"
   },
   {
    "duration": 0,
    "start_time": "2022-03-31T20:45:01.944Z"
   },
   {
    "duration": 0,
    "start_time": "2022-03-31T20:45:01.945Z"
   },
   {
    "duration": 0,
    "start_time": "2022-03-31T20:45:01.950Z"
   },
   {
    "duration": 12,
    "start_time": "2022-03-31T20:46:17.407Z"
   },
   {
    "duration": 9,
    "start_time": "2022-03-31T20:46:23.331Z"
   },
   {
    "duration": 9,
    "start_time": "2022-03-31T20:46:23.996Z"
   },
   {
    "duration": 4,
    "start_time": "2022-03-31T20:46:24.895Z"
   },
   {
    "duration": 31,
    "start_time": "2022-03-31T20:46:29.421Z"
   },
   {
    "duration": 14,
    "start_time": "2022-03-31T20:46:31.361Z"
   },
   {
    "duration": 5,
    "start_time": "2022-03-31T20:46:32.320Z"
   },
   {
    "duration": 10,
    "start_time": "2022-03-31T20:46:33.312Z"
   },
   {
    "duration": 16,
    "start_time": "2022-03-31T20:46:34.083Z"
   },
   {
    "duration": 4,
    "start_time": "2022-03-31T20:46:36.500Z"
   },
   {
    "duration": 7,
    "start_time": "2022-03-31T20:46:37.063Z"
   },
   {
    "duration": 6,
    "start_time": "2022-03-31T20:46:37.915Z"
   },
   {
    "duration": 15,
    "start_time": "2022-03-31T20:46:38.509Z"
   },
   {
    "duration": 8,
    "start_time": "2022-03-31T20:47:12.689Z"
   },
   {
    "duration": 14,
    "start_time": "2022-03-31T20:47:14.743Z"
   },
   {
    "duration": 14,
    "start_time": "2022-03-31T20:47:15.596Z"
   },
   {
    "duration": 6,
    "start_time": "2022-03-31T20:47:20.161Z"
   },
   {
    "duration": 54,
    "start_time": "2022-03-31T20:47:25.266Z"
   },
   {
    "duration": 1275,
    "start_time": "2022-03-31T20:47:32.273Z"
   },
   {
    "duration": 7,
    "start_time": "2022-03-31T20:47:45.983Z"
   },
   {
    "duration": 6,
    "start_time": "2022-03-31T20:47:46.668Z"
   },
   {
    "duration": 5,
    "start_time": "2022-03-31T20:47:47.266Z"
   },
   {
    "duration": 10,
    "start_time": "2022-03-31T20:47:48.036Z"
   },
   {
    "duration": 6,
    "start_time": "2022-03-31T20:47:49.606Z"
   },
   {
    "duration": 27,
    "start_time": "2022-03-31T20:47:50.999Z"
   },
   {
    "duration": 23,
    "start_time": "2022-03-31T20:48:14.486Z"
   },
   {
    "duration": 4044,
    "start_time": "2022-03-31T20:48:41.844Z"
   },
   {
    "duration": 3865,
    "start_time": "2022-03-31T20:48:45.892Z"
   },
   {
    "duration": 1710,
    "start_time": "2022-03-31T20:48:49.760Z"
   },
   {
    "duration": 1047,
    "start_time": "2022-03-31T20:48:51.474Z"
   },
   {
    "duration": 16,
    "start_time": "2022-03-31T20:48:52.523Z"
   },
   {
    "duration": 12,
    "start_time": "2022-03-31T20:48:52.542Z"
   },
   {
    "duration": 19,
    "start_time": "2022-03-31T20:48:52.557Z"
   },
   {
    "duration": 37,
    "start_time": "2022-03-31T20:48:52.578Z"
   },
   {
    "duration": 6,
    "start_time": "2022-03-31T20:48:52.617Z"
   },
   {
    "duration": 85,
    "start_time": "2022-03-31T20:48:52.642Z"
   },
   {
    "duration": 23,
    "start_time": "2022-03-31T20:48:52.743Z"
   },
   {
    "duration": 4,
    "start_time": "2022-03-31T20:48:52.768Z"
   },
   {
    "duration": 225,
    "start_time": "2022-03-31T20:48:52.774Z"
   },
   {
    "duration": 13,
    "start_time": "2022-03-31T20:48:53.001Z"
   },
   {
    "duration": 30,
    "start_time": "2022-03-31T20:48:53.017Z"
   },
   {
    "duration": 96,
    "start_time": "2022-03-31T20:48:53.050Z"
   },
   {
    "duration": 17,
    "start_time": "2022-03-31T20:48:53.148Z"
   },
   {
    "duration": 17,
    "start_time": "2022-03-31T20:48:53.168Z"
   },
   {
    "duration": 8,
    "start_time": "2022-03-31T20:48:53.187Z"
   },
   {
    "duration": 51,
    "start_time": "2022-03-31T20:48:53.198Z"
   },
   {
    "duration": 20,
    "start_time": "2022-03-31T20:48:53.252Z"
   },
   {
    "duration": 256,
    "start_time": "2022-03-31T20:48:53.275Z"
   },
   {
    "duration": 55,
    "start_time": "2022-03-31T20:48:53.533Z"
   },
   {
    "duration": 181,
    "start_time": "2022-03-31T20:48:53.590Z"
   },
   {
    "duration": 13,
    "start_time": "2022-03-31T20:48:53.773Z"
   },
   {
    "duration": 18,
    "start_time": "2022-03-31T20:48:53.788Z"
   },
   {
    "duration": 146,
    "start_time": "2022-03-31T20:48:53.808Z"
   },
   {
    "duration": 601,
    "start_time": "2022-03-31T20:48:53.963Z"
   },
   {
    "duration": 221,
    "start_time": "2022-03-31T20:48:54.566Z"
   },
   {
    "duration": 200,
    "start_time": "2022-03-31T20:48:54.790Z"
   },
   {
    "duration": 28,
    "start_time": "2022-03-31T20:48:54.992Z"
   },
   {
    "duration": 162,
    "start_time": "2022-03-31T20:48:55.022Z"
   },
   {
    "duration": 125,
    "start_time": "2022-03-31T20:48:55.187Z"
   },
   {
    "duration": 33,
    "start_time": "2022-03-31T20:48:55.314Z"
   },
   {
    "duration": 146,
    "start_time": "2022-03-31T20:48:55.349Z"
   },
   {
    "duration": 725,
    "start_time": "2022-03-31T20:48:55.497Z"
   },
   {
    "duration": 447,
    "start_time": "2022-03-31T20:48:56.225Z"
   },
   {
    "duration": 425,
    "start_time": "2022-03-31T20:48:56.674Z"
   },
   {
    "duration": 11,
    "start_time": "2022-03-31T20:48:57.102Z"
   },
   {
    "duration": 152,
    "start_time": "2022-03-31T20:48:57.116Z"
   },
   {
    "duration": 4,
    "start_time": "2022-03-31T20:48:57.270Z"
   },
   {
    "duration": 12,
    "start_time": "2022-03-31T20:48:57.276Z"
   },
   {
    "duration": 251,
    "start_time": "2022-03-31T20:48:57.291Z"
   },
   {
    "duration": 131,
    "start_time": "2022-03-31T20:48:57.545Z"
   },
   {
    "duration": 69,
    "start_time": "2022-03-31T20:48:57.678Z"
   },
   {
    "duration": 152,
    "start_time": "2022-03-31T20:48:57.751Z"
   },
   {
    "duration": 41,
    "start_time": "2022-03-31T20:48:57.905Z"
   },
   {
    "duration": 1842,
    "start_time": "2022-03-31T20:48:57.949Z"
   },
   {
    "duration": 12,
    "start_time": "2022-03-31T20:48:59.794Z"
   },
   {
    "duration": 125,
    "start_time": "2022-03-31T20:48:59.809Z"
   },
   {
    "duration": 108,
    "start_time": "2022-03-31T20:48:59.936Z"
   },
   {
    "duration": 158,
    "start_time": "2022-03-31T20:49:00.047Z"
   },
   {
    "duration": 14,
    "start_time": "2022-03-31T20:49:00.207Z"
   },
   {
    "duration": 466,
    "start_time": "2022-03-31T20:49:00.223Z"
   },
   {
    "duration": 6,
    "start_time": "2022-03-31T20:49:00.692Z"
   },
   {
    "duration": 60,
    "start_time": "2022-03-31T20:49:00.700Z"
   },
   {
    "duration": 23,
    "start_time": "2022-03-31T20:49:00.762Z"
   },
   {
    "duration": 11,
    "start_time": "2022-03-31T20:49:00.787Z"
   },
   {
    "duration": 4,
    "start_time": "2022-03-31T20:49:00.800Z"
   },
   {
    "duration": 44,
    "start_time": "2022-03-31T20:49:00.807Z"
   },
   {
    "duration": 18,
    "start_time": "2022-03-31T20:49:00.854Z"
   },
   {
    "duration": 13,
    "start_time": "2022-03-31T20:49:00.875Z"
   },
   {
    "duration": 16,
    "start_time": "2022-03-31T20:49:00.890Z"
   },
   {
    "duration": 38,
    "start_time": "2022-03-31T20:49:00.910Z"
   },
   {
    "duration": 13,
    "start_time": "2022-03-31T20:49:00.951Z"
   },
   {
    "duration": 10,
    "start_time": "2022-03-31T20:49:00.969Z"
   },
   {
    "duration": 30,
    "start_time": "2022-03-31T20:49:00.981Z"
   },
   {
    "duration": 486,
    "start_time": "2022-03-31T20:49:01.014Z"
   },
   {
    "duration": 0,
    "start_time": "2022-03-31T20:49:01.504Z"
   },
   {
    "duration": 0,
    "start_time": "2022-03-31T20:49:01.505Z"
   },
   {
    "duration": 0,
    "start_time": "2022-03-31T20:49:01.507Z"
   },
   {
    "duration": 0,
    "start_time": "2022-03-31T20:49:01.508Z"
   },
   {
    "duration": 0,
    "start_time": "2022-03-31T20:49:01.509Z"
   },
   {
    "duration": 0,
    "start_time": "2022-03-31T20:49:01.511Z"
   },
   {
    "duration": 0,
    "start_time": "2022-03-31T20:49:01.512Z"
   },
   {
    "duration": 0,
    "start_time": "2022-03-31T20:49:01.514Z"
   },
   {
    "duration": 0,
    "start_time": "2022-03-31T20:49:01.515Z"
   },
   {
    "duration": 0,
    "start_time": "2022-03-31T20:49:01.517Z"
   },
   {
    "duration": 0,
    "start_time": "2022-03-31T20:49:01.519Z"
   },
   {
    "duration": 0,
    "start_time": "2022-03-31T20:49:01.520Z"
   },
   {
    "duration": 0,
    "start_time": "2022-03-31T20:49:01.522Z"
   },
   {
    "duration": 0,
    "start_time": "2022-03-31T20:49:01.524Z"
   },
   {
    "duration": 0,
    "start_time": "2022-03-31T20:49:01.525Z"
   },
   {
    "duration": 0,
    "start_time": "2022-03-31T20:49:01.527Z"
   },
   {
    "duration": 0,
    "start_time": "2022-03-31T20:49:01.530Z"
   },
   {
    "duration": 0,
    "start_time": "2022-03-31T20:49:01.531Z"
   },
   {
    "duration": 0,
    "start_time": "2022-03-31T20:49:01.545Z"
   },
   {
    "duration": 0,
    "start_time": "2022-03-31T20:49:01.549Z"
   },
   {
    "duration": 0,
    "start_time": "2022-03-31T20:49:01.551Z"
   },
   {
    "duration": 0,
    "start_time": "2022-03-31T20:49:01.555Z"
   },
   {
    "duration": 0,
    "start_time": "2022-03-31T20:49:01.556Z"
   },
   {
    "duration": 1,
    "start_time": "2022-03-31T20:49:01.557Z"
   },
   {
    "duration": 0,
    "start_time": "2022-03-31T20:49:01.560Z"
   },
   {
    "duration": 0,
    "start_time": "2022-03-31T20:49:01.562Z"
   },
   {
    "duration": 0,
    "start_time": "2022-03-31T20:49:01.564Z"
   },
   {
    "duration": 0,
    "start_time": "2022-03-31T20:49:01.566Z"
   },
   {
    "duration": 0,
    "start_time": "2022-03-31T20:49:01.569Z"
   },
   {
    "duration": 0,
    "start_time": "2022-03-31T20:49:01.571Z"
   },
   {
    "duration": 5,
    "start_time": "2022-03-31T20:49:36.729Z"
   },
   {
    "duration": 6,
    "start_time": "2022-03-31T20:50:11.384Z"
   },
   {
    "duration": 6,
    "start_time": "2022-03-31T20:50:12.072Z"
   },
   {
    "duration": 6,
    "start_time": "2022-03-31T20:50:12.840Z"
   },
   {
    "duration": 10,
    "start_time": "2022-03-31T20:50:13.528Z"
   },
   {
    "duration": 6,
    "start_time": "2022-03-31T20:50:36.911Z"
   },
   {
    "duration": 5,
    "start_time": "2022-03-31T20:50:36.921Z"
   },
   {
    "duration": 13,
    "start_time": "2022-03-31T20:50:36.928Z"
   },
   {
    "duration": 15,
    "start_time": "2022-03-31T20:51:10.149Z"
   },
   {
    "duration": 12,
    "start_time": "2022-03-31T20:51:26.460Z"
   },
   {
    "duration": 5,
    "start_time": "2022-03-31T20:51:27.024Z"
   },
   {
    "duration": 8,
    "start_time": "2022-03-31T20:51:27.576Z"
   },
   {
    "duration": 12,
    "start_time": "2022-03-31T20:51:28.108Z"
   },
   {
    "duration": 3,
    "start_time": "2022-03-31T20:51:32.829Z"
   },
   {
    "duration": 7,
    "start_time": "2022-03-31T20:51:33.842Z"
   },
   {
    "duration": 5,
    "start_time": "2022-03-31T20:51:34.799Z"
   },
   {
    "duration": 14,
    "start_time": "2022-03-31T20:51:35.379Z"
   },
   {
    "duration": 8,
    "start_time": "2022-03-31T20:51:39.520Z"
   },
   {
    "duration": 58,
    "start_time": "2022-03-31T20:51:43.026Z"
   },
   {
    "duration": 1160,
    "start_time": "2022-03-31T20:52:12.552Z"
   },
   {
    "duration": 7,
    "start_time": "2022-03-31T20:54:15.016Z"
   },
   {
    "duration": 6,
    "start_time": "2022-03-31T20:54:15.616Z"
   },
   {
    "duration": 6,
    "start_time": "2022-03-31T20:54:16.167Z"
   },
   {
    "duration": 16,
    "start_time": "2022-03-31T20:54:16.753Z"
   },
   {
    "duration": 19,
    "start_time": "2022-03-31T20:54:26.051Z"
   },
   {
    "duration": 11,
    "start_time": "2022-03-31T20:54:29.995Z"
   },
   {
    "duration": 14,
    "start_time": "2022-03-31T20:54:30.572Z"
   },
   {
    "duration": 11,
    "start_time": "2022-03-31T20:54:33.468Z"
   },
   {
    "duration": 5,
    "start_time": "2022-03-31T20:54:34.064Z"
   },
   {
    "duration": 9,
    "start_time": "2022-03-31T20:54:34.579Z"
   },
   {
    "duration": 15,
    "start_time": "2022-03-31T20:54:35.181Z"
   },
   {
    "duration": 4,
    "start_time": "2022-03-31T20:54:37.140Z"
   },
   {
    "duration": 7,
    "start_time": "2022-03-31T20:54:37.693Z"
   },
   {
    "duration": 5,
    "start_time": "2022-03-31T20:54:38.303Z"
   },
   {
    "duration": 17,
    "start_time": "2022-03-31T20:54:38.870Z"
   },
   {
    "duration": 6,
    "start_time": "2022-03-31T20:54:48.982Z"
   },
   {
    "duration": 53,
    "start_time": "2022-03-31T20:54:54.974Z"
   },
   {
    "duration": 1284,
    "start_time": "2022-03-31T20:54:57.959Z"
   },
   {
    "duration": 29,
    "start_time": "2022-03-31T20:55:22.498Z"
   },
   {
    "duration": 15,
    "start_time": "2022-03-31T20:56:25.967Z"
   },
   {
    "duration": 30,
    "start_time": "2022-03-31T20:56:50.178Z"
   },
   {
    "duration": 58,
    "start_time": "2022-03-31T20:57:08.634Z"
   },
   {
    "duration": 33,
    "start_time": "2022-03-31T20:58:16.194Z"
   },
   {
    "duration": 33,
    "start_time": "2022-03-31T20:58:23.278Z"
   },
   {
    "duration": 26,
    "start_time": "2022-03-31T20:58:33.035Z"
   },
   {
    "duration": 29,
    "start_time": "2022-03-31T20:58:42.278Z"
   },
   {
    "duration": 23,
    "start_time": "2022-03-31T20:59:49.181Z"
   },
   {
    "duration": 71,
    "start_time": "2022-03-31T20:59:53.597Z"
   },
   {
    "duration": 1483,
    "start_time": "2022-03-31T20:59:58.068Z"
   },
   {
    "duration": 32,
    "start_time": "2022-03-31T21:00:38.836Z"
   },
   {
    "duration": 22,
    "start_time": "2022-03-31T21:01:05.187Z"
   },
   {
    "duration": 69,
    "start_time": "2022-03-31T21:01:08.143Z"
   },
   {
    "duration": 1321,
    "start_time": "2022-03-31T21:01:11.086Z"
   },
   {
    "duration": 46,
    "start_time": "2022-03-31T21:01:40.042Z"
   },
   {
    "duration": 52,
    "start_time": "2022-03-31T21:01:54.116Z"
   },
   {
    "duration": 26,
    "start_time": "2022-03-31T21:02:01.133Z"
   },
   {
    "duration": 1296,
    "start_time": "2022-03-31T21:02:05.211Z"
   },
   {
    "duration": 22,
    "start_time": "2022-03-31T21:02:20.667Z"
   },
   {
    "duration": 5,
    "start_time": "2022-03-31T21:02:22.043Z"
   },
   {
    "duration": 24,
    "start_time": "2022-03-31T21:02:24.202Z"
   },
   {
    "duration": 16,
    "start_time": "2022-03-31T21:02:26.598Z"
   },
   {
    "duration": 8,
    "start_time": "2022-03-31T21:02:27.449Z"
   },
   {
    "duration": 10,
    "start_time": "2022-03-31T21:02:29.461Z"
   },
   {
    "duration": 366,
    "start_time": "2022-03-31T21:02:36.768Z"
   },
   {
    "duration": 19,
    "start_time": "2022-03-31T21:02:43.658Z"
   },
   {
    "duration": 27,
    "start_time": "2022-03-31T21:02:44.141Z"
   },
   {
    "duration": 4191,
    "start_time": "2022-03-31T21:02:58.337Z"
   },
   {
    "duration": 4219,
    "start_time": "2022-03-31T21:03:02.532Z"
   },
   {
    "duration": 1705,
    "start_time": "2022-03-31T21:03:06.757Z"
   },
   {
    "duration": 949,
    "start_time": "2022-03-31T21:03:08.466Z"
   },
   {
    "duration": 18,
    "start_time": "2022-03-31T21:03:09.417Z"
   },
   {
    "duration": 17,
    "start_time": "2022-03-31T21:03:09.437Z"
   },
   {
    "duration": 19,
    "start_time": "2022-03-31T21:03:09.456Z"
   },
   {
    "duration": 41,
    "start_time": "2022-03-31T21:03:09.477Z"
   },
   {
    "duration": 6,
    "start_time": "2022-03-31T21:03:09.521Z"
   },
   {
    "duration": 114,
    "start_time": "2022-03-31T21:03:09.531Z"
   },
   {
    "duration": 22,
    "start_time": "2022-03-31T21:03:09.648Z"
   },
   {
    "duration": 4,
    "start_time": "2022-03-31T21:03:09.672Z"
   },
   {
    "duration": 332,
    "start_time": "2022-03-31T21:03:09.679Z"
   },
   {
    "duration": 29,
    "start_time": "2022-03-31T21:03:10.014Z"
   },
   {
    "duration": 17,
    "start_time": "2022-03-31T21:03:10.045Z"
   },
   {
    "duration": 92,
    "start_time": "2022-03-31T21:03:10.064Z"
   },
   {
    "duration": 16,
    "start_time": "2022-03-31T21:03:10.163Z"
   },
   {
    "duration": 18,
    "start_time": "2022-03-31T21:03:10.181Z"
   },
   {
    "duration": 6,
    "start_time": "2022-03-31T21:03:10.201Z"
   },
   {
    "duration": 42,
    "start_time": "2022-03-31T21:03:10.210Z"
   },
   {
    "duration": 18,
    "start_time": "2022-03-31T21:03:10.255Z"
   },
   {
    "duration": 273,
    "start_time": "2022-03-31T21:03:10.275Z"
   },
   {
    "duration": 45,
    "start_time": "2022-03-31T21:03:10.550Z"
   },
   {
    "duration": 187,
    "start_time": "2022-03-31T21:03:10.597Z"
   },
   {
    "duration": 14,
    "start_time": "2022-03-31T21:03:10.786Z"
   },
   {
    "duration": 17,
    "start_time": "2022-03-31T21:03:10.802Z"
   },
   {
    "duration": 165,
    "start_time": "2022-03-31T21:03:10.821Z"
   },
   {
    "duration": 600,
    "start_time": "2022-03-31T21:03:10.992Z"
   },
   {
    "duration": 287,
    "start_time": "2022-03-31T21:03:11.594Z"
   },
   {
    "duration": 200,
    "start_time": "2022-03-31T21:03:11.883Z"
   },
   {
    "duration": 38,
    "start_time": "2022-03-31T21:03:12.086Z"
   },
   {
    "duration": 199,
    "start_time": "2022-03-31T21:03:12.145Z"
   },
   {
    "duration": 163,
    "start_time": "2022-03-31T21:03:12.347Z"
   },
   {
    "duration": 52,
    "start_time": "2022-03-31T21:03:12.513Z"
   },
   {
    "duration": 144,
    "start_time": "2022-03-31T21:03:12.568Z"
   },
   {
    "duration": 789,
    "start_time": "2022-03-31T21:03:12.714Z"
   },
   {
    "duration": 420,
    "start_time": "2022-03-31T21:03:13.506Z"
   },
   {
    "duration": 586,
    "start_time": "2022-03-31T21:03:13.929Z"
   },
   {
    "duration": 28,
    "start_time": "2022-03-31T21:03:14.517Z"
   },
   {
    "duration": 125,
    "start_time": "2022-03-31T21:03:14.548Z"
   },
   {
    "duration": 4,
    "start_time": "2022-03-31T21:03:14.675Z"
   },
   {
    "duration": 13,
    "start_time": "2022-03-31T21:03:14.682Z"
   },
   {
    "duration": 246,
    "start_time": "2022-03-31T21:03:14.698Z"
   },
   {
    "duration": 132,
    "start_time": "2022-03-31T21:03:14.947Z"
   },
   {
    "duration": 69,
    "start_time": "2022-03-31T21:03:15.082Z"
   },
   {
    "duration": 161,
    "start_time": "2022-03-31T21:03:15.154Z"
   },
   {
    "duration": 50,
    "start_time": "2022-03-31T21:03:15.318Z"
   },
   {
    "duration": 1745,
    "start_time": "2022-03-31T21:03:15.370Z"
   },
   {
    "duration": 30,
    "start_time": "2022-03-31T21:03:17.117Z"
   },
   {
    "duration": 124,
    "start_time": "2022-03-31T21:03:17.151Z"
   },
   {
    "duration": 112,
    "start_time": "2022-03-31T21:03:17.278Z"
   },
   {
    "duration": 156,
    "start_time": "2022-03-31T21:03:17.393Z"
   },
   {
    "duration": 17,
    "start_time": "2022-03-31T21:03:17.552Z"
   },
   {
    "duration": 494,
    "start_time": "2022-03-31T21:03:17.572Z"
   },
   {
    "duration": 7,
    "start_time": "2022-03-31T21:03:18.068Z"
   },
   {
    "duration": 72,
    "start_time": "2022-03-31T21:03:18.077Z"
   },
   {
    "duration": 24,
    "start_time": "2022-03-31T21:03:18.152Z"
   },
   {
    "duration": 13,
    "start_time": "2022-03-31T21:03:18.179Z"
   },
   {
    "duration": 8,
    "start_time": "2022-03-31T21:03:18.195Z"
   },
   {
    "duration": 38,
    "start_time": "2022-03-31T21:03:18.205Z"
   },
   {
    "duration": 27,
    "start_time": "2022-03-31T21:03:18.246Z"
   },
   {
    "duration": 7,
    "start_time": "2022-03-31T21:03:18.276Z"
   },
   {
    "duration": 10,
    "start_time": "2022-03-31T21:03:18.285Z"
   },
   {
    "duration": 7,
    "start_time": "2022-03-31T21:03:18.298Z"
   },
   {
    "duration": 45,
    "start_time": "2022-03-31T21:03:18.308Z"
   },
   {
    "duration": 52,
    "start_time": "2022-03-31T21:03:18.359Z"
   },
   {
    "duration": 1205,
    "start_time": "2022-03-31T21:03:18.414Z"
   },
   {
    "duration": 34,
    "start_time": "2022-03-31T21:03:19.622Z"
   },
   {
    "duration": 25,
    "start_time": "2022-03-31T21:03:19.660Z"
   },
   {
    "duration": 93,
    "start_time": "2022-03-31T21:03:19.688Z"
   },
   {
    "duration": 1240,
    "start_time": "2022-03-31T21:03:19.784Z"
   },
   {
    "duration": 53,
    "start_time": "2022-03-31T21:03:21.028Z"
   },
   {
    "duration": 21,
    "start_time": "2022-03-31T21:03:21.083Z"
   },
   {
    "duration": 1199,
    "start_time": "2022-03-31T21:03:21.107Z"
   },
   {
    "duration": 16,
    "start_time": "2022-03-31T21:03:22.308Z"
   },
   {
    "duration": 23,
    "start_time": "2022-03-31T21:03:22.326Z"
   },
   {
    "duration": 29,
    "start_time": "2022-03-31T21:03:22.357Z"
   },
   {
    "duration": 16,
    "start_time": "2022-03-31T21:03:22.389Z"
   },
   {
    "duration": 6,
    "start_time": "2022-03-31T21:03:22.407Z"
   },
   {
    "duration": 39,
    "start_time": "2022-03-31T21:03:22.416Z"
   },
   {
    "duration": 347,
    "start_time": "2022-03-31T21:03:22.460Z"
   },
   {
    "duration": 47,
    "start_time": "2022-03-31T21:03:22.818Z"
   },
   {
    "duration": 23,
    "start_time": "2022-03-31T21:03:22.868Z"
   },
   {
    "duration": 20,
    "start_time": "2022-03-31T21:03:22.893Z"
   },
   {
    "duration": 101,
    "start_time": "2022-03-31T21:03:22.916Z"
   },
   {
    "duration": 251,
    "start_time": "2022-03-31T21:03:23.020Z"
   },
   {
    "duration": 269,
    "start_time": "2022-03-31T21:03:23.274Z"
   },
   {
    "duration": 0,
    "start_time": "2022-03-31T21:03:23.545Z"
   },
   {
    "duration": 0,
    "start_time": "2022-03-31T21:03:23.547Z"
   },
   {
    "duration": 0,
    "start_time": "2022-03-31T21:03:23.549Z"
   },
   {
    "duration": 0,
    "start_time": "2022-03-31T21:03:23.550Z"
   },
   {
    "duration": 0,
    "start_time": "2022-03-31T21:03:23.552Z"
   },
   {
    "duration": 0,
    "start_time": "2022-03-31T21:03:23.553Z"
   },
   {
    "duration": 0,
    "start_time": "2022-03-31T21:03:23.555Z"
   },
   {
    "duration": 0,
    "start_time": "2022-03-31T21:03:23.556Z"
   },
   {
    "duration": 0,
    "start_time": "2022-03-31T21:03:23.557Z"
   },
   {
    "duration": 0,
    "start_time": "2022-03-31T21:03:23.559Z"
   },
   {
    "duration": 0,
    "start_time": "2022-03-31T21:03:23.571Z"
   },
   {
    "duration": 31,
    "start_time": "2022-03-31T21:13:01.337Z"
   },
   {
    "duration": 26,
    "start_time": "2022-03-31T21:37:01.041Z"
   },
   {
    "duration": 32,
    "start_time": "2022-03-31T21:38:35.342Z"
   },
   {
    "duration": 412,
    "start_time": "2022-03-31T21:40:09.817Z"
   },
   {
    "duration": 26,
    "start_time": "2022-03-31T21:40:31.650Z"
   },
   {
    "duration": 247,
    "start_time": "2022-03-31T21:46:05.183Z"
   },
   {
    "duration": 21,
    "start_time": "2022-03-31T21:46:38.264Z"
   },
   {
    "duration": 18,
    "start_time": "2022-03-31T21:46:55.774Z"
   },
   {
    "duration": 112,
    "start_time": "2022-03-31T21:47:34.888Z"
   },
   {
    "duration": 23,
    "start_time": "2022-03-31T21:47:40.959Z"
   },
   {
    "duration": 32,
    "start_time": "2022-03-31T21:47:46.068Z"
   },
   {
    "duration": 29,
    "start_time": "2022-03-31T21:47:50.226Z"
   },
   {
    "duration": 113,
    "start_time": "2022-03-31T21:47:53.259Z"
   },
   {
    "duration": 23,
    "start_time": "2022-03-31T21:48:07.094Z"
   },
   {
    "duration": 25,
    "start_time": "2022-03-31T21:48:16.675Z"
   },
   {
    "duration": 1170,
    "start_time": "2022-03-31T21:48:17.884Z"
   },
   {
    "duration": 30,
    "start_time": "2022-03-31T21:48:19.057Z"
   },
   {
    "duration": 32,
    "start_time": "2022-03-31T21:48:39.957Z"
   },
   {
    "duration": 202,
    "start_time": "2022-03-31T21:48:41.842Z"
   },
   {
    "duration": 23,
    "start_time": "2022-03-31T21:50:44.234Z"
   },
   {
    "duration": 17,
    "start_time": "2022-03-31T21:51:38.706Z"
   },
   {
    "duration": 173,
    "start_time": "2022-03-31T21:51:51.935Z"
   },
   {
    "duration": 415,
    "start_time": "2022-03-31T21:52:09.216Z"
   },
   {
    "duration": 127,
    "start_time": "2022-03-31T21:52:25.455Z"
   },
   {
    "duration": 20,
    "start_time": "2022-03-31T21:52:31.101Z"
   },
   {
    "duration": 26,
    "start_time": "2022-03-31T21:52:35.197Z"
   },
   {
    "duration": 27,
    "start_time": "2022-03-31T21:52:36.082Z"
   },
   {
    "duration": 119,
    "start_time": "2022-03-31T21:52:38.267Z"
   },
   {
    "duration": 25,
    "start_time": "2022-03-31T21:52:43.217Z"
   },
   {
    "duration": 29,
    "start_time": "2022-03-31T21:52:44.081Z"
   },
   {
    "duration": 1156,
    "start_time": "2022-03-31T21:52:44.638Z"
   },
   {
    "duration": 30,
    "start_time": "2022-03-31T21:52:45.796Z"
   },
   {
    "duration": 28,
    "start_time": "2022-03-31T21:52:48.246Z"
   },
   {
    "duration": 80,
    "start_time": "2022-03-31T21:52:52.121Z"
   },
   {
    "duration": 3756,
    "start_time": "2022-03-31T22:00:14.109Z"
   },
   {
    "duration": 3890,
    "start_time": "2022-03-31T22:00:17.869Z"
   },
   {
    "duration": 1711,
    "start_time": "2022-03-31T22:00:21.762Z"
   },
   {
    "duration": 961,
    "start_time": "2022-03-31T22:00:23.476Z"
   },
   {
    "duration": 19,
    "start_time": "2022-03-31T22:00:24.440Z"
   },
   {
    "duration": 17,
    "start_time": "2022-03-31T22:00:24.462Z"
   },
   {
    "duration": 18,
    "start_time": "2022-03-31T22:00:24.481Z"
   },
   {
    "duration": 70,
    "start_time": "2022-03-31T22:00:24.501Z"
   },
   {
    "duration": 7,
    "start_time": "2022-03-31T22:00:24.574Z"
   },
   {
    "duration": 112,
    "start_time": "2022-03-31T22:00:24.587Z"
   },
   {
    "duration": 21,
    "start_time": "2022-03-31T22:00:24.702Z"
   },
   {
    "duration": 7,
    "start_time": "2022-03-31T22:00:24.742Z"
   },
   {
    "duration": 227,
    "start_time": "2022-03-31T22:00:24.751Z"
   },
   {
    "duration": 13,
    "start_time": "2022-03-31T22:00:24.980Z"
   },
   {
    "duration": 16,
    "start_time": "2022-03-31T22:00:24.995Z"
   },
   {
    "duration": 115,
    "start_time": "2022-03-31T22:00:25.013Z"
   },
   {
    "duration": 34,
    "start_time": "2022-03-31T22:00:25.131Z"
   },
   {
    "duration": 19,
    "start_time": "2022-03-31T22:00:25.168Z"
   },
   {
    "duration": 10,
    "start_time": "2022-03-31T22:00:25.190Z"
   },
   {
    "duration": 54,
    "start_time": "2022-03-31T22:00:25.202Z"
   },
   {
    "duration": 15,
    "start_time": "2022-03-31T22:00:25.258Z"
   },
   {
    "duration": 257,
    "start_time": "2022-03-31T22:00:25.275Z"
   },
   {
    "duration": 51,
    "start_time": "2022-03-31T22:00:25.534Z"
   },
   {
    "duration": 181,
    "start_time": "2022-03-31T22:00:25.587Z"
   },
   {
    "duration": 14,
    "start_time": "2022-03-31T22:00:25.770Z"
   },
   {
    "duration": 19,
    "start_time": "2022-03-31T22:00:25.787Z"
   },
   {
    "duration": 171,
    "start_time": "2022-03-31T22:00:25.808Z"
   },
   {
    "duration": 650,
    "start_time": "2022-03-31T22:00:25.988Z"
   },
   {
    "duration": 246,
    "start_time": "2022-03-31T22:00:26.640Z"
   },
   {
    "duration": 146,
    "start_time": "2022-03-31T22:00:26.888Z"
   },
   {
    "duration": 38,
    "start_time": "2022-03-31T22:00:27.036Z"
   },
   {
    "duration": 171,
    "start_time": "2022-03-31T22:00:27.076Z"
   },
   {
    "duration": 141,
    "start_time": "2022-03-31T22:00:27.250Z"
   },
   {
    "duration": 27,
    "start_time": "2022-03-31T22:00:27.393Z"
   },
   {
    "duration": 186,
    "start_time": "2022-03-31T22:00:27.422Z"
   },
   {
    "duration": 760,
    "start_time": "2022-03-31T22:00:27.610Z"
   },
   {
    "duration": 428,
    "start_time": "2022-03-31T22:00:28.372Z"
   },
   {
    "duration": 448,
    "start_time": "2022-03-31T22:00:28.802Z"
   },
   {
    "duration": 12,
    "start_time": "2022-03-31T22:00:29.253Z"
   },
   {
    "duration": 161,
    "start_time": "2022-03-31T22:00:29.268Z"
   },
   {
    "duration": 4,
    "start_time": "2022-03-31T22:00:29.432Z"
   },
   {
    "duration": 14,
    "start_time": "2022-03-31T22:00:29.442Z"
   },
   {
    "duration": 254,
    "start_time": "2022-03-31T22:00:29.459Z"
   },
   {
    "duration": 134,
    "start_time": "2022-03-31T22:00:29.716Z"
   },
   {
    "duration": 55,
    "start_time": "2022-03-31T22:00:29.853Z"
   },
   {
    "duration": 193,
    "start_time": "2022-03-31T22:00:29.910Z"
   },
   {
    "duration": 38,
    "start_time": "2022-03-31T22:00:30.105Z"
   },
   {
    "duration": 1827,
    "start_time": "2022-03-31T22:00:30.145Z"
   },
   {
    "duration": 14,
    "start_time": "2022-03-31T22:00:31.975Z"
   },
   {
    "duration": 137,
    "start_time": "2022-03-31T22:00:31.992Z"
   },
   {
    "duration": 131,
    "start_time": "2022-03-31T22:00:32.132Z"
   },
   {
    "duration": 158,
    "start_time": "2022-03-31T22:00:32.266Z"
   },
   {
    "duration": 14,
    "start_time": "2022-03-31T22:00:32.426Z"
   },
   {
    "duration": 476,
    "start_time": "2022-03-31T22:00:32.444Z"
   },
   {
    "duration": 6,
    "start_time": "2022-03-31T22:00:32.922Z"
   },
   {
    "duration": 47,
    "start_time": "2022-03-31T22:00:32.930Z"
   },
   {
    "duration": 73,
    "start_time": "2022-03-31T22:00:32.979Z"
   },
   {
    "duration": 15,
    "start_time": "2022-03-31T22:00:33.053Z"
   },
   {
    "duration": 14,
    "start_time": "2022-03-31T22:00:33.071Z"
   },
   {
    "duration": 11,
    "start_time": "2022-03-31T22:00:33.087Z"
   },
   {
    "duration": 47,
    "start_time": "2022-03-31T22:00:33.101Z"
   },
   {
    "duration": 6,
    "start_time": "2022-03-31T22:00:33.153Z"
   },
   {
    "duration": 13,
    "start_time": "2022-03-31T22:00:33.161Z"
   },
   {
    "duration": 7,
    "start_time": "2022-03-31T22:00:33.177Z"
   },
   {
    "duration": 17,
    "start_time": "2022-03-31T22:00:33.186Z"
   },
   {
    "duration": 75,
    "start_time": "2022-03-31T22:00:33.206Z"
   },
   {
    "duration": 1304,
    "start_time": "2022-03-31T22:00:33.284Z"
   },
   {
    "duration": 17,
    "start_time": "2022-03-31T22:00:34.591Z"
   },
   {
    "duration": 62,
    "start_time": "2022-03-31T22:00:34.611Z"
   },
   {
    "duration": 51,
    "start_time": "2022-03-31T22:00:34.675Z"
   },
   {
    "duration": 1222,
    "start_time": "2022-03-31T22:00:34.729Z"
   },
   {
    "duration": 40,
    "start_time": "2022-03-31T22:00:35.953Z"
   },
   {
    "duration": 55,
    "start_time": "2022-03-31T22:00:35.995Z"
   },
   {
    "duration": 1184,
    "start_time": "2022-03-31T22:00:36.052Z"
   },
   {
    "duration": 29,
    "start_time": "2022-03-31T22:00:37.238Z"
   },
   {
    "duration": 7,
    "start_time": "2022-03-31T22:00:37.269Z"
   },
   {
    "duration": 21,
    "start_time": "2022-03-31T22:00:37.278Z"
   },
   {
    "duration": 57,
    "start_time": "2022-03-31T22:00:37.301Z"
   },
   {
    "duration": 5,
    "start_time": "2022-03-31T22:00:37.363Z"
   },
   {
    "duration": 11,
    "start_time": "2022-03-31T22:00:37.370Z"
   },
   {
    "duration": 254,
    "start_time": "2022-03-31T22:00:37.383Z"
   },
   {
    "duration": 23,
    "start_time": "2022-03-31T22:00:37.650Z"
   },
   {
    "duration": 19,
    "start_time": "2022-03-31T22:00:37.676Z"
   },
   {
    "duration": 66,
    "start_time": "2022-03-31T22:00:37.697Z"
   },
   {
    "duration": 82,
    "start_time": "2022-03-31T22:00:37.765Z"
   },
   {
    "duration": 230,
    "start_time": "2022-03-31T22:00:37.849Z"
   },
   {
    "duration": 503,
    "start_time": "2022-03-31T22:00:38.082Z"
   },
   {
    "duration": 142,
    "start_time": "2022-03-31T22:00:38.588Z"
   },
   {
    "duration": 25,
    "start_time": "2022-03-31T22:00:38.733Z"
   },
   {
    "duration": 35,
    "start_time": "2022-03-31T22:00:38.761Z"
   },
   {
    "duration": 19,
    "start_time": "2022-03-31T22:00:38.798Z"
   },
   {
    "duration": 148,
    "start_time": "2022-03-31T22:00:38.819Z"
   },
   {
    "duration": 23,
    "start_time": "2022-03-31T22:00:38.970Z"
   },
   {
    "duration": 50,
    "start_time": "2022-03-31T22:00:38.996Z"
   },
   {
    "duration": 1262,
    "start_time": "2022-03-31T22:00:39.049Z"
   },
   {
    "duration": 47,
    "start_time": "2022-03-31T22:00:40.313Z"
   },
   {
    "duration": 29,
    "start_time": "2022-03-31T22:00:40.363Z"
   },
   {
    "duration": 222,
    "start_time": "2022-03-31T22:00:40.395Z"
   },
   {
    "duration": 3211,
    "start_time": "2022-04-01T13:50:34.263Z"
   },
   {
    "duration": 7693,
    "start_time": "2022-04-01T13:50:37.477Z"
   },
   {
    "duration": 1371,
    "start_time": "2022-04-01T13:50:45.172Z"
   },
   {
    "duration": 648,
    "start_time": "2022-04-01T13:50:46.546Z"
   },
   {
    "duration": 12,
    "start_time": "2022-04-01T13:50:47.195Z"
   },
   {
    "duration": 7,
    "start_time": "2022-04-01T13:50:47.209Z"
   },
   {
    "duration": 9,
    "start_time": "2022-04-01T13:50:47.217Z"
   },
   {
    "duration": 29,
    "start_time": "2022-04-01T13:50:47.228Z"
   },
   {
    "duration": 4,
    "start_time": "2022-04-01T13:50:47.259Z"
   },
   {
    "duration": 60,
    "start_time": "2022-04-01T13:50:47.266Z"
   },
   {
    "duration": 11,
    "start_time": "2022-04-01T13:50:47.328Z"
   },
   {
    "duration": 2,
    "start_time": "2022-04-01T13:50:47.341Z"
   },
   {
    "duration": 164,
    "start_time": "2022-04-01T13:50:47.345Z"
   },
   {
    "duration": 8,
    "start_time": "2022-04-01T13:50:47.511Z"
   },
   {
    "duration": 12,
    "start_time": "2022-04-01T13:50:47.521Z"
   },
   {
    "duration": 72,
    "start_time": "2022-04-01T13:50:47.534Z"
   },
   {
    "duration": 11,
    "start_time": "2022-04-01T13:50:47.608Z"
   },
   {
    "duration": 12,
    "start_time": "2022-04-01T13:50:47.620Z"
   },
   {
    "duration": 7,
    "start_time": "2022-04-01T13:50:47.633Z"
   },
   {
    "duration": 26,
    "start_time": "2022-04-01T13:50:47.642Z"
   },
   {
    "duration": 6,
    "start_time": "2022-04-01T13:50:47.670Z"
   },
   {
    "duration": 162,
    "start_time": "2022-04-01T13:50:47.678Z"
   },
   {
    "duration": 30,
    "start_time": "2022-04-01T13:50:47.842Z"
   },
   {
    "duration": 113,
    "start_time": "2022-04-01T13:50:47.873Z"
   },
   {
    "duration": 8,
    "start_time": "2022-04-01T13:50:47.988Z"
   },
   {
    "duration": 13,
    "start_time": "2022-04-01T13:50:47.997Z"
   },
   {
    "duration": 100,
    "start_time": "2022-04-01T13:50:48.012Z"
   },
   {
    "duration": 448,
    "start_time": "2022-04-01T13:50:48.116Z"
   },
   {
    "duration": 133,
    "start_time": "2022-04-01T13:50:48.565Z"
   },
   {
    "duration": 102,
    "start_time": "2022-04-01T13:50:48.700Z"
   },
   {
    "duration": 17,
    "start_time": "2022-04-01T13:50:48.804Z"
   },
   {
    "duration": 104,
    "start_time": "2022-04-01T13:50:48.823Z"
   },
   {
    "duration": 84,
    "start_time": "2022-04-01T13:50:48.929Z"
   },
   {
    "duration": 17,
    "start_time": "2022-04-01T13:50:49.014Z"
   },
   {
    "duration": 103,
    "start_time": "2022-04-01T13:50:49.032Z"
   },
   {
    "duration": 437,
    "start_time": "2022-04-01T13:50:49.136Z"
   },
   {
    "duration": 214,
    "start_time": "2022-04-01T13:50:49.575Z"
   },
   {
    "duration": 236,
    "start_time": "2022-04-01T13:50:49.791Z"
   },
   {
    "duration": 7,
    "start_time": "2022-04-01T13:50:50.029Z"
   },
   {
    "duration": 91,
    "start_time": "2022-04-01T13:50:50.038Z"
   },
   {
    "duration": 3,
    "start_time": "2022-04-01T13:50:50.131Z"
   },
   {
    "duration": 10,
    "start_time": "2022-04-01T13:50:50.136Z"
   },
   {
    "duration": 143,
    "start_time": "2022-04-01T13:50:50.147Z"
   },
   {
    "duration": 77,
    "start_time": "2022-04-01T13:50:50.291Z"
   },
   {
    "duration": 38,
    "start_time": "2022-04-01T13:50:50.370Z"
   },
   {
    "duration": 103,
    "start_time": "2022-04-01T13:50:50.410Z"
   },
   {
    "duration": 15,
    "start_time": "2022-04-01T13:50:50.514Z"
   },
   {
    "duration": 1077,
    "start_time": "2022-04-01T13:50:50.530Z"
   },
   {
    "duration": 8,
    "start_time": "2022-04-01T13:50:51.609Z"
   },
   {
    "duration": 84,
    "start_time": "2022-04-01T13:50:51.619Z"
   },
   {
    "duration": 62,
    "start_time": "2022-04-01T13:50:51.704Z"
   },
   {
    "duration": 127,
    "start_time": "2022-04-01T13:50:51.768Z"
   },
   {
    "duration": 10,
    "start_time": "2022-04-01T13:50:51.896Z"
   },
   {
    "duration": 288,
    "start_time": "2022-04-01T13:50:51.907Z"
   },
   {
    "duration": 4,
    "start_time": "2022-04-01T13:50:52.197Z"
   },
   {
    "duration": 18,
    "start_time": "2022-04-01T13:50:52.203Z"
   },
   {
    "duration": 47,
    "start_time": "2022-04-01T13:50:52.223Z"
   },
   {
    "duration": 7,
    "start_time": "2022-04-01T13:50:52.272Z"
   },
   {
    "duration": 3,
    "start_time": "2022-04-01T13:50:52.280Z"
   },
   {
    "duration": 8,
    "start_time": "2022-04-01T13:50:52.285Z"
   },
   {
    "duration": 8,
    "start_time": "2022-04-01T13:50:52.294Z"
   },
   {
    "duration": 4,
    "start_time": "2022-04-01T13:50:52.304Z"
   },
   {
    "duration": 13,
    "start_time": "2022-04-01T13:50:52.310Z"
   },
   {
    "duration": 7,
    "start_time": "2022-04-01T13:50:52.324Z"
   },
   {
    "duration": 33,
    "start_time": "2022-04-01T13:50:52.332Z"
   },
   {
    "duration": 31,
    "start_time": "2022-04-01T13:50:52.367Z"
   },
   {
    "duration": 716,
    "start_time": "2022-04-01T13:50:52.400Z"
   },
   {
    "duration": 11,
    "start_time": "2022-04-01T13:50:53.117Z"
   },
   {
    "duration": 16,
    "start_time": "2022-04-01T13:50:53.130Z"
   },
   {
    "duration": 30,
    "start_time": "2022-04-01T13:50:53.162Z"
   },
   {
    "duration": 739,
    "start_time": "2022-04-01T13:50:53.193Z"
   },
   {
    "duration": 33,
    "start_time": "2022-04-01T13:50:53.933Z"
   },
   {
    "duration": 13,
    "start_time": "2022-04-01T13:50:53.968Z"
   },
   {
    "duration": 725,
    "start_time": "2022-04-01T13:50:53.982Z"
   },
   {
    "duration": 11,
    "start_time": "2022-04-01T13:50:54.708Z"
   },
   {
    "duration": 5,
    "start_time": "2022-04-01T13:50:54.721Z"
   },
   {
    "duration": 15,
    "start_time": "2022-04-01T13:50:54.728Z"
   },
   {
    "duration": 12,
    "start_time": "2022-04-01T13:50:54.763Z"
   },
   {
    "duration": 4,
    "start_time": "2022-04-01T13:50:54.776Z"
   },
   {
    "duration": 9,
    "start_time": "2022-04-01T13:50:54.782Z"
   },
   {
    "duration": 152,
    "start_time": "2022-04-01T13:50:54.792Z"
   },
   {
    "duration": 13,
    "start_time": "2022-04-01T13:50:54.963Z"
   },
   {
    "duration": 26,
    "start_time": "2022-04-01T13:50:54.978Z"
   },
   {
    "duration": 15,
    "start_time": "2022-04-01T13:50:55.006Z"
   },
   {
    "duration": 78,
    "start_time": "2022-04-01T13:50:55.023Z"
   },
   {
    "duration": 167,
    "start_time": "2022-04-01T13:50:55.103Z"
   },
   {
    "duration": 379,
    "start_time": "2022-04-01T13:50:55.272Z"
   },
   {
    "duration": 83,
    "start_time": "2022-04-01T13:50:55.653Z"
   },
   {
    "duration": 25,
    "start_time": "2022-04-01T13:50:55.738Z"
   },
   {
    "duration": 15,
    "start_time": "2022-04-01T13:50:55.764Z"
   },
   {
    "duration": 12,
    "start_time": "2022-04-01T13:50:55.781Z"
   },
   {
    "duration": 75,
    "start_time": "2022-04-01T13:50:55.795Z"
   },
   {
    "duration": 15,
    "start_time": "2022-04-01T13:50:55.872Z"
   },
   {
    "duration": 16,
    "start_time": "2022-04-01T13:50:55.889Z"
   },
   {
    "duration": 765,
    "start_time": "2022-04-01T13:50:55.907Z"
   },
   {
    "duration": 21,
    "start_time": "2022-04-01T13:50:56.674Z"
   },
   {
    "duration": 24,
    "start_time": "2022-04-01T13:50:56.696Z"
   },
   {
    "duration": 166,
    "start_time": "2022-04-01T13:50:56.722Z"
   },
   {
    "duration": 137356,
    "start_time": "2022-04-01T16:25:18.162Z"
   },
   {
    "duration": 63684,
    "start_time": "2022-04-01T16:27:35.521Z"
   },
   {
    "duration": 1455,
    "start_time": "2022-04-01T16:28:39.207Z"
   },
   {
    "duration": 731,
    "start_time": "2022-04-01T16:28:40.665Z"
   },
   {
    "duration": 13,
    "start_time": "2022-04-01T16:28:41.398Z"
   },
   {
    "duration": 9,
    "start_time": "2022-04-01T16:28:41.413Z"
   },
   {
    "duration": 8,
    "start_time": "2022-04-01T16:28:41.424Z"
   },
   {
    "duration": 30,
    "start_time": "2022-04-01T16:28:41.434Z"
   },
   {
    "duration": 5,
    "start_time": "2022-04-01T16:28:41.466Z"
   },
   {
    "duration": 120,
    "start_time": "2022-04-01T16:28:41.475Z"
   },
   {
    "duration": 18,
    "start_time": "2022-04-01T16:28:41.598Z"
   },
   {
    "duration": 3,
    "start_time": "2022-04-01T16:28:41.632Z"
   },
   {
    "duration": 254,
    "start_time": "2022-04-01T16:28:41.638Z"
   },
   {
    "duration": 13,
    "start_time": "2022-04-01T16:28:41.894Z"
   },
   {
    "duration": 27,
    "start_time": "2022-04-01T16:28:41.909Z"
   },
   {
    "duration": 108,
    "start_time": "2022-04-01T16:28:41.938Z"
   },
   {
    "duration": 15,
    "start_time": "2022-04-01T16:28:42.048Z"
   },
   {
    "duration": 15,
    "start_time": "2022-04-01T16:28:42.065Z"
   },
   {
    "duration": 7,
    "start_time": "2022-04-01T16:28:42.082Z"
   },
   {
    "duration": 42,
    "start_time": "2022-04-01T16:28:42.091Z"
   },
   {
    "duration": 11,
    "start_time": "2022-04-01T16:28:42.135Z"
   },
   {
    "duration": 173,
    "start_time": "2022-04-01T16:28:42.148Z"
   },
   {
    "duration": 30,
    "start_time": "2022-04-01T16:28:42.322Z"
   },
   {
    "duration": 129,
    "start_time": "2022-04-01T16:28:42.353Z"
   },
   {
    "duration": 9,
    "start_time": "2022-04-01T16:28:42.483Z"
   },
   {
    "duration": 17,
    "start_time": "2022-04-01T16:28:42.493Z"
   },
   {
    "duration": 107,
    "start_time": "2022-04-01T16:28:42.511Z"
   },
   {
    "duration": 481,
    "start_time": "2022-04-01T16:28:42.622Z"
   },
   {
    "duration": 149,
    "start_time": "2022-04-01T16:28:43.105Z"
   },
   {
    "duration": 104,
    "start_time": "2022-04-01T16:28:43.256Z"
   },
   {
    "duration": 18,
    "start_time": "2022-04-01T16:28:43.361Z"
   },
   {
    "duration": 118,
    "start_time": "2022-04-01T16:28:43.381Z"
   },
   {
    "duration": 88,
    "start_time": "2022-04-01T16:28:43.501Z"
   },
   {
    "duration": 17,
    "start_time": "2022-04-01T16:28:43.591Z"
   },
   {
    "duration": 110,
    "start_time": "2022-04-01T16:28:43.610Z"
   },
   {
    "duration": 466,
    "start_time": "2022-04-01T16:28:43.722Z"
   },
   {
    "duration": 233,
    "start_time": "2022-04-01T16:28:44.190Z"
   },
   {
    "duration": 255,
    "start_time": "2022-04-01T16:28:44.425Z"
   },
   {
    "duration": 8,
    "start_time": "2022-04-01T16:28:44.681Z"
   },
   {
    "duration": 100,
    "start_time": "2022-04-01T16:28:44.691Z"
   },
   {
    "duration": 3,
    "start_time": "2022-04-01T16:28:44.793Z"
   },
   {
    "duration": 10,
    "start_time": "2022-04-01T16:28:44.797Z"
   },
   {
    "duration": 164,
    "start_time": "2022-04-01T16:28:44.809Z"
   },
   {
    "duration": 90,
    "start_time": "2022-04-01T16:28:44.975Z"
   },
   {
    "duration": 66,
    "start_time": "2022-04-01T16:28:45.068Z"
   },
   {
    "duration": 157,
    "start_time": "2022-04-01T16:28:45.136Z"
   },
   {
    "duration": 26,
    "start_time": "2022-04-01T16:28:45.296Z"
   },
   {
    "duration": 1095,
    "start_time": "2022-04-01T16:28:45.333Z"
   },
   {
    "duration": 9,
    "start_time": "2022-04-01T16:28:46.432Z"
   },
   {
    "duration": 72,
    "start_time": "2022-04-01T16:28:46.443Z"
   },
   {
    "duration": 67,
    "start_time": "2022-04-01T16:28:46.516Z"
   },
   {
    "duration": 141,
    "start_time": "2022-04-01T16:28:46.585Z"
   },
   {
    "duration": 10,
    "start_time": "2022-04-01T16:28:46.729Z"
   },
   {
    "duration": 302,
    "start_time": "2022-04-01T16:28:46.741Z"
   },
   {
    "duration": 5,
    "start_time": "2022-04-01T16:28:47.044Z"
   },
   {
    "duration": 18,
    "start_time": "2022-04-01T16:28:47.050Z"
   },
   {
    "duration": 13,
    "start_time": "2022-04-01T16:28:47.070Z"
   },
   {
    "duration": 8,
    "start_time": "2022-04-01T16:28:47.085Z"
   },
   {
    "duration": 40,
    "start_time": "2022-04-01T16:28:47.095Z"
   },
   {
    "duration": 11,
    "start_time": "2022-04-01T16:28:47.136Z"
   },
   {
    "duration": 10,
    "start_time": "2022-04-01T16:28:47.149Z"
   },
   {
    "duration": 4,
    "start_time": "2022-04-01T16:28:47.161Z"
   },
   {
    "duration": 8,
    "start_time": "2022-04-01T16:28:47.167Z"
   },
   {
    "duration": 6,
    "start_time": "2022-04-01T16:28:47.176Z"
   },
   {
    "duration": 11,
    "start_time": "2022-04-01T16:28:47.183Z"
   },
   {
    "duration": 55,
    "start_time": "2022-04-01T16:28:47.196Z"
   },
   {
    "duration": 765,
    "start_time": "2022-04-01T16:28:47.253Z"
   },
   {
    "duration": 26,
    "start_time": "2022-04-01T16:28:48.019Z"
   },
   {
    "duration": 26,
    "start_time": "2022-04-01T16:28:48.048Z"
   },
   {
    "duration": 69,
    "start_time": "2022-04-01T16:28:48.076Z"
   },
   {
    "duration": 1118,
    "start_time": "2022-04-01T16:28:48.148Z"
   },
   {
    "duration": 29,
    "start_time": "2022-04-01T16:28:49.268Z"
   },
   {
    "duration": 15,
    "start_time": "2022-04-01T16:28:49.299Z"
   },
   {
    "duration": 753,
    "start_time": "2022-04-01T16:28:49.332Z"
   },
   {
    "duration": 13,
    "start_time": "2022-04-01T16:28:50.087Z"
   },
   {
    "duration": 7,
    "start_time": "2022-04-01T16:28:50.101Z"
   },
   {
    "duration": 31,
    "start_time": "2022-04-01T16:28:50.109Z"
   },
   {
    "duration": 13,
    "start_time": "2022-04-01T16:28:50.141Z"
   },
   {
    "duration": 4,
    "start_time": "2022-04-01T16:28:50.156Z"
   },
   {
    "duration": 9,
    "start_time": "2022-04-01T16:28:50.162Z"
   },
   {
    "duration": 167,
    "start_time": "2022-04-01T16:28:50.174Z"
   },
   {
    "duration": 12,
    "start_time": "2022-04-01T16:28:50.349Z"
   },
   {
    "duration": 16,
    "start_time": "2022-04-01T16:28:50.363Z"
   },
   {
    "duration": 14,
    "start_time": "2022-04-01T16:28:50.381Z"
   },
   {
    "duration": 49,
    "start_time": "2022-04-01T16:28:50.433Z"
   },
   {
    "duration": 143,
    "start_time": "2022-04-01T16:28:50.484Z"
   },
   {
    "duration": 316,
    "start_time": "2022-04-01T16:28:50.629Z"
   },
   {
    "duration": 67,
    "start_time": "2022-04-01T16:28:50.947Z"
   },
   {
    "duration": 14,
    "start_time": "2022-04-01T16:28:51.032Z"
   },
   {
    "duration": 18,
    "start_time": "2022-04-01T16:28:51.047Z"
   },
   {
    "duration": 15,
    "start_time": "2022-04-01T16:28:51.066Z"
   },
   {
    "duration": 96,
    "start_time": "2022-04-01T16:28:51.083Z"
   },
   {
    "duration": 16,
    "start_time": "2022-04-01T16:28:51.181Z"
   },
   {
    "duration": 35,
    "start_time": "2022-04-01T16:28:51.199Z"
   },
   {
    "duration": 727,
    "start_time": "2022-04-01T16:28:51.236Z"
   },
   {
    "duration": 21,
    "start_time": "2022-04-01T16:28:51.965Z"
   },
   {
    "duration": 17,
    "start_time": "2022-04-01T16:28:51.987Z"
   },
   {
    "duration": 195,
    "start_time": "2022-04-01T16:28:52.006Z"
   },
   {
    "duration": 4380,
    "start_time": "2022-04-02T21:19:48.157Z"
   },
   {
    "duration": 9148,
    "start_time": "2022-04-02T21:19:52.540Z"
   },
   {
    "duration": 1724,
    "start_time": "2022-04-02T21:20:01.690Z"
   },
   {
    "duration": 905,
    "start_time": "2022-04-02T21:20:03.417Z"
   },
   {
    "duration": 17,
    "start_time": "2022-04-02T21:20:04.324Z"
   },
   {
    "duration": 10,
    "start_time": "2022-04-02T21:20:04.343Z"
   },
   {
    "duration": 23,
    "start_time": "2022-04-02T21:20:04.355Z"
   },
   {
    "duration": 39,
    "start_time": "2022-04-02T21:20:04.381Z"
   },
   {
    "duration": 7,
    "start_time": "2022-04-02T21:20:04.422Z"
   },
   {
    "duration": 113,
    "start_time": "2022-04-02T21:20:04.436Z"
   },
   {
    "duration": 37,
    "start_time": "2022-04-02T21:20:04.552Z"
   },
   {
    "duration": 228,
    "start_time": "2022-04-02T21:20:04.591Z"
   },
   {
    "duration": 14,
    "start_time": "2022-04-02T21:20:04.821Z"
   },
   {
    "duration": 38,
    "start_time": "2022-04-02T21:20:04.837Z"
   },
   {
    "duration": 78,
    "start_time": "2022-04-02T21:20:04.882Z"
   },
   {
    "duration": 25,
    "start_time": "2022-04-02T21:20:04.962Z"
   },
   {
    "duration": 18,
    "start_time": "2022-04-02T21:20:04.990Z"
   },
   {
    "duration": 8,
    "start_time": "2022-04-02T21:20:05.011Z"
   },
   {
    "duration": 17,
    "start_time": "2022-04-02T21:20:05.022Z"
   },
   {
    "duration": 43,
    "start_time": "2022-04-02T21:20:05.042Z"
   },
   {
    "duration": 269,
    "start_time": "2022-04-02T21:20:05.088Z"
   },
   {
    "duration": 48,
    "start_time": "2022-04-02T21:20:05.359Z"
   },
   {
    "duration": 183,
    "start_time": "2022-04-02T21:20:05.409Z"
   },
   {
    "duration": 13,
    "start_time": "2022-04-02T21:20:05.594Z"
   },
   {
    "duration": 18,
    "start_time": "2022-04-02T21:20:05.609Z"
   },
   {
    "duration": 156,
    "start_time": "2022-04-02T21:20:05.629Z"
   },
   {
    "duration": 608,
    "start_time": "2022-04-02T21:20:05.788Z"
   },
   {
    "duration": 273,
    "start_time": "2022-04-02T21:20:06.402Z"
   },
   {
    "duration": 144,
    "start_time": "2022-04-02T21:20:06.677Z"
   },
   {
    "duration": 30,
    "start_time": "2022-04-02T21:20:06.823Z"
   },
   {
    "duration": 173,
    "start_time": "2022-04-02T21:20:06.855Z"
   },
   {
    "duration": 125,
    "start_time": "2022-04-02T21:20:07.030Z"
   },
   {
    "duration": 42,
    "start_time": "2022-04-02T21:20:07.157Z"
   },
   {
    "duration": 148,
    "start_time": "2022-04-02T21:20:07.201Z"
   },
   {
    "duration": 142,
    "start_time": "2022-04-02T21:20:07.351Z"
   },
   {
    "duration": 109,
    "start_time": "2022-04-02T21:20:07.495Z"
   },
   {
    "duration": 69,
    "start_time": "2022-04-02T21:20:07.606Z"
   },
   {
    "duration": 545,
    "start_time": "2022-04-02T21:20:07.688Z"
   },
   {
    "duration": 13,
    "start_time": "2022-04-02T21:20:08.237Z"
   },
   {
    "duration": 138,
    "start_time": "2022-04-02T21:20:08.253Z"
   },
   {
    "duration": 4,
    "start_time": "2022-04-02T21:20:08.394Z"
   },
   {
    "duration": 12,
    "start_time": "2022-04-02T21:20:08.399Z"
   },
   {
    "duration": 243,
    "start_time": "2022-04-02T21:20:08.413Z"
   },
   {
    "duration": 150,
    "start_time": "2022-04-02T21:20:08.659Z"
   },
   {
    "duration": 70,
    "start_time": "2022-04-02T21:20:08.812Z"
   },
   {
    "duration": 151,
    "start_time": "2022-04-02T21:20:08.886Z"
   },
   {
    "duration": 25,
    "start_time": "2022-04-02T21:20:09.039Z"
   },
   {
    "duration": 1716,
    "start_time": "2022-04-02T21:20:09.078Z"
   },
   {
    "duration": 25,
    "start_time": "2022-04-02T21:20:10.797Z"
   },
   {
    "duration": 11,
    "start_time": "2022-04-02T21:20:10.825Z"
   },
   {
    "duration": 61,
    "start_time": "2022-04-02T21:20:10.838Z"
   },
   {
    "duration": 112,
    "start_time": "2022-04-02T21:20:10.901Z"
   },
   {
    "duration": 113,
    "start_time": "2022-04-02T21:20:11.015Z"
   },
   {
    "duration": 43,
    "start_time": "2022-04-02T21:20:11.131Z"
   },
   {
    "duration": 14,
    "start_time": "2022-04-02T21:20:11.183Z"
   },
   {
    "duration": 409,
    "start_time": "2022-04-02T21:20:11.199Z"
   },
   {
    "duration": 24,
    "start_time": "2022-04-02T21:20:11.610Z"
   },
   {
    "duration": 45,
    "start_time": "2022-04-02T21:20:11.637Z"
   },
   {
    "duration": 27,
    "start_time": "2022-04-02T21:20:11.684Z"
   },
   {
    "duration": 21,
    "start_time": "2022-04-02T21:20:11.713Z"
   },
   {
    "duration": 57,
    "start_time": "2022-04-02T21:20:11.736Z"
   },
   {
    "duration": 15,
    "start_time": "2022-04-02T21:20:11.795Z"
   },
   {
    "duration": 9,
    "start_time": "2022-04-02T21:20:11.813Z"
   },
   {
    "duration": 17,
    "start_time": "2022-04-02T21:20:11.825Z"
   },
   {
    "duration": 68,
    "start_time": "2022-04-02T21:20:11.845Z"
   },
   {
    "duration": 36,
    "start_time": "2022-04-02T21:20:11.916Z"
   },
   {
    "duration": 1234,
    "start_time": "2022-04-02T21:20:11.955Z"
   },
   {
    "duration": 17,
    "start_time": "2022-04-02T21:20:13.191Z"
   },
   {
    "duration": 21,
    "start_time": "2022-04-02T21:20:13.210Z"
   },
   {
    "duration": 6,
    "start_time": "2022-04-02T21:20:13.234Z"
   },
   {
    "duration": 46,
    "start_time": "2022-04-02T21:20:13.242Z"
   },
   {
    "duration": 51,
    "start_time": "2022-04-02T21:20:13.291Z"
   },
   {
    "duration": 1216,
    "start_time": "2022-04-02T21:20:13.345Z"
   },
   {
    "duration": 28,
    "start_time": "2022-04-02T21:20:14.564Z"
   },
   {
    "duration": 21,
    "start_time": "2022-04-02T21:20:14.594Z"
   },
   {
    "duration": 11,
    "start_time": "2022-04-02T21:20:14.617Z"
   },
   {
    "duration": 42,
    "start_time": "2022-04-02T21:20:14.631Z"
   },
   {
    "duration": 13,
    "start_time": "2022-04-02T21:20:14.676Z"
   },
   {
    "duration": 149,
    "start_time": "2022-04-02T21:20:14.692Z"
   },
   {
    "duration": 39,
    "start_time": "2022-04-02T21:20:14.844Z"
   },
   {
    "duration": 1205,
    "start_time": "2022-04-02T21:20:14.885Z"
   },
   {
    "duration": 17,
    "start_time": "2022-04-02T21:20:16.101Z"
   },
   {
    "duration": 12,
    "start_time": "2022-04-02T21:20:16.120Z"
   },
   {
    "duration": 54,
    "start_time": "2022-04-02T21:20:16.134Z"
   },
   {
    "duration": 16,
    "start_time": "2022-04-02T21:20:16.191Z"
   },
   {
    "duration": 5,
    "start_time": "2022-04-02T21:20:16.209Z"
   },
   {
    "duration": 11,
    "start_time": "2022-04-02T21:20:16.217Z"
   },
   {
    "duration": 53,
    "start_time": "2022-04-02T21:20:16.231Z"
   },
   {
    "duration": 99,
    "start_time": "2022-04-02T21:20:16.286Z"
   },
   {
    "duration": 142,
    "start_time": "2022-04-02T21:20:16.387Z"
   },
   {
    "duration": 14,
    "start_time": "2022-04-02T21:20:16.531Z"
   },
   {
    "duration": 43,
    "start_time": "2022-04-02T21:20:16.548Z"
   },
   {
    "duration": 21,
    "start_time": "2022-04-02T21:20:16.593Z"
   },
   {
    "duration": 104,
    "start_time": "2022-04-02T21:20:16.617Z"
   },
   {
    "duration": 201,
    "start_time": "2022-04-02T21:20:16.725Z"
   },
   {
    "duration": 417,
    "start_time": "2022-04-02T21:20:16.928Z"
   },
   {
    "duration": 119,
    "start_time": "2022-04-02T21:20:17.347Z"
   },
   {
    "duration": 18,
    "start_time": "2022-04-02T21:20:17.474Z"
   },
   {
    "duration": 22,
    "start_time": "2022-04-02T21:20:17.495Z"
   },
   {
    "duration": 19,
    "start_time": "2022-04-02T21:20:17.519Z"
   },
   {
    "duration": 155,
    "start_time": "2022-04-02T21:20:17.540Z"
   },
   {
    "duration": 24,
    "start_time": "2022-04-02T21:20:17.697Z"
   },
   {
    "duration": 58,
    "start_time": "2022-04-02T21:20:17.724Z"
   },
   {
    "duration": 29,
    "start_time": "2022-04-02T21:20:17.785Z"
   },
   {
    "duration": 1237,
    "start_time": "2022-04-02T21:20:17.816Z"
   },
   {
    "duration": 43,
    "start_time": "2022-04-02T21:20:19.056Z"
   },
   {
    "duration": 37,
    "start_time": "2022-04-02T21:20:19.103Z"
   },
   {
    "duration": 111,
    "start_time": "2022-04-02T21:20:19.142Z"
   },
   {
    "duration": 3598,
    "start_time": "2022-04-02T22:02:16.572Z"
   },
   {
    "duration": 3889,
    "start_time": "2022-04-02T22:02:20.173Z"
   },
   {
    "duration": 1681,
    "start_time": "2022-04-02T22:02:24.064Z"
   },
   {
    "duration": 820,
    "start_time": "2022-04-02T22:02:25.748Z"
   },
   {
    "duration": 19,
    "start_time": "2022-04-02T22:02:26.570Z"
   },
   {
    "duration": 10,
    "start_time": "2022-04-02T22:02:26.593Z"
   },
   {
    "duration": 13,
    "start_time": "2022-04-02T22:02:26.605Z"
   },
   {
    "duration": 70,
    "start_time": "2022-04-02T22:02:26.620Z"
   },
   {
    "duration": 5,
    "start_time": "2022-04-02T22:02:26.693Z"
   },
   {
    "duration": 91,
    "start_time": "2022-04-02T22:02:26.702Z"
   },
   {
    "duration": 17,
    "start_time": "2022-04-02T22:02:26.795Z"
   },
   {
    "duration": 229,
    "start_time": "2022-04-02T22:02:26.814Z"
   },
   {
    "duration": 13,
    "start_time": "2022-04-02T22:02:27.046Z"
   },
   {
    "duration": 30,
    "start_time": "2022-04-02T22:02:27.061Z"
   },
   {
    "duration": 96,
    "start_time": "2022-04-02T22:02:27.094Z"
   },
   {
    "duration": 16,
    "start_time": "2022-04-02T22:02:27.192Z"
   },
   {
    "duration": 16,
    "start_time": "2022-04-02T22:02:27.210Z"
   },
   {
    "duration": 8,
    "start_time": "2022-04-02T22:02:27.228Z"
   },
   {
    "duration": 48,
    "start_time": "2022-04-02T22:02:27.239Z"
   },
   {
    "duration": 11,
    "start_time": "2022-04-02T22:02:27.289Z"
   },
   {
    "duration": 266,
    "start_time": "2022-04-02T22:02:27.303Z"
   },
   {
    "duration": 44,
    "start_time": "2022-04-02T22:02:27.571Z"
   },
   {
    "duration": 178,
    "start_time": "2022-04-02T22:02:27.617Z"
   },
   {
    "duration": 12,
    "start_time": "2022-04-02T22:02:27.798Z"
   },
   {
    "duration": 18,
    "start_time": "2022-04-02T22:02:27.812Z"
   },
   {
    "duration": 163,
    "start_time": "2022-04-02T22:02:27.832Z"
   },
   {
    "duration": 617,
    "start_time": "2022-04-02T22:02:27.998Z"
   },
   {
    "duration": 291,
    "start_time": "2022-04-02T22:02:28.622Z"
   },
   {
    "duration": 134,
    "start_time": "2022-04-02T22:02:28.915Z"
   },
   {
    "duration": 41,
    "start_time": "2022-04-02T22:02:29.051Z"
   },
   {
    "duration": 154,
    "start_time": "2022-04-02T22:02:29.095Z"
   },
   {
    "duration": 134,
    "start_time": "2022-04-02T22:02:29.252Z"
   },
   {
    "duration": 25,
    "start_time": "2022-04-02T22:02:29.389Z"
   },
   {
    "duration": 162,
    "start_time": "2022-04-02T22:02:29.416Z"
   },
   {
    "duration": 148,
    "start_time": "2022-04-02T22:02:29.581Z"
   },
   {
    "duration": 111,
    "start_time": "2022-04-02T22:02:29.731Z"
   },
   {
    "duration": 61,
    "start_time": "2022-04-02T22:02:29.844Z"
   },
   {
    "duration": 559,
    "start_time": "2022-04-02T22:02:29.908Z"
   },
   {
    "duration": 13,
    "start_time": "2022-04-02T22:02:30.469Z"
   },
   {
    "duration": 134,
    "start_time": "2022-04-02T22:02:30.485Z"
   },
   {
    "duration": 4,
    "start_time": "2022-04-02T22:02:30.622Z"
   },
   {
    "duration": 27,
    "start_time": "2022-04-02T22:02:30.629Z"
   },
   {
    "duration": 258,
    "start_time": "2022-04-02T22:02:30.658Z"
   },
   {
    "duration": 128,
    "start_time": "2022-04-02T22:02:30.919Z"
   },
   {
    "duration": 70,
    "start_time": "2022-04-02T22:02:31.050Z"
   },
   {
    "duration": 168,
    "start_time": "2022-04-02T22:02:31.122Z"
   },
   {
    "duration": 27,
    "start_time": "2022-04-02T22:02:31.292Z"
   },
   {
    "duration": 1849,
    "start_time": "2022-04-02T22:02:31.321Z"
   },
   {
    "duration": 27,
    "start_time": "2022-04-02T22:02:33.172Z"
   },
   {
    "duration": 14,
    "start_time": "2022-04-02T22:02:33.202Z"
   },
   {
    "duration": 26,
    "start_time": "2022-04-02T22:02:33.218Z"
   },
   {
    "duration": 143,
    "start_time": "2022-04-02T22:02:33.246Z"
   },
   {
    "duration": 107,
    "start_time": "2022-04-02T22:02:33.391Z"
   },
   {
    "duration": 31,
    "start_time": "2022-04-02T22:02:33.500Z"
   },
   {
    "duration": 12,
    "start_time": "2022-04-02T22:02:33.533Z"
   },
   {
    "duration": 404,
    "start_time": "2022-04-02T22:02:33.547Z"
   },
   {
    "duration": 42,
    "start_time": "2022-04-02T22:02:33.953Z"
   },
   {
    "duration": 13,
    "start_time": "2022-04-02T22:02:33.998Z"
   },
   {
    "duration": 23,
    "start_time": "2022-04-02T22:02:34.013Z"
   },
   {
    "duration": 59,
    "start_time": "2022-04-02T22:02:34.038Z"
   },
   {
    "duration": 23,
    "start_time": "2022-04-02T22:02:34.099Z"
   },
   {
    "duration": 15,
    "start_time": "2022-04-02T22:02:34.124Z"
   },
   {
    "duration": 35,
    "start_time": "2022-04-02T22:02:34.142Z"
   },
   {
    "duration": 18,
    "start_time": "2022-04-02T22:02:34.180Z"
   },
   {
    "duration": 37,
    "start_time": "2022-04-02T22:02:34.201Z"
   },
   {
    "duration": 65,
    "start_time": "2022-04-02T22:02:34.241Z"
   },
   {
    "duration": 1228,
    "start_time": "2022-04-02T22:02:34.308Z"
   },
   {
    "duration": 18,
    "start_time": "2022-04-02T22:02:35.539Z"
   },
   {
    "duration": 22,
    "start_time": "2022-04-02T22:02:35.575Z"
   },
   {
    "duration": 7,
    "start_time": "2022-04-02T22:02:35.600Z"
   },
   {
    "duration": 15,
    "start_time": "2022-04-02T22:02:35.609Z"
   },
   {
    "duration": 88,
    "start_time": "2022-04-02T22:02:35.626Z"
   },
   {
    "duration": 1259,
    "start_time": "2022-04-02T22:02:35.717Z"
   },
   {
    "duration": 19,
    "start_time": "2022-04-02T22:02:36.978Z"
   },
   {
    "duration": 19,
    "start_time": "2022-04-02T22:02:37.000Z"
   },
   {
    "duration": 11,
    "start_time": "2022-04-02T22:02:37.022Z"
   },
   {
    "duration": 50,
    "start_time": "2022-04-02T22:02:37.035Z"
   },
   {
    "duration": 14,
    "start_time": "2022-04-02T22:02:37.087Z"
   },
   {
    "duration": 140,
    "start_time": "2022-04-02T22:02:37.103Z"
   },
   {
    "duration": 49,
    "start_time": "2022-04-02T22:02:37.246Z"
   },
   {
    "duration": 1202,
    "start_time": "2022-04-02T22:02:37.297Z"
   },
   {
    "duration": 16,
    "start_time": "2022-04-02T22:02:38.509Z"
   },
   {
    "duration": 6,
    "start_time": "2022-04-02T22:02:38.527Z"
   },
   {
    "duration": 52,
    "start_time": "2022-04-02T22:02:38.535Z"
   },
   {
    "duration": 19,
    "start_time": "2022-04-02T22:02:38.590Z"
   },
   {
    "duration": 5,
    "start_time": "2022-04-02T22:02:38.611Z"
   },
   {
    "duration": 9,
    "start_time": "2022-04-02T22:02:38.619Z"
   },
   {
    "duration": 58,
    "start_time": "2022-04-02T22:02:38.630Z"
   },
   {
    "duration": 103,
    "start_time": "2022-04-02T22:02:38.691Z"
   },
   {
    "duration": 132,
    "start_time": "2022-04-02T22:02:38.798Z"
   },
   {
    "duration": 16,
    "start_time": "2022-04-02T22:02:38.932Z"
   },
   {
    "duration": 48,
    "start_time": "2022-04-02T22:02:38.950Z"
   },
   {
    "duration": 20,
    "start_time": "2022-04-02T22:02:39.000Z"
   },
   {
    "duration": 100,
    "start_time": "2022-04-02T22:02:39.022Z"
   },
   {
    "duration": 187,
    "start_time": "2022-04-02T22:02:39.124Z"
   },
   {
    "duration": 432,
    "start_time": "2022-04-02T22:02:39.313Z"
   },
   {
    "duration": 119,
    "start_time": "2022-04-02T22:02:39.747Z"
   },
   {
    "duration": 21,
    "start_time": "2022-04-02T22:02:39.869Z"
   },
   {
    "duration": 23,
    "start_time": "2022-04-02T22:02:39.892Z"
   },
   {
    "duration": 19,
    "start_time": "2022-04-02T22:02:39.917Z"
   },
   {
    "duration": 162,
    "start_time": "2022-04-02T22:02:39.938Z"
   },
   {
    "duration": 23,
    "start_time": "2022-04-02T22:02:40.102Z"
   },
   {
    "duration": 51,
    "start_time": "2022-04-02T22:02:40.127Z"
   },
   {
    "duration": 29,
    "start_time": "2022-04-02T22:02:40.186Z"
   },
   {
    "duration": 1221,
    "start_time": "2022-04-02T22:02:40.218Z"
   },
   {
    "duration": 46,
    "start_time": "2022-04-02T22:02:41.441Z"
   },
   {
    "duration": 36,
    "start_time": "2022-04-02T22:02:41.490Z"
   },
   {
    "duration": 112,
    "start_time": "2022-04-02T22:02:41.528Z"
   },
   {
    "duration": 81,
    "start_time": "2022-04-02T22:11:21.690Z"
   },
   {
    "duration": 244,
    "start_time": "2022-04-02T22:11:29.466Z"
   },
   {
    "duration": 21,
    "start_time": "2022-04-02T22:11:33.878Z"
   },
   {
    "duration": 81,
    "start_time": "2022-04-02T22:11:36.768Z"
   },
   {
    "duration": 94,
    "start_time": "2022-04-02T22:11:54.743Z"
   },
   {
    "duration": 4105,
    "start_time": "2022-04-03T03:43:39.601Z"
   },
   {
    "duration": 8376,
    "start_time": "2022-04-03T03:43:43.709Z"
   },
   {
    "duration": 1728,
    "start_time": "2022-04-03T03:43:52.088Z"
   },
   {
    "duration": 784,
    "start_time": "2022-04-03T03:43:53.820Z"
   },
   {
    "duration": 18,
    "start_time": "2022-04-03T03:43:54.606Z"
   },
   {
    "duration": 13,
    "start_time": "2022-04-03T03:43:54.626Z"
   },
   {
    "duration": 11,
    "start_time": "2022-04-03T03:43:54.642Z"
   },
   {
    "duration": 52,
    "start_time": "2022-04-03T03:43:54.655Z"
   },
   {
    "duration": 5,
    "start_time": "2022-04-03T03:43:54.709Z"
   },
   {
    "duration": 85,
    "start_time": "2022-04-03T03:43:54.719Z"
   },
   {
    "duration": 17,
    "start_time": "2022-04-03T03:43:54.806Z"
   },
   {
    "duration": 207,
    "start_time": "2022-04-03T03:43:54.825Z"
   },
   {
    "duration": 13,
    "start_time": "2022-04-03T03:43:55.034Z"
   },
   {
    "duration": 35,
    "start_time": "2022-04-03T03:43:55.049Z"
   },
   {
    "duration": 84,
    "start_time": "2022-04-03T03:43:55.086Z"
   },
   {
    "duration": 17,
    "start_time": "2022-04-03T03:43:55.182Z"
   },
   {
    "duration": 15,
    "start_time": "2022-04-03T03:43:55.203Z"
   },
   {
    "duration": 10,
    "start_time": "2022-04-03T03:43:55.221Z"
   },
   {
    "duration": 54,
    "start_time": "2022-04-03T03:43:55.233Z"
   },
   {
    "duration": 12,
    "start_time": "2022-04-03T03:43:55.290Z"
   },
   {
    "duration": 245,
    "start_time": "2022-04-03T03:43:55.305Z"
   },
   {
    "duration": 38,
    "start_time": "2022-04-03T03:43:55.552Z"
   },
   {
    "duration": 155,
    "start_time": "2022-04-03T03:43:55.592Z"
   },
   {
    "duration": 14,
    "start_time": "2022-04-03T03:43:55.749Z"
   },
   {
    "duration": 33,
    "start_time": "2022-04-03T03:43:55.765Z"
   },
   {
    "duration": 129,
    "start_time": "2022-04-03T03:43:55.801Z"
   },
   {
    "duration": 543,
    "start_time": "2022-04-03T03:43:55.933Z"
   },
   {
    "duration": 245,
    "start_time": "2022-04-03T03:43:56.488Z"
   },
   {
    "duration": 112,
    "start_time": "2022-04-03T03:43:56.735Z"
   },
   {
    "duration": 36,
    "start_time": "2022-04-03T03:43:56.849Z"
   },
   {
    "duration": 133,
    "start_time": "2022-04-03T03:43:56.887Z"
   },
   {
    "duration": 108,
    "start_time": "2022-04-03T03:43:57.023Z"
   },
   {
    "duration": 23,
    "start_time": "2022-04-03T03:43:57.133Z"
   },
   {
    "duration": 132,
    "start_time": "2022-04-03T03:43:57.159Z"
   },
   {
    "duration": 123,
    "start_time": "2022-04-03T03:43:57.294Z"
   },
   {
    "duration": 99,
    "start_time": "2022-04-03T03:43:57.419Z"
   },
   {
    "duration": 63,
    "start_time": "2022-04-03T03:43:57.520Z"
   },
   {
    "duration": 462,
    "start_time": "2022-04-03T03:43:57.586Z"
   },
   {
    "duration": 12,
    "start_time": "2022-04-03T03:43:58.050Z"
   },
   {
    "duration": 108,
    "start_time": "2022-04-03T03:43:58.064Z"
   },
   {
    "duration": 4,
    "start_time": "2022-04-03T03:43:58.182Z"
   },
   {
    "duration": 14,
    "start_time": "2022-04-03T03:43:58.187Z"
   },
   {
    "duration": 204,
    "start_time": "2022-04-03T03:43:58.204Z"
   },
   {
    "duration": 110,
    "start_time": "2022-04-03T03:43:58.411Z"
   },
   {
    "duration": 63,
    "start_time": "2022-04-03T03:43:58.523Z"
   },
   {
    "duration": 130,
    "start_time": "2022-04-03T03:43:58.588Z"
   },
   {
    "duration": 24,
    "start_time": "2022-04-03T03:43:58.720Z"
   },
   {
    "duration": 1570,
    "start_time": "2022-04-03T03:43:58.746Z"
   },
   {
    "duration": 18,
    "start_time": "2022-04-03T03:44:00.318Z"
   },
   {
    "duration": 17,
    "start_time": "2022-04-03T03:44:00.338Z"
   },
   {
    "duration": 44,
    "start_time": "2022-04-03T03:44:00.357Z"
   },
   {
    "duration": 104,
    "start_time": "2022-04-03T03:44:00.404Z"
   },
   {
    "duration": 98,
    "start_time": "2022-04-03T03:44:00.510Z"
   },
   {
    "duration": 27,
    "start_time": "2022-04-03T03:44:00.611Z"
   },
   {
    "duration": 12,
    "start_time": "2022-04-03T03:44:00.640Z"
   },
   {
    "duration": 346,
    "start_time": "2022-04-03T03:44:00.654Z"
   },
   {
    "duration": 25,
    "start_time": "2022-04-03T03:44:01.002Z"
   },
   {
    "duration": 12,
    "start_time": "2022-04-03T03:44:01.030Z"
   },
   {
    "duration": 19,
    "start_time": "2022-04-03T03:44:01.084Z"
   },
   {
    "duration": 34,
    "start_time": "2022-04-03T03:44:01.106Z"
   },
   {
    "duration": 23,
    "start_time": "2022-04-03T03:44:01.142Z"
   },
   {
    "duration": 26,
    "start_time": "2022-04-03T03:44:01.168Z"
   },
   {
    "duration": 8,
    "start_time": "2022-04-03T03:44:01.197Z"
   },
   {
    "duration": 20,
    "start_time": "2022-04-03T03:44:01.207Z"
   },
   {
    "duration": 68,
    "start_time": "2022-04-03T03:44:01.229Z"
   },
   {
    "duration": 34,
    "start_time": "2022-04-03T03:44:01.299Z"
   },
   {
    "duration": 1106,
    "start_time": "2022-04-03T03:44:01.336Z"
   },
   {
    "duration": 16,
    "start_time": "2022-04-03T03:44:02.444Z"
   },
   {
    "duration": 20,
    "start_time": "2022-04-03T03:44:02.482Z"
   },
   {
    "duration": 6,
    "start_time": "2022-04-03T03:44:02.505Z"
   },
   {
    "duration": 15,
    "start_time": "2022-04-03T03:44:02.513Z"
   },
   {
    "duration": 72,
    "start_time": "2022-04-03T03:44:02.531Z"
   },
   {
    "duration": 1086,
    "start_time": "2022-04-03T03:44:02.606Z"
   },
   {
    "duration": 17,
    "start_time": "2022-04-03T03:44:03.694Z"
   },
   {
    "duration": 20,
    "start_time": "2022-04-03T03:44:03.714Z"
   },
   {
    "duration": 10,
    "start_time": "2022-04-03T03:44:03.736Z"
   },
   {
    "duration": 44,
    "start_time": "2022-04-03T03:44:03.748Z"
   },
   {
    "duration": 11,
    "start_time": "2022-04-03T03:44:03.794Z"
   },
   {
    "duration": 133,
    "start_time": "2022-04-03T03:44:03.807Z"
   },
   {
    "duration": 19,
    "start_time": "2022-04-03T03:44:03.943Z"
   },
   {
    "duration": 1049,
    "start_time": "2022-04-03T03:44:03.965Z"
   },
   {
    "duration": 16,
    "start_time": "2022-04-03T03:44:05.023Z"
   },
   {
    "duration": 8,
    "start_time": "2022-04-03T03:44:05.041Z"
   },
   {
    "duration": 45,
    "start_time": "2022-04-03T03:44:05.051Z"
   },
   {
    "duration": 16,
    "start_time": "2022-04-03T03:44:05.098Z"
   },
   {
    "duration": 6,
    "start_time": "2022-04-03T03:44:05.115Z"
   },
   {
    "duration": 10,
    "start_time": "2022-04-03T03:44:05.123Z"
   },
   {
    "duration": 48,
    "start_time": "2022-04-03T03:44:05.135Z"
   },
   {
    "duration": 73,
    "start_time": "2022-04-03T03:44:05.186Z"
   },
   {
    "duration": 129,
    "start_time": "2022-04-03T03:44:05.262Z"
   },
   {
    "duration": 91,
    "start_time": "2022-04-03T03:44:05.393Z"
   },
   {
    "duration": 14,
    "start_time": "2022-04-03T03:44:05.487Z"
   },
   {
    "duration": 18,
    "start_time": "2022-04-03T03:44:05.504Z"
   },
   {
    "duration": 18,
    "start_time": "2022-04-03T03:44:05.524Z"
   },
   {
    "duration": 70,
    "start_time": "2022-04-03T03:44:05.582Z"
   },
   {
    "duration": 173,
    "start_time": "2022-04-03T03:44:05.654Z"
   },
   {
    "duration": 400,
    "start_time": "2022-04-03T03:44:05.830Z"
   },
   {
    "duration": 107,
    "start_time": "2022-04-03T03:44:06.232Z"
   },
   {
    "duration": 17,
    "start_time": "2022-04-03T03:44:06.341Z"
   },
   {
    "duration": 40,
    "start_time": "2022-04-03T03:44:06.361Z"
   },
   {
    "duration": 19,
    "start_time": "2022-04-03T03:44:06.403Z"
   },
   {
    "duration": 124,
    "start_time": "2022-04-03T03:44:06.424Z"
   },
   {
    "duration": 36,
    "start_time": "2022-04-03T03:44:06.550Z"
   },
   {
    "duration": 27,
    "start_time": "2022-04-03T03:44:06.589Z"
   },
   {
    "duration": 28,
    "start_time": "2022-04-03T03:44:06.618Z"
   },
   {
    "duration": 1053,
    "start_time": "2022-04-03T03:44:06.648Z"
   },
   {
    "duration": 28,
    "start_time": "2022-04-03T03:44:07.704Z"
   },
   {
    "duration": 60,
    "start_time": "2022-04-03T03:44:07.735Z"
   },
   {
    "duration": 91,
    "start_time": "2022-04-03T03:44:07.797Z"
   },
   {
    "duration": 3418,
    "start_time": "2022-04-04T17:43:37.633Z"
   },
   {
    "duration": 8211,
    "start_time": "2022-04-04T17:43:41.053Z"
   },
   {
    "duration": 1591,
    "start_time": "2022-04-04T17:43:49.266Z"
   },
   {
    "duration": 5063,
    "start_time": "2022-04-04T17:43:50.860Z"
   },
   {
    "duration": 10,
    "start_time": "2022-04-04T17:43:55.925Z"
   },
   {
    "duration": 7,
    "start_time": "2022-04-04T17:43:55.937Z"
   },
   {
    "duration": 7,
    "start_time": "2022-04-04T17:43:55.946Z"
   },
   {
    "duration": 26,
    "start_time": "2022-04-04T17:43:55.954Z"
   },
   {
    "duration": 4,
    "start_time": "2022-04-04T17:43:55.982Z"
   },
   {
    "duration": 72,
    "start_time": "2022-04-04T17:43:55.989Z"
   },
   {
    "duration": 12,
    "start_time": "2022-04-04T17:43:56.062Z"
   },
   {
    "duration": 156,
    "start_time": "2022-04-04T17:43:56.075Z"
   },
   {
    "duration": 9,
    "start_time": "2022-04-04T17:43:56.233Z"
   },
   {
    "duration": 10,
    "start_time": "2022-04-04T17:43:56.244Z"
   },
   {
    "duration": 71,
    "start_time": "2022-04-04T17:43:56.255Z"
   },
   {
    "duration": 10,
    "start_time": "2022-04-04T17:43:56.328Z"
   },
   {
    "duration": 12,
    "start_time": "2022-04-04T17:43:56.339Z"
   },
   {
    "duration": 7,
    "start_time": "2022-04-04T17:43:56.353Z"
   },
   {
    "duration": 10,
    "start_time": "2022-04-04T17:43:56.362Z"
   },
   {
    "duration": 29,
    "start_time": "2022-04-04T17:43:56.373Z"
   },
   {
    "duration": 175,
    "start_time": "2022-04-04T17:43:56.404Z"
   },
   {
    "duration": 29,
    "start_time": "2022-04-04T17:43:56.581Z"
   },
   {
    "duration": 117,
    "start_time": "2022-04-04T17:43:56.612Z"
   },
   {
    "duration": 9,
    "start_time": "2022-04-04T17:43:56.730Z"
   },
   {
    "duration": 12,
    "start_time": "2022-04-04T17:43:56.740Z"
   },
   {
    "duration": 114,
    "start_time": "2022-04-04T17:43:56.754Z"
   },
   {
    "duration": 445,
    "start_time": "2022-04-04T17:43:56.870Z"
   },
   {
    "duration": 186,
    "start_time": "2022-04-04T17:43:57.319Z"
   },
   {
    "duration": 119,
    "start_time": "2022-04-04T17:43:57.507Z"
   },
   {
    "duration": 26,
    "start_time": "2022-04-04T17:43:57.628Z"
   },
   {
    "duration": 112,
    "start_time": "2022-04-04T17:43:57.655Z"
   },
   {
    "duration": 90,
    "start_time": "2022-04-04T17:43:57.768Z"
   },
   {
    "duration": 17,
    "start_time": "2022-04-04T17:43:57.859Z"
   },
   {
    "duration": 108,
    "start_time": "2022-04-04T17:43:57.877Z"
   },
   {
    "duration": 109,
    "start_time": "2022-04-04T17:43:57.986Z"
   },
   {
    "duration": 57,
    "start_time": "2022-04-04T17:43:58.100Z"
   },
   {
    "duration": 53,
    "start_time": "2022-04-04T17:43:58.159Z"
   },
   {
    "duration": 339,
    "start_time": "2022-04-04T17:43:58.213Z"
   },
   {
    "duration": 8,
    "start_time": "2022-04-04T17:43:58.554Z"
   },
   {
    "duration": 94,
    "start_time": "2022-04-04T17:43:58.565Z"
   },
   {
    "duration": 3,
    "start_time": "2022-04-04T17:43:58.661Z"
   },
   {
    "duration": 10,
    "start_time": "2022-04-04T17:43:58.665Z"
   },
   {
    "duration": 160,
    "start_time": "2022-04-04T17:43:58.677Z"
   },
   {
    "duration": 88,
    "start_time": "2022-04-04T17:43:58.839Z"
   },
   {
    "duration": 42,
    "start_time": "2022-04-04T17:43:58.928Z"
   },
   {
    "duration": 110,
    "start_time": "2022-04-04T17:43:58.972Z"
   },
   {
    "duration": 21,
    "start_time": "2022-04-04T17:43:59.083Z"
   },
   {
    "duration": 1090,
    "start_time": "2022-04-04T17:43:59.106Z"
   },
   {
    "duration": 12,
    "start_time": "2022-04-04T17:44:00.197Z"
   },
   {
    "duration": 13,
    "start_time": "2022-04-04T17:44:00.211Z"
   },
   {
    "duration": 26,
    "start_time": "2022-04-04T17:44:00.226Z"
   },
   {
    "duration": 92,
    "start_time": "2022-04-04T17:44:00.254Z"
   },
   {
    "duration": 61,
    "start_time": "2022-04-04T17:44:00.348Z"
   },
   {
    "duration": 22,
    "start_time": "2022-04-04T17:44:00.410Z"
   },
   {
    "duration": 14,
    "start_time": "2022-04-04T17:44:00.434Z"
   },
   {
    "duration": 530,
    "start_time": "2022-04-04T17:44:00.450Z"
   },
   {
    "duration": 22,
    "start_time": "2022-04-04T17:44:00.982Z"
   },
   {
    "duration": 10,
    "start_time": "2022-04-04T17:44:01.006Z"
   },
   {
    "duration": 18,
    "start_time": "2022-04-04T17:44:01.018Z"
   },
   {
    "duration": 15,
    "start_time": "2022-04-04T17:44:01.038Z"
   },
   {
    "duration": 49,
    "start_time": "2022-04-04T17:44:01.055Z"
   },
   {
    "duration": 10,
    "start_time": "2022-04-04T17:44:01.106Z"
   },
   {
    "duration": 7,
    "start_time": "2022-04-04T17:44:01.118Z"
   },
   {
    "duration": 14,
    "start_time": "2022-04-04T17:44:01.127Z"
   },
   {
    "duration": 32,
    "start_time": "2022-04-04T17:44:01.142Z"
   },
   {
    "duration": 47,
    "start_time": "2022-04-04T17:44:01.176Z"
   },
   {
    "duration": 846,
    "start_time": "2022-04-04T17:44:01.225Z"
   },
   {
    "duration": 12,
    "start_time": "2022-04-04T17:44:02.072Z"
   },
   {
    "duration": 23,
    "start_time": "2022-04-04T17:44:02.086Z"
   },
   {
    "duration": 5,
    "start_time": "2022-04-04T17:44:02.111Z"
   },
   {
    "duration": 12,
    "start_time": "2022-04-04T17:44:02.118Z"
   },
   {
    "duration": 34,
    "start_time": "2022-04-04T17:44:02.132Z"
   },
   {
    "duration": 753,
    "start_time": "2022-04-04T17:44:02.168Z"
   },
   {
    "duration": 12,
    "start_time": "2022-04-04T17:44:02.923Z"
   },
   {
    "duration": 14,
    "start_time": "2022-04-04T17:44:02.936Z"
   },
   {
    "duration": 8,
    "start_time": "2022-04-04T17:44:02.953Z"
   },
   {
    "duration": 8,
    "start_time": "2022-04-04T17:44:02.963Z"
   },
   {
    "duration": 7,
    "start_time": "2022-04-04T17:44:03.001Z"
   },
   {
    "duration": 122,
    "start_time": "2022-04-04T17:44:03.010Z"
   },
   {
    "duration": 14,
    "start_time": "2022-04-04T17:44:03.134Z"
   },
   {
    "duration": 771,
    "start_time": "2022-04-04T17:44:03.150Z"
   },
   {
    "duration": 11,
    "start_time": "2022-04-04T17:44:03.929Z"
   },
   {
    "duration": 5,
    "start_time": "2022-04-04T17:44:03.942Z"
   },
   {
    "duration": 15,
    "start_time": "2022-04-04T17:44:03.949Z"
   },
   {
    "duration": 46,
    "start_time": "2022-04-04T17:44:03.967Z"
   },
   {
    "duration": 4,
    "start_time": "2022-04-04T17:44:04.016Z"
   },
   {
    "duration": 8,
    "start_time": "2022-04-04T17:44:04.022Z"
   },
   {
    "duration": 14,
    "start_time": "2022-04-04T17:44:04.033Z"
   },
   {
    "duration": 116,
    "start_time": "2022-04-04T17:44:04.049Z"
   },
   {
    "duration": 117,
    "start_time": "2022-04-04T17:44:04.168Z"
   },
   {
    "duration": 60,
    "start_time": "2022-04-04T17:44:04.287Z"
   },
   {
    "duration": 11,
    "start_time": "2022-04-04T17:44:04.349Z"
   },
   {
    "duration": 13,
    "start_time": "2022-04-04T17:44:04.362Z"
   },
   {
    "duration": 36,
    "start_time": "2022-04-04T17:44:04.377Z"
   },
   {
    "duration": 48,
    "start_time": "2022-04-04T17:44:04.415Z"
   },
   {
    "duration": 155,
    "start_time": "2022-04-04T17:44:04.465Z"
   },
   {
    "duration": 341,
    "start_time": "2022-04-04T17:44:04.621Z"
   },
   {
    "duration": 80,
    "start_time": "2022-04-04T17:44:04.964Z"
   },
   {
    "duration": 14,
    "start_time": "2022-04-04T17:44:05.046Z"
   },
   {
    "duration": 28,
    "start_time": "2022-04-04T17:44:05.062Z"
   },
   {
    "duration": 34,
    "start_time": "2022-04-04T17:44:05.091Z"
   },
   {
    "duration": 81,
    "start_time": "2022-04-04T17:44:05.128Z"
   },
   {
    "duration": 19,
    "start_time": "2022-04-04T17:44:05.211Z"
   },
   {
    "duration": 37,
    "start_time": "2022-04-04T17:44:05.231Z"
   },
   {
    "duration": 35,
    "start_time": "2022-04-04T17:44:05.270Z"
   },
   {
    "duration": 1277,
    "start_time": "2022-04-04T17:44:05.307Z"
   },
   {
    "duration": 29,
    "start_time": "2022-04-04T17:44:06.586Z"
   },
   {
    "duration": 25,
    "start_time": "2022-04-04T17:44:06.617Z"
   },
   {
    "duration": 72,
    "start_time": "2022-04-04T17:44:06.644Z"
   },
   {
    "duration": 49,
    "start_time": "2022-04-04T17:48:23.995Z"
   },
   {
    "duration": 119,
    "start_time": "2022-04-04T18:17:03.339Z"
   },
   {
    "duration": 30,
    "start_time": "2022-04-04T18:17:05.667Z"
   },
   {
    "duration": 107,
    "start_time": "2022-04-04T18:17:10.478Z"
   },
   {
    "duration": 12,
    "start_time": "2022-04-04T18:17:14.234Z"
   },
   {
    "duration": 16,
    "start_time": "2022-04-04T18:17:18.525Z"
   },
   {
    "duration": 148,
    "start_time": "2022-04-04T19:41:53.098Z"
   },
   {
    "duration": 2446,
    "start_time": "2022-04-04T19:42:37.184Z"
   },
   {
    "duration": 2470,
    "start_time": "2022-04-04T19:42:39.633Z"
   },
   {
    "duration": 1248,
    "start_time": "2022-04-04T19:42:42.105Z"
   },
   {
    "duration": 690,
    "start_time": "2022-04-04T19:42:43.355Z"
   },
   {
    "duration": 11,
    "start_time": "2022-04-04T19:42:44.047Z"
   },
   {
    "duration": 7,
    "start_time": "2022-04-04T19:42:44.059Z"
   },
   {
    "duration": 8,
    "start_time": "2022-04-04T19:42:44.068Z"
   },
   {
    "duration": 25,
    "start_time": "2022-04-04T19:42:44.077Z"
   },
   {
    "duration": 4,
    "start_time": "2022-04-04T19:42:44.104Z"
   },
   {
    "duration": 59,
    "start_time": "2022-04-04T19:42:44.112Z"
   },
   {
    "duration": 29,
    "start_time": "2022-04-04T19:42:44.173Z"
   },
   {
    "duration": 152,
    "start_time": "2022-04-04T19:42:44.204Z"
   },
   {
    "duration": 9,
    "start_time": "2022-04-04T19:42:44.358Z"
   },
   {
    "duration": 10,
    "start_time": "2022-04-04T19:42:44.369Z"
   },
   {
    "duration": 70,
    "start_time": "2022-04-04T19:42:44.381Z"
   },
   {
    "duration": 11,
    "start_time": "2022-04-04T19:42:44.453Z"
   },
   {
    "duration": 11,
    "start_time": "2022-04-04T19:42:44.466Z"
   },
   {
    "duration": 13,
    "start_time": "2022-04-04T19:42:44.501Z"
   },
   {
    "duration": 12,
    "start_time": "2022-04-04T19:42:44.516Z"
   },
   {
    "duration": 183,
    "start_time": "2022-04-04T19:42:44.530Z"
   },
   {
    "duration": 28,
    "start_time": "2022-04-04T19:42:44.715Z"
   },
   {
    "duration": 125,
    "start_time": "2022-04-04T19:42:44.745Z"
   },
   {
    "duration": 9,
    "start_time": "2022-04-04T19:42:44.872Z"
   },
   {
    "duration": 25,
    "start_time": "2022-04-04T19:42:44.883Z"
   },
   {
    "duration": 103,
    "start_time": "2022-04-04T19:42:44.910Z"
   },
   {
    "duration": 375,
    "start_time": "2022-04-04T19:42:45.015Z"
   },
   {
    "duration": 133,
    "start_time": "2022-04-04T19:42:45.392Z"
   },
   {
    "duration": 90,
    "start_time": "2022-04-04T19:42:45.529Z"
   },
   {
    "duration": 18,
    "start_time": "2022-04-04T19:42:45.621Z"
   },
   {
    "duration": 101,
    "start_time": "2022-04-04T19:42:45.640Z"
   },
   {
    "duration": 80,
    "start_time": "2022-04-04T19:42:45.743Z"
   },
   {
    "duration": 16,
    "start_time": "2022-04-04T19:42:45.825Z"
   },
   {
    "duration": 95,
    "start_time": "2022-04-04T19:42:45.843Z"
   },
   {
    "duration": 100,
    "start_time": "2022-04-04T19:42:45.940Z"
   },
   {
    "duration": 62,
    "start_time": "2022-04-04T19:42:46.041Z"
   },
   {
    "duration": 30,
    "start_time": "2022-04-04T19:42:46.104Z"
   },
   {
    "duration": 318,
    "start_time": "2022-04-04T19:42:46.135Z"
   },
   {
    "duration": 7,
    "start_time": "2022-04-04T19:42:46.455Z"
   },
   {
    "duration": 81,
    "start_time": "2022-04-04T19:42:46.463Z"
   },
   {
    "duration": 3,
    "start_time": "2022-04-04T19:42:46.546Z"
   },
   {
    "duration": 9,
    "start_time": "2022-04-04T19:42:46.551Z"
   },
   {
    "duration": 143,
    "start_time": "2022-04-04T19:42:46.562Z"
   },
   {
    "duration": 74,
    "start_time": "2022-04-04T19:42:46.706Z"
   },
   {
    "duration": 50,
    "start_time": "2022-04-04T19:42:46.782Z"
   },
   {
    "duration": 96,
    "start_time": "2022-04-04T19:42:46.833Z"
   },
   {
    "duration": 14,
    "start_time": "2022-04-04T19:42:46.931Z"
   },
   {
    "duration": 1017,
    "start_time": "2022-04-04T19:42:46.947Z"
   },
   {
    "duration": 13,
    "start_time": "2022-04-04T19:42:47.965Z"
   },
   {
    "duration": 21,
    "start_time": "2022-04-04T19:42:47.980Z"
   },
   {
    "duration": 17,
    "start_time": "2022-04-04T19:42:48.003Z"
   },
   {
    "duration": 79,
    "start_time": "2022-04-04T19:42:48.022Z"
   },
   {
    "duration": 42,
    "start_time": "2022-04-04T19:42:48.103Z"
   },
   {
    "duration": 19,
    "start_time": "2022-04-04T19:42:48.147Z"
   },
   {
    "duration": 8,
    "start_time": "2022-04-04T19:42:48.168Z"
   },
   {
    "duration": 34,
    "start_time": "2022-04-04T19:42:48.178Z"
   },
   {
    "duration": 264,
    "start_time": "2022-04-04T19:42:48.214Z"
   },
   {
    "duration": 21,
    "start_time": "2022-04-04T19:42:48.480Z"
   },
   {
    "duration": 19,
    "start_time": "2022-04-04T19:42:48.503Z"
   },
   {
    "duration": 15,
    "start_time": "2022-04-04T19:42:48.523Z"
   },
   {
    "duration": 16,
    "start_time": "2022-04-04T19:42:48.540Z"
   },
   {
    "duration": 55,
    "start_time": "2022-04-04T19:42:48.558Z"
   },
   {
    "duration": 5,
    "start_time": "2022-04-04T19:42:48.615Z"
   },
   {
    "duration": 21,
    "start_time": "2022-04-04T19:42:48.621Z"
   },
   {
    "duration": 31,
    "start_time": "2022-04-04T19:42:48.644Z"
   },
   {
    "duration": 34,
    "start_time": "2022-04-04T19:42:48.677Z"
   },
   {
    "duration": 716,
    "start_time": "2022-04-04T19:42:48.712Z"
   },
   {
    "duration": 11,
    "start_time": "2022-04-04T19:42:49.429Z"
   },
   {
    "duration": 14,
    "start_time": "2022-04-04T19:42:49.441Z"
   },
   {
    "duration": 4,
    "start_time": "2022-04-04T19:42:49.457Z"
   },
   {
    "duration": 10,
    "start_time": "2022-04-04T19:42:49.462Z"
   },
   {
    "duration": 47,
    "start_time": "2022-04-04T19:42:49.501Z"
   },
   {
    "duration": 1151,
    "start_time": "2022-04-04T19:42:49.550Z"
   },
   {
    "duration": 16,
    "start_time": "2022-04-04T19:42:50.703Z"
   },
   {
    "duration": 18,
    "start_time": "2022-04-04T19:42:50.721Z"
   },
   {
    "duration": 11,
    "start_time": "2022-04-04T19:42:50.741Z"
   },
   {
    "duration": 10,
    "start_time": "2022-04-04T19:42:50.754Z"
   },
   {
    "duration": 6,
    "start_time": "2022-04-04T19:42:50.765Z"
   },
   {
    "duration": 136,
    "start_time": "2022-04-04T19:42:50.773Z"
   },
   {
    "duration": 16,
    "start_time": "2022-04-04T19:42:50.910Z"
   },
   {
    "duration": 715,
    "start_time": "2022-04-04T19:42:50.927Z"
   },
   {
    "duration": 11,
    "start_time": "2022-04-04T19:42:51.645Z"
   },
   {
    "duration": 4,
    "start_time": "2022-04-04T19:42:51.664Z"
   },
   {
    "duration": 34,
    "start_time": "2022-04-04T19:42:51.670Z"
   },
   {
    "duration": 11,
    "start_time": "2022-04-04T19:42:51.706Z"
   },
   {
    "duration": 3,
    "start_time": "2022-04-04T19:42:51.719Z"
   },
   {
    "duration": 8,
    "start_time": "2022-04-04T19:42:51.724Z"
   },
   {
    "duration": 10,
    "start_time": "2022-04-04T19:42:51.734Z"
   },
   {
    "duration": 80,
    "start_time": "2022-04-04T19:42:51.747Z"
   },
   {
    "duration": 90,
    "start_time": "2022-04-04T19:42:51.829Z"
   },
   {
    "duration": 48,
    "start_time": "2022-04-04T19:42:51.921Z"
   },
   {
    "duration": 69,
    "start_time": "2022-04-04T19:42:51.971Z"
   },
   {
    "duration": 10,
    "start_time": "2022-04-04T19:42:52.042Z"
   },
   {
    "duration": 18,
    "start_time": "2022-04-04T19:42:52.054Z"
   },
   {
    "duration": 39,
    "start_time": "2022-04-04T19:42:52.074Z"
   },
   {
    "duration": 42,
    "start_time": "2022-04-04T19:42:52.115Z"
   },
   {
    "duration": 142,
    "start_time": "2022-04-04T19:42:52.159Z"
   },
   {
    "duration": 281,
    "start_time": "2022-04-04T19:42:52.303Z"
   },
   {
    "duration": 67,
    "start_time": "2022-04-04T19:42:52.586Z"
   },
   {
    "duration": 12,
    "start_time": "2022-04-04T19:42:52.655Z"
   },
   {
    "duration": 40,
    "start_time": "2022-04-04T19:42:52.669Z"
   },
   {
    "duration": 13,
    "start_time": "2022-04-04T19:42:52.710Z"
   },
   {
    "duration": 77,
    "start_time": "2022-04-04T19:42:52.724Z"
   },
   {
    "duration": 14,
    "start_time": "2022-04-04T19:42:52.803Z"
   },
   {
    "duration": 16,
    "start_time": "2022-04-04T19:42:52.819Z"
   },
   {
    "duration": 17,
    "start_time": "2022-04-04T19:42:52.837Z"
   },
   {
    "duration": 1091,
    "start_time": "2022-04-04T19:42:52.856Z"
   },
   {
    "duration": 28,
    "start_time": "2022-04-04T19:42:53.949Z"
   },
   {
    "duration": 42,
    "start_time": "2022-04-04T19:42:53.978Z"
   },
   {
    "duration": 82,
    "start_time": "2022-04-04T19:42:54.023Z"
   },
   {
    "duration": 163,
    "start_time": "2022-04-04T19:44:16.316Z"
   },
   {
    "duration": 14,
    "start_time": "2022-04-04T19:44:45.395Z"
   },
   {
    "duration": 12,
    "start_time": "2022-04-04T19:44:58.171Z"
   },
   {
    "duration": 12,
    "start_time": "2022-04-04T19:45:00.525Z"
   },
   {
    "duration": 19,
    "start_time": "2022-04-04T19:45:05.310Z"
   },
   {
    "duration": 70,
    "start_time": "2022-04-04T19:45:06.925Z"
   },
   {
    "duration": 58,
    "start_time": "2022-04-04T19:45:08.152Z"
   },
   {
    "duration": 22,
    "start_time": "2022-04-04T19:45:09.962Z"
   },
   {
    "duration": 9,
    "start_time": "2022-04-04T19:45:11.647Z"
   },
   {
    "duration": 18,
    "start_time": "2022-04-04T19:45:14.640Z"
   },
   {
    "duration": 252,
    "start_time": "2022-04-04T19:45:50.564Z"
   },
   {
    "duration": 1019,
    "start_time": "2022-04-04T19:46:06.100Z"
   },
   {
    "duration": 2,
    "start_time": "2022-04-04T21:09:22.825Z"
   },
   {
    "duration": 3507,
    "start_time": "2022-04-05T17:57:14.888Z"
   },
   {
    "duration": 3616,
    "start_time": "2022-04-05T17:57:18.398Z"
   },
   {
    "duration": 1675,
    "start_time": "2022-04-05T17:57:22.018Z"
   },
   {
    "duration": 835,
    "start_time": "2022-04-05T17:57:23.697Z"
   },
   {
    "duration": 19,
    "start_time": "2022-04-05T17:57:24.534Z"
   },
   {
    "duration": 12,
    "start_time": "2022-04-05T17:57:24.556Z"
   },
   {
    "duration": 15,
    "start_time": "2022-04-05T17:57:24.570Z"
   },
   {
    "duration": 39,
    "start_time": "2022-04-05T17:57:24.587Z"
   },
   {
    "duration": 6,
    "start_time": "2022-04-05T17:57:24.629Z"
   },
   {
    "duration": 81,
    "start_time": "2022-04-05T17:57:24.674Z"
   },
   {
    "duration": 29,
    "start_time": "2022-04-05T17:57:24.757Z"
   },
   {
    "duration": 217,
    "start_time": "2022-04-05T17:57:24.788Z"
   },
   {
    "duration": 12,
    "start_time": "2022-04-05T17:57:25.007Z"
   },
   {
    "duration": 15,
    "start_time": "2022-04-05T17:57:25.021Z"
   },
   {
    "duration": 107,
    "start_time": "2022-04-05T17:57:25.038Z"
   },
   {
    "duration": 32,
    "start_time": "2022-04-05T17:57:25.147Z"
   },
   {
    "duration": 16,
    "start_time": "2022-04-05T17:57:25.181Z"
   },
   {
    "duration": 14,
    "start_time": "2022-04-05T17:57:25.199Z"
   },
   {
    "duration": 17,
    "start_time": "2022-04-05T17:57:25.215Z"
   },
   {
    "duration": 273,
    "start_time": "2022-04-05T17:57:25.235Z"
   },
   {
    "duration": 35,
    "start_time": "2022-04-05T17:57:25.510Z"
   },
   {
    "duration": 175,
    "start_time": "2022-04-05T17:57:25.547Z"
   },
   {
    "duration": 12,
    "start_time": "2022-04-05T17:57:25.725Z"
   },
   {
    "duration": 35,
    "start_time": "2022-04-05T17:57:25.740Z"
   },
   {
    "duration": 149,
    "start_time": "2022-04-05T17:57:25.777Z"
   },
   {
    "duration": 647,
    "start_time": "2022-04-05T17:57:25.928Z"
   },
   {
    "duration": 240,
    "start_time": "2022-04-05T17:57:26.577Z"
   },
   {
    "duration": 144,
    "start_time": "2022-04-05T17:57:26.824Z"
   },
   {
    "duration": 27,
    "start_time": "2022-04-05T17:57:26.972Z"
   },
   {
    "duration": 162,
    "start_time": "2022-04-05T17:57:27.002Z"
   },
   {
    "duration": 118,
    "start_time": "2022-04-05T17:57:27.167Z"
   },
   {
    "duration": 27,
    "start_time": "2022-04-05T17:57:27.287Z"
   },
   {
    "duration": 150,
    "start_time": "2022-04-05T17:57:27.316Z"
   },
   {
    "duration": 144,
    "start_time": "2022-04-05T17:57:27.469Z"
   },
   {
    "duration": 102,
    "start_time": "2022-04-05T17:57:27.615Z"
   },
   {
    "duration": 68,
    "start_time": "2022-04-05T17:57:27.719Z"
   },
   {
    "duration": 511,
    "start_time": "2022-04-05T17:57:27.789Z"
   },
   {
    "duration": 11,
    "start_time": "2022-04-05T17:57:28.302Z"
   },
   {
    "duration": 127,
    "start_time": "2022-04-05T17:57:28.315Z"
   },
   {
    "duration": 4,
    "start_time": "2022-04-05T17:57:28.444Z"
   },
   {
    "duration": 24,
    "start_time": "2022-04-05T17:57:28.450Z"
   },
   {
    "duration": 206,
    "start_time": "2022-04-05T17:57:28.476Z"
   },
   {
    "duration": 123,
    "start_time": "2022-04-05T17:57:28.684Z"
   },
   {
    "duration": 67,
    "start_time": "2022-04-05T17:57:28.809Z"
   },
   {
    "duration": 142,
    "start_time": "2022-04-05T17:57:28.878Z"
   },
   {
    "duration": 27,
    "start_time": "2022-04-05T17:57:29.022Z"
   },
   {
    "duration": 1646,
    "start_time": "2022-04-05T17:57:29.051Z"
   },
   {
    "duration": 19,
    "start_time": "2022-04-05T17:57:30.699Z"
   },
   {
    "duration": 16,
    "start_time": "2022-04-05T17:57:30.720Z"
   },
   {
    "duration": 52,
    "start_time": "2022-04-05T17:57:30.738Z"
   },
   {
    "duration": 110,
    "start_time": "2022-04-05T17:57:30.792Z"
   },
   {
    "duration": 109,
    "start_time": "2022-04-05T17:57:30.904Z"
   },
   {
    "duration": 30,
    "start_time": "2022-04-05T17:57:31.016Z"
   },
   {
    "duration": 33,
    "start_time": "2022-04-05T17:57:31.048Z"
   },
   {
    "duration": 39,
    "start_time": "2022-04-05T17:57:31.083Z"
   },
   {
    "duration": 384,
    "start_time": "2022-04-05T17:57:31.124Z"
   },
   {
    "duration": 18,
    "start_time": "2022-04-05T17:57:31.511Z"
   },
   {
    "duration": 67,
    "start_time": "2022-04-05T17:57:31.531Z"
   },
   {
    "duration": 22,
    "start_time": "2022-04-05T17:57:31.601Z"
   },
   {
    "duration": 54,
    "start_time": "2022-04-05T17:57:31.625Z"
   },
   {
    "duration": 16,
    "start_time": "2022-04-05T17:57:31.682Z"
   },
   {
    "duration": 10,
    "start_time": "2022-04-05T17:57:31.700Z"
   },
   {
    "duration": 19,
    "start_time": "2022-04-05T17:57:31.713Z"
   },
   {
    "duration": 67,
    "start_time": "2022-04-05T17:57:31.735Z"
   },
   {
    "duration": 36,
    "start_time": "2022-04-05T17:57:31.805Z"
   },
   {
    "duration": 1206,
    "start_time": "2022-04-05T17:57:31.843Z"
   },
   {
    "duration": 29,
    "start_time": "2022-04-05T17:57:33.051Z"
   },
   {
    "duration": 18,
    "start_time": "2022-04-05T17:57:33.083Z"
   },
   {
    "duration": 6,
    "start_time": "2022-04-05T17:57:33.103Z"
   },
   {
    "duration": 14,
    "start_time": "2022-04-05T17:57:33.112Z"
   },
   {
    "duration": 81,
    "start_time": "2022-04-05T17:57:33.128Z"
   },
   {
    "duration": 1207,
    "start_time": "2022-04-05T17:57:33.211Z"
   },
   {
    "duration": 17,
    "start_time": "2022-04-05T17:57:34.420Z"
   },
   {
    "duration": 42,
    "start_time": "2022-04-05T17:57:34.439Z"
   },
   {
    "duration": 10,
    "start_time": "2022-04-05T17:57:34.483Z"
   },
   {
    "duration": 11,
    "start_time": "2022-04-05T17:57:34.496Z"
   },
   {
    "duration": 25,
    "start_time": "2022-04-05T17:57:34.509Z"
   },
   {
    "duration": 164,
    "start_time": "2022-04-05T17:57:34.536Z"
   },
   {
    "duration": 37,
    "start_time": "2022-04-05T17:57:34.703Z"
   },
   {
    "duration": 1134,
    "start_time": "2022-04-05T17:57:34.743Z"
   },
   {
    "duration": 17,
    "start_time": "2022-04-05T17:57:35.880Z"
   },
   {
    "duration": 8,
    "start_time": "2022-04-05T17:57:35.910Z"
   },
   {
    "duration": 60,
    "start_time": "2022-04-05T17:57:35.921Z"
   },
   {
    "duration": 19,
    "start_time": "2022-04-05T17:57:35.984Z"
   },
   {
    "duration": 11,
    "start_time": "2022-04-05T17:57:36.006Z"
   },
   {
    "duration": 26,
    "start_time": "2022-04-05T17:57:36.019Z"
   },
   {
    "duration": 34,
    "start_time": "2022-04-05T17:57:36.048Z"
   },
   {
    "duration": 99,
    "start_time": "2022-04-05T17:57:36.085Z"
   },
   {
    "duration": 139,
    "start_time": "2022-04-05T17:57:36.186Z"
   },
   {
    "duration": 131,
    "start_time": "2022-04-05T17:57:36.328Z"
   },
   {
    "duration": 82,
    "start_time": "2022-04-05T17:57:36.473Z"
   },
   {
    "duration": 16,
    "start_time": "2022-04-05T17:57:36.574Z"
   },
   {
    "duration": 33,
    "start_time": "2022-04-05T17:57:36.592Z"
   },
   {
    "duration": 35,
    "start_time": "2022-04-05T17:57:36.627Z"
   },
   {
    "duration": 95,
    "start_time": "2022-04-05T17:57:36.665Z"
   },
   {
    "duration": 191,
    "start_time": "2022-04-05T17:57:36.763Z"
   },
   {
    "duration": 577,
    "start_time": "2022-04-05T17:57:36.957Z"
   },
   {
    "duration": 147,
    "start_time": "2022-04-05T17:57:37.536Z"
   },
   {
    "duration": 21,
    "start_time": "2022-04-05T17:57:37.686Z"
   },
   {
    "duration": 31,
    "start_time": "2022-04-05T17:57:37.709Z"
   },
   {
    "duration": 48,
    "start_time": "2022-04-05T17:57:37.743Z"
   },
   {
    "duration": 134,
    "start_time": "2022-04-05T17:57:37.793Z"
   },
   {
    "duration": 46,
    "start_time": "2022-04-05T17:57:37.929Z"
   },
   {
    "duration": 34,
    "start_time": "2022-04-05T17:57:37.978Z"
   },
   {
    "duration": 29,
    "start_time": "2022-04-05T17:57:38.014Z"
   },
   {
    "duration": 1200,
    "start_time": "2022-04-05T17:57:38.045Z"
   },
   {
    "duration": 43,
    "start_time": "2022-04-05T17:57:39.247Z"
   },
   {
    "duration": 33,
    "start_time": "2022-04-05T17:57:39.293Z"
   },
   {
    "duration": 104,
    "start_time": "2022-04-05T17:57:39.328Z"
   },
   {
    "duration": 70419,
    "start_time": "2022-04-28T19:03:52.638Z"
   },
   {
    "duration": 153796,
    "start_time": "2022-04-28T19:05:03.060Z"
   },
   {
    "duration": 1402,
    "start_time": "2022-04-28T19:07:36.858Z"
   },
   {
    "duration": 688,
    "start_time": "2022-04-28T19:07:38.262Z"
   },
   {
    "duration": 14,
    "start_time": "2022-04-28T19:07:38.953Z"
   },
   {
    "duration": 9,
    "start_time": "2022-04-28T19:07:38.969Z"
   },
   {
    "duration": 11,
    "start_time": "2022-04-28T19:07:38.981Z"
   },
   {
    "duration": 32,
    "start_time": "2022-04-28T19:07:38.994Z"
   },
   {
    "duration": 4,
    "start_time": "2022-04-28T19:07:39.028Z"
   },
   {
    "duration": 77,
    "start_time": "2022-04-28T19:07:39.035Z"
   },
   {
    "duration": 14,
    "start_time": "2022-04-28T19:07:39.114Z"
   },
   {
    "duration": 220,
    "start_time": "2022-04-28T19:07:39.130Z"
   },
   {
    "duration": 14,
    "start_time": "2022-04-28T19:07:39.353Z"
   },
   {
    "duration": 14,
    "start_time": "2022-04-28T19:07:39.370Z"
   },
   {
    "duration": 108,
    "start_time": "2022-04-28T19:07:39.387Z"
   },
   {
    "duration": 17,
    "start_time": "2022-04-28T19:07:39.496Z"
   },
   {
    "duration": 17,
    "start_time": "2022-04-28T19:07:39.515Z"
   },
   {
    "duration": 19,
    "start_time": "2022-04-28T19:07:39.534Z"
   },
   {
    "duration": 12,
    "start_time": "2022-04-28T19:07:39.557Z"
   },
   {
    "duration": 194,
    "start_time": "2022-04-28T19:07:39.571Z"
   },
   {
    "duration": 29,
    "start_time": "2022-04-28T19:07:39.768Z"
   },
   {
    "duration": 130,
    "start_time": "2022-04-28T19:07:39.799Z"
   },
   {
    "duration": 10,
    "start_time": "2022-04-28T19:07:39.930Z"
   },
   {
    "duration": 20,
    "start_time": "2022-04-28T19:07:39.942Z"
   },
   {
    "duration": 118,
    "start_time": "2022-04-28T19:07:39.965Z"
   },
   {
    "duration": 429,
    "start_time": "2022-04-28T19:07:40.085Z"
   },
   {
    "duration": 139,
    "start_time": "2022-04-28T19:07:40.516Z"
   },
   {
    "duration": 104,
    "start_time": "2022-04-28T19:07:40.660Z"
   },
   {
    "duration": 19,
    "start_time": "2022-04-28T19:07:40.766Z"
   },
   {
    "duration": 115,
    "start_time": "2022-04-28T19:07:40.787Z"
   },
   {
    "duration": 85,
    "start_time": "2022-04-28T19:07:40.907Z"
   },
   {
    "duration": 22,
    "start_time": "2022-04-28T19:07:40.994Z"
   },
   {
    "duration": 104,
    "start_time": "2022-04-28T19:07:41.019Z"
   },
   {
    "duration": 111,
    "start_time": "2022-04-28T19:07:41.124Z"
   },
   {
    "duration": 81,
    "start_time": "2022-04-28T19:07:41.237Z"
   },
   {
    "duration": 33,
    "start_time": "2022-04-28T19:07:41.320Z"
   },
   {
    "duration": 370,
    "start_time": "2022-04-28T19:07:41.355Z"
   },
   {
    "duration": 9,
    "start_time": "2022-04-28T19:07:41.727Z"
   },
   {
    "duration": 93,
    "start_time": "2022-04-28T19:07:41.738Z"
   },
   {
    "duration": 3,
    "start_time": "2022-04-28T19:07:41.833Z"
   },
   {
    "duration": 11,
    "start_time": "2022-04-28T19:07:41.838Z"
   },
   {
    "duration": 157,
    "start_time": "2022-04-28T19:07:41.851Z"
   },
   {
    "duration": 83,
    "start_time": "2022-04-28T19:07:42.010Z"
   },
   {
    "duration": 175,
    "start_time": "2022-04-28T19:07:42.095Z"
   },
   {
    "duration": 114,
    "start_time": "2022-04-28T19:07:42.272Z"
   },
   {
    "duration": 20,
    "start_time": "2022-04-28T19:07:42.388Z"
   },
   {
    "duration": 1277,
    "start_time": "2022-04-28T19:07:42.410Z"
   },
   {
    "duration": 18,
    "start_time": "2022-04-28T19:07:43.689Z"
   },
   {
    "duration": 10,
    "start_time": "2022-04-28T19:07:43.709Z"
   },
   {
    "duration": 20,
    "start_time": "2022-04-28T19:07:43.721Z"
   },
   {
    "duration": 90,
    "start_time": "2022-04-28T19:07:43.743Z"
   },
   {
    "duration": 55,
    "start_time": "2022-04-28T19:07:43.835Z"
   },
   {
    "duration": 31,
    "start_time": "2022-04-28T19:07:43.891Z"
   },
   {
    "duration": 12,
    "start_time": "2022-04-28T19:07:43.924Z"
   },
   {
    "duration": 21,
    "start_time": "2022-04-28T19:07:43.937Z"
   },
   {
    "duration": 272,
    "start_time": "2022-04-28T19:07:43.960Z"
   },
   {
    "duration": 10,
    "start_time": "2022-04-28T19:07:44.234Z"
   },
   {
    "duration": 22,
    "start_time": "2022-04-28T19:07:44.246Z"
   },
   {
    "duration": 41,
    "start_time": "2022-04-28T19:07:44.271Z"
   },
   {
    "duration": 16,
    "start_time": "2022-04-28T19:07:44.313Z"
   },
   {
    "duration": 11,
    "start_time": "2022-04-28T19:07:44.330Z"
   },
   {
    "duration": 7,
    "start_time": "2022-04-28T19:07:44.343Z"
   },
   {
    "duration": 13,
    "start_time": "2022-04-28T19:07:44.351Z"
   },
   {
    "duration": 45,
    "start_time": "2022-04-28T19:07:44.366Z"
   },
   {
    "duration": 26,
    "start_time": "2022-04-28T19:07:44.413Z"
   },
   {
    "duration": 905,
    "start_time": "2022-04-28T19:07:44.440Z"
   },
   {
    "duration": 12,
    "start_time": "2022-04-28T19:07:45.347Z"
   },
   {
    "duration": 16,
    "start_time": "2022-04-28T19:07:45.361Z"
   },
   {
    "duration": 4,
    "start_time": "2022-04-28T19:07:45.379Z"
   },
   {
    "duration": 27,
    "start_time": "2022-04-28T19:07:45.385Z"
   },
   {
    "duration": 38,
    "start_time": "2022-04-28T19:07:45.414Z"
   },
   {
    "duration": 876,
    "start_time": "2022-04-28T19:07:45.454Z"
   },
   {
    "duration": 13,
    "start_time": "2022-04-28T19:07:46.332Z"
   },
   {
    "duration": 22,
    "start_time": "2022-04-28T19:07:46.347Z"
   },
   {
    "duration": 12,
    "start_time": "2022-04-28T19:07:46.372Z"
   },
   {
    "duration": 23,
    "start_time": "2022-04-28T19:07:46.386Z"
   },
   {
    "duration": 6,
    "start_time": "2022-04-28T19:07:46.411Z"
   },
   {
    "duration": 120,
    "start_time": "2022-04-28T19:07:46.419Z"
   },
   {
    "duration": 15,
    "start_time": "2022-04-28T19:07:46.541Z"
   },
   {
    "duration": 890,
    "start_time": "2022-04-28T19:07:46.558Z"
   },
   {
    "duration": 13,
    "start_time": "2022-04-28T19:07:47.449Z"
   },
   {
    "duration": 6,
    "start_time": "2022-04-28T19:07:47.468Z"
   },
   {
    "duration": 34,
    "start_time": "2022-04-28T19:07:47.476Z"
   },
   {
    "duration": 15,
    "start_time": "2022-04-28T19:07:47.512Z"
   },
   {
    "duration": 4,
    "start_time": "2022-04-28T19:07:47.528Z"
   },
   {
    "duration": 9,
    "start_time": "2022-04-28T19:07:47.534Z"
   },
   {
    "duration": 17,
    "start_time": "2022-04-28T19:07:47.545Z"
   },
   {
    "duration": 71,
    "start_time": "2022-04-28T19:07:47.564Z"
   },
   {
    "duration": 98,
    "start_time": "2022-04-28T19:07:47.636Z"
   },
   {
    "duration": 53,
    "start_time": "2022-04-28T19:07:47.736Z"
   },
   {
    "duration": 51,
    "start_time": "2022-04-28T19:07:47.808Z"
   },
   {
    "duration": 11,
    "start_time": "2022-04-28T19:07:47.861Z"
   },
   {
    "duration": 34,
    "start_time": "2022-04-28T19:07:47.873Z"
   },
   {
    "duration": 14,
    "start_time": "2022-04-28T19:07:47.909Z"
   },
   {
    "duration": 47,
    "start_time": "2022-04-28T19:07:47.925Z"
   },
   {
    "duration": 138,
    "start_time": "2022-04-28T19:07:47.974Z"
   },
   {
    "duration": 437,
    "start_time": "2022-04-28T19:07:48.114Z"
   },
   {
    "duration": 68,
    "start_time": "2022-04-28T19:07:48.553Z"
   },
   {
    "duration": 12,
    "start_time": "2022-04-28T19:07:48.623Z"
   },
   {
    "duration": 25,
    "start_time": "2022-04-28T19:07:48.637Z"
   },
   {
    "duration": 14,
    "start_time": "2022-04-28T19:07:48.663Z"
   },
   {
    "duration": 95,
    "start_time": "2022-04-28T19:07:48.679Z"
   },
   {
    "duration": 18,
    "start_time": "2022-04-28T19:07:48.776Z"
   },
   {
    "duration": 27,
    "start_time": "2022-04-28T19:07:48.807Z"
   },
   {
    "duration": 23,
    "start_time": "2022-04-28T19:07:48.836Z"
   },
   {
    "duration": 866,
    "start_time": "2022-04-28T19:07:48.861Z"
   },
   {
    "duration": 22,
    "start_time": "2022-04-28T19:07:49.728Z"
   },
   {
    "duration": 23,
    "start_time": "2022-04-28T19:07:49.751Z"
   },
   {
    "duration": 69,
    "start_time": "2022-04-28T19:07:49.776Z"
   },
   {
    "duration": 2811,
    "start_time": "2022-05-06T14:24:42.877Z"
   },
   {
    "duration": 7224,
    "start_time": "2022-05-06T14:24:45.691Z"
   },
   {
    "duration": 1259,
    "start_time": "2022-05-06T14:24:52.918Z"
   },
   {
    "duration": 1835,
    "start_time": "2022-05-06T14:24:54.180Z"
   },
   {
    "duration": 22,
    "start_time": "2022-05-06T14:24:56.017Z"
   },
   {
    "duration": 13,
    "start_time": "2022-05-06T14:24:56.041Z"
   },
   {
    "duration": 8,
    "start_time": "2022-05-06T14:24:56.057Z"
   },
   {
    "duration": 24,
    "start_time": "2022-05-06T14:24:56.067Z"
   },
   {
    "duration": 4,
    "start_time": "2022-05-06T14:24:56.093Z"
   },
   {
    "duration": 77,
    "start_time": "2022-05-06T14:24:56.101Z"
   },
   {
    "duration": 11,
    "start_time": "2022-05-06T14:24:56.179Z"
   },
   {
    "duration": 160,
    "start_time": "2022-05-06T14:24:56.192Z"
   },
   {
    "duration": 10,
    "start_time": "2022-05-06T14:24:56.354Z"
   },
   {
    "duration": 10,
    "start_time": "2022-05-06T14:24:56.367Z"
   },
   {
    "duration": 84,
    "start_time": "2022-05-06T14:24:56.379Z"
   },
   {
    "duration": 11,
    "start_time": "2022-05-06T14:24:56.465Z"
   },
   {
    "duration": 12,
    "start_time": "2022-05-06T14:24:56.478Z"
   },
   {
    "duration": 13,
    "start_time": "2022-05-06T14:24:56.491Z"
   },
   {
    "duration": 25,
    "start_time": "2022-05-06T14:24:56.506Z"
   },
   {
    "duration": 186,
    "start_time": "2022-05-06T14:24:56.534Z"
   },
   {
    "duration": 32,
    "start_time": "2022-05-06T14:24:56.723Z"
   },
   {
    "duration": 130,
    "start_time": "2022-05-06T14:24:56.757Z"
   },
   {
    "duration": 9,
    "start_time": "2022-05-06T14:24:56.889Z"
   },
   {
    "duration": 25,
    "start_time": "2022-05-06T14:24:56.901Z"
   },
   {
    "duration": 132,
    "start_time": "2022-05-06T14:24:56.928Z"
   },
   {
    "duration": 402,
    "start_time": "2022-05-06T14:24:57.062Z"
   },
   {
    "duration": 111,
    "start_time": "2022-05-06T14:24:57.466Z"
   },
   {
    "duration": 122,
    "start_time": "2022-05-06T14:24:57.582Z"
   },
   {
    "duration": 28,
    "start_time": "2022-05-06T14:24:57.706Z"
   },
   {
    "duration": 116,
    "start_time": "2022-05-06T14:24:57.736Z"
   },
   {
    "duration": 91,
    "start_time": "2022-05-06T14:24:57.853Z"
   },
   {
    "duration": 18,
    "start_time": "2022-05-06T14:24:57.946Z"
   },
   {
    "duration": 109,
    "start_time": "2022-05-06T14:24:57.966Z"
   },
   {
    "duration": 106,
    "start_time": "2022-05-06T14:24:58.077Z"
   },
   {
    "duration": 69,
    "start_time": "2022-05-06T14:24:58.185Z"
   },
   {
    "duration": 36,
    "start_time": "2022-05-06T14:24:58.255Z"
   },
   {
    "duration": 357,
    "start_time": "2022-05-06T14:24:58.293Z"
   },
   {
    "duration": 8,
    "start_time": "2022-05-06T14:24:58.652Z"
   },
   {
    "duration": 92,
    "start_time": "2022-05-06T14:24:58.661Z"
   },
   {
    "duration": 3,
    "start_time": "2022-05-06T14:24:58.754Z"
   },
   {
    "duration": 10,
    "start_time": "2022-05-06T14:24:58.759Z"
   },
   {
    "duration": 163,
    "start_time": "2022-05-06T14:24:58.770Z"
   },
   {
    "duration": 114,
    "start_time": "2022-05-06T14:24:58.936Z"
   },
   {
    "duration": 48,
    "start_time": "2022-05-06T14:24:59.052Z"
   },
   {
    "duration": 149,
    "start_time": "2022-05-06T14:24:59.102Z"
   },
   {
    "duration": 23,
    "start_time": "2022-05-06T14:24:59.253Z"
   },
   {
    "duration": 1250,
    "start_time": "2022-05-06T14:24:59.278Z"
   },
   {
    "duration": 21,
    "start_time": "2022-05-06T14:25:00.531Z"
   },
   {
    "duration": 13,
    "start_time": "2022-05-06T14:25:00.554Z"
   },
   {
    "duration": 32,
    "start_time": "2022-05-06T14:25:00.569Z"
   },
   {
    "duration": 89,
    "start_time": "2022-05-06T14:25:00.603Z"
   },
   {
    "duration": 55,
    "start_time": "2022-05-06T14:25:00.694Z"
   },
   {
    "duration": 21,
    "start_time": "2022-05-06T14:25:00.751Z"
   },
   {
    "duration": 15,
    "start_time": "2022-05-06T14:25:00.774Z"
   },
   {
    "duration": 49,
    "start_time": "2022-05-06T14:25:00.790Z"
   },
   {
    "duration": 257,
    "start_time": "2022-05-06T14:25:00.841Z"
   },
   {
    "duration": 30,
    "start_time": "2022-05-06T14:25:01.100Z"
   },
   {
    "duration": 19,
    "start_time": "2022-05-06T14:25:01.131Z"
   },
   {
    "duration": 19,
    "start_time": "2022-05-06T14:25:01.152Z"
   },
   {
    "duration": 15,
    "start_time": "2022-05-06T14:25:01.173Z"
   },
   {
    "duration": 42,
    "start_time": "2022-05-06T14:25:01.190Z"
   },
   {
    "duration": 26,
    "start_time": "2022-05-06T14:25:01.234Z"
   },
   {
    "duration": 21,
    "start_time": "2022-05-06T14:25:01.262Z"
   },
   {
    "duration": 52,
    "start_time": "2022-05-06T14:25:01.286Z"
   },
   {
    "duration": 24,
    "start_time": "2022-05-06T14:25:01.340Z"
   },
   {
    "duration": 1076,
    "start_time": "2022-05-06T14:25:01.366Z"
   },
   {
    "duration": 16,
    "start_time": "2022-05-06T14:25:02.444Z"
   },
   {
    "duration": 27,
    "start_time": "2022-05-06T14:25:02.463Z"
   },
   {
    "duration": 4,
    "start_time": "2022-05-06T14:25:02.492Z"
   },
   {
    "duration": 28,
    "start_time": "2022-05-06T14:25:02.498Z"
   },
   {
    "duration": 36,
    "start_time": "2022-05-06T14:25:02.528Z"
   },
   {
    "duration": 780,
    "start_time": "2022-05-06T14:25:02.565Z"
   },
   {
    "duration": 13,
    "start_time": "2022-05-06T14:25:03.346Z"
   },
   {
    "duration": 14,
    "start_time": "2022-05-06T14:25:03.360Z"
   },
   {
    "duration": 7,
    "start_time": "2022-05-06T14:25:03.376Z"
   },
   {
    "duration": 7,
    "start_time": "2022-05-06T14:25:03.385Z"
   },
   {
    "duration": 40,
    "start_time": "2022-05-06T14:25:03.394Z"
   },
   {
    "duration": 116,
    "start_time": "2022-05-06T14:25:03.436Z"
   },
   {
    "duration": 14,
    "start_time": "2022-05-06T14:25:03.554Z"
   },
   {
    "duration": 783,
    "start_time": "2022-05-06T14:25:03.570Z"
   },
   {
    "duration": 11,
    "start_time": "2022-05-06T14:25:04.354Z"
   },
   {
    "duration": 14,
    "start_time": "2022-05-06T14:25:04.371Z"
   },
   {
    "duration": 18,
    "start_time": "2022-05-06T14:25:04.386Z"
   },
   {
    "duration": 25,
    "start_time": "2022-05-06T14:25:04.406Z"
   },
   {
    "duration": 9,
    "start_time": "2022-05-06T14:25:04.433Z"
   },
   {
    "duration": 10,
    "start_time": "2022-05-06T14:25:04.444Z"
   },
   {
    "duration": 29,
    "start_time": "2022-05-06T14:25:04.455Z"
   },
   {
    "duration": 87,
    "start_time": "2022-05-06T14:25:04.486Z"
   },
   {
    "duration": 117,
    "start_time": "2022-05-06T14:25:04.575Z"
   },
   {
    "duration": 67,
    "start_time": "2022-05-06T14:25:04.693Z"
   },
   {
    "duration": 68,
    "start_time": "2022-05-06T14:25:04.762Z"
   },
   {
    "duration": 12,
    "start_time": "2022-05-06T14:25:04.832Z"
   },
   {
    "duration": 13,
    "start_time": "2022-05-06T14:25:04.845Z"
   },
   {
    "duration": 13,
    "start_time": "2022-05-06T14:25:04.860Z"
   },
   {
    "duration": 76,
    "start_time": "2022-05-06T14:25:04.874Z"
   },
   {
    "duration": 137,
    "start_time": "2022-05-06T14:25:04.952Z"
   },
   {
    "duration": 310,
    "start_time": "2022-05-06T14:25:05.091Z"
   },
   {
    "duration": 72,
    "start_time": "2022-05-06T14:25:05.403Z"
   },
   {
    "duration": 12,
    "start_time": "2022-05-06T14:25:05.477Z"
   },
   {
    "duration": 40,
    "start_time": "2022-05-06T14:25:05.491Z"
   },
   {
    "duration": 15,
    "start_time": "2022-05-06T14:25:05.532Z"
   },
   {
    "duration": 88,
    "start_time": "2022-05-06T14:25:05.549Z"
   },
   {
    "duration": 18,
    "start_time": "2022-05-06T14:25:05.639Z"
   },
   {
    "duration": 17,
    "start_time": "2022-05-06T14:25:05.659Z"
   },
   {
    "duration": 18,
    "start_time": "2022-05-06T14:25:05.677Z"
   },
   {
    "duration": 757,
    "start_time": "2022-05-06T14:25:05.732Z"
   },
   {
    "duration": 19,
    "start_time": "2022-05-06T14:25:06.491Z"
   },
   {
    "duration": 38,
    "start_time": "2022-05-06T14:25:06.512Z"
   },
   {
    "duration": 50,
    "start_time": "2022-05-06T14:25:06.551Z"
   },
   {
    "duration": 2340,
    "start_time": "2022-06-12T19:29:31.365Z"
   },
   {
    "duration": 6035,
    "start_time": "2022-06-12T19:29:33.708Z"
   },
   {
    "duration": 1193,
    "start_time": "2022-06-12T19:29:39.745Z"
   },
   {
    "duration": 1570,
    "start_time": "2022-06-12T19:29:40.941Z"
   },
   {
    "duration": 18,
    "start_time": "2022-06-12T19:29:42.513Z"
   },
   {
    "duration": 34,
    "start_time": "2022-06-12T19:29:42.533Z"
   },
   {
    "duration": 12,
    "start_time": "2022-06-12T19:29:42.569Z"
   },
   {
    "duration": 44,
    "start_time": "2022-06-12T19:29:42.583Z"
   },
   {
    "duration": 9,
    "start_time": "2022-06-12T19:29:42.633Z"
   },
   {
    "duration": 105,
    "start_time": "2022-06-12T19:29:42.650Z"
   },
   {
    "duration": 14,
    "start_time": "2022-06-12T19:29:42.757Z"
   },
   {
    "duration": 210,
    "start_time": "2022-06-12T19:29:42.773Z"
   },
   {
    "duration": 9,
    "start_time": "2022-06-12T19:29:42.985Z"
   },
   {
    "duration": 10,
    "start_time": "2022-06-12T19:29:42.996Z"
   },
   {
    "duration": 89,
    "start_time": "2022-06-12T19:29:43.008Z"
   },
   {
    "duration": 10,
    "start_time": "2022-06-12T19:29:43.099Z"
   },
   {
    "duration": 15,
    "start_time": "2022-06-12T19:29:43.124Z"
   },
   {
    "duration": 12,
    "start_time": "2022-06-12T19:29:43.140Z"
   },
   {
    "duration": 10,
    "start_time": "2022-06-12T19:29:43.153Z"
   },
   {
    "duration": 209,
    "start_time": "2022-06-12T19:29:43.164Z"
   },
   {
    "duration": 26,
    "start_time": "2022-06-12T19:29:43.374Z"
   },
   {
    "duration": 133,
    "start_time": "2022-06-12T19:29:43.402Z"
   },
   {
    "duration": 10,
    "start_time": "2022-06-12T19:29:43.537Z"
   },
   {
    "duration": 13,
    "start_time": "2022-06-12T19:29:43.549Z"
   },
   {
    "duration": 105,
    "start_time": "2022-06-12T19:29:43.563Z"
   },
   {
    "duration": 421,
    "start_time": "2022-06-12T19:29:43.669Z"
   },
   {
    "duration": 172,
    "start_time": "2022-06-12T19:29:44.091Z"
   },
   {
    "duration": 119,
    "start_time": "2022-06-12T19:29:44.268Z"
   },
   {
    "duration": 20,
    "start_time": "2022-06-12T19:29:44.388Z"
   },
   {
    "duration": 123,
    "start_time": "2022-06-12T19:29:44.410Z"
   },
   {
    "duration": 98,
    "start_time": "2022-06-12T19:29:44.540Z"
   },
   {
    "duration": 24,
    "start_time": "2022-06-12T19:29:44.641Z"
   },
   {
    "duration": 130,
    "start_time": "2022-06-12T19:29:44.666Z"
   },
   {
    "duration": 110,
    "start_time": "2022-06-12T19:29:44.798Z"
   },
   {
    "duration": 67,
    "start_time": "2022-06-12T19:29:44.910Z"
   },
   {
    "duration": 59,
    "start_time": "2022-06-12T19:29:44.979Z"
   },
   {
    "duration": 357,
    "start_time": "2022-06-12T19:29:45.040Z"
   },
   {
    "duration": 8,
    "start_time": "2022-06-12T19:29:45.398Z"
   },
   {
    "duration": 94,
    "start_time": "2022-06-12T19:29:45.407Z"
   },
   {
    "duration": 3,
    "start_time": "2022-06-12T19:29:45.503Z"
   },
   {
    "duration": 29,
    "start_time": "2022-06-12T19:29:45.508Z"
   },
   {
    "duration": 149,
    "start_time": "2022-06-12T19:29:45.539Z"
   },
   {
    "duration": 86,
    "start_time": "2022-06-12T19:29:45.690Z"
   },
   {
    "duration": 58,
    "start_time": "2022-06-12T19:29:45.778Z"
   },
   {
    "duration": 111,
    "start_time": "2022-06-12T19:29:45.837Z"
   },
   {
    "duration": 25,
    "start_time": "2022-06-12T19:29:45.949Z"
   },
   {
    "duration": 1216,
    "start_time": "2022-06-12T19:29:45.976Z"
   },
   {
    "duration": 29,
    "start_time": "2022-06-12T19:29:47.194Z"
   },
   {
    "duration": 20,
    "start_time": "2022-06-12T19:29:47.225Z"
   },
   {
    "duration": 27,
    "start_time": "2022-06-12T19:29:47.247Z"
   },
   {
    "duration": 83,
    "start_time": "2022-06-12T19:29:47.276Z"
   },
   {
    "duration": 56,
    "start_time": "2022-06-12T19:29:47.361Z"
   },
   {
    "duration": 32,
    "start_time": "2022-06-12T19:29:47.419Z"
   },
   {
    "duration": 7,
    "start_time": "2022-06-12T19:29:47.453Z"
   },
   {
    "duration": 20,
    "start_time": "2022-06-12T19:29:47.462Z"
   },
   {
    "duration": 294,
    "start_time": "2022-06-12T19:29:47.483Z"
   },
   {
    "duration": 12,
    "start_time": "2022-06-12T19:29:47.787Z"
   },
   {
    "duration": 41,
    "start_time": "2022-06-12T19:29:47.802Z"
   },
   {
    "duration": 18,
    "start_time": "2022-06-12T19:29:47.845Z"
   },
   {
    "duration": 21,
    "start_time": "2022-06-12T19:29:47.865Z"
   },
   {
    "duration": 14,
    "start_time": "2022-06-12T19:29:47.888Z"
   },
   {
    "duration": 34,
    "start_time": "2022-06-12T19:29:47.904Z"
   },
   {
    "duration": 23,
    "start_time": "2022-06-12T19:29:47.940Z"
   },
   {
    "duration": 40,
    "start_time": "2022-06-12T19:29:47.966Z"
   },
   {
    "duration": 41,
    "start_time": "2022-06-12T19:29:48.008Z"
   },
   {
    "duration": 824,
    "start_time": "2022-06-12T19:29:48.051Z"
   },
   {
    "duration": 12,
    "start_time": "2022-06-12T19:29:48.877Z"
   },
   {
    "duration": 17,
    "start_time": "2022-06-12T19:29:48.891Z"
   },
   {
    "duration": 30,
    "start_time": "2022-06-12T19:29:48.910Z"
   },
   {
    "duration": 25,
    "start_time": "2022-06-12T19:29:48.942Z"
   },
   {
    "duration": 36,
    "start_time": "2022-06-12T19:29:48.968Z"
   },
   {
    "duration": 908,
    "start_time": "2022-06-12T19:29:49.006Z"
   },
   {
    "duration": 21,
    "start_time": "2022-06-12T19:29:49.916Z"
   },
   {
    "duration": 24,
    "start_time": "2022-06-12T19:29:49.938Z"
   },
   {
    "duration": 8,
    "start_time": "2022-06-12T19:29:49.964Z"
   },
   {
    "duration": 20,
    "start_time": "2022-06-12T19:29:49.973Z"
   },
   {
    "duration": 7,
    "start_time": "2022-06-12T19:29:49.995Z"
   },
   {
    "duration": 125,
    "start_time": "2022-06-12T19:29:50.003Z"
   },
   {
    "duration": 16,
    "start_time": "2022-06-12T19:29:50.130Z"
   },
   {
    "duration": 818,
    "start_time": "2022-06-12T19:29:50.148Z"
   },
   {
    "duration": 11,
    "start_time": "2022-06-12T19:29:50.968Z"
   },
   {
    "duration": 6,
    "start_time": "2022-06-12T19:29:50.985Z"
   },
   {
    "duration": 33,
    "start_time": "2022-06-12T19:29:50.992Z"
   },
   {
    "duration": 21,
    "start_time": "2022-06-12T19:29:51.031Z"
   },
   {
    "duration": 10,
    "start_time": "2022-06-12T19:29:51.056Z"
   },
   {
    "duration": 10,
    "start_time": "2022-06-12T19:29:51.068Z"
   },
   {
    "duration": 14,
    "start_time": "2022-06-12T19:29:51.079Z"
   },
   {
    "duration": 67,
    "start_time": "2022-06-12T19:29:51.094Z"
   },
   {
    "duration": 81,
    "start_time": "2022-06-12T19:29:51.162Z"
   },
   {
    "duration": 50,
    "start_time": "2022-06-12T19:29:51.245Z"
   },
   {
    "duration": 71,
    "start_time": "2022-06-12T19:29:51.297Z"
   },
   {
    "duration": 11,
    "start_time": "2022-06-12T19:29:51.370Z"
   },
   {
    "duration": 15,
    "start_time": "2022-06-12T19:29:51.383Z"
   },
   {
    "duration": 39,
    "start_time": "2022-06-12T19:29:51.399Z"
   },
   {
    "duration": 48,
    "start_time": "2022-06-12T19:29:51.443Z"
   },
   {
    "duration": 143,
    "start_time": "2022-06-12T19:29:51.493Z"
   },
   {
    "duration": 337,
    "start_time": "2022-06-12T19:29:51.639Z"
   },
   {
    "duration": 75,
    "start_time": "2022-06-12T19:29:51.977Z"
   },
   {
    "duration": 12,
    "start_time": "2022-06-12T19:29:52.053Z"
   },
   {
    "duration": 18,
    "start_time": "2022-06-12T19:29:52.067Z"
   },
   {
    "duration": 15,
    "start_time": "2022-06-12T19:29:52.087Z"
   },
   {
    "duration": 71,
    "start_time": "2022-06-12T19:29:52.125Z"
   },
   {
    "duration": 35,
    "start_time": "2022-06-12T19:29:52.197Z"
   },
   {
    "duration": 31,
    "start_time": "2022-06-12T19:29:52.234Z"
   },
   {
    "duration": 19,
    "start_time": "2022-06-12T19:29:52.267Z"
   },
   {
    "duration": 922,
    "start_time": "2022-06-12T19:29:52.288Z"
   },
   {
    "duration": 37,
    "start_time": "2022-06-12T19:29:53.212Z"
   },
   {
    "duration": 24,
    "start_time": "2022-06-12T19:29:53.251Z"
   },
   {
    "duration": 68,
    "start_time": "2022-06-12T19:29:53.277Z"
   },
   {
    "duration": 2277,
    "start_time": "2022-06-14T16:58:01.194Z"
   },
   {
    "duration": 5233,
    "start_time": "2022-06-14T16:58:03.473Z"
   },
   {
    "duration": 1348,
    "start_time": "2022-06-14T16:58:08.708Z"
   },
   {
    "duration": 1376,
    "start_time": "2022-06-14T16:58:10.059Z"
   },
   {
    "duration": 12,
    "start_time": "2022-06-14T16:58:11.436Z"
   },
   {
    "duration": 15,
    "start_time": "2022-06-14T16:58:11.450Z"
   },
   {
    "duration": 10,
    "start_time": "2022-06-14T16:58:11.466Z"
   },
   {
    "duration": 33,
    "start_time": "2022-06-14T16:58:11.477Z"
   },
   {
    "duration": 4,
    "start_time": "2022-06-14T16:58:11.512Z"
   },
   {
    "duration": 61,
    "start_time": "2022-06-14T16:58:11.519Z"
   },
   {
    "duration": 12,
    "start_time": "2022-06-14T16:58:11.582Z"
   },
   {
    "duration": 141,
    "start_time": "2022-06-14T16:58:11.596Z"
   },
   {
    "duration": 18,
    "start_time": "2022-06-14T16:58:11.738Z"
   },
   {
    "duration": 14,
    "start_time": "2022-06-14T16:58:11.758Z"
   },
   {
    "duration": 55,
    "start_time": "2022-06-14T16:58:11.774Z"
   },
   {
    "duration": 22,
    "start_time": "2022-06-14T16:58:11.831Z"
   },
   {
    "duration": 12,
    "start_time": "2022-06-14T16:58:11.854Z"
   },
   {
    "duration": 15,
    "start_time": "2022-06-14T16:58:11.868Z"
   },
   {
    "duration": 12,
    "start_time": "2022-06-14T16:58:11.885Z"
   },
   {
    "duration": 182,
    "start_time": "2022-06-14T16:58:11.898Z"
   },
   {
    "duration": 29,
    "start_time": "2022-06-14T16:58:12.082Z"
   },
   {
    "duration": 129,
    "start_time": "2022-06-14T16:58:12.112Z"
   },
   {
    "duration": 9,
    "start_time": "2022-06-14T16:58:12.243Z"
   },
   {
    "duration": 22,
    "start_time": "2022-06-14T16:58:12.254Z"
   },
   {
    "duration": 96,
    "start_time": "2022-06-14T16:58:12.278Z"
   },
   {
    "duration": 395,
    "start_time": "2022-06-14T16:58:12.376Z"
   },
   {
    "duration": 130,
    "start_time": "2022-06-14T16:58:12.772Z"
   },
   {
    "duration": 124,
    "start_time": "2022-06-14T16:58:12.906Z"
   },
   {
    "duration": 25,
    "start_time": "2022-06-14T16:58:13.031Z"
   },
   {
    "duration": 109,
    "start_time": "2022-06-14T16:58:13.059Z"
   },
   {
    "duration": 87,
    "start_time": "2022-06-14T16:58:13.170Z"
   },
   {
    "duration": 17,
    "start_time": "2022-06-14T16:58:13.259Z"
   },
   {
    "duration": 110,
    "start_time": "2022-06-14T16:58:13.278Z"
   },
   {
    "duration": 109,
    "start_time": "2022-06-14T16:58:13.390Z"
   },
   {
    "duration": 69,
    "start_time": "2022-06-14T16:58:13.502Z"
   },
   {
    "duration": 35,
    "start_time": "2022-06-14T16:58:13.573Z"
   },
   {
    "duration": 378,
    "start_time": "2022-06-14T16:58:13.610Z"
   },
   {
    "duration": 10,
    "start_time": "2022-06-14T16:58:13.990Z"
   },
   {
    "duration": 94,
    "start_time": "2022-06-14T16:58:14.001Z"
   },
   {
    "duration": 3,
    "start_time": "2022-06-14T16:58:14.097Z"
   },
   {
    "duration": 18,
    "start_time": "2022-06-14T16:58:14.101Z"
   },
   {
    "duration": 156,
    "start_time": "2022-06-14T16:58:14.121Z"
   },
   {
    "duration": 82,
    "start_time": "2022-06-14T16:58:14.278Z"
   },
   {
    "duration": 45,
    "start_time": "2022-06-14T16:58:14.362Z"
   },
   {
    "duration": 111,
    "start_time": "2022-06-14T16:58:14.409Z"
   },
   {
    "duration": 17,
    "start_time": "2022-06-14T16:58:14.521Z"
   },
   {
    "duration": 1269,
    "start_time": "2022-06-14T16:58:14.553Z"
   },
   {
    "duration": 13,
    "start_time": "2022-06-14T16:58:15.824Z"
   },
   {
    "duration": 16,
    "start_time": "2022-06-14T16:58:15.839Z"
   },
   {
    "duration": 22,
    "start_time": "2022-06-14T16:58:15.857Z"
   },
   {
    "duration": 80,
    "start_time": "2022-06-14T16:58:15.881Z"
   },
   {
    "duration": 55,
    "start_time": "2022-06-14T16:58:15.963Z"
   },
   {
    "duration": 33,
    "start_time": "2022-06-14T16:58:16.020Z"
   },
   {
    "duration": 8,
    "start_time": "2022-06-14T16:58:16.055Z"
   },
   {
    "duration": 24,
    "start_time": "2022-06-14T16:58:16.064Z"
   },
   {
    "duration": 265,
    "start_time": "2022-06-14T16:58:16.090Z"
   },
   {
    "duration": 9,
    "start_time": "2022-06-14T16:58:16.357Z"
   },
   {
    "duration": 15,
    "start_time": "2022-06-14T16:58:16.367Z"
   },
   {
    "duration": 14,
    "start_time": "2022-06-14T16:58:16.383Z"
   },
   {
    "duration": 14,
    "start_time": "2022-06-14T16:58:16.399Z"
   },
   {
    "duration": 45,
    "start_time": "2022-06-14T16:58:16.415Z"
   },
   {
    "duration": 8,
    "start_time": "2022-06-14T16:58:16.462Z"
   },
   {
    "duration": 11,
    "start_time": "2022-06-14T16:58:16.472Z"
   },
   {
    "duration": 26,
    "start_time": "2022-06-14T16:58:16.485Z"
   },
   {
    "duration": 40,
    "start_time": "2022-06-14T16:58:16.513Z"
   },
   {
    "duration": 811,
    "start_time": "2022-06-14T16:58:16.554Z"
   },
   {
    "duration": 11,
    "start_time": "2022-06-14T16:58:17.367Z"
   },
   {
    "duration": 17,
    "start_time": "2022-06-14T16:58:17.380Z"
   },
   {
    "duration": 4,
    "start_time": "2022-06-14T16:58:17.399Z"
   },
   {
    "duration": 15,
    "start_time": "2022-06-14T16:58:17.405Z"
   },
   {
    "duration": 55,
    "start_time": "2022-06-14T16:58:17.422Z"
   },
   {
    "duration": 799,
    "start_time": "2022-06-14T16:58:17.479Z"
   },
   {
    "duration": 12,
    "start_time": "2022-06-14T16:58:18.280Z"
   },
   {
    "duration": 18,
    "start_time": "2022-06-14T16:58:18.294Z"
   },
   {
    "duration": 7,
    "start_time": "2022-06-14T16:58:18.314Z"
   },
   {
    "duration": 8,
    "start_time": "2022-06-14T16:58:18.323Z"
   },
   {
    "duration": 5,
    "start_time": "2022-06-14T16:58:18.352Z"
   },
   {
    "duration": 119,
    "start_time": "2022-06-14T16:58:18.359Z"
   },
   {
    "duration": 16,
    "start_time": "2022-06-14T16:58:18.480Z"
   },
   {
    "duration": 819,
    "start_time": "2022-06-14T16:58:18.497Z"
   },
   {
    "duration": 11,
    "start_time": "2022-06-14T16:58:19.318Z"
   },
   {
    "duration": 17,
    "start_time": "2022-06-14T16:58:19.335Z"
   },
   {
    "duration": 12,
    "start_time": "2022-06-14T16:58:19.354Z"
   },
   {
    "duration": 10,
    "start_time": "2022-06-14T16:58:19.368Z"
   },
   {
    "duration": 4,
    "start_time": "2022-06-14T16:58:19.380Z"
   },
   {
    "duration": 9,
    "start_time": "2022-06-14T16:58:19.385Z"
   },
   {
    "duration": 14,
    "start_time": "2022-06-14T16:58:19.396Z"
   },
   {
    "duration": 80,
    "start_time": "2022-06-14T16:58:19.412Z"
   },
   {
    "duration": 82,
    "start_time": "2022-06-14T16:58:19.494Z"
   },
   {
    "duration": 46,
    "start_time": "2022-06-14T16:58:19.578Z"
   },
   {
    "duration": 65,
    "start_time": "2022-06-14T16:58:19.626Z"
   },
   {
    "duration": 11,
    "start_time": "2022-06-14T16:58:19.692Z"
   },
   {
    "duration": 14,
    "start_time": "2022-06-14T16:58:19.704Z"
   },
   {
    "duration": 35,
    "start_time": "2022-06-14T16:58:19.719Z"
   },
   {
    "duration": 48,
    "start_time": "2022-06-14T16:58:19.756Z"
   },
   {
    "duration": 135,
    "start_time": "2022-06-14T16:58:19.805Z"
   },
   {
    "duration": 321,
    "start_time": "2022-06-14T16:58:19.941Z"
   },
   {
    "duration": 61,
    "start_time": "2022-06-14T16:58:20.263Z"
   },
   {
    "duration": 12,
    "start_time": "2022-06-14T16:58:20.325Z"
   },
   {
    "duration": 36,
    "start_time": "2022-06-14T16:58:20.338Z"
   },
   {
    "duration": 26,
    "start_time": "2022-06-14T16:58:20.376Z"
   },
   {
    "duration": 90,
    "start_time": "2022-06-14T16:58:20.403Z"
   },
   {
    "duration": 16,
    "start_time": "2022-06-14T16:58:20.495Z"
   },
   {
    "duration": 27,
    "start_time": "2022-06-14T16:58:20.513Z"
   },
   {
    "duration": 35,
    "start_time": "2022-06-14T16:58:20.542Z"
   },
   {
    "duration": 808,
    "start_time": "2022-06-14T16:58:20.579Z"
   },
   {
    "duration": 21,
    "start_time": "2022-06-14T16:58:21.389Z"
   },
   {
    "duration": 25,
    "start_time": "2022-06-14T16:58:21.411Z"
   },
   {
    "duration": 46,
    "start_time": "2022-06-14T16:58:21.451Z"
   },
   {
    "duration": 5295,
    "start_time": "2022-06-17T10:57:32.569Z"
   },
   {
    "duration": 1180,
    "start_time": "2022-06-17T10:57:37.866Z"
   },
   {
    "duration": 1774,
    "start_time": "2022-06-17T10:57:39.047Z"
   },
   {
    "duration": 12,
    "start_time": "2022-06-17T10:57:40.823Z"
   },
   {
    "duration": 8,
    "start_time": "2022-06-17T10:57:40.836Z"
   },
   {
    "duration": 11,
    "start_time": "2022-06-17T10:57:40.845Z"
   },
   {
    "duration": 30,
    "start_time": "2022-06-17T10:57:40.857Z"
   },
   {
    "duration": 4,
    "start_time": "2022-06-17T10:57:40.889Z"
   },
   {
    "duration": 61,
    "start_time": "2022-06-17T10:57:40.895Z"
   },
   {
    "duration": 23,
    "start_time": "2022-06-17T10:57:40.958Z"
   },
   {
    "duration": 151,
    "start_time": "2022-06-17T10:57:40.983Z"
   },
   {
    "duration": 11,
    "start_time": "2022-06-17T10:57:41.136Z"
   },
   {
    "duration": 14,
    "start_time": "2022-06-17T10:57:41.150Z"
   },
   {
    "duration": 64,
    "start_time": "2022-06-17T10:57:41.178Z"
   },
   {
    "duration": 11,
    "start_time": "2022-06-17T10:57:41.243Z"
   },
   {
    "duration": 40,
    "start_time": "2022-06-17T10:57:41.256Z"
   },
   {
    "duration": 13,
    "start_time": "2022-06-17T10:57:41.298Z"
   },
   {
    "duration": 8,
    "start_time": "2022-06-17T10:57:41.312Z"
   },
   {
    "duration": 174,
    "start_time": "2022-06-17T10:57:41.322Z"
   },
   {
    "duration": 22,
    "start_time": "2022-06-17T10:57:41.498Z"
   },
   {
    "duration": 109,
    "start_time": "2022-06-17T10:57:41.522Z"
   },
   {
    "duration": 8,
    "start_time": "2022-06-17T10:57:41.633Z"
   },
   {
    "duration": 13,
    "start_time": "2022-06-17T10:57:41.642Z"
   },
   {
    "duration": 144,
    "start_time": "2022-06-17T10:57:41.657Z"
   },
   {
    "duration": 394,
    "start_time": "2022-06-17T10:57:41.802Z"
   },
   {
    "duration": 131,
    "start_time": "2022-06-17T10:57:42.198Z"
   },
   {
    "duration": 137,
    "start_time": "2022-06-17T10:57:42.332Z"
   },
   {
    "duration": 36,
    "start_time": "2022-06-17T10:57:42.470Z"
   },
   {
    "duration": 96,
    "start_time": "2022-06-17T10:57:42.507Z"
   },
   {
    "duration": 81,
    "start_time": "2022-06-17T10:57:42.604Z"
   },
   {
    "duration": 18,
    "start_time": "2022-06-17T10:57:42.687Z"
   },
   {
    "duration": 116,
    "start_time": "2022-06-17T10:57:42.707Z"
   },
   {
    "duration": 106,
    "start_time": "2022-06-17T10:57:42.825Z"
   },
   {
    "duration": 60,
    "start_time": "2022-06-17T10:57:42.932Z"
   },
   {
    "duration": 34,
    "start_time": "2022-06-17T10:57:42.994Z"
   },
   {
    "duration": 344,
    "start_time": "2022-06-17T10:57:43.029Z"
   },
   {
    "duration": 9,
    "start_time": "2022-06-17T10:57:43.377Z"
   },
   {
    "duration": 86,
    "start_time": "2022-06-17T10:57:43.388Z"
   },
   {
    "duration": 3,
    "start_time": "2022-06-17T10:57:43.476Z"
   },
   {
    "duration": 18,
    "start_time": "2022-06-17T10:57:43.486Z"
   },
   {
    "duration": 142,
    "start_time": "2022-06-17T10:57:43.506Z"
   },
   {
    "duration": 77,
    "start_time": "2022-06-17T10:57:43.649Z"
   },
   {
    "duration": 53,
    "start_time": "2022-06-17T10:57:43.727Z"
   },
   {
    "duration": 104,
    "start_time": "2022-06-17T10:57:43.782Z"
   },
   {
    "duration": 19,
    "start_time": "2022-06-17T10:57:43.891Z"
   },
   {
    "duration": 1107,
    "start_time": "2022-06-17T10:57:43.911Z"
   },
   {
    "duration": 13,
    "start_time": "2022-06-17T10:57:45.020Z"
   },
   {
    "duration": 11,
    "start_time": "2022-06-17T10:57:45.035Z"
   },
   {
    "duration": 38,
    "start_time": "2022-06-17T10:57:45.048Z"
   },
   {
    "duration": 64,
    "start_time": "2022-06-17T10:57:45.090Z"
   },
   {
    "duration": 55,
    "start_time": "2022-06-17T10:57:45.155Z"
   },
   {
    "duration": 17,
    "start_time": "2022-06-17T10:57:45.212Z"
   },
   {
    "duration": 10,
    "start_time": "2022-06-17T10:57:45.232Z"
   },
   {
    "duration": 35,
    "start_time": "2022-06-17T10:57:45.244Z"
   },
   {
    "duration": 256,
    "start_time": "2022-06-17T10:57:45.281Z"
   },
   {
    "duration": 8,
    "start_time": "2022-06-17T10:57:45.539Z"
   },
   {
    "duration": 30,
    "start_time": "2022-06-17T10:57:45.549Z"
   },
   {
    "duration": 14,
    "start_time": "2022-06-17T10:57:45.580Z"
   },
   {
    "duration": 15,
    "start_time": "2022-06-17T10:57:45.595Z"
   },
   {
    "duration": 11,
    "start_time": "2022-06-17T10:57:45.611Z"
   },
   {
    "duration": 9,
    "start_time": "2022-06-17T10:57:45.625Z"
   },
   {
    "duration": 43,
    "start_time": "2022-06-17T10:57:45.637Z"
   },
   {
    "duration": 29,
    "start_time": "2022-06-17T10:57:45.681Z"
   },
   {
    "duration": 21,
    "start_time": "2022-06-17T10:57:45.712Z"
   },
   {
    "duration": 810,
    "start_time": "2022-06-17T10:57:45.734Z"
   },
   {
    "duration": 14,
    "start_time": "2022-06-17T10:57:46.546Z"
   },
   {
    "duration": 29,
    "start_time": "2022-06-17T10:57:46.562Z"
   },
   {
    "duration": 4,
    "start_time": "2022-06-17T10:57:46.593Z"
   },
   {
    "duration": 21,
    "start_time": "2022-06-17T10:57:46.599Z"
   },
   {
    "duration": 38,
    "start_time": "2022-06-17T10:57:46.622Z"
   },
   {
    "duration": 791,
    "start_time": "2022-06-17T10:57:46.661Z"
   },
   {
    "duration": 11,
    "start_time": "2022-06-17T10:57:47.453Z"
   },
   {
    "duration": 30,
    "start_time": "2022-06-17T10:57:47.466Z"
   },
   {
    "duration": 12,
    "start_time": "2022-06-17T10:57:47.498Z"
   },
   {
    "duration": 22,
    "start_time": "2022-06-17T10:57:47.511Z"
   },
   {
    "duration": 16,
    "start_time": "2022-06-17T10:57:47.535Z"
   },
   {
    "duration": 148,
    "start_time": "2022-06-17T10:57:47.552Z"
   },
   {
    "duration": 35,
    "start_time": "2022-06-17T10:57:47.701Z"
   },
   {
    "duration": 821,
    "start_time": "2022-06-17T10:57:47.738Z"
   },
   {
    "duration": 22,
    "start_time": "2022-06-17T10:57:48.561Z"
   },
   {
    "duration": 15,
    "start_time": "2022-06-17T10:57:48.594Z"
   },
   {
    "duration": 24,
    "start_time": "2022-06-17T10:57:48.610Z"
   },
   {
    "duration": 32,
    "start_time": "2022-06-17T10:57:48.636Z"
   },
   {
    "duration": 17,
    "start_time": "2022-06-17T10:57:48.669Z"
   },
   {
    "duration": 23,
    "start_time": "2022-06-17T10:57:48.688Z"
   },
   {
    "duration": 31,
    "start_time": "2022-06-17T10:57:48.712Z"
   },
   {
    "duration": 66,
    "start_time": "2022-06-17T10:57:48.745Z"
   },
   {
    "duration": 73,
    "start_time": "2022-06-17T10:57:48.813Z"
   },
   {
    "duration": 45,
    "start_time": "2022-06-17T10:57:48.888Z"
   },
   {
    "duration": 78,
    "start_time": "2022-06-17T10:57:48.934Z"
   },
   {
    "duration": 11,
    "start_time": "2022-06-17T10:57:49.013Z"
   },
   {
    "duration": 16,
    "start_time": "2022-06-17T10:57:49.025Z"
   },
   {
    "duration": 15,
    "start_time": "2022-06-17T10:57:49.042Z"
   },
   {
    "duration": 74,
    "start_time": "2022-06-17T10:57:49.058Z"
   },
   {
    "duration": 116,
    "start_time": "2022-06-17T10:57:49.133Z"
   },
   {
    "duration": 309,
    "start_time": "2022-06-17T10:57:49.251Z"
   },
   {
    "duration": 81,
    "start_time": "2022-06-17T10:57:49.562Z"
   },
   {
    "duration": 11,
    "start_time": "2022-06-17T10:57:49.645Z"
   },
   {
    "duration": 52,
    "start_time": "2022-06-17T10:57:49.657Z"
   },
   {
    "duration": 28,
    "start_time": "2022-06-17T10:57:49.711Z"
   },
   {
    "duration": 84,
    "start_time": "2022-06-17T10:57:49.741Z"
   },
   {
    "duration": 37,
    "start_time": "2022-06-17T10:57:49.828Z"
   },
   {
    "duration": 43,
    "start_time": "2022-06-17T10:57:49.867Z"
   },
   {
    "duration": 30,
    "start_time": "2022-06-17T10:57:49.913Z"
   },
   {
    "duration": 791,
    "start_time": "2022-06-17T10:57:49.945Z"
   },
   {
    "duration": 19,
    "start_time": "2022-06-17T10:57:50.737Z"
   },
   {
    "duration": 35,
    "start_time": "2022-06-17T10:57:50.757Z"
   },
   {
    "duration": 48,
    "start_time": "2022-06-17T10:57:50.793Z"
   }
  ],
  "kernelspec": {
   "display_name": "Python 3 (ipykernel)",
   "language": "python",
   "name": "python3"
  },
  "language_info": {
   "codemirror_mode": {
    "name": "ipython",
    "version": 3
   },
   "file_extension": ".py",
   "mimetype": "text/x-python",
   "name": "python",
   "nbconvert_exporter": "python",
   "pygments_lexer": "ipython3",
   "version": "3.9.7"
  },
  "toc": {
   "base_numbering": 1,
   "nav_menu": {},
   "number_sections": true,
   "sideBar": true,
   "skip_h1_title": true,
   "title_cell": "Table of Contents",
   "title_sidebar": "Contents",
   "toc_cell": false,
   "toc_position": {
    "height": "calc(100% - 180px)",
    "left": "10px",
    "top": "150px",
    "width": "165px"
   },
   "toc_section_display": true,
   "toc_window_display": true
  }
 },
 "nbformat": 4,
 "nbformat_minor": 5
}
